{
 "cells": [
  {
   "cell_type": "code",
   "execution_count": 252,
   "metadata": {},
   "outputs": [],
   "source": [
    "from astropy.table import Table, vstack, Column\n",
    "import glob\n",
    "import os"
   ]
  },
  {
   "cell_type": "markdown",
   "metadata": {},
   "source": [
    "## Stack all catalog tables"
   ]
  },
  {
   "cell_type": "code",
   "execution_count": 253,
   "metadata": {},
   "outputs": [],
   "source": [
    "t = Table.read(\"../data/gama09EF.cat\", format=\"ascii.ecsv\")\n",
    "\n",
    "jj  = t[\"dx\"] < 2.\n",
    "jj *= t[\"dy\"] < 2.\n",
    "jj *= t[\"dz\"] < 2.\n",
    "jj *= t[\"flux\"] > 5e-17"
   ]
  },
  {
   "cell_type": "code",
   "execution_count": 254,
   "metadata": {},
   "outputs": [
    {
     "data": {
      "text/plain": [
       "74"
      ]
     },
     "execution_count": 254,
     "metadata": {},
     "output_type": "execute_result"
    }
   ],
   "source": [
    "sum(jj)"
   ]
  },
  {
   "cell_type": "code",
   "execution_count": 368,
   "metadata": {},
   "outputs": [
    {
     "name": "stdout",
     "output_type": "stream",
     "text": [
      "2\n"
     ]
    }
   ],
   "source": [
    "ii  = t[\"field\"] == \"gama09E\"\n",
    "ii *= t[\"ifu\"] == \"022\"\n",
    "ii *= np.abs(t[\"z_com\"] - 978) < 5.\n",
    "print(sum(ii))"
   ]
  },
  {
   "cell_type": "code",
   "execution_count": null,
   "metadata": {},
   "outputs": [],
   "source": []
  },
  {
   "cell_type": "code",
   "execution_count": 369,
   "metadata": {},
   "outputs": [
    {
     "data": {
      "text/html": [
       "<i>Table length=2</i>\n",
       "<table id=\"table140421390964528\" class=\"table-striped table-bordered table-condensed\">\n",
       "<thead><tr><th>field</th><th>ifu</th><th>id</th><th>N</th><th>counts</th><th>flux</th><th>ra_com</th><th>dec_com</th><th>ddec</th><th>dra</th><th>x_com</th><th>y_com</th><th>z_com</th><th>dx</th><th>dy</th><th>dz</th><th>sqrt(ev1)</th><th>sqrt(ev2)</th><th>size2d</th><th>x_ext</th><th>y_ext</th><th>z_ext</th><th>wl_com</th><th>dwl</th><th>xmin</th><th>xmax</th><th>ymin</th><th>ymax</th><th>zmin</th><th>zmax</th></tr></thead>\n",
       "<thead><tr><th></th><th></th><th></th><th>px</th><th>counts</th><th>erg / (cm2 s)</th><th>RA[J2000]</th><th>Dec[J2000]</th><th>arcsec</th><th>arcsec</th><th>px</th><th>px</th><th>px</th><th>px</th><th>px</th><th>px</th><th>px</th><th>px</th><th>px</th><th>px</th><th>px</th><th>px</th><th>A</th><th>A</th><th>px</th><th>px</th><th>px</th><th>px</th><th>px</th><th>px</th></tr></thead>\n",
       "<thead><tr><th>str7</th><th>str3</th><th>int64</th><th>int64</th><th>float64</th><th>float64</th><th>float64</th><th>float64</th><th>float64</th><th>float64</th><th>float64</th><th>float64</th><th>float64</th><th>float64</th><th>float64</th><th>float64</th><th>float64</th><th>float64</th><th>float64</th><th>int64</th><th>int64</th><th>int64</th><th>float64</th><th>float64</th><th>int64</th><th>int64</th><th>int64</th><th>int64</th><th>int64</th><th>int64</th></tr></thead>\n",
       "<tr><td>gama09E</td><td>022</td><td>182</td><td>283</td><td>2.8485e+00</td><td>5.6970e-17</td><td>130.203813</td><td>2.340026</td><td>0.6</td><td>0.9</td><td>19.88</td><td>80.82</td><td>975.50</td><td>1.17</td><td>1.87</td><td>8.26</td><td>0.76</td><td>2.08</td><td>2.21</td><td>7</td><td>10</td><td>26</td><td>5419.00</td><td>52.00</td><td>16</td><td>23</td><td>76</td><td>86</td><td>962</td><td>988</td></tr>\n",
       "<tr><td>gama09E</td><td>022</td><td>183</td><td>106</td><td>9.9626e-01</td><td>1.9925e-17</td><td>130.194814</td><td>2.340123</td><td>0.8</td><td>0.7</td><td>84.62</td><td>81.52</td><td>977.96</td><td>1.52</td><td>1.40</td><td>1.00</td><td>1.57</td><td>1.34</td><td>2.06</td><td>7</td><td>5</td><td>4</td><td>5423.91</td><td>8.00</td><td>81</td><td>88</td><td>79</td><td>84</td><td>976</td><td>980</td></tr>\n",
       "</table>"
      ],
      "text/plain": [
       "<Table length=2>\n",
       " field  ifu    id    N     counts   ...  xmax  ymin  ymax  zmin  zmax\n",
       "                     px    counts   ...   px    px    px    px    px \n",
       "  str7  str3 int64 int64  float64   ... int64 int64 int64 int64 int64\n",
       "------- ---- ----- ----- ---------- ... ----- ----- ----- ----- -----\n",
       "gama09E  022   182   283 2.8485e+00 ...    23    76    86   962   988\n",
       "gama09E  022   183   106 9.9626e-01 ...    88    79    84   976   980"
      ]
     },
     "execution_count": 369,
     "metadata": {},
     "output_type": "execute_result"
    }
   ],
   "source": [
    "t[ii]"
   ]
  },
  {
   "cell_type": "code",
   "execution_count": 256,
   "metadata": {},
   "outputs": [],
   "source": [
    "from matplotlib import pyplot as plt\n",
    "import numpy as np"
   ]
  },
  {
   "cell_type": "code",
   "execution_count": 257,
   "metadata": {},
   "outputs": [
    {
     "data": {
      "text/plain": [
       "Text(0, 0.5, 'N')"
      ]
     },
     "execution_count": 257,
     "metadata": {},
     "output_type": "execute_result"
    },
    {
     "data": {
      "image/png": "[encoded data removed]",
      "text/plain": [
       "<Figure size 432x288 with 1 Axes>"
      ]
     },
     "metadata": {
      "needs_background": "light"
     },
     "output_type": "display_data"
    }
   ],
   "source": [
    "plt.hist(t[\"flux\"]*1e17, bins=np.arange(0,10,.1))\n",
    "plt.hist(t[\"flux\"][jj]*1e17, bins=np.arange(0,10,.1))\n",
    "plt.yscale('log')\n",
    "plt.xlabel(\"flux\")\n",
    "plt.ylabel(\"N\")"
   ]
  },
  {
   "cell_type": "markdown",
   "metadata": {},
   "source": [
    "## Move to vetted catalgos"
   ]
  },
  {
   "cell_type": "code",
   "execution_count": 258,
   "metadata": {},
   "outputs": [],
   "source": [
    "import numpy as np"
   ]
  },
  {
   "cell_type": "code",
   "execution_count": 259,
   "metadata": {},
   "outputs": [],
   "source": [
    "from astropy.table import join"
   ]
  },
  {
   "cell_type": "markdown",
   "metadata": {},
   "source": [
    "### Massage table into correct format"
   ]
  },
  {
   "cell_type": "code",
   "execution_count": 260,
   "metadata": {},
   "outputs": [],
   "source": [
    "from astropy.io import ascii"
   ]
  },
  {
   "cell_type": "code",
   "execution_count": 305,
   "metadata": {},
   "outputs": [],
   "source": [
    "# create this table by copying only the columns field, ifu, id LAE both from the google sheet\n",
    "# to a new sheet and then exporting that new sheet to a csv"
   ]
  },
  {
   "cell_type": "code",
   "execution_count": 306,
   "metadata": {},
   "outputs": [],
   "source": [
    "tvetted = ascii.read(\"../data/gama09EF_vetted.csv\", data_start=2, header_start=0)"
   ]
  },
  {
   "cell_type": "code",
   "execution_count": 307,
   "metadata": {},
   "outputs": [],
   "source": [
    "tvetted = Table(tvetted, dtype=[str, str, int, int])"
   ]
  },
  {
   "cell_type": "code",
   "execution_count": 308,
   "metadata": {},
   "outputs": [],
   "source": [
    "tvetted['ifu'] = [ \"{:03d}\".format( int(ifu) ) for ifu in tvetted['ifu']]\n",
    "tvetted['id'] = [ \"{:d}\".format( int(id) ) for ifu in tvetted['id']]"
   ]
  },
  {
   "cell_type": "markdown",
   "metadata": {},
   "source": [
    "### join tables"
   ]
  },
  {
   "cell_type": "code",
   "execution_count": 309,
   "metadata": {},
   "outputs": [
    {
     "data": {
      "text/html": [
       "<i>Table length=662</i>\n",
       "<table id=\"table140421283733216\" class=\"table-striped table-bordered table-condensed\">\n",
       "<thead><tr><th>field</th><th>ifu</th><th>id</th><th>LAE both</th></tr></thead>\n",
       "<thead><tr><th>str7</th><th>str3</th><th>int64</th><th>int64</th></tr></thead>\n",
       "<tr><td>gama09E</td><td>016</td><td>8</td><td>0</td></tr>\n",
       "<tr><td>gama09E</td><td>016</td><td>10</td><td>0</td></tr>\n",
       "<tr><td>gama09E</td><td>016</td><td>53</td><td>0</td></tr>\n",
       "<tr><td>gama09E</td><td>016</td><td>135</td><td>0</td></tr>\n",
       "<tr><td>gama09E</td><td>016</td><td>143</td><td>1</td></tr>\n",
       "<tr><td>gama09E</td><td>024</td><td>28</td><td>0</td></tr>\n",
       "<tr><td>gama09E</td><td>024</td><td>68</td><td>0</td></tr>\n",
       "<tr><td>gama09E</td><td>024</td><td>131</td><td>0</td></tr>\n",
       "<tr><td>gama09E</td><td>024</td><td>189</td><td>0</td></tr>\n",
       "<tr><td>gama09E</td><td>026</td><td>2</td><td>0</td></tr>\n",
       "<tr><td>...</td><td>...</td><td>...</td><td>...</td></tr>\n",
       "<tr><td>gama09E</td><td>071</td><td>785</td><td>0</td></tr>\n",
       "<tr><td>gama09E</td><td>071</td><td>820</td><td>0</td></tr>\n",
       "<tr><td>gama09E</td><td>071</td><td>821</td><td>0</td></tr>\n",
       "<tr><td>gama09E</td><td>071</td><td>828</td><td>0</td></tr>\n",
       "<tr><td>gama09E</td><td>071</td><td>832</td><td>0</td></tr>\n",
       "<tr><td>gama09E</td><td>071</td><td>838</td><td>0</td></tr>\n",
       "<tr><td>gama09E</td><td>071</td><td>854</td><td>0</td></tr>\n",
       "<tr><td>gama09E</td><td>071</td><td>862</td><td>0</td></tr>\n",
       "<tr><td>gama09E</td><td>071</td><td>893</td><td>0</td></tr>\n",
       "<tr><td>gama09E</td><td>071</td><td>929</td><td>0</td></tr>\n",
       "</table>"
      ],
      "text/plain": [
       "<Table length=662>\n",
       " field  ifu    id  LAE both\n",
       "  str7  str3 int64  int64  \n",
       "------- ---- ----- --------\n",
       "gama09E  016     8        0\n",
       "gama09E  016    10        0\n",
       "gama09E  016    53        0\n",
       "gama09E  016   135        0\n",
       "gama09E  016   143        1\n",
       "gama09E  024    28        0\n",
       "gama09E  024    68        0\n",
       "gama09E  024   131        0\n",
       "gama09E  024   189        0\n",
       "gama09E  026     2        0\n",
       "    ...  ...   ...      ...\n",
       "gama09E  071   785        0\n",
       "gama09E  071   820        0\n",
       "gama09E  071   821        0\n",
       "gama09E  071   828        0\n",
       "gama09E  071   832        0\n",
       "gama09E  071   838        0\n",
       "gama09E  071   854        0\n",
       "gama09E  071   862        0\n",
       "gama09E  071   893        0\n",
       "gama09E  071   929        0"
      ]
     },
     "execution_count": 309,
     "metadata": {},
     "output_type": "execute_result"
    }
   ],
   "source": [
    "tvetted"
   ]
  },
  {
   "cell_type": "code",
   "execution_count": 310,
   "metadata": {},
   "outputs": [
    {
     "data": {
      "text/html": [
       "<i>Table length=26580</i>\n",
       "<table id=\"table140421442123232\" class=\"table-striped table-bordered table-condensed\">\n",
       "<thead><tr><th>field</th><th>ifu</th><th>id</th><th>N</th><th>counts</th><th>flux</th><th>ra_com</th><th>dec_com</th><th>ddec</th><th>dra</th><th>x_com</th><th>y_com</th><th>z_com</th><th>dx</th><th>dy</th><th>dz</th><th>sqrt(ev1)</th><th>sqrt(ev2)</th><th>size2d</th><th>x_ext</th><th>y_ext</th><th>z_ext</th><th>wl_com</th><th>dwl</th><th>xmin</th><th>xmax</th><th>ymin</th><th>ymax</th><th>zmin</th><th>zmax</th></tr></thead>\n",
       "<thead><tr><th></th><th></th><th></th><th>px</th><th>counts</th><th>erg / (cm2 s)</th><th>RA[J2000]</th><th>Dec[J2000]</th><th>arcsec</th><th>arcsec</th><th>px</th><th>px</th><th>px</th><th>px</th><th>px</th><th>px</th><th>px</th><th>px</th><th>px</th><th>px</th><th>px</th><th>px</th><th>A</th><th>A</th><th>px</th><th>px</th><th>px</th><th>px</th><th>px</th><th>px</th></tr></thead>\n",
       "<thead><tr><th>str7</th><th>str3</th><th>int64</th><th>int64</th><th>float64</th><th>float64</th><th>float64</th><th>float64</th><th>float64</th><th>float64</th><th>float64</th><th>float64</th><th>float64</th><th>float64</th><th>float64</th><th>float64</th><th>float64</th><th>float64</th><th>float64</th><th>int64</th><th>int64</th><th>int64</th><th>float64</th><th>float64</th><th>int64</th><th>int64</th><th>int64</th><th>int64</th><th>int64</th><th>int64</th></tr></thead>\n",
       "<tr><td>gama09E</td><td>014</td><td>1</td><td>121311</td><td>1.9397e+04</td><td>3.8793e-13</td><td>130.191429</td><td>2.399630</td><td>1.2</td><td>1.2</td><td>65.39</td><td>64.89</td><td>650.58</td><td>2.42</td><td>2.35</td><td>242.37</td><td>2.46</td><td>2.31</td><td>3.37</td><td>14</td><td>14</td><td>1007</td><td>4769.16</td><td>2014.00</td><td>58</td><td>72</td><td>58</td><td>72</td><td>9</td><td>1016</td></tr>\n",
       "<tr><td>gama09E</td><td>014</td><td>2</td><td>143</td><td>4.6193e+00</td><td>9.2386e-17</td><td>130.194354</td><td>2.406894</td><td>0.7</td><td>1.6</td><td>44.35</td><td>117.19</td><td>16.90</td><td>1.48</td><td>3.16</td><td>2.79</td><td>1.21</td><td>3.27</td><td>3.49</td><td>7</td><td>12</td><td>10</td><td>3501.79</td><td>20.00</td><td>41</td><td>48</td><td>112</td><td>124</td><td>10</td><td>20</td></tr>\n",
       "<tr><td>gama09E</td><td>014</td><td>3</td><td>45</td><td>1.4482e+00</td><td>2.8963e-17</td><td>130.196819</td><td>2.403462</td><td>0.8</td><td>1.1</td><td>26.61</td><td>92.48</td><td>15.05</td><td>1.58</td><td>2.23</td><td>2.05</td><td>0.51</td><td>2.68</td><td>2.73</td><td>5</td><td>7</td><td>7</td><td>3498.11</td><td>14.00</td><td>24</td><td>29</td><td>89</td><td>96</td><td>11</td><td>18</td></tr>\n",
       "<tr><td>gama09E</td><td>014</td><td>4</td><td>26185</td><td>2.9902e+03</td><td>5.9803e-14</td><td>130.190500</td><td>2.392568</td><td>1.1</td><td>0.9</td><td>72.07</td><td>14.05</td><td>217.54</td><td>2.30</td><td>1.80</td><td>120.35</td><td>2.52</td><td>1.47</td><td>2.92</td><td>12</td><td>11</td><td>416</td><td>3903.09</td><td>832.00</td><td>67</td><td>79</td><td>9</td><td>20</td><td>14</td><td>430</td></tr>\n",
       "<tr><td>gama09E</td><td>014</td><td>5</td><td>29359</td><td>1.7545e+03</td><td>3.5090e-14</td><td>130.196553</td><td>2.396959</td><td>1.0</td><td>1.0</td><td>28.53</td><td>45.66</td><td>315.46</td><td>1.97</td><td>1.97</td><td>145.69</td><td>1.92</td><td>2.02</td><td>2.79</td><td>13</td><td>12</td><td>507</td><td>4098.93</td><td>1014.00</td><td>23</td><td>36</td><td>40</td><td>52</td><td>13</td><td>520</td></tr>\n",
       "<tr><td>gama09E</td><td>014</td><td>6</td><td>7</td><td>2.1887e-01</td><td>4.3774e-18</td><td>130.197857</td><td>2.401711</td><td>0.3</td><td>0.3</td><td>19.15</td><td>79.87</td><td>22.04</td><td>0.63</td><td>0.62</td><td>0.51</td><td>0.82</td><td>0.32</td><td>0.88</td><td>2</td><td>2</td><td>2</td><td>3512.09</td><td>4.00</td><td>18</td><td>20</td><td>79</td><td>81</td><td>21</td><td>23</td></tr>\n",
       "<tr><td>gama09E</td><td>014</td><td>7</td><td>107</td><td>2.9909e+00</td><td>5.9817e-17</td><td>130.195707</td><td>2.405111</td><td>1.4</td><td>1.7</td><td>34.61</td><td>104.36</td><td>34.94</td><td>2.71</td><td>3.43</td><td>1.26</td><td>0.96</td><td>4.27</td><td>4.37</td><td>12</td><td>14</td><td>7</td><td>3537.88</td><td>14.00</td><td>28</td><td>40</td><td>96</td><td>110</td><td>31</td><td>38</td></tr>\n",
       "<tr><td>gama09E</td><td>014</td><td>8</td><td>25</td><td>6.8686e-01</td><td>1.3737e-17</td><td>130.196836</td><td>2.403151</td><td>0.7</td><td>0.3</td><td>26.49</td><td>90.25</td><td>35.06</td><td>1.31</td><td>0.63</td><td>0.66</td><td>1.31</td><td>0.63</td><td>1.45</td><td>4</td><td>2</td><td>2</td><td>3538.11</td><td>4.00</td><td>25</td><td>29</td><td>89</td><td>91</td><td>34</td><td>36</td></tr>\n",
       "<tr><td>gama09E</td><td>014</td><td>9</td><td>69</td><td>1.7687e+00</td><td>3.5374e-17</td><td>130.194928</td><td>2.406257</td><td>0.9</td><td>1.4</td><td>40.22</td><td>112.61</td><td>41.33</td><td>1.88</td><td>2.71</td><td>0.82</td><td>1.13</td><td>3.09</td><td>3.29</td><td>8</td><td>11</td><td>3</td><td>3550.67</td><td>6.00</td><td>36</td><td>44</td><td>108</td><td>119</td><td>40</td><td>43</td></tr>\n",
       "<tr><td>...</td><td>...</td><td>...</td><td>...</td><td>...</td><td>...</td><td>...</td><td>...</td><td>...</td><td>...</td><td>...</td><td>...</td><td>...</td><td>...</td><td>...</td><td>...</td><td>...</td><td>...</td><td>...</td><td>...</td><td>...</td><td>...</td><td>...</td><td>...</td><td>...</td><td>...</td><td>...</td><td>...</td><td>...</td><td>...</td></tr>\n",
       "<tr><td>gama09F</td><td>105</td><td>348</td><td>6</td><td>4.7544e-02</td><td>9.5088e-19</td><td>129.952666</td><td>2.308545</td><td>0.2</td><td>0.2</td><td>95.87</td><td>115.70</td><td>955.14</td><td>0.34</td><td>0.46</td><td>0.67</td><td>0.32</td><td>0.48</td><td>0.57</td><td>1</td><td>1</td><td>2</td><td>5378.27</td><td>4.00</td><td>95</td><td>96</td><td>115</td><td>116</td><td>954</td><td>956</td></tr>\n",
       "<tr><td>gama09F</td><td>105</td><td>349</td><td>15</td><td>1.1586e-01</td><td>2.3172e-18</td><td>129.947442</td><td>2.302641</td><td>0.4</td><td>0.3</td><td>133.45</td><td>73.19</td><td>970.29</td><td>0.78</td><td>0.52</td><td>1.26</td><td>0.85</td><td>0.40</td><td>0.93</td><td>2</td><td>2</td><td>4</td><td>5408.58</td><td>8.00</td><td>132</td><td>134</td><td>72</td><td>74</td><td>968</td><td>972</td></tr>\n",
       "<tr><td>gama09F</td><td>105</td><td>350</td><td>8</td><td>7.6262e-02</td><td>1.5252e-18</td><td>129.957853</td><td>2.312279</td><td>0.2</td><td>0.2</td><td>58.55</td><td>142.58</td><td>987.49</td><td>0.50</td><td>0.49</td><td>0.50</td><td>0.50</td><td>0.49</td><td>0.70</td><td>1</td><td>1</td><td>1</td><td>5442.98</td><td>2.00</td><td>58</td><td>59</td><td>142</td><td>143</td><td>987</td><td>988</td></tr>\n",
       "<tr><td>gama09F</td><td>105</td><td>351</td><td>19</td><td>1.5055e-01</td><td>3.0109e-18</td><td>129.950955</td><td>2.307457</td><td>0.4</td><td>0.5</td><td>108.18</td><td>107.86</td><td>993.28</td><td>0.82</td><td>0.96</td><td>0.61</td><td>0.68</td><td>1.06</td><td>1.26</td><td>3</td><td>3</td><td>2</td><td>5454.57</td><td>4.00</td><td>106</td><td>109</td><td>106</td><td>109</td><td>992</td><td>994</td></tr>\n",
       "<tr><td>gama09F</td><td>105</td><td>352</td><td>68</td><td>6.2990e-01</td><td>1.2598e-17</td><td>129.953578</td><td>2.293279</td><td>0.8</td><td>0.4</td><td>89.31</td><td>5.78</td><td>996.13</td><td>1.63</td><td>0.90</td><td>2.10</td><td>1.72</td><td>0.71</td><td>1.86</td><td>7</td><td>4</td><td>7</td><td>5460.27</td><td>14.00</td><td>86</td><td>93</td><td>5</td><td>9</td><td>993</td><td>1000</td></tr>\n",
       "<tr><td>gama09F</td><td>105</td><td>353</td><td>22</td><td>1.7120e-01</td><td>3.4240e-18</td><td>129.960923</td><td>2.297318</td><td>0.2</td><td>0.5</td><td>36.46</td><td>34.86</td><td>995.78</td><td>0.50</td><td>1.05</td><td>1.07</td><td>0.49</td><td>1.05</td><td>1.16</td><td>1</td><td>4</td><td>4</td><td>5459.56</td><td>8.00</td><td>36</td><td>37</td><td>33</td><td>37</td><td>994</td><td>998</td></tr>\n",
       "<tr><td>gama09F</td><td>105</td><td>354</td><td>10</td><td>8.4263e-02</td><td>1.6853e-18</td><td>129.950041</td><td>2.298533</td><td>0.2</td><td>0.4</td><td>114.75</td><td>43.61</td><td>997.31</td><td>0.43</td><td>0.73</td><td>0.61</td><td>0.41</td><td>0.74</td><td>0.85</td><td>1</td><td>2</td><td>2</td><td>5462.62</td><td>4.00</td><td>114</td><td>115</td><td>43</td><td>45</td><td>996</td><td>998</td></tr>\n",
       "<tr><td>gama09F</td><td>105</td><td>355</td><td>332</td><td>2.6262e+00</td><td>5.2524e-17</td><td>129.958300</td><td>2.297141</td><td>0.7</td><td>1.2</td><td>55.33</td><td>33.59</td><td>1007.58</td><td>1.46</td><td>2.32</td><td>4.68</td><td>1.45</td><td>2.33</td><td>2.75</td><td>9</td><td>12</td><td>18</td><td>5483.17</td><td>36.00</td><td>50</td><td>59</td><td>29</td><td>41</td><td>999</td><td>1017</td></tr>\n",
       "<tr><td>gama09F</td><td>105</td><td>356</td><td>40</td><td>3.1317e-01</td><td>6.2634e-18</td><td>129.958102</td><td>2.312225</td><td>0.6</td><td>0.4</td><td>56.76</td><td>142.19</td><td>1003.42</td><td>1.14</td><td>0.88</td><td>1.79</td><td>1.14</td><td>0.87</td><td>1.44</td><td>4</td><td>3</td><td>7</td><td>5474.84</td><td>14.00</td><td>55</td><td>59</td><td>140</td><td>143</td><td>1000</td><td>1007</td></tr>\n",
       "<tr><td>gama09F</td><td>105</td><td>357</td><td>15</td><td>1.1584e-01</td><td>2.3168e-18</td><td>129.952022</td><td>2.308050</td><td>0.3</td><td>0.4</td><td>100.50</td><td>112.13</td><td>1004.95</td><td>0.68</td><td>0.86</td><td>0.97</td><td>0.56</td><td>0.94</td><td>1.10</td><td>2</td><td>3</td><td>3</td><td>5477.90</td><td>6.00</td><td>99</td><td>101</td><td>110</td><td>113</td><td>1003</td><td>1006</td></tr>\n",
       "</table>"
      ],
      "text/plain": [
       "<Table length=26580>\n",
       " field  ifu    id    N      counts   ...  xmax  ymin  ymax  zmin  zmax\n",
       "                     px     counts   ...   px    px    px    px    px \n",
       "  str7  str3 int64 int64   float64   ... int64 int64 int64 int64 int64\n",
       "------- ---- ----- ------ ---------- ... ----- ----- ----- ----- -----\n",
       "gama09E  014     1 121311 1.9397e+04 ...    72    58    72     9  1016\n",
       "gama09E  014     2    143 4.6193e+00 ...    48   112   124    10    20\n",
       "gama09E  014     3     45 1.4482e+00 ...    29    89    96    11    18\n",
       "gama09E  014     4  26185 2.9902e+03 ...    79     9    20    14   430\n",
       "gama09E  014     5  29359 1.7545e+03 ...    36    40    52    13   520\n",
       "gama09E  014     6      7 2.1887e-01 ...    20    79    81    21    23\n",
       "gama09E  014     7    107 2.9909e+00 ...    40    96   110    31    38\n",
       "gama09E  014     8     25 6.8686e-01 ...    29    89    91    34    36\n",
       "gama09E  014     9     69 1.7687e+00 ...    44   108   119    40    43\n",
       "    ...  ...   ...    ...        ... ...   ...   ...   ...   ...   ...\n",
       "gama09F  105   348      6 4.7544e-02 ...    96   115   116   954   956\n",
       "gama09F  105   349     15 1.1586e-01 ...   134    72    74   968   972\n",
       "gama09F  105   350      8 7.6262e-02 ...    59   142   143   987   988\n",
       "gama09F  105   351     19 1.5055e-01 ...   109   106   109   992   994\n",
       "gama09F  105   352     68 6.2990e-01 ...    93     5     9   993  1000\n",
       "gama09F  105   353     22 1.7120e-01 ...    37    33    37   994   998\n",
       "gama09F  105   354     10 8.4263e-02 ...   115    43    45   996   998\n",
       "gama09F  105   355    332 2.6262e+00 ...    59    29    41   999  1017\n",
       "gama09F  105   356     40 3.1317e-01 ...    59   140   143  1000  1007\n",
       "gama09F  105   357     15 1.1584e-01 ...   101   110   113  1003  1006"
      ]
     },
     "execution_count": 310,
     "metadata": {},
     "output_type": "execute_result"
    }
   ],
   "source": [
    "t"
   ]
  },
  {
   "cell_type": "code",
   "execution_count": 311,
   "metadata": {},
   "outputs": [],
   "source": [
    "tjoin = join(t,tvetted,keys=[\"field\",\"ifu\",\"id\"])"
   ]
  },
  {
   "cell_type": "code",
   "execution_count": 312,
   "metadata": {},
   "outputs": [
    {
     "name": "stdout",
     "output_type": "stream",
     "text": [
      "No of confirmed LAE:  78\n"
     ]
    }
   ],
   "source": [
    "kk = tjoin[\"LAE both\"] == 1\n",
    "print(\"No of confirmed LAE: \", sum(kk))"
   ]
  },
  {
   "cell_type": "code",
   "execution_count": 319,
   "metadata": {},
   "outputs": [
    {
     "data": {
      "text/html": [
       "<i>Table length=78</i>\n",
       "<table id=\"table140421283429104\" class=\"table-striped table-bordered table-condensed\">\n",
       "<thead><tr><th>field</th><th>ifu</th><th>id</th><th>N</th><th>counts</th><th>flux</th><th>ra_com</th><th>dec_com</th><th>ddec</th><th>dra</th><th>x_com</th><th>y_com</th><th>z_com</th><th>dx</th><th>dy</th><th>dz</th><th>sqrt(ev1)</th><th>sqrt(ev2)</th><th>size2d</th><th>x_ext</th><th>y_ext</th><th>z_ext</th><th>wl_com</th><th>dwl</th><th>xmin</th><th>xmax</th><th>ymin</th><th>ymax</th><th>zmin</th><th>zmax</th><th>LAE both</th></tr></thead>\n",
       "<thead><tr><th></th><th></th><th></th><th>px</th><th>counts</th><th>erg / (cm2 s)</th><th>RA[J2000]</th><th>Dec[J2000]</th><th>arcsec</th><th>arcsec</th><th>px</th><th>px</th><th>px</th><th>px</th><th>px</th><th>px</th><th>px</th><th>px</th><th>px</th><th>px</th><th>px</th><th>px</th><th>A</th><th>A</th><th>px</th><th>px</th><th>px</th><th>px</th><th>px</th><th>px</th><th></th></tr></thead>\n",
       "<thead><tr><th>str7</th><th>str3</th><th>int64</th><th>int64</th><th>float64</th><th>float64</th><th>float64</th><th>float64</th><th>float64</th><th>float64</th><th>float64</th><th>float64</th><th>float64</th><th>float64</th><th>float64</th><th>float64</th><th>float64</th><th>float64</th><th>float64</th><th>int64</th><th>int64</th><th>int64</th><th>float64</th><th>float64</th><th>int64</th><th>int64</th><th>int64</th><th>int64</th><th>int64</th><th>int64</th><th>int64</th></tr></thead>\n",
       "<tr><td>gama09E</td><td>013</td><td>24</td><td>53</td><td>5.0376e-01</td><td>1.0075e-17</td><td>130.207164</td><td>2.376065</td><td>0.7</td><td>0.6</td><td>58.68</td><td>64.52</td><td>215.22</td><td>1.47</td><td>1.22</td><td>1.16</td><td>1.53</td><td>1.15</td><td>1.92</td><td>7</td><td>5</td><td>5</td><td>3898.44</td><td>10.00</td><td>56</td><td>63</td><td>62</td><td>67</td><td>213</td><td>218</td><td>1</td></tr>\n",
       "<tr><td>gama09E</td><td>013</td><td>71</td><td>114</td><td>7.6272e-01</td><td>1.5254e-17</td><td>130.202689</td><td>2.372232</td><td>0.8</td><td>0.8</td><td>90.87</td><td>36.93</td><td>625.96</td><td>1.67</td><td>1.61</td><td>1.15</td><td>1.88</td><td>1.36</td><td>2.32</td><td>7</td><td>6</td><td>6</td><td>4719.93</td><td>12.00</td><td>87</td><td>94</td><td>34</td><td>40</td><td>623</td><td>629</td><td>1</td></tr>\n",
       "<tr><td>gama09E</td><td>015</td><td>35</td><td>68</td><td>7.4351e-01</td><td>1.4870e-17</td><td>130.172930</td><td>2.386433</td><td>0.6</td><td>1.1</td><td>29.21</td><td>76.36</td><td>217.73</td><td>1.28</td><td>2.25</td><td>0.77</td><td>1.11</td><td>2.34</td><td>2.59</td><td>5</td><td>8</td><td>3</td><td>3903.46</td><td>6.00</td><td>27</td><td>32</td><td>73</td><td>81</td><td>216</td><td>219</td><td>1</td></tr>\n",
       "<tr><td>gama09E</td><td>015</td><td>65</td><td>103</td><td>1.1188e+00</td><td>2.2376e-17</td><td>130.168129</td><td>2.388398</td><td>0.6</td><td>1.1</td><td>63.74</td><td>90.50</td><td>303.18</td><td>1.14</td><td>2.29</td><td>1.16</td><td>1.14</td><td>2.29</td><td>2.56</td><td>5</td><td>11</td><td>4</td><td>4074.37</td><td>8.00</td><td>61</td><td>66</td><td>85</td><td>96</td><td>301</td><td>305</td><td>1</td></tr>\n",
       "<tr><td>gama09E</td><td>015</td><td>72</td><td>84</td><td>8.2099e-01</td><td>1.6420e-17</td><td>130.165959</td><td>2.390178</td><td>0.6</td><td>0.7</td><td>79.35</td><td>103.32</td><td>347.49</td><td>1.29</td><td>1.49</td><td>0.96</td><td>1.23</td><td>1.53</td><td>1.97</td><td>5</td><td>6</td><td>4</td><td>4162.98</td><td>8.00</td><td>77</td><td>82</td><td>100</td><td>106</td><td>345</td><td>349</td><td>1</td></tr>\n",
       "<tr><td>gama09E</td><td>016</td><td>143</td><td>258</td><td>3.1083e+00</td><td>6.2165e-17</td><td>130.163709</td><td>2.449923</td><td>0.9</td><td>0.9</td><td>51.96</td><td>88.41</td><td>869.54</td><td>1.81</td><td>1.72</td><td>1.37</td><td>1.87</td><td>1.66</td><td>2.50</td><td>9</td><td>8</td><td>6</td><td>5207.09</td><td>12.00</td><td>48</td><td>57</td><td>84</td><td>92</td><td>866</td><td>872</td><td>1</td></tr>\n",
       "<tr><td>gama09E</td><td>021</td><td>42</td><td>73</td><td>6.4478e-01</td><td>1.2896e-17</td><td>130.215000</td><td>2.312447</td><td>0.7</td><td>0.7</td><td>45.88</td><td>51.55</td><td>285.13</td><td>1.43</td><td>1.38</td><td>1.27</td><td>1.72</td><td>1.01</td><td>1.99</td><td>6</td><td>6</td><td>5</td><td>4038.27</td><td>10.00</td><td>43</td><td>49</td><td>49</td><td>55</td><td>283</td><td>288</td><td>1</td></tr>\n",
       "<tr><td>gama09E</td><td>021</td><td>92</td><td>75</td><td>7.7630e-01</td><td>1.5526e-17</td><td>130.213105</td><td>2.313557</td><td>0.6</td><td>0.6</td><td>59.52</td><td>59.54</td><td>951.65</td><td>1.17</td><td>1.29</td><td>0.95</td><td>1.16</td><td>1.29</td><td>1.74</td><td>5</td><td>5</td><td>3</td><td>5371.29</td><td>6.00</td><td>57</td><td>62</td><td>57</td><td>62</td><td>950</td><td>953</td><td>1</td></tr>\n",
       "<tr><td>gama09E</td><td>023</td><td>195</td><td>392</td><td>5.8633e+00</td><td>1.1727e-16</td><td>130.179887</td><td>2.361245</td><td>1.0</td><td>1.0</td><td>85.64</td><td>64.30</td><td>919.53</td><td>1.98</td><td>1.91</td><td>1.47</td><td>1.98</td><td>1.90</td><td>2.75</td><td>10</td><td>9</td><td>7</td><td>5307.07</td><td>14.00</td><td>81</td><td>91</td><td>60</td><td>69</td><td>916</td><td>923</td><td>1</td></tr>\n",
       "<tr><td>...</td><td>...</td><td>...</td><td>...</td><td>...</td><td>...</td><td>...</td><td>...</td><td>...</td><td>...</td><td>...</td><td>...</td><td>...</td><td>...</td><td>...</td><td>...</td><td>...</td><td>...</td><td>...</td><td>...</td><td>...</td><td>...</td><td>...</td><td>...</td><td>...</td><td>...</td><td>...</td><td>...</td><td>...</td><td>...</td><td>...</td></tr>\n",
       "<tr><td>gama09F</td><td>087</td><td>85</td><td>176</td><td>2.1078e+00</td><td>4.2155e-17</td><td>129.974400</td><td>2.382529</td><td>0.9</td><td>0.8</td><td>64.76</td><td>96.76</td><td>173.71</td><td>1.79</td><td>1.69</td><td>1.22</td><td>1.99</td><td>1.44</td><td>2.46</td><td>8</td><td>8</td><td>5</td><td>3815.41</td><td>10.00</td><td>61</td><td>69</td><td>93</td><td>101</td><td>171</td><td>176</td><td>1</td></tr>\n",
       "<tr><td>gama09F</td><td>087</td><td>131</td><td>137</td><td>1.2153e+00</td><td>2.4307e-17</td><td>129.978955</td><td>2.378162</td><td>1.2</td><td>1.1</td><td>31.99</td><td>65.32</td><td>246.50</td><td>2.40</td><td>2.20</td><td>1.30</td><td>2.82</td><td>1.62</td><td>3.26</td><td>10</td><td>10</td><td>6</td><td>3961.00</td><td>12.00</td><td>27</td><td>37</td><td>61</td><td>71</td><td>243</td><td>249</td><td>1</td></tr>\n",
       "<tr><td>gama09F</td><td>087</td><td>384</td><td>334</td><td>3.3743e+00</td><td>6.7485e-17</td><td>129.968083</td><td>2.382860</td><td>0.9</td><td>0.9</td><td>110.20</td><td>99.14</td><td>785.91</td><td>1.86</td><td>1.84</td><td>1.66</td><td>1.95</td><td>1.75</td><td>2.62</td><td>8</td><td>8</td><td>8</td><td>5039.83</td><td>16.00</td><td>106</td><td>114</td><td>95</td><td>103</td><td>783</td><td>791</td><td>1</td></tr>\n",
       "<tr><td>gama09F</td><td>087</td><td>418</td><td>196</td><td>1.7104e+00</td><td>3.4207e-17</td><td>129.976511</td><td>2.384918</td><td>0.9</td><td>0.9</td><td>49.57</td><td>113.96</td><td>866.07</td><td>1.74</td><td>1.82</td><td>1.21</td><td>1.72</td><td>1.84</td><td>2.52</td><td>9</td><td>9</td><td>5</td><td>5200.14</td><td>10.00</td><td>46</td><td>55</td><td>110</td><td>119</td><td>864</td><td>869</td><td>1</td></tr>\n",
       "<tr><td>gama09F</td><td>091</td><td>52</td><td>321</td><td>4.8188e+00</td><td>9.6376e-17</td><td>130.042491</td><td>2.225131</td><td>1.0</td><td>1.2</td><td>45.18</td><td>85.54</td><td>223.43</td><td>1.98</td><td>2.49</td><td>1.48</td><td>1.92</td><td>2.53</td><td>3.18</td><td>10</td><td>12</td><td>7</td><td>3914.86</td><td>14.00</td><td>39</td><td>49</td><td>81</td><td>93</td><td>220</td><td>227</td><td>1</td></tr>\n",
       "<tr><td>gama09F</td><td>097</td><td>318</td><td>394</td><td>3.7632e+00</td><td>7.5263e-17</td><td>129.952254</td><td>2.359235</td><td>1.1</td><td>1.1</td><td>54.92</td><td>35.61</td><td>835.28</td><td>2.11</td><td>2.18</td><td>2.10</td><td>1.71</td><td>2.51</td><td>3.04</td><td>11</td><td>11</td><td>9</td><td>5138.56</td><td>18.00</td><td>49</td><td>60</td><td>31</td><td>42</td><td>832</td><td>841</td><td>1</td></tr>\n",
       "<tr><td>gama09F</td><td>098</td><td>436</td><td>158</td><td>1.3441e+00</td><td>2.6882e-17</td><td>129.934379</td><td>2.387857</td><td>0.8</td><td>0.8</td><td>76.92</td><td>72.44</td><td>999.34</td><td>1.59</td><td>1.56</td><td>1.40</td><td>1.77</td><td>1.35</td><td>2.23</td><td>6</td><td>8</td><td>7</td><td>5466.67</td><td>14.00</td><td>74</td><td>80</td><td>69</td><td>77</td><td>996</td><td>1003</td><td>1</td></tr>\n",
       "<tr><td>gama09F</td><td>105</td><td>203</td><td>380</td><td>4.3883e+00</td><td>8.7767e-17</td><td>129.960904</td><td>2.304088</td><td>1.0</td><td>0.9</td><td>36.60</td><td>83.61</td><td>559.67</td><td>1.92</td><td>1.85</td><td>1.90</td><td>1.97</td><td>1.79</td><td>2.66</td><td>9</td><td>10</td><td>9</td><td>4587.33</td><td>18.00</td><td>32</td><td>41</td><td>78</td><td>88</td><td>554</td><td>563</td><td>1</td></tr>\n",
       "<tr><td>gama09F</td><td>106</td><td>31</td><td>156</td><td>2.5871e+00</td><td>5.1741e-17</td><td>129.941307</td><td>2.332206</td><td>0.7</td><td>1.1</td><td>70.99</td><td>116.81</td><td>120.55</td><td>1.48</td><td>2.27</td><td>1.13</td><td>1.47</td><td>2.28</td><td>2.71</td><td>7</td><td>10</td><td>5</td><td>3709.10</td><td>10.00</td><td>68</td><td>75</td><td>113</td><td>123</td><td>119</td><td>124</td><td>1</td></tr>\n",
       "<tr><td>gama09F</td><td>106</td><td>125</td><td>278</td><td>2.8737e+00</td><td>5.7473e-17</td><td>129.944567</td><td>2.328413</td><td>0.8</td><td>0.8</td><td>47.54</td><td>89.50</td><td>656.95</td><td>1.53</td><td>1.69</td><td>1.80</td><td>1.51</td><td>1.70</td><td>2.28</td><td>7</td><td>8</td><td>8</td><td>4781.89</td><td>16.00</td><td>44</td><td>51</td><td>86</td><td>94</td><td>653</td><td>661</td><td>1</td></tr>\n",
       "</table>"
      ],
      "text/plain": [
       "<Table length=78>\n",
       " field  ifu    id    N     counts   ...  ymin  ymax  zmin  zmax LAE both\n",
       "                     px    counts   ...   px    px    px    px          \n",
       "  str7  str3 int64 int64  float64   ... int64 int64 int64 int64  int64  \n",
       "------- ---- ----- ----- ---------- ... ----- ----- ----- ----- --------\n",
       "gama09E  013    24    53 5.0376e-01 ...    62    67   213   218        1\n",
       "gama09E  013    71   114 7.6272e-01 ...    34    40   623   629        1\n",
       "gama09E  015    35    68 7.4351e-01 ...    73    81   216   219        1\n",
       "gama09E  015    65   103 1.1188e+00 ...    85    96   301   305        1\n",
       "gama09E  015    72    84 8.2099e-01 ...   100   106   345   349        1\n",
       "gama09E  016   143   258 3.1083e+00 ...    84    92   866   872        1\n",
       "gama09E  021    42    73 6.4478e-01 ...    49    55   283   288        1\n",
       "gama09E  021    92    75 7.7630e-01 ...    57    62   950   953        1\n",
       "gama09E  023   195   392 5.8633e+00 ...    60    69   916   923        1\n",
       "    ...  ...   ...   ...        ... ...   ...   ...   ...   ...      ...\n",
       "gama09F  087    85   176 2.1078e+00 ...    93   101   171   176        1\n",
       "gama09F  087   131   137 1.2153e+00 ...    61    71   243   249        1\n",
       "gama09F  087   384   334 3.3743e+00 ...    95   103   783   791        1\n",
       "gama09F  087   418   196 1.7104e+00 ...   110   119   864   869        1\n",
       "gama09F  091    52   321 4.8188e+00 ...    81    93   220   227        1\n",
       "gama09F  097   318   394 3.7632e+00 ...    31    42   832   841        1\n",
       "gama09F  098   436   158 1.3441e+00 ...    69    77   996  1003        1\n",
       "gama09F  105   203   380 4.3883e+00 ...    78    88   554   563        1\n",
       "gama09F  106    31   156 2.5871e+00 ...   113   123   119   124        1\n",
       "gama09F  106   125   278 2.8737e+00 ...    86    94   653   661        1"
      ]
     },
     "execution_count": 319,
     "metadata": {},
     "output_type": "execute_result"
    }
   ],
   "source": [
    "tjoin[kk]"
   ]
  },
  {
   "cell_type": "code",
   "execution_count": 313,
   "metadata": {},
   "outputs": [],
   "source": [
    "zz = tjoin[\"wl_com\"][kk]/1216. - 1."
   ]
  },
  {
   "cell_type": "code",
   "execution_count": 314,
   "metadata": {},
   "outputs": [
    {
     "data": {
      "text/plain": [
       "Text(0, 0.5, 'N')"
      ]
     },
     "execution_count": 314,
     "metadata": {},
     "output_type": "execute_result"
    },
    {
     "data": {
      "image/png": "[encoded data removed]",
      "text/plain": [
       "<Figure size 432x288 with 1 Axes>"
      ]
     },
     "metadata": {
      "needs_background": "light"
     },
     "output_type": "display_data"
    }
   ],
   "source": [
    "plt.hist(zz, bins=np.arange(1.9,3.5,.05))\n",
    "plt.xlabel(\"z\")\n",
    "plt.ylabel(\"N\")"
   ]
  },
  {
   "cell_type": "code",
   "execution_count": 315,
   "metadata": {},
   "outputs": [
    {
     "data": {
      "text/plain": [
       "Text(0, 0.5, 'Dec [Deg]')"
      ]
     },
     "execution_count": 315,
     "metadata": {},
     "output_type": "execute_result"
    },
    {
     "data": {
      "image/png": "[encoded data removed]",
      "text/plain": [
       "<Figure size 432x288 with 1 Axes>"
      ]
     },
     "metadata": {
      "needs_background": "light"
     },
     "output_type": "display_data"
    }
   ],
   "source": [
    "plt.plot(tjoin[\"ra_com\"][kk], tjoin[\"dec_com\"][kk],'.')\n",
    "plt.xlabel(\"RA [Deg]\")\n",
    "plt.ylabel(\"Dec [Deg]\")"
   ]
  },
  {
   "cell_type": "code",
   "execution_count": 316,
   "metadata": {},
   "outputs": [
    {
     "data": {
      "text/plain": [
       "Text(0, 0.5, 'z')"
      ]
     },
     "execution_count": 316,
     "metadata": {},
     "output_type": "execute_result"
    },
    {
     "data": {
      "image/png": "[encoded data removed]",
      "text/plain": [
       "<Figure size 432x288 with 1 Axes>"
      ]
     },
     "metadata": {
      "needs_background": "light"
     },
     "output_type": "display_data"
    }
   ],
   "source": [
    "plt.plot(tjoin[\"dec_com\"][kk], zz,'.')\n",
    "plt.xlabel(\"Dec [Deg]\")\n",
    "plt.ylabel(\"z\")"
   ]
  },
  {
   "cell_type": "code",
   "execution_count": 317,
   "metadata": {},
   "outputs": [
    {
     "data": {
      "image/png": "[encoded data removed]",
      "text/plain": [
       "<Figure size 432x288 with 1 Axes>"
      ]
     },
     "metadata": {
      "needs_background": "light"
     },
     "output_type": "display_data"
    }
   ],
   "source": [
    "import mpl_toolkits.axisartist.floating_axes as floating_axes\n",
    "import numpy as np\n",
    "from matplotlib.projections import PolarAxes\n",
    "import matplotlib.pyplot as plt\n",
    "\n",
    "def setup_axes3(fig, rect):\n",
    "    tr = PolarAxes.PolarTransform() \n",
    "\n",
    "    ra0, ra1 = -.12, .12    #max and min RA vals\n",
    "    cz0, cz1 = 0, 3.5          #max and min z vals\n",
    "    grid_helper = floating_axes.GridHelperCurveLinear(\n",
    "        tr, extremes=(ra0, ra1, cz0, cz1))\n",
    "\n",
    "    ax1 = floating_axes.FloatingSubplot(fig, rect, grid_helper=grid_helper)\n",
    "    fig.add_subplot(ax1)\n",
    "\n",
    "    # adjust axis\n",
    "    ax1.axis[\"left\"].set_axis_direction(\"bottom\")\n",
    "    ax1.axis[\"right\"].set_axis_direction(\"top\")\n",
    "    ax1.axis[\"bottom\"].set_visible(False)\n",
    "    ax1.axis[\"top\"].set_axis_direction(\"bottom\")\n",
    "    ax1.axis[\"top\"].toggle(ticklabels=True, label=True)\n",
    "    ax1.axis[\"top\"].major_ticklabels.set_axis_direction(\"top\")\n",
    "    ax1.axis[\"top\"].label.set_axis_direction(\"top\")\n",
    "    ax1.axis[\"left\"].label.set_text(r\"z\")\n",
    "    ax1.axis[\"top\"].label.set_text(r\"RA\")\n",
    "\n",
    "    # create a parasite axes whose transData in RA, cz\n",
    "    aux_ax = ax1.get_aux_axes(tr)\n",
    "\n",
    "    aux_ax.patch = ax1.patch  \n",
    "    ax1.patch.zorder = 0.9  \n",
    "\n",
    "    return ax1, aux_ax\n",
    "\n",
    "fig = plt.figure()\n",
    "\n",
    "ax3, aux_ax3 = setup_axes3(fig, 111)\n",
    "\n",
    "theta = tjoin[\"dec_com\"][kk]\n",
    "theta = theta-np.mean(theta)\n",
    "radius = zz \n",
    "aux_ax3.scatter(theta, radius,marker='.')\n",
    "\n",
    "plt.show()"
   ]
  },
  {
   "cell_type": "code",
   "execution_count": 377,
   "metadata": {},
   "outputs": [
    {
     "data": {
      "text/plain": [
       "Text(0, 0.5, 'N')"
      ]
     },
     "execution_count": 377,
     "metadata": {},
     "output_type": "execute_result"
    },
    {
     "data": {
      "image/png": "[encoded data removed]",
      "text/plain": [
       "<Figure size 432x288 with 1 Axes>"
      ]
     },
     "metadata": {
      "needs_background": "light"
     },
     "output_type": "display_data"
    }
   ],
   "source": [
    "plt.hist(tjoin[\"flux\"]*1e17, bins=np.arange(0,10,.1))\n",
    "plt.hist(tjoin[\"flux\"][kk]*1e17, bins=np.arange(0,10,.1))\n",
    "plt.yscale('log')\n",
    "plt.xlabel(\"flux [1e-17 ...]\")\n",
    "plt.ylabel(\"N\")"
   ]
  },
  {
   "cell_type": "code",
   "execution_count": 382,
   "metadata": {},
   "outputs": [
    {
     "data": {
      "text/plain": [
       "Text(0, 0.5, 'z')"
      ]
     },
     "execution_count": 382,
     "metadata": {},
     "output_type": "execute_result"
    },
    {
     "data": {
      "image/png": "[encoded data removed]",
      "text/plain": [
       "<Figure size 432x288 with 1 Axes>"
      ]
     },
     "metadata": {
      "needs_background": "light"
     },
     "output_type": "display_data"
    }
   ],
   "source": [
    "plt.plot(tjoin[\"flux\"][kk]*1e17, zz, '.')\n",
    "plt.xlabel(\"flux [1e-17 ...]\")\n",
    "plt.ylabel(\"z\")"
   ]
  },
  {
   "cell_type": "code",
   "execution_count": 177,
   "metadata": {},
   "outputs": [
    {
     "data": {
      "text/plain": [
       "array([0.252623])"
      ]
     },
     "execution_count": 177,
     "metadata": {},
     "output_type": "execute_result"
    }
   ],
   "source": [
    "np.diff((2.225131, 2.477754))"
   ]
  },
  {
   "cell_type": "code",
   "execution_count": 374,
   "metadata": {},
   "outputs": [],
   "source": [
    "tnew = tjoin"
   ]
  },
  {
   "cell_type": "code",
   "execution_count": 375,
   "metadata": {},
   "outputs": [
    {
     "data": {
      "text/plain": [
       "662"
      ]
     },
     "execution_count": 375,
     "metadata": {},
     "output_type": "execute_result"
    }
   ],
   "source": [
    "len(tnew)"
   ]
  },
  {
   "cell_type": "code",
   "execution_count": 372,
   "metadata": {},
   "outputs": [],
   "source": [
    "tnew.write(\"gama09lae.cat\", format=\"ascii.fixed_width\")"
   ]
  },
  {
   "cell_type": "code",
   "execution_count": 373,
   "metadata": {},
   "outputs": [
    {
     "name": "stdout",
     "output_type": "stream",
     "text": [
      "/home/idies/workspace/Storage/mxhf/persistent/mygama09/hetdex-deep\r\n"
     ]
    }
   ],
   "source": [
    "!pwd"
   ]
  },
  {
   "cell_type": "code",
   "execution_count": 376,
   "metadata": {},
   "outputs": [],
   "source": [
    "tnew.write(\"gama09full.cat\", format=\"ascii.fixed_width\")"
   ]
  },
  {
   "cell_type": "code",
   "execution_count": null,
   "metadata": {},
   "outputs": [],
   "source": []
  }
 ],
 "metadata": {
  "kernelspec": {
   "display_name": "Python 3",
   "language": "python",
   "name": "python3"
  },
  "language_info": {
   "codemirror_mode": {
    "name": "ipython",
    "version": 3
   },
   "file_extension": ".py",
   "mimetype": "text/x-python",
   "name": "python",
   "nbconvert_exporter": "python",
   "pygments_lexer": "ipython3",
   "version": "3.8.2"
  }
 },
 "nbformat": 4,
 "nbformat_minor": 4
}
