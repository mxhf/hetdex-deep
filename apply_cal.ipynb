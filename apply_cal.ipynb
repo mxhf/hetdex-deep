{
 "cells": [
  {
   "cell_type": "code",
   "execution_count": 4,
   "metadata": {},
   "outputs": [],
   "source": [
    "import spectrum\n",
    "from scipy.interpolate import interp1d\n",
    "from astropy.io import ascii, fits\n",
    "field = \"COSMOSC\"\n",
    "ifu = \"025\"\n",
    "Apix = 0.5**2.\n",
    "ftcal = \"../specphot/mean_cal_{}.txt\".format(field)\n",
    "#ftcal = \"1237651753997238489_cal.txt\"\n",
    "fcubein = \"../data/outcube_{}_{}.fits.gz\".format(field,ifu)\n",
    "fcubeout = \"../data/coutcube_{}_{}.fits.gz\".format(field,ifu)\n",
    "tcal = ascii.read(ftcal, format=\"fixed_width\")\n",
    "\n",
    "cal_interp = interp1d(tcal[\"wl[A]\"], tcal[\"cal[erg/s/cm^2/A/cnt]\"], kind='linear', bounds_error=False,fill_value=\"extrapolate\")\n",
    "\n",
    "\n",
    "s = spectrum.readSpectrum(fcubein)\n",
    "\n",
    "ww = s.grid()\n",
    "for i,w in enumerate(ww):\n",
    "    s.data[i] = s.data[i] * cal_interp(w)/Apix * 1e17\n",
    "\n",
    "h = fits.PrimaryHDU(data=s.data, header=s.hdu.header)\n",
    "h.header['BUNITS'] = '10x-17 erg/s/cm^2/A/arcsec^2'\n",
    "h.writeto(fcubeout, overwrite=True)\n",
    "print(\"Done\")"
   ]
  },
  {
   "cell_type": "code",
   "execution_count": null,
   "metadata": {
    "collapsed": true
   },
   "outputs": [],
   "source": []
  }
 ],
 "metadata": {
  "kernelspec": {
   "display_name": "Python 3",
   "language": "python",
   "name": "python3"
  },
  "language_info": {
   "codemirror_mode": {
    "name": "ipython",
    "version": 3
   },
   "file_extension": ".py",
   "mimetype": "text/x-python",
   "name": "python",
   "nbconvert_exporter": "python",
   "pygments_lexer": "ipython3",
   "version": "3.6.8"
  }
 },
 "nbformat": 4,
 "nbformat_minor": 2
}
