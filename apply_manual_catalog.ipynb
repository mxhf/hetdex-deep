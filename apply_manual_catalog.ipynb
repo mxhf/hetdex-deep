{
 "cells": [
  {
   "cell_type": "code",
   "execution_count": 1,
   "metadata": {
    "collapsed": true
   },
   "outputs": [],
   "source": [
    "# Take a manually created catalog and convert this to a segmantation map \n",
    "# by growing regions of pixels (in 3D) until their flux drops below\n",
    "# N x noise(wl)"
   ]
  },
  {
   "cell_type": "code",
   "execution_count": 2,
   "metadata": {},
   "outputs": [
    {
     "data": {
      "text/html": [
       "<style>.container { width:100% !important; }</style>"
      ],
      "text/plain": [
       "<IPython.core.display.HTML object>"
      ]
     },
     "metadata": {},
     "output_type": "display_data"
    }
   ],
   "source": [
    "# go wide screen\n",
    "from IPython.core.display import display, HTML\n",
    "display(HTML(\"<style>.container { width:100% !important; }</style>\"))"
   ]
  },
  {
   "cell_type": "code",
   "execution_count": 3,
   "metadata": {
    "collapsed": true
   },
   "outputs": [],
   "source": [
    "from astropy.io import fits, ascii\n",
    "from matplotlib import pyplot as plt\n",
    "% matplotlib inline\n",
    "from astropy.table import Table\n",
    "import numpy as np\n",
    "from astropy.wcs import WCS\n",
    "import argparse\n",
    "\n",
    "import cloud_finder3 as cf"
   ]
  },
  {
   "cell_type": "code",
   "execution_count": 9,
   "metadata": {
    "collapsed": true
   },
   "outputs": [],
   "source": [
    "def apply_manual_catalog(c,m,d,w,p, sigma_grow_threshold  = 1.7, maxlabel = 10000):\n",
    "    print(\"Maxlabel is: \", maxlabel)\n",
    "\n",
    "    count_labeled = 0\n",
    "    s = \"{:3s} {:3s} {:3s} {:3s} {:8s} {:7s} {:5s} {:6s}\"\n",
    "    print( s.format( \"cidx\", \"x\", \"y\", \"z\", \"val\", \"wl[A]\", \"val/noise\", \"N_labeled\"))\n",
    "    s = \"===================================\"\n",
    "    print( s )\n",
    "\n",
    "    new_regs = []\n",
    "\n",
    "    for i,r in enumerate(c):\n",
    "        x,y,z = r\n",
    "        id = m[z-1,y-1,x-1]\n",
    "        count_labeled += id > 0\n",
    "\n",
    "        ra,dec,wl = w.wcs_pix2world(x,y,z,1)\n",
    "        noise_at_wl = np.polyval(p,wl)\n",
    "        val = d[z-1,y-1,x-1]\n",
    "\n",
    "        if id <= 0:\n",
    "            threshold = sigma_grow_threshold*noise_at_wl\n",
    "\n",
    "            m = cf.grow_segment(d, m, x, y, z, threshold, maxlabel+1)\n",
    "\n",
    "            N_labeled_new = np.sum(m > 0.) \n",
    "\n",
    "            maxlabel += 1\n",
    "\n",
    "            s = \"{:3d} {:3d} {:3d} {:3d} {:6.3f} {:7.2f} {:5.1f} {:6d} \"\n",
    "            print( s.format(i, x,y,z,val,float(wl),val/noise_at_wl, N_labeled_new)  )\n",
    "\n",
    "\n",
    "            new_regs.append([maxlabel -1, x,y,z,val,float(wl),val/noise_at_wl, N_labeled_new])\n",
    "\n",
    "    new_regs = np.array(new_regs)\n",
    "\n",
    "    N = len(c)\n",
    "\n",
    "    print()\n",
    "    print(\"{} out of {} manually labeled objects had associated segments in original map. Added others.\".format(count_labeled,N))\n",
    "    \n",
    "    return m"
   ]
  },
  {
   "cell_type": "code",
   "execution_count": 10,
   "metadata": {},
   "outputs": [
    {
     "name": "stdout",
     "output_type": "stream",
     "text": [
      "Maxlabel is:  10000\n",
      "cidx x   y   z   val      wl[A]   val/noise N_labeled\n",
      "===================================\n",
      "  7  70  55 157  0.473 3804.53   3.7  59163 \n",
      "  8  47 109 182  0.570 3854.18   4.3  59477 \n",
      "  9 100  52 195  0.311 3879.99   2.3  62228 \n",
      " 10 116  93 203  0.566 3895.88   4.1  62703 \n",
      " 11  99  84 203  0.456 3895.88   3.3  63168 \n",
      " 12  98  46 210  0.496 3909.78   3.6  64379 \n",
      " 13 114  48 210  0.456 3909.78   3.3  64676 \n",
      " 16  75   9 218  0.531 3925.67   3.8  65200 \n",
      " 17  44  51 231  0.511 3951.48   3.6  66197 \n",
      " 18 100  43 240  0.516 3969.36   3.6  72543 \n",
      " 19   9  61 255  0.588 3999.14   4.0  77587 \n",
      " 20  52 117 254  0.496 3997.16   3.4  78647 \n",
      " 24 101  44 330  0.512 4148.08   3.3  85761 \n",
      " 26 118  60 385  0.695 4257.30   4.3  88829 \n",
      " 27  96  55 388  0.620 4263.26   3.9  89628 \n",
      " 28  99  42 388  0.539 4263.26   3.4  91458 \n",
      " 29 101  56 399  0.584 4285.10   3.6  95677 \n",
      " 32  42  48 423  0.728 4332.76   4.5  95927 \n",
      " 33  23  54 423  0.595 4332.76   3.7 100324 \n",
      " 41 116  88 543  0.576 4571.07   3.5 101912 \n",
      " 45  41  60 566  0.616 4616.74   3.7 102792 \n",
      " 47  21  57 576  0.564 4636.60   3.4 134676 \n",
      " 48  90  27 576  0.573 4636.60   3.5 142860 \n",
      " 52  64  96 623  0.680 4729.93   4.1 143893 \n",
      " 54  53 118 627  0.715 4737.88   4.3 144823 \n",
      " 55 118  58 642  0.621 4767.66   3.8 147728 \n",
      " 60 127  70 716  0.590 4914.62   3.6 156559 \n",
      " 62  52 117 730  0.693 4942.42   4.2 160000 \n",
      " 64 113  88 741  0.607 4964.26   3.7 162036 \n",
      " 65  98  64 747  0.606 4976.18   3.7 166112 \n",
      " 70 115  49 846  0.722 5172.77   4.3 167465 \n",
      " 72  81  89 856  0.687 5192.63   4.1 169873 \n",
      " 76 100  44 902  0.722 5283.98   4.2 179670 \n",
      " 78  64 114 963  0.686 5405.12   3.8 182349 \n",
      " 80 100  85 985  0.771 5448.81   4.2 182744 \n",
      " 83  49 121  86 -0.048 3663.54  -0.4 182745 \n",
      " 84  49 121  86 -0.048 3663.54  -0.4 182745 \n",
      "\n",
      "48 out of 85 manually labeled objects had associated segments in original map. Added others.\n",
      "Wrote ../data/mmap_COSMOSC_025.fits.gz.\n"
     ]
    }
   ],
   "source": [
    "if True:\n",
    "    field = \"COSMOSC\"\n",
    "    ifu = \"021\"\n",
    "\n",
    "    catfile  = \"../data/{}_{}.txt\".format(field,ifu)\n",
    "    mapcube  = \"../data/map_{}_{}.fits.gz\".format(field,ifu)\n",
    "    datacube = \"../data/sf2outcube_{}_{}.fits.gz\".format(field,ifu)\n",
    "    noisemodel = \"../data/sf2outcube_{}_{}.detect_noise_model\".format(field,ifu)\n",
    "    sigma_grow_threshold  = 1.7\n",
    "    newmapcube = \"../data/mmap_{}_{}.fits.gz\".format(field,ifu)\n",
    "\n",
    "    \n",
    "    #load noise model\n",
    "    p = np.loadtxt(noisemodel)\n",
    "\n",
    "    # read manual catalog\n",
    "    with open(catfile, 'r') as f:\n",
    "        ll = f.readlines()\n",
    "    c = []\n",
    "    for l in ll:\n",
    "        x,y,z = [int(np.round(float(f))) for f in l.split()[:3]]\n",
    "        c.append([x,y,z])\n",
    "\n",
    "    # open data and map cubes\n",
    "    mhdu = fits.open(mapcube)\n",
    "    dhdu = fits.open(datacube)\n",
    "    m = mhdu[0].data\n",
    "    d = dhdu[0].data\n",
    "    w = WCS(dhdu[0].header)\n",
    "\n",
    "    N_labeled_original = np.sum(m > 0.)\n",
    "\n",
    "    # add segments for manually labeled regions.\n",
    "    #m = apply_manual_catalog(catfile, mapcube, datacube, noisemodel, sigma_grow_threshold  = 1.7)\n",
    "    m = apply_manual_catalog(c,m,d,w,p, sigma_grow_threshold  = 1.7, maxlabel = 10000)\n",
    "\n",
    "    # save new map\n",
    "    mhdu[0].data = m\n",
    "    mhdu.writeto(newmapcube, overwrite=True)\n",
    "    print(\"Wrote {}.\".format(newmapcube))"
   ]
  },
  {
   "cell_type": "code",
   "execution_count": null,
   "metadata": {
    "collapsed": true
   },
   "outputs": [],
   "source": []
  }
 ],
 "metadata": {
  "kernelspec": {
   "display_name": "Python 3",
   "language": "python",
   "name": "python3"
  },
  "language_info": {
   "codemirror_mode": {
    "name": "ipython",
    "version": 3
   },
   "file_extension": ".py",
   "mimetype": "text/x-python",
   "name": "python",
   "nbconvert_exporter": "python",
   "pygments_lexer": "ipython3",
   "version": "3.6.0"
  }
 },
 "nbformat": 4,
 "nbformat_minor": 2
}
