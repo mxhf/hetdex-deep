{
 "cells": [
  {
   "cell_type": "code",
   "execution_count": 1,
   "metadata": {},
   "outputs": [],
   "source": [
    "import sys\n",
    "sys.path.append('/home1/04287/mxhf/HETDEX_API/')"
   ]
  },
  {
   "cell_type": "code",
   "execution_count": 2,
   "metadata": {},
   "outputs": [],
   "source": [
    "%matplotlib inline\n",
    "import sys\n",
    "import os\n",
    "import os.path\n",
    "import subprocess\n",
    "import numpy as np\n",
    "\n",
    "import tables as tb\n",
    "import matplotlib.pyplot as plt\n",
    "from matplotlib.colors import LogNorm\n",
    "from astropy.visualization import ZScaleInterval\n",
    "from astropy.table import Table\n",
    "\n",
    "from hetdex_api.survey import Survey"
   ]
  },
  {
   "cell_type": "code",
   "execution_count": 3,
   "metadata": {},
   "outputs": [],
   "source": [
    "survey = Survey('hdr1')"
   ]
  },
  {
   "cell_type": "code",
   "execution_count": 8,
   "metadata": {},
   "outputs": [],
   "source": [
    "s = Table(survey.hdfile.root.Survey[:])"
   ]
  },
  {
   "cell_type": "code",
   "execution_count": 9,
   "metadata": {},
   "outputs": [],
   "source": [
    "s = Table([s[\"datevobs\"]])"
   ]
  },
  {
   "cell_type": "code",
   "execution_count": 10,
   "metadata": {},
   "outputs": [],
   "source": [
    "N = len(s)"
   ]
  },
  {
   "cell_type": "code",
   "execution_count": 13,
   "metadata": {},
   "outputs": [],
   "source": [
    "s.write(\"/work/04287/mxhf/maverick/hetdex/shotlist_hdr1.txt\", format=\"ascii\")"
   ]
  },
  {
   "cell_type": "code",
   "execution_count": 17,
   "metadata": {},
   "outputs": [
    {
     "data": {
      "text/html": [
       "<i>Row index=1713</i>\n",
       "<table id=\"table47481377886336\">\n",
       "<thead><tr><th>datevobs</th></tr></thead>\n",
       "<thead><tr><th>bytes12</th></tr></thead>\n",
       "<tr><td>20190208v034</td></tr>\n",
       "</table>"
      ],
      "text/plain": [
       "<Row index=1713>\n",
       "  datevobs  \n",
       "  bytes12   \n",
       "------------\n",
       "20190208v034"
      ]
     },
     "execution_count": 17,
     "metadata": {},
     "output_type": "execute_result"
    }
   ],
   "source": [
    "s[-1]"
   ]
  },
  {
   "cell_type": "code",
   "execution_count": 13,
   "metadata": {},
   "outputs": [
    {
     "name": "stdout",
     "output_type": "stream",
     "text": [
      "Waiting for connection file: ~/.ipython/profile_default/security/ipcontroller-client.json\n",
      "Using IPython.parallel.\n"
     ]
    }
   ],
   "source": [
    "from IPython.parallel import Client\n",
    "c = Client()\n",
    "lv = c.load_balanced_view()   # this object represents the engines (workers)\n",
    "print(\"Using IPython.parallel.\")"
   ]
  },
  {
   "cell_type": "code",
   "execution_count": null,
   "metadata": {},
   "outputs": [],
   "source": [
    "#build noise model\n",
    "def run(shotid, DRYRUN=True):\n",
    "    import os\n",
    "    import tables as tb\n",
    "    from astropy.table import Table\n",
    "    oufilename = \"/work/04287/mxhf/maverick/hetdex/cubes{shotid}.images.txt\".format(shotid=shotid)\n",
    "    if os.path.exists(oufilename):\n",
    "        print(\"{} exists already.\".format(oufilename))\n",
    "        return 0\n",
    "    \n",
    "    print(\"Processing shot {}.\".format(shotid))\n",
    "    fileh = tb.open_file('/work/03946/hetdex/hdr1/reduction/data/{shotid}.h5'.format(shotid=shotid))\n",
    "    l = Table( fileh.root.Data.Images[:] )\n",
    "    l2 = Table( [l[\"contid\"], l[\"ifuid\"], l[\"ifuslot\"], l[\"specid\"]] )\n",
    "    l2.write(oufilename, format=\"ascii\")\n",
    "    \n",
    "    return 0\n",
    "\n",
    "tasks = []\n",
    "\n",
    "for shotid in s[\"datevobs\"]:\n",
    "    tasks.append(lv.apply(run, shotid))\n",
    "\n",
    "result = [task.get() for task in tasks]  # blocks until all results are back\n",
    "\n",
    "for r in result:\n",
    "    print(r)"
   ]
  },
  {
   "cell_type": "code",
   "execution_count": null,
   "metadata": {},
   "outputs": [],
   "source": []
  },
  {
   "cell_type": "code",
   "execution_count": 6,
   "metadata": {},
   "outputs": [
    {
     "name": "stdout",
     "output_type": "stream",
     "text": [
      "/work/04287/mxhf/maverick/hetdex/cubes20170103v002.images.txt exists already.\n",
      "/work/04287/mxhf/maverick/hetdex/cubes20170103v003.images.txt exists already.\n",
      "/work/04287/mxhf/maverick/hetdex/cubes20170105v008.images.txt exists already.\n",
      "/work/04287/mxhf/maverick/hetdex/cubes20170105v009.images.txt exists already.\n",
      "/work/04287/mxhf/maverick/hetdex/cubes20170105v010.images.txt exists already.\n",
      "/work/04287/mxhf/maverick/hetdex/cubes20170105v011.images.txt exists already.\n",
      "/work/04287/mxhf/maverick/hetdex/cubes20170106v001.images.txt exists already.\n",
      "/work/04287/mxhf/maverick/hetdex/cubes20170106v002.images.txt exists already.\n",
      "/work/04287/mxhf/maverick/hetdex/cubes20170106v003.images.txt exists already.\n",
      "/work/04287/mxhf/maverick/hetdex/cubes20170107v012.images.txt exists already.\n",
      "/work/04287/mxhf/maverick/hetdex/cubes20170107v013.images.txt exists already.\n",
      "/work/04287/mxhf/maverick/hetdex/cubes20170117v004.images.txt exists already.\n",
      "/work/04287/mxhf/maverick/hetdex/cubes20170119v003.images.txt exists already.\n",
      "/work/04287/mxhf/maverick/hetdex/cubes20170124v013.images.txt exists already.\n",
      "/work/04287/mxhf/maverick/hetdex/cubes20170126v002.images.txt exists already.\n",
      "/work/04287/mxhf/maverick/hetdex/cubes20170126v003.images.txt exists already.\n",
      "/work/04287/mxhf/maverick/hetdex/cubes20170127v007.images.txt exists already.\n",
      "/work/04287/mxhf/maverick/hetdex/cubes20170127v008.images.txt exists already.\n",
      "/work/04287/mxhf/maverick/hetdex/cubes20170129v002.images.txt exists already.\n",
      "/work/04287/mxhf/maverick/hetdex/cubes20170129v003.images.txt exists already.\n",
      "/work/04287/mxhf/maverick/hetdex/cubes20170129v008.images.txt exists already.\n",
      "/work/04287/mxhf/maverick/hetdex/cubes20170130v021.images.txt exists already.\n",
      "/work/04287/mxhf/maverick/hetdex/cubes20170130v022.images.txt exists already.\n",
      "/work/04287/mxhf/maverick/hetdex/cubes20170130v023.images.txt exists already.\n",
      "/work/04287/mxhf/maverick/hetdex/cubes20170130v024.images.txt exists already.\n",
      "/work/04287/mxhf/maverick/hetdex/cubes20170130v027.images.txt exists already.\n",
      "/work/04287/mxhf/maverick/hetdex/cubes20170131v032.images.txt exists already.\n",
      "/work/04287/mxhf/maverick/hetdex/cubes20170131v033.images.txt exists already.\n",
      "/work/04287/mxhf/maverick/hetdex/cubes20170131v034.images.txt exists already.\n",
      "/work/04287/mxhf/maverick/hetdex/cubes20170131v035.images.txt exists already.\n",
      "/work/04287/mxhf/maverick/hetdex/cubes20170131v037.images.txt exists already.\n",
      "/work/04287/mxhf/maverick/hetdex/cubes20170131v038.images.txt exists already.\n",
      "/work/04287/mxhf/maverick/hetdex/cubes20170202v002.images.txt exists already.\n",
      "/work/04287/mxhf/maverick/hetdex/cubes20170202v003.images.txt exists already.\n",
      "/work/04287/mxhf/maverick/hetdex/cubes20170202v006.images.txt exists already.\n",
      "/work/04287/mxhf/maverick/hetdex/cubes20170202v007.images.txt exists already.\n",
      "/work/04287/mxhf/maverick/hetdex/cubes20170202v008.images.txt exists already.\n",
      "/work/04287/mxhf/maverick/hetdex/cubes20170205v012.images.txt exists already.\n",
      "/work/04287/mxhf/maverick/hetdex/cubes20170221v010.images.txt exists already.\n",
      "/work/04287/mxhf/maverick/hetdex/cubes20170221v012.images.txt exists already.\n",
      "/work/04287/mxhf/maverick/hetdex/cubes20170221v013.images.txt exists already.\n",
      "/work/04287/mxhf/maverick/hetdex/cubes20170221v014.images.txt exists already.\n",
      "/work/04287/mxhf/maverick/hetdex/cubes20170221v015.images.txt exists already.\n",
      "/work/04287/mxhf/maverick/hetdex/cubes20170221v016.images.txt exists already.\n",
      "/work/04287/mxhf/maverick/hetdex/cubes20170222v007.images.txt exists already.\n",
      "/work/04287/mxhf/maverick/hetdex/cubes20170222v008.images.txt exists already.\n",
      "/work/04287/mxhf/maverick/hetdex/cubes20170222v010.images.txt exists already.\n",
      "/work/04287/mxhf/maverick/hetdex/cubes20170222v011.images.txt exists already.\n",
      "/work/04287/mxhf/maverick/hetdex/cubes20170222v012.images.txt exists already.\n",
      "/work/04287/mxhf/maverick/hetdex/cubes20170224v005.images.txt exists already.\n",
      "/work/04287/mxhf/maverick/hetdex/cubes20170224v006.images.txt exists already.\n",
      "/work/04287/mxhf/maverick/hetdex/cubes20170224v007.images.txt exists already.\n",
      "/work/04287/mxhf/maverick/hetdex/cubes20170225v007.images.txt exists already.\n",
      "/work/04287/mxhf/maverick/hetdex/cubes20170225v014.images.txt exists already.\n",
      "/work/04287/mxhf/maverick/hetdex/cubes20170225v015.images.txt exists already.\n",
      "/work/04287/mxhf/maverick/hetdex/cubes20170225v016.images.txt exists already.\n",
      "/work/04287/mxhf/maverick/hetdex/cubes20170301v006.images.txt exists already.\n",
      "/work/04287/mxhf/maverick/hetdex/cubes20170301v007.images.txt exists already.\n",
      "/work/04287/mxhf/maverick/hetdex/cubes20170301v008.images.txt exists already.\n",
      "/work/04287/mxhf/maverick/hetdex/cubes20170301v009.images.txt exists already.\n",
      "/work/04287/mxhf/maverick/hetdex/cubes20170301v010.images.txt exists already.\n",
      "/work/04287/mxhf/maverick/hetdex/cubes20170301v012.images.txt exists already.\n",
      "/work/04287/mxhf/maverick/hetdex/cubes20170301v013.images.txt exists already.\n",
      "/work/04287/mxhf/maverick/hetdex/cubes20170301v014.images.txt exists already.\n",
      "/work/04287/mxhf/maverick/hetdex/cubes20170301v015.images.txt exists already.\n",
      "/work/04287/mxhf/maverick/hetdex/cubes20170301v016.images.txt exists already.\n",
      "/work/04287/mxhf/maverick/hetdex/cubes20170303v012.images.txt exists already.\n",
      "/work/04287/mxhf/maverick/hetdex/cubes20170303v014.images.txt exists already.\n",
      "/work/04287/mxhf/maverick/hetdex/cubes20170305v009.images.txt exists already.\n",
      "/work/04287/mxhf/maverick/hetdex/cubes20170305v011.images.txt exists already.\n",
      "/work/04287/mxhf/maverick/hetdex/cubes20170306v018.images.txt exists already.\n",
      "/work/04287/mxhf/maverick/hetdex/cubes20170306v020.images.txt exists already.\n",
      "/work/04287/mxhf/maverick/hetdex/cubes20170306v021.images.txt exists already.\n",
      "/work/04287/mxhf/maverick/hetdex/cubes20170306v022.images.txt exists already.\n",
      "/work/04287/mxhf/maverick/hetdex/cubes20170321v012.images.txt exists already.\n",
      "/work/04287/mxhf/maverick/hetdex/cubes20170322v010.images.txt exists already.\n",
      "/work/04287/mxhf/maverick/hetdex/cubes20170322v011.images.txt exists already.\n",
      "/work/04287/mxhf/maverick/hetdex/cubes20170322v014.images.txt exists already.\n",
      "/work/04287/mxhf/maverick/hetdex/cubes20170322v015.images.txt exists already.\n",
      "/work/04287/mxhf/maverick/hetdex/cubes20170322v016.images.txt exists already.\n",
      "/work/04287/mxhf/maverick/hetdex/cubes20170322v018.images.txt exists already.\n",
      "/work/04287/mxhf/maverick/hetdex/cubes20170322v019.images.txt exists already.\n",
      "/work/04287/mxhf/maverick/hetdex/cubes20170325v005.images.txt exists already.\n",
      "/work/04287/mxhf/maverick/hetdex/cubes20170326v006.images.txt exists already.\n",
      "/work/04287/mxhf/maverick/hetdex/cubes20170326v007.images.txt exists already.\n",
      "/work/04287/mxhf/maverick/hetdex/cubes20170326v008.images.txt exists already.\n",
      "/work/04287/mxhf/maverick/hetdex/cubes20170326v010.images.txt exists already.\n",
      "/work/04287/mxhf/maverick/hetdex/cubes20170326v012.images.txt exists already.\n",
      "/work/04287/mxhf/maverick/hetdex/cubes20170326v013.images.txt exists already.\n",
      "/work/04287/mxhf/maverick/hetdex/cubes20170327v011.images.txt exists already.\n",
      "/work/04287/mxhf/maverick/hetdex/cubes20170327v012.images.txt exists already.\n",
      "/work/04287/mxhf/maverick/hetdex/cubes20170328v010.images.txt exists already.\n",
      "/work/04287/mxhf/maverick/hetdex/cubes20170328v011.images.txt exists already.\n",
      "/work/04287/mxhf/maverick/hetdex/cubes20170328v018.images.txt exists already.\n",
      "/work/04287/mxhf/maverick/hetdex/cubes20170328v019.images.txt exists already.\n",
      "/work/04287/mxhf/maverick/hetdex/cubes20170330v006.images.txt exists already.\n",
      "/work/04287/mxhf/maverick/hetdex/cubes20170331v006.images.txt exists already.\n",
      "/work/04287/mxhf/maverick/hetdex/cubes20170331v007.images.txt exists already.\n",
      "/work/04287/mxhf/maverick/hetdex/cubes20170331v008.images.txt exists already.\n",
      "/work/04287/mxhf/maverick/hetdex/cubes20170331v013.images.txt exists already.\n",
      "/work/04287/mxhf/maverick/hetdex/cubes20170418v003.images.txt exists already.\n",
      "/work/04287/mxhf/maverick/hetdex/cubes20170418v004.images.txt exists already.\n",
      "/work/04287/mxhf/maverick/hetdex/cubes20170418v005.images.txt exists already.\n",
      "/work/04287/mxhf/maverick/hetdex/cubes20170418v006.images.txt exists already.\n",
      "/work/04287/mxhf/maverick/hetdex/cubes20170418v013.images.txt exists already.\n",
      "/work/04287/mxhf/maverick/hetdex/cubes20170419v006.images.txt exists already.\n",
      "/work/04287/mxhf/maverick/hetdex/cubes20170420v016.images.txt exists already.\n",
      "/work/04287/mxhf/maverick/hetdex/cubes20170420v017.images.txt exists already.\n",
      "/work/04287/mxhf/maverick/hetdex/cubes20170421v016.images.txt exists already.\n",
      "/work/04287/mxhf/maverick/hetdex/cubes20170421v017.images.txt exists already.\n",
      "/work/04287/mxhf/maverick/hetdex/cubes20170423v008.images.txt exists already.\n",
      "/work/04287/mxhf/maverick/hetdex/cubes20170423v009.images.txt exists already.\n",
      "/work/04287/mxhf/maverick/hetdex/cubes20170423v013.images.txt exists already.\n",
      "/work/04287/mxhf/maverick/hetdex/cubes20170423v014.images.txt exists already.\n",
      "/work/04287/mxhf/maverick/hetdex/cubes20170423v015.images.txt exists already.\n",
      "/work/04287/mxhf/maverick/hetdex/cubes20170423v016.images.txt exists already.\n",
      "/work/04287/mxhf/maverick/hetdex/cubes20170424v007.images.txt exists already.\n",
      "/work/04287/mxhf/maverick/hetdex/cubes20170424v008.images.txt exists already.\n",
      "/work/04287/mxhf/maverick/hetdex/cubes20170424v009.images.txt exists already.\n",
      "/work/04287/mxhf/maverick/hetdex/cubes20170424v010.images.txt exists already.\n",
      "/work/04287/mxhf/maverick/hetdex/cubes20170425v003.images.txt exists already.\n",
      "/work/04287/mxhf/maverick/hetdex/cubes20170427v003.images.txt exists already.\n",
      "/work/04287/mxhf/maverick/hetdex/cubes20170427v004.images.txt exists already.\n",
      "/work/04287/mxhf/maverick/hetdex/cubes20170427v005.images.txt exists already.\n",
      "/work/04287/mxhf/maverick/hetdex/cubes20170427v006.images.txt exists already.\n",
      "/work/04287/mxhf/maverick/hetdex/cubes20170427v013.images.txt exists already.\n",
      "/work/04287/mxhf/maverick/hetdex/cubes20170427v014.images.txt exists already.\n",
      "/work/04287/mxhf/maverick/hetdex/cubes20170427v015.images.txt exists already.\n",
      "/work/04287/mxhf/maverick/hetdex/cubes20170428v005.images.txt exists already.\n",
      "/work/04287/mxhf/maverick/hetdex/cubes20170428v006.images.txt exists already.\n",
      "/work/04287/mxhf/maverick/hetdex/cubes20170428v007.images.txt exists already.\n",
      "/work/04287/mxhf/maverick/hetdex/cubes20170428v019.images.txt exists already.\n",
      "/work/04287/mxhf/maverick/hetdex/cubes20170428v020.images.txt exists already.\n",
      "/work/04287/mxhf/maverick/hetdex/cubes20170501v009.images.txt exists already.\n",
      "/work/04287/mxhf/maverick/hetdex/cubes20170501v011.images.txt exists already.\n",
      "/work/04287/mxhf/maverick/hetdex/cubes20170501v012.images.txt exists already.\n",
      "/work/04287/mxhf/maverick/hetdex/cubes20170502v009.images.txt exists already.\n",
      "/work/04287/mxhf/maverick/hetdex/cubes20170502v010.images.txt exists already.\n",
      "/work/04287/mxhf/maverick/hetdex/cubes20170502v011.images.txt exists already.\n",
      "/work/04287/mxhf/maverick/hetdex/cubes20170502v012.images.txt exists already.\n",
      "/work/04287/mxhf/maverick/hetdex/cubes20170503v007.images.txt exists already.\n",
      "/work/04287/mxhf/maverick/hetdex/cubes20170503v008.images.txt exists already.\n",
      "/work/04287/mxhf/maverick/hetdex/cubes20170503v009.images.txt exists already.\n",
      "/work/04287/mxhf/maverick/hetdex/cubes20170503v010.images.txt exists already.\n",
      "/work/04287/mxhf/maverick/hetdex/cubes20170518v006.images.txt exists already.\n",
      "/work/04287/mxhf/maverick/hetdex/cubes20170519v002.images.txt exists already.\n",
      "/work/04287/mxhf/maverick/hetdex/cubes20170519v008.images.txt exists already.\n",
      "/work/04287/mxhf/maverick/hetdex/cubes20170522v004.images.txt exists already.\n",
      "/work/04287/mxhf/maverick/hetdex/cubes20170522v005.images.txt exists already.\n",
      "/work/04287/mxhf/maverick/hetdex/cubes20170523v008.images.txt exists already.\n",
      "/work/04287/mxhf/maverick/hetdex/cubes20170525v013.images.txt exists already.\n",
      "/work/04287/mxhf/maverick/hetdex/cubes20170525v014.images.txt exists already.\n",
      "/work/04287/mxhf/maverick/hetdex/cubes20170527v011.images.txt exists already.\n",
      "/work/04287/mxhf/maverick/hetdex/cubes20170529v007.images.txt exists already.\n",
      "/work/04287/mxhf/maverick/hetdex/cubes20170529v008.images.txt exists already.\n",
      "/work/04287/mxhf/maverick/hetdex/cubes20170529v009.images.txt exists already.\n"
     ]
    },
    {
     "name": "stdout",
     "output_type": "stream",
     "text": [
      "/work/04287/mxhf/maverick/hetdex/cubes20170530v006.images.txt exists already.\n",
      "/work/04287/mxhf/maverick/hetdex/cubes20170615v009.images.txt exists already.\n",
      "/work/04287/mxhf/maverick/hetdex/cubes20170617v008.images.txt exists already.\n",
      "/work/04287/mxhf/maverick/hetdex/cubes20170617v009.images.txt exists already.\n",
      "/work/04287/mxhf/maverick/hetdex/cubes20170621v007.images.txt exists already.\n",
      "/work/04287/mxhf/maverick/hetdex/cubes20170621v008.images.txt exists already.\n",
      "/work/04287/mxhf/maverick/hetdex/cubes20170625v005.images.txt exists already.\n",
      "/work/04287/mxhf/maverick/hetdex/cubes20170625v006.images.txt exists already.\n",
      "/work/04287/mxhf/maverick/hetdex/cubes20170626v003.images.txt exists already.\n",
      "/work/04287/mxhf/maverick/hetdex/cubes20170627v005.images.txt exists already.\n",
      "/work/04287/mxhf/maverick/hetdex/cubes20170628v005.images.txt exists already.\n",
      "/work/04287/mxhf/maverick/hetdex/cubes20170628v006.images.txt exists already.\n",
      "/work/04287/mxhf/maverick/hetdex/cubes20170629v004.images.txt exists already.\n",
      "/work/04287/mxhf/maverick/hetdex/cubes20170629v005.images.txt exists already.\n",
      "/work/04287/mxhf/maverick/hetdex/cubes20170630v008.images.txt exists already.\n",
      "/work/04287/mxhf/maverick/hetdex/cubes20170630v009.images.txt exists already.\n",
      "/work/04287/mxhf/maverick/hetdex/cubes20170701v008.images.txt exists already.\n",
      "/work/04287/mxhf/maverick/hetdex/cubes20170701v009.images.txt exists already.\n",
      "/work/04287/mxhf/maverick/hetdex/cubes20170720v002.images.txt exists already.\n",
      "/work/04287/mxhf/maverick/hetdex/cubes20170720v003.images.txt exists already.\n",
      "/work/04287/mxhf/maverick/hetdex/cubes20170820v006.images.txt exists already.\n",
      "/work/04287/mxhf/maverick/hetdex/cubes20170830v014.images.txt exists already.\n",
      "/work/04287/mxhf/maverick/hetdex/cubes20170920v007.images.txt exists already.\n",
      "/work/04287/mxhf/maverick/hetdex/cubes20170920v008.images.txt exists already.\n",
      "/work/04287/mxhf/maverick/hetdex/cubes20170920v009.images.txt exists already.\n",
      "/work/04287/mxhf/maverick/hetdex/cubes20170920v010.images.txt exists already.\n",
      "/work/04287/mxhf/maverick/hetdex/cubes20170920v012.images.txt exists already.\n",
      "/work/04287/mxhf/maverick/hetdex/cubes20170921v018.images.txt exists already.\n",
      "/work/04287/mxhf/maverick/hetdex/cubes20170921v020.images.txt exists already.\n",
      "/work/04287/mxhf/maverick/hetdex/cubes20170921v021.images.txt exists already.\n",
      "/work/04287/mxhf/maverick/hetdex/cubes20170921v022.images.txt exists already.\n",
      "/work/04287/mxhf/maverick/hetdex/cubes20170921v025.images.txt exists already.\n",
      "/work/04287/mxhf/maverick/hetdex/cubes20170921v026.images.txt exists already.\n",
      "/work/04287/mxhf/maverick/hetdex/cubes20170921v029.images.txt exists already.\n",
      "/work/04287/mxhf/maverick/hetdex/cubes20170922v021.images.txt exists already.\n",
      "/work/04287/mxhf/maverick/hetdex/cubes20170922v022.images.txt exists already.\n",
      "/work/04287/mxhf/maverick/hetdex/cubes20170922v023.images.txt exists already.\n",
      "/work/04287/mxhf/maverick/hetdex/cubes20170922v025.images.txt exists already.\n",
      "/work/04287/mxhf/maverick/hetdex/cubes20170922v026.images.txt exists already.\n",
      "/work/04287/mxhf/maverick/hetdex/cubes20170922v027.images.txt exists already.\n",
      "/work/04287/mxhf/maverick/hetdex/cubes20170922v028.images.txt exists already.\n",
      "/work/04287/mxhf/maverick/hetdex/cubes20170922v030.images.txt exists already.\n",
      "/work/04287/mxhf/maverick/hetdex/cubes20170922v031.images.txt exists already.\n",
      "/work/04287/mxhf/maverick/hetdex/cubes20170923v014.images.txt exists already.\n",
      "/work/04287/mxhf/maverick/hetdex/cubes20170923v015.images.txt exists already.\n",
      "/work/04287/mxhf/maverick/hetdex/cubes20170923v016.images.txt exists already.\n",
      "/work/04287/mxhf/maverick/hetdex/cubes20170923v017.images.txt exists already.\n",
      "/work/04287/mxhf/maverick/hetdex/cubes20170923v018.images.txt exists already.\n",
      "/work/04287/mxhf/maverick/hetdex/cubes20170923v019.images.txt exists already.\n",
      "/work/04287/mxhf/maverick/hetdex/cubes20170923v020.images.txt exists already.\n",
      "/work/04287/mxhf/maverick/hetdex/cubes20170923v021.images.txt exists already.\n",
      "/work/04287/mxhf/maverick/hetdex/cubes20170923v022.images.txt exists already.\n",
      "/work/04287/mxhf/maverick/hetdex/cubes20170923v023.images.txt exists already.\n",
      "/work/04287/mxhf/maverick/hetdex/cubes20171012v014.images.txt exists already.\n",
      "/work/04287/mxhf/maverick/hetdex/cubes20171012v015.images.txt exists already.\n",
      "/work/04287/mxhf/maverick/hetdex/cubes20171012v016.images.txt exists already.\n",
      "/work/04287/mxhf/maverick/hetdex/cubes20171012v017.images.txt exists already.\n",
      "/work/04287/mxhf/maverick/hetdex/cubes20171013v012.images.txt exists already.\n",
      "/work/04287/mxhf/maverick/hetdex/cubes20171013v014.images.txt exists already.\n",
      "/work/04287/mxhf/maverick/hetdex/cubes20171013v015.images.txt exists already.\n",
      "/work/04287/mxhf/maverick/hetdex/cubes20171013v016.images.txt exists already.\n",
      "/work/04287/mxhf/maverick/hetdex/cubes20171013v018.images.txt exists already.\n",
      "/work/04287/mxhf/maverick/hetdex/cubes20171014v004.images.txt exists already.\n",
      "/work/04287/mxhf/maverick/hetdex/cubes20171014v005.images.txt exists already.\n",
      "/work/04287/mxhf/maverick/hetdex/cubes20171014v006.images.txt exists already.\n",
      "/work/04287/mxhf/maverick/hetdex/cubes20171014v007.images.txt exists already.\n",
      "/work/04287/mxhf/maverick/hetdex/cubes20171014v008.images.txt exists already.\n",
      "/work/04287/mxhf/maverick/hetdex/cubes20171015v004.images.txt exists already.\n",
      "/work/04287/mxhf/maverick/hetdex/cubes20171015v005.images.txt exists already.\n",
      "/work/04287/mxhf/maverick/hetdex/cubes20171015v006.images.txt exists already.\n",
      "/work/04287/mxhf/maverick/hetdex/cubes20171015v007.images.txt exists already.\n",
      "/work/04287/mxhf/maverick/hetdex/cubes20171016v108.images.txt exists already.\n",
      "/work/04287/mxhf/maverick/hetdex/cubes20171016v110.images.txt exists already.\n",
      "/work/04287/mxhf/maverick/hetdex/cubes20171016v111.images.txt exists already.\n",
      "/work/04287/mxhf/maverick/hetdex/cubes20171016v114.images.txt exists already.\n",
      "/work/04287/mxhf/maverick/hetdex/cubes20171016v115.images.txt exists already.\n",
      "/work/04287/mxhf/maverick/hetdex/cubes20171016v116.images.txt exists already.\n",
      "/work/04287/mxhf/maverick/hetdex/cubes20171017v003.images.txt exists already.\n",
      "/work/04287/mxhf/maverick/hetdex/cubes20171017v004.images.txt exists already.\n",
      "/work/04287/mxhf/maverick/hetdex/cubes20171017v005.images.txt exists already.\n",
      "/work/04287/mxhf/maverick/hetdex/cubes20171017v006.images.txt exists already.\n",
      "/work/04287/mxhf/maverick/hetdex/cubes20171017v007.images.txt exists already.\n",
      "/work/04287/mxhf/maverick/hetdex/cubes20171017v008.images.txt exists already.\n",
      "/work/04287/mxhf/maverick/hetdex/cubes20171017v009.images.txt exists already.\n",
      "/work/04287/mxhf/maverick/hetdex/cubes20171017v010.images.txt exists already.\n",
      "/work/04287/mxhf/maverick/hetdex/cubes20171018v010.images.txt exists already.\n",
      "/work/04287/mxhf/maverick/hetdex/cubes20171018v011.images.txt exists already.\n",
      "/work/04287/mxhf/maverick/hetdex/cubes20171018v012.images.txt exists already.\n",
      "/work/04287/mxhf/maverick/hetdex/cubes20171018v013.images.txt exists already.\n",
      "/work/04287/mxhf/maverick/hetdex/cubes20171018v014.images.txt exists already.\n",
      "/work/04287/mxhf/maverick/hetdex/cubes20171018v015.images.txt exists already.\n",
      "/work/04287/mxhf/maverick/hetdex/cubes20171018v016.images.txt exists already.\n",
      "/work/04287/mxhf/maverick/hetdex/cubes20171018v017.images.txt exists already.\n",
      "/work/04287/mxhf/maverick/hetdex/cubes20171018v018.images.txt exists already.\n",
      "/work/04287/mxhf/maverick/hetdex/cubes20171019v003.images.txt exists already.\n",
      "/work/04287/mxhf/maverick/hetdex/cubes20171019v009.images.txt exists already.\n",
      "/work/04287/mxhf/maverick/hetdex/cubes20171019v010.images.txt exists already.\n",
      "/work/04287/mxhf/maverick/hetdex/cubes20171019v011.images.txt exists already.\n",
      "/work/04287/mxhf/maverick/hetdex/cubes20171020v003.images.txt exists already.\n",
      "/work/04287/mxhf/maverick/hetdex/cubes20171021v008.images.txt exists already.\n",
      "/work/04287/mxhf/maverick/hetdex/cubes20171021v009.images.txt exists already.\n",
      "/work/04287/mxhf/maverick/hetdex/cubes20171021v010.images.txt exists already.\n",
      "/work/04287/mxhf/maverick/hetdex/cubes20171022v008.images.txt exists already.\n",
      "Processing shot 20171022v009 which is 259 out of 1714.\n",
      "Processing shot 20171022v016 which is 260 out of 1714.\n",
      "Processing shot 20171023v012 which is 261 out of 1714.\n"
     ]
    },
    {
     "name": "stdout",
     "output_type": "stream",
     "text": [
      "Processing shot 20171023v013 which is 262 out of 1714.\n",
      "Processing shot 20171023v014 which is 263 out of 1714.\n",
      "Processing shot 20171023v015 which is 264 out of 1714.\n",
      "Processing shot 20171023v016 which is 265 out of 1714.\n",
      "Processing shot 20171023v017 which is 266 out of 1714.\n",
      "Processing shot 20171023v018 which is 267 out of 1714.\n",
      "Processing shot 20171023v019 which is 268 out of 1714.\n",
      "Processing shot 20171023v020 which is 269 out of 1714.\n",
      "Processing shot 20171023v021 which is 270 out of 1714.\n",
      "Processing shot 20171024v007 which is 271 out of 1714.\n",
      "Processing shot 20171024v008 which is 272 out of 1714.\n",
      "Processing shot 20171024v009 which is 273 out of 1714.\n",
      "Processing shot 20171024v010 which is 274 out of 1714.\n",
      "Processing shot 20171025v007 which is 275 out of 1714.\n",
      "Processing shot 20171025v008 which is 276 out of 1714.\n"
     ]
    },
    {
     "ename": "KeyboardInterrupt",
     "evalue": "",
     "output_type": "error",
     "traceback": [
      "\u001b[0;31m---------------------------------------------------------------------------\u001b[0m",
      "\u001b[0;31mKeyboardInterrupt\u001b[0m                         Traceback (most recent call last)",
      "\u001b[0;32m<ipython-input-6-768519dde05e>\u001b[0m in \u001b[0;36m<module>\u001b[0;34m\u001b[0m\n\u001b[1;32m      7\u001b[0m     \u001b[0mprint\u001b[0m\u001b[0;34m(\u001b[0m\u001b[0;34m\"Processing shot {} which is {} out of {}.\"\u001b[0m\u001b[0;34m.\u001b[0m\u001b[0mformat\u001b[0m\u001b[0;34m(\u001b[0m\u001b[0mshotid\u001b[0m\u001b[0;34m,\u001b[0m\u001b[0mi\u001b[0m\u001b[0;34m,\u001b[0m\u001b[0mN\u001b[0m\u001b[0;34m)\u001b[0m\u001b[0;34m)\u001b[0m\u001b[0;34m\u001b[0m\u001b[0m\n\u001b[1;32m      8\u001b[0m     \u001b[0mfileh\u001b[0m \u001b[0;34m=\u001b[0m \u001b[0mtb\u001b[0m\u001b[0;34m.\u001b[0m\u001b[0mopen_file\u001b[0m\u001b[0;34m(\u001b[0m\u001b[0;34m'/work/03946/hetdex/hdr1/reduction/data/{shotid}.h5'\u001b[0m\u001b[0;34m.\u001b[0m\u001b[0mformat\u001b[0m\u001b[0;34m(\u001b[0m\u001b[0mshotid\u001b[0m\u001b[0;34m=\u001b[0m\u001b[0mshotid\u001b[0m\u001b[0;34m)\u001b[0m\u001b[0;34m)\u001b[0m\u001b[0;34m\u001b[0m\u001b[0m\n\u001b[0;32m----> 9\u001b[0;31m     \u001b[0ml\u001b[0m \u001b[0;34m=\u001b[0m \u001b[0mTable\u001b[0m\u001b[0;34m(\u001b[0m \u001b[0mfileh\u001b[0m\u001b[0;34m.\u001b[0m\u001b[0mroot\u001b[0m\u001b[0;34m.\u001b[0m\u001b[0mData\u001b[0m\u001b[0;34m.\u001b[0m\u001b[0mImages\u001b[0m\u001b[0;34m[\u001b[0m\u001b[0;34m:\u001b[0m\u001b[0;34m]\u001b[0m \u001b[0;34m)\u001b[0m\u001b[0;34m\u001b[0m\u001b[0m\n\u001b[0m\u001b[1;32m     10\u001b[0m     \u001b[0;31m#l.write(\"{shotid}.images.txt\".format(shotid=shotid), format=\"\")\u001b[0m\u001b[0;34m\u001b[0m\u001b[0;34m\u001b[0m\u001b[0m\n\u001b[1;32m     11\u001b[0m     \u001b[0ml2\u001b[0m \u001b[0;34m=\u001b[0m \u001b[0mTable\u001b[0m\u001b[0;34m(\u001b[0m \u001b[0;34m[\u001b[0m\u001b[0ml\u001b[0m\u001b[0;34m[\u001b[0m\u001b[0;34m\"contid\"\u001b[0m\u001b[0;34m]\u001b[0m\u001b[0;34m,\u001b[0m \u001b[0ml\u001b[0m\u001b[0;34m[\u001b[0m\u001b[0;34m\"ifuid\"\u001b[0m\u001b[0;34m]\u001b[0m\u001b[0;34m,\u001b[0m \u001b[0ml\u001b[0m\u001b[0;34m[\u001b[0m\u001b[0;34m\"ifuslot\"\u001b[0m\u001b[0;34m]\u001b[0m\u001b[0;34m,\u001b[0m \u001b[0ml\u001b[0m\u001b[0;34m[\u001b[0m\u001b[0;34m\"specid\"\u001b[0m\u001b[0;34m]\u001b[0m\u001b[0;34m]\u001b[0m \u001b[0;34m)\u001b[0m\u001b[0;34m\u001b[0m\u001b[0m\n",
      "\u001b[0;32m~/.local/lib/python3.7/site-packages/tables/table.py\u001b[0m in \u001b[0;36m__getitem__\u001b[0;34m(self, key)\u001b[0m\n\u001b[1;32m   2081\u001b[0m             (start, stop, step) = self._process_range(\n\u001b[1;32m   2082\u001b[0m                 key.start, key.stop, key.step)\n\u001b[0;32m-> 2083\u001b[0;31m             \u001b[0;32mreturn\u001b[0m \u001b[0mself\u001b[0m\u001b[0;34m.\u001b[0m\u001b[0mread\u001b[0m\u001b[0;34m(\u001b[0m\u001b[0mstart\u001b[0m\u001b[0;34m,\u001b[0m \u001b[0mstop\u001b[0m\u001b[0;34m,\u001b[0m \u001b[0mstep\u001b[0m\u001b[0;34m)\u001b[0m\u001b[0;34m\u001b[0m\u001b[0m\n\u001b[0m\u001b[1;32m   2084\u001b[0m         \u001b[0;31m# Try with a boolean or point selection\u001b[0m\u001b[0;34m\u001b[0m\u001b[0;34m\u001b[0m\u001b[0m\n\u001b[1;32m   2085\u001b[0m         \u001b[0;32melif\u001b[0m \u001b[0mtype\u001b[0m\u001b[0;34m(\u001b[0m\u001b[0mkey\u001b[0m\u001b[0;34m)\u001b[0m \u001b[0;32min\u001b[0m \u001b[0;34m(\u001b[0m\u001b[0mlist\u001b[0m\u001b[0;34m,\u001b[0m \u001b[0mtuple\u001b[0m\u001b[0;34m)\u001b[0m \u001b[0;32mor\u001b[0m \u001b[0misinstance\u001b[0m\u001b[0;34m(\u001b[0m\u001b[0mkey\u001b[0m\u001b[0;34m,\u001b[0m \u001b[0mnumpy\u001b[0m\u001b[0;34m.\u001b[0m\u001b[0mndarray\u001b[0m\u001b[0;34m)\u001b[0m\u001b[0;34m:\u001b[0m\u001b[0;34m\u001b[0m\u001b[0m\n",
      "\u001b[0;32m~/.local/lib/python3.7/site-packages/tables/table.py\u001b[0m in \u001b[0;36mread\u001b[0;34m(self, start, stop, step, field, out)\u001b[0m\n\u001b[1;32m   1932\u001b[0m                                                 warn_negstep=False)\n\u001b[1;32m   1933\u001b[0m \u001b[0;34m\u001b[0m\u001b[0m\n\u001b[0;32m-> 1934\u001b[0;31m         \u001b[0marr\u001b[0m \u001b[0;34m=\u001b[0m \u001b[0mself\u001b[0m\u001b[0;34m.\u001b[0m\u001b[0m_read\u001b[0m\u001b[0;34m(\u001b[0m\u001b[0mstart\u001b[0m\u001b[0;34m,\u001b[0m \u001b[0mstop\u001b[0m\u001b[0;34m,\u001b[0m \u001b[0mstep\u001b[0m\u001b[0;34m,\u001b[0m \u001b[0mfield\u001b[0m\u001b[0;34m,\u001b[0m \u001b[0mout\u001b[0m\u001b[0;34m)\u001b[0m\u001b[0;34m\u001b[0m\u001b[0m\n\u001b[0m\u001b[1;32m   1935\u001b[0m         \u001b[0;32mreturn\u001b[0m \u001b[0minternal_to_flavor\u001b[0m\u001b[0;34m(\u001b[0m\u001b[0marr\u001b[0m\u001b[0;34m,\u001b[0m \u001b[0mself\u001b[0m\u001b[0;34m.\u001b[0m\u001b[0mflavor\u001b[0m\u001b[0;34m)\u001b[0m\u001b[0;34m\u001b[0m\u001b[0m\n\u001b[1;32m   1936\u001b[0m \u001b[0;34m\u001b[0m\u001b[0m\n",
      "\u001b[0;32m~/.local/lib/python3.7/site-packages/tables/table.py\u001b[0m in \u001b[0;36m_read\u001b[0;34m(self, start, stop, step, field, out)\u001b[0m\n\u001b[1;32m   1846\u001b[0m             \u001b[0;31m# This optimization works three times faster than\u001b[0m\u001b[0;34m\u001b[0m\u001b[0;34m\u001b[0m\u001b[0m\n\u001b[1;32m   1847\u001b[0m             \u001b[0;31m# the row._fill_col method (up to 170 MB/s on a pentium IV @ 2GHz)\u001b[0m\u001b[0;34m\u001b[0m\u001b[0;34m\u001b[0m\u001b[0m\n\u001b[0;32m-> 1848\u001b[0;31m             \u001b[0mself\u001b[0m\u001b[0;34m.\u001b[0m\u001b[0m_read_records\u001b[0m\u001b[0;34m(\u001b[0m\u001b[0mstart\u001b[0m\u001b[0;34m,\u001b[0m \u001b[0mstop\u001b[0m \u001b[0;34m-\u001b[0m \u001b[0mstart\u001b[0m\u001b[0;34m,\u001b[0m \u001b[0mresult\u001b[0m\u001b[0;34m)\u001b[0m\u001b[0;34m\u001b[0m\u001b[0m\n\u001b[0m\u001b[1;32m   1849\u001b[0m         \u001b[0;31m# Warning!: _read_field_name should not be used until\u001b[0m\u001b[0;34m\u001b[0m\u001b[0;34m\u001b[0m\u001b[0m\n\u001b[1;32m   1850\u001b[0m         \u001b[0;31m# H5TBread_fields_name in tableextension will be finished\u001b[0m\u001b[0;34m\u001b[0m\u001b[0;34m\u001b[0m\u001b[0m\n",
      "\u001b[0;31mKeyboardInterrupt\u001b[0m: "
     ]
    }
   ],
   "source": [
    "# non-parallel impleentation\n",
    "for i, shotid in enumerate(s[\"datevobs\"]):\n",
    "    oufilename = \"/work/04287/mxhf/maverick/hetdex/cubes{shotid}.images.txt\".format(shotid=shotid)\n",
    "    if os.path.exists(oufilename):\n",
    "        print(\"{} exists already.\".format(oufilename))\n",
    "        continue\n",
    "    \n",
    "    print(\"Processing shot {} which is {} out of {}.\".format(shotid,i,N))\n",
    "    fileh = tb.open_file('/work/03946/hetdex/hdr1/reduction/data/{shotid}.h5'.format(shotid=shotid))\n",
    "    l = Table( fileh.root.Data.Images[:] )\n",
    "    #l.write(\"{shotid}.images.txt\".format(shotid=shotid), format=\"\")\n",
    "    l2 = Table( [l[\"contid\"], l[\"ifuid\"], l[\"ifuslot\"], l[\"specid\"]] )\n",
    "    l2.write(oufilename, format=\"ascii\")\n",
    "    #break"
   ]
  },
  {
   "cell_type": "code",
   "execution_count": 18,
   "metadata": {},
   "outputs": [
    {
     "name": "stdout",
     "output_type": "stream",
     "text": [
      "Processing shot 20190208v034 .\n",
      "Closing remaining open files:/work/03946/hetdex/hdr1/reduction/data/20190208v034.h5...done\n"
     ]
    }
   ],
   "source": [
    "!python create_master_table.py 20190208v034"
   ]
  },
  {
   "cell_type": "code",
   "execution_count": 20,
   "metadata": {},
   "outputs": [
    {
     "name": "stdout",
     "output_type": "stream",
     "text": [
      "Processing shot 20190118v010 .\n",
      "Closing remaining open files:/work/03946/hetdex/hdr1/reduction/data/20190118v010.h5...done\n"
     ]
    }
   ],
   "source": [
    "!python ~/hetdex/hetdex-deep/create_master_table.py 20190118v010"
   ]
  },
  {
   "cell_type": "code",
   "execution_count": null,
   "metadata": {},
   "outputs": [],
   "source": []
  }
 ],
 "metadata": {
  "kernelspec": {
   "display_name": "Python 3",
   "language": "python",
   "name": "python3"
  },
  "language_info": {
   "codemirror_mode": {
    "name": "ipython",
    "version": 3
   },
   "file_extension": ".py",
   "mimetype": "text/x-python",
   "name": "python",
   "nbconvert_exporter": "python",
   "pygments_lexer": "ipython3",
   "version": "3.7.0"
  }
 },
 "nbformat": 4,
 "nbformat_minor": 2
}
