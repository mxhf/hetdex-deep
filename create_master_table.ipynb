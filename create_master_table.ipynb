{
 "cells": [
  {
   "cell_type": "code",
   "execution_count": 1,
   "metadata": {},
   "outputs": [],
   "source": [
    "import sys\n",
    "sys.path.append('/home1/04287/mxhf/HETDEX_API/')"
   ]
  },
  {
   "cell_type": "code",
   "execution_count": 2,
   "metadata": {},
   "outputs": [],
   "source": [
    "%matplotlib inline\n",
    "import sys\n",
    "import os\n",
    "import os.path\n",
    "import subprocess\n",
    "import numpy as np\n",
    "\n",
    "import tables as tb\n",
    "import matplotlib.pyplot as plt\n",
    "from matplotlib.colors import LogNorm\n",
    "from astropy.visualization import ZScaleInterval\n",
    "from astropy.table import Table\n",
    "\n",
    "from hetdex_api.survey import Survey"
   ]
  },
  {
   "cell_type": "code",
   "execution_count": 3,
   "metadata": {},
   "outputs": [],
   "source": [
    "survey = Survey('hdr1')"
   ]
  },
  {
   "cell_type": "code",
   "execution_count": 4,
   "metadata": {},
   "outputs": [],
   "source": [
    "s = Table(survey.hdfile.root.Survey[:])"
   ]
  },
  {
   "cell_type": "code",
   "execution_count": 5,
   "metadata": {},
   "outputs": [],
   "source": [
    "s = Table([s[\"datevobs\"]])"
   ]
  },
  {
   "cell_type": "code",
   "execution_count": 6,
   "metadata": {},
   "outputs": [],
   "source": [
    "N = len(s)"
   ]
  },
  {
   "cell_type": "code",
   "execution_count": 13,
   "metadata": {},
   "outputs": [],
   "source": [
    "s.write(\"/work/04287/mxhf/maverick/hetdex/shotlist_hdr1.txt\", format=\"ascii\")"
   ]
  },
  {
   "cell_type": "code",
   "execution_count": 13,
   "metadata": {},
   "outputs": [
    {
     "name": "stdout",
     "output_type": "stream",
     "text": [
      "Waiting for connection file: ~/.ipython/profile_default/security/ipcontroller-client.json\n",
      "Using IPython.parallel.\n"
     ]
    }
   ],
   "source": [
    "from IPython.parallel import Client\n",
    "c = Client()\n",
    "lv = c.load_balanced_view()   # this object represents the engines (workers)\n",
    "print(\"Using IPython.parallel.\")"
   ]
  },
  {
   "cell_type": "code",
   "execution_count": null,
   "metadata": {},
   "outputs": [],
   "source": [
    "#build noise model\n",
    "def run(shotid, DRYRUN=True):\n",
    "    import os\n",
    "    import tables as tb\n",
    "    from astropy.table import Table\n",
    "    oufilename = \"/work/04287/mxhf/maverick/hetdex/cubes{shotid}.images.txt\".format(shotid=shotid)\n",
    "    if os.path.exists(oufilename):\n",
    "        print(\"{} exists already.\".format(oufilename))\n",
    "        return 0\n",
    "    \n",
    "    print(\"Processing shot {}.\".format(shotid))\n",
    "    fileh = tb.open_file('/work/03946/hetdex/hdr1/reduction/data/{shotid}.h5'.format(shotid=shotid))\n",
    "    l = Table( fileh.root.Data.Images[:] )\n",
    "    l2 = Table( [l[\"contid\"], l[\"ifuid\"], l[\"ifuslot\"], l[\"specid\"]] )\n",
    "    l2.write(oufilename, format=\"ascii\")\n",
    "    \n",
    "    return 0\n",
    "\n",
    "tasks = []\n",
    "\n",
    "for shotid in s[\"datevobs\"]:\n",
    "    tasks.append(lv.apply(run, shotid))\n",
    "\n",
    "result = [task.get() for task in tasks]  # blocks until all results are back\n",
    "\n",
    "for r in result:\n",
    "    print(r)"
   ]
  },
  {
   "cell_type": "code",
   "execution_count": null,
   "metadata": {},
   "outputs": [],
   "source": []
  },
  {
   "cell_type": "code",
   "execution_count": 7,
   "metadata": {},
   "outputs": [
    {
     "name": "stdout",
     "output_type": "stream",
     "text": [
      "Processing shot 20181004v007 which is 1433 out of 1714.\n",
      "Processing shot 20181214v011 which is 1666 out of 1714.\n"
     ]
    }
   ],
   "source": [
    "# non-parallel impleentation\n",
    "for i, shotid in enumerate(s[\"datevobs\"]):\n",
    "    oufilename = \"/work/04287/mxhf/maverick/hetdex/cubes{shotid}.images.txt\".format(shotid=shotid)\n",
    "    if os.path.exists(oufilename):\n",
    "        #print(\"{} exists already.\".format(oufilename))\n",
    "        continue\n",
    "    \n",
    "    print(\"Processing shot {} which is {} out of {}.\".format(shotid,i,N))\n",
    "    fileh = tb.open_file('/work/03946/hetdex/hdr1/reduction/data/{shotid}.h5'.format(shotid=shotid))\n",
    "    l = Table( fileh.root.Data.Images[:] )\n",
    "    #l.write(\"{shotid}.images.txt\".format(shotid=shotid), format=\"\")\n",
    "    l2 = Table( [l[\"contid\"], l[\"ifuid\"], l[\"ifuslot\"], l[\"specid\"]] )\n",
    "    l2.write(oufilename, format=\"ascii\")\n",
    "    #break"
   ]
  },
  {
   "cell_type": "code",
   "execution_count": 18,
   "metadata": {},
   "outputs": [
    {
     "name": "stdout",
     "output_type": "stream",
     "text": [
      "Processing shot 20190208v034 .\n",
      "Closing remaining open files:/work/03946/hetdex/hdr1/reduction/data/20190208v034.h5...done\n"
     ]
    }
   ],
   "source": [
    "!python create_master_table.py 20190208v034"
   ]
  },
  {
   "cell_type": "code",
   "execution_count": 20,
   "metadata": {},
   "outputs": [
    {
     "name": "stdout",
     "output_type": "stream",
     "text": [
      "Processing shot 20190118v010 .\n",
      "Closing remaining open files:/work/03946/hetdex/hdr1/reduction/data/20190118v010.h5...done\n"
     ]
    }
   ],
   "source": [
    "!python ~/hetdex/hetdex-deep/create_master_table.py 20190118v010"
   ]
  },
  {
   "cell_type": "code",
   "execution_count": null,
   "metadata": {},
   "outputs": [],
   "source": []
  }
 ],
 "metadata": {
  "kernelspec": {
   "display_name": "Python 3",
   "language": "python",
   "name": "python3"
  },
  "language_info": {
   "codemirror_mode": {
    "name": "ipython",
    "version": 3
   },
   "file_extension": ".py",
   "mimetype": "text/x-python",
   "name": "python",
   "nbconvert_exporter": "python",
   "pygments_lexer": "ipython3",
   "version": "3.7.0"
  }
 },
 "nbformat": 4,
 "nbformat_minor": 2
}
