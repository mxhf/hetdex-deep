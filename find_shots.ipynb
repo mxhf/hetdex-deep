{
 "cells": [
  {
   "cell_type": "code",
   "execution_count": 5,
   "metadata": {},
   "outputs": [],
   "source": [
    "import sys\n",
    "sys.path.append('/home1/04287/mxhf/HETDEX_API/')"
   ]
  },
  {
   "cell_type": "markdown",
   "metadata": {},
   "source": [
    "# 01 - Finding relevant HETDEX shots"
   ]
  },
  {
   "cell_type": "markdown",
   "metadata": {},
   "source": [
    "### Find all HETDEX shots, downselect by date and exposure time"
   ]
  },
  {
   "cell_type": "code",
   "execution_count": 6,
   "metadata": {},
   "outputs": [],
   "source": [
    "from matplotlib import pyplot as plt\n",
    "%matplotlib inline\n",
    "import numpy as np\n",
    "from astropy.table import Table\n",
    "from astropy.io import ascii"
   ]
  },
  {
   "cell_type": "code",
   "execution_count": 7,
   "metadata": {},
   "outputs": [],
   "source": [
    "from hetdex_api.survey import Survey\n",
    "survey = Survey('hdr1')\n",
    "thdr1 = Table(survey.hdfile.root.Survey[:])"
   ]
  },
  {
   "cell_type": "code",
   "execution_count": 8,
   "metadata": {},
   "outputs": [
    {
     "name": "stdout",
     "output_type": "stream",
     "text": [
      "min_exptime = 366.2493896484375 max_exptime = 488.5973205566406\n"
     ]
    }
   ],
   "source": [
    "# read and pars shotlist\n",
    "# for all repeat shots\n",
    "ss = ascii.read( \"/work/04287/mxhf/maverick/hetdex/cubes/shotlist_COSMOSABCD.txt\", format='no_header')\n",
    "ss = [np.int64(s[\"col1\"].split('v')[0])*1000 + int( s[\"col1\"].split('v')[1] ) for s in ss]\n",
    "\n",
    "# get relevant rows from shotlist table\n",
    "ii_ABCD = thdr1[\"shotid\"] == 0\n",
    "for s in ss:\n",
    "    ii_ABCD += thdr1[\"shotid\"] == s\n",
    "#print(np.sum(ii))\n",
    "\n",
    "# get statistics on exposure times\n",
    "exptimes = []\n",
    "for exptime in thdr1[\"exptime\"][ii_ABCD]:\n",
    "    exptimes.append(exptime)\n",
    "exptimes = np.array( exptimes ).flatten()\n",
    "\n",
    "min_exptime = exptimes.min() \n",
    "max_exptime = exptimes.max()\n",
    "print(\"min_exptime = {} max_exptime = {}\".format(min_exptime, max_exptime))"
   ]
  },
  {
   "cell_type": "code",
   "execution_count": 9,
   "metadata": {},
   "outputs": [],
   "source": [
    "# for COSMOS A PCA\n",
    "iiA  = thdr1[\"shotid\"] >= 20180104007\n",
    "iiA *= thdr1[\"shotid\"] <= 20180321026\n",
    "\n",
    "# B\n",
    "iiB  = thdr1[\"shotid\"] >= 20181101000\n",
    "iiB *= thdr1[\"shotid\"] <= 20181131999\n",
    "\n",
    "# C\n",
    "iiC  = thdr1[\"shotid\"] >= 20181101000\n",
    "iiC *= thdr1[\"shotid\"] <= 20181131999\n",
    "\n",
    "# D\n",
    "iiD  = thdr1[\"shotid\"] >= 20181201000\n",
    "iiD *= thdr1[\"shotid\"] <= 20190131999\n",
    "\n",
    "# for COSMOS BCD PCA\n",
    "#iiBCD  = thdr1[\"shotid\"] >= 20181101020\n",
    "#iiBCD *= thdr1[\"shotid\"] <= 20190131999\n",
    "\n",
    "# for GOODSN PCA\n",
    "iiN  = thdr1[\"shotid\"] >= 20180401016\n",
    "iiN *= thdr1[\"shotid\"] <= 20180631999\n",
    "\n",
    "# for 2018 and beyond\n",
    "iiN  = thdr1[\"shotid\"] >= 20180000000\n",
    "#iiN *= thdr1[\"shotid\"] <= 20189999999\n",
    "\n",
    "#ii = iiA + iiBCD + iiN\n",
    "ii = iiN\n",
    "\n",
    "ii *= np.array(thdr1[\"exptime\"]).min(axis=1) >= 360.\n",
    "ii *= np.array(thdr1[\"exptime\"]).min(axis=1) <= 500.\n",
    "\n",
    "t = Table(survey.hdfile.root.Survey[ii])"
   ]
  },
  {
   "cell_type": "markdown",
   "metadata": {},
   "source": [
    "This calls the HDR1 survey class and sets each column in the survey table as an attribute to this object. This is how it looks through an astropy Table object:"
   ]
  },
  {
   "cell_type": "code",
   "execution_count": 10,
   "metadata": {},
   "outputs": [
    {
     "name": "stdout",
     "output_type": "stream",
     "text": [
      "1025 shots.\n",
      "All repeat shots in list:  True\n",
      "[True, True, True, True, True, True]\n"
     ]
    }
   ],
   "source": [
    "shotlist = [ s[0] for s in Table([t[\"datevobs\"]])]\n",
    "print(\"{} shots.\".format(len(shotlist)))\n",
    "\n",
    "ss = ascii.read( \"/work/04287/mxhf/maverick/hetdex/cubes/shotlist_GOODSN.txt\", format='no_header')\n",
    "print( \"All repeat shots in list: \", np.all( [s[0] in shotlist for s in ss] ) )\n",
    "\n",
    "print([s[0] in shotlist for s in ss])"
   ]
  },
  {
   "cell_type": "code",
   "execution_count": 11,
   "metadata": {},
   "outputs": [
    {
     "name": "stderr",
     "output_type": "stream",
     "text": [
      "WARNING: AstropyDeprecationWarning: /work/04287/mxhf/maverick/hetdex/cubes/shotlist_PCA_GOODSN.txt already exists. Automatically overwriting ASCII files is deprecated. Use the argument 'overwrite=True' in the future. [astropy.io.ascii.ui]\n"
     ]
    }
   ],
   "source": [
    "pcashotlist = Table( [t[\"datevobs\"]] )\n",
    "pcashotlist.write(\"/work/04287/mxhf/maverick/hetdex/cubes/shotlist_PCA_GOODSN.txt\", format=\"ascii.no_header\")"
   ]
  },
  {
   "cell_type": "code",
   "execution_count": null,
   "metadata": {},
   "outputs": [],
   "source": []
  },
  {
   "cell_type": "code",
   "execution_count": 12,
   "metadata": {},
   "outputs": [
    {
     "name": "stdout",
     "output_type": "stream",
     "text": [
      "Out of 1025 shots in totel, 14 are still missing in /scratch/04287/mxhf/rebin2.\n"
     ]
    }
   ],
   "source": [
    "# find not yet rebinned shots\n",
    "import glob\n",
    "import os\n",
    "\n",
    "ff = glob.glob(\"/scratch/04287/mxhf/rebin2/201*\")\n",
    "\n",
    "rebinned_shots = [os.path.basename(f) for f in ff]\n",
    "\n",
    "missing_shots = []\n",
    "for r in t:\n",
    "    if not r['datevobs'] in rebinned_shots:\n",
    "          missing_shots.append(r['datevobs'])\n",
    "            \n",
    "print(\"Out of {} shots in totel, {} are still missing in {}.\".format(np.sum(ii),len(missing_shots),\"/scratch/04287/mxhf/rebin2\"))\n"
   ]
  },
  {
   "cell_type": "code",
   "execution_count": 13,
   "metadata": {},
   "outputs": [
    {
     "data": {
      "text/plain": [
       "['20190201v015',\n",
       " '20190201v016',\n",
       " '20190202v012',\n",
       " '20190203v015',\n",
       " '20190203v022',\n",
       " '20190203v023',\n",
       " '20190203v025',\n",
       " '20190205v016',\n",
       " '20190207v015',\n",
       " '20190208v028',\n",
       " '20190208v035',\n",
       " '20190209v020',\n",
       " '20190209v021',\n",
       " '20190209v027']"
      ]
     },
     "execution_count": 13,
     "metadata": {},
     "output_type": "execute_result"
    }
   ],
   "source": [
    "missing_shots"
   ]
  },
  {
   "cell_type": "code",
   "execution_count": 14,
   "metadata": {},
   "outputs": [],
   "source": [
    "Table([missing_shots]).write(\"/work/04287/mxhf/maverick/hetdex/cubes/shotlist_2019_missing.txt\", format=\"ascii.no_header\")"
   ]
  },
  {
   "cell_type": "code",
   "execution_count": null,
   "metadata": {},
   "outputs": [],
   "source": []
  }
 ],
 "metadata": {
  "kernelspec": {
   "display_name": "Python 3",
   "language": "python",
   "name": "python3"
  },
  "language_info": {
   "codemirror_mode": {
    "name": "ipython",
    "version": 3
   },
   "file_extension": ".py",
   "mimetype": "text/x-python",
   "name": "python",
   "nbconvert_exporter": "python",
   "pygments_lexer": "ipython3",
   "version": "3.7.0"
  }
 },
 "nbformat": 4,
 "nbformat_minor": 1
}
