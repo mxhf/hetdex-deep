{
 "cells": [
  {
   "cell_type": "code",
   "execution_count": 41,
   "metadata": {},
   "outputs": [
    {
     "data": {
      "text/html": [
       "<style>.container { width:100% !important; }</style>"
      ],
      "text/plain": [
       "<IPython.core.display.HTML object>"
      ]
     },
     "metadata": {},
     "output_type": "display_data"
    }
   ],
   "source": [
    "# go wide screen\n",
    "from IPython.core.display import display, HTML\n",
    "display(HTML(\"<style>.container { width:100% !important; }</style>\"))"
   ]
  },
  {
   "cell_type": "code",
   "execution_count": 42,
   "metadata": {},
   "outputs": [],
   "source": [
    "import numpy as np\n",
    "import spectrum\n",
    "import math\n",
    "\n",
    "\n",
    "from astropy.io import fits\n",
    "import spectrum\n",
    "from matplotlib import pyplot as plt\n",
    "import numpy as np\n",
    "from astropy.stats import biweight_midvariance as bwtmv\n",
    "import argparse\n",
    "import sys\n"
   ]
  },
  {
   "cell_type": "code",
   "execution_count": 43,
   "metadata": {},
   "outputs": [],
   "source": [
    "%matplotlib inline"
   ]
  },
  {
   "cell_type": "code",
   "execution_count": 44,
   "metadata": {},
   "outputs": [],
   "source": [
    "from matplotlib import pyplot as plt"
   ]
  },
  {
   "cell_type": "code",
   "execution_count": 45,
   "metadata": {},
   "outputs": [],
   "source": [
    "from astropy.io import ascii"
   ]
  },
  {
   "cell_type": "code",
   "execution_count": 46,
   "metadata": {},
   "outputs": [],
   "source": [
    "#generic gaussian\n",
    "def gauss(sigma, xsq, norm=True):\n",
    "    if norm:\n",
    "        return 1./(sigma * np.sqrt(2. * np.pi) ) * np.exp( -xsq/(2. * sigma**2.))\n",
    "    else:\n",
    "        return np.exp( -xsq/(2. * sigma**2.))\n",
    "\n",
    "\n",
    "def gauss3D(xc, yc, zc, sigmaxy, sigmaz, XX, YY, ZZ):\n",
    "    RRSQ = (XX - xc)**2 + (YY - yc)**2 \n",
    "    g = gauss(sigmaxy, RRSQ, norm=True) * gauss(sigmaz, (ZZ - zc)**2., norm=True)\n",
    "    return g\n"
   ]
  },
  {
   "cell_type": "code",
   "execution_count": 47,
   "metadata": {},
   "outputs": [],
   "source": [
    "from scipy.optimize import least_squares\n",
    "\n",
    "fit_iteration_count = 0\n",
    "\n",
    "def peval(p, XX, YY, ZZ):\n",
    "    A, xc, yc, zc, sigmaxy, sigmaz = p\n",
    "    g = gauss3D(xc, yc, zc, sigmaxy, sigmaz, XX, YY, ZZ) /  2.5066\n",
    "    #g = g/np.sum(g)\n",
    "    model = A * g\n",
    "    #print(\"X\", np.sum(g), np.sum(model))\n",
    "    return model\n",
    "\n",
    "def resid(p, XX, YY, ZZ, CC, EE, ii, DEBUG=False): \n",
    "    global fit_iteration_count\n",
    "    model = peval(p, XX[ii], YY[ii], ZZ[ii])\n",
    "    A, xc, yc, zc, sigmaxy, sigmaz = p\n",
    "    res = (CC[ii] - model)/EE[ii]\n",
    "    if DEBUG:\n",
    "        print( A, xc, yc, zc, sigmaxy, sigmaz, np.sum(res**2.) /np.sum(ii) )\n",
    "    fit_iteration_count += 1\n",
    "    return res\n",
    "    \n",
    "def rchisq(p, XX, YY, ZZ, CC, EE, ii):\n",
    "    \"\"\"\n",
    "    Compute reduced chisq.\n",
    "    \"\"\"\n",
    "    model = peval(p, XX[ii], YY[ii], ZZ[ii])\n",
    "    A, xc, yc, zc, sigmaxy, sigmaz = p\n",
    "    res = (CC[ii] - model)/EE[ii]\n",
    "    return np.sum(res**2.)/(np.sum(ii) - len(p))"
   ]
  },
  {
   "cell_type": "code",
   "execution_count": 48,
   "metadata": {},
   "outputs": [],
   "source": [
    "# Contrals if the segmantation map shoudl be used\n",
    "# to resirict the fit to the segmented pixels.\n",
    "USEMAP = True\n",
    "\n",
    "# Debug mode\n",
    "DEBUG = True\n",
    "\n",
    "\n",
    "dxmax = 4.\n",
    "dymax = 4.\n",
    "dzmax = 10.\n"
   ]
  },
  {
   "cell_type": "code",
   "execution_count": 73,
   "metadata": {},
   "outputs": [],
   "source": [
    "fcube = \"../data/sfgama09Efin_013.fits.gz\"\n",
    "fnoisemodel = \"../data/sfgama09Efin_013.detect_noise_model\"\n",
    "fcatalog = \"../data/sfgama09Efin_013.cat\"\n",
    "fmap = \"../data/mapgama09Efin_013.fits.gz\""
   ]
  },
  {
   "cell_type": "code",
   "execution_count": 50,
   "metadata": {},
   "outputs": [
    {
     "name": "stdout",
     "output_type": "stream",
     "text": [
      "Reading datacube ../data/sfgama09Ffin_078.fits.gz ...\n"
     ]
    }
   ],
   "source": [
    "print(\"Reading datacube {} ...\".format(fcube))\n",
    "c = spectrum.readSpectrum(fcube)"
   ]
  },
  {
   "cell_type": "code",
   "execution_count": 51,
   "metadata": {},
   "outputs": [
    {
     "name": "stdout",
     "output_type": "stream",
     "text": [
      "Reading map ../data/sfgama09Ffin_078.fits.gz ...\n"
     ]
    }
   ],
   "source": [
    "if USEMAP:\n",
    "    print(\"Reading map {} ...\".format(fcube))\n",
    "    m = spectrum.readSpectrum(fmap)"
   ]
  },
  {
   "cell_type": "code",
   "execution_count": 52,
   "metadata": {},
   "outputs": [
    {
     "name": "stdout",
     "output_type": "stream",
     "text": [
      "Reading noisemodel ../data/sfgama09Ffin_078.detect_noise_model ...\n"
     ]
    }
   ],
   "source": [
    "print(\"Reading noisemodel {} ...\".format(fnoisemodel))\n",
    "with open(fnoisemodel) as f:\n",
    "    ll = f.readlines()\n",
    "p = [float(l) for l in ll]\n",
    "\n",
    "wl = c.grid()"
   ]
  },
  {
   "cell_type": "code",
   "execution_count": 53,
   "metadata": {},
   "outputs": [
    {
     "name": "stdout",
     "output_type": "stream",
     "text": [
      "Reading catalog ../data/sfgama09Ffin_078.cat ...\n"
     ]
    }
   ],
   "source": [
    "print(\"Reading catalog {} ...\".format(fcatalog))\n",
    "t = ascii.read(fcatalog)"
   ]
  },
  {
   "cell_type": "code",
   "execution_count": 54,
   "metadata": {},
   "outputs": [],
   "source": [
    "# I am sure her is better ways to do this...\n",
    "# here we evaluate the noise model at every wavelngth (= slice) and \n",
    "# create a cube where each slice contans that value\n",
    "WW = np.ones_like(c.data)\n",
    "\n",
    "for i in range(len(wl)):\n",
    "    WW[i] = WW[i] * wl[i]\n",
    "    \n",
    "EE = np.polyval(p,WW)"
   ]
  },
  {
   "cell_type": "code",
   "execution_count": 55,
   "metadata": {},
   "outputs": [],
   "source": [
    "# build meshgrids for easy numerical navigation through the cubes\n",
    "xx = np.arange(c.data.shape[2])\n",
    "yy = np.arange(c.data.shape[1])\n",
    "zz = np.arange(c.data.shape[0])\n",
    "\n",
    "YY,ZZ,XX = np.meshgrid(yy, zz, xx)"
   ]
  },
  {
   "cell_type": "code",
   "execution_count": 56,
   "metadata": {
    "scrolled": false
   },
   "outputs": [
    {
     "name": "stdout",
     "output_type": "stream",
     "text": [
      "Fitting gaussian model to source 122 ...\n",
      "    Initial guesses are:  [2.3572, 24.54, 77.21, 517.27, 1.1122156180891811, 4.55]\n",
      "   Bestfit parameters after 49 iterations are:  [ 11.28579734  23.70628855  78.23496272 516.52040775   3.43026268\n",
      "   9.37970637]\n",
      "   Reduced chisq is: 0.20132335313665908\n"
     ]
    },
    {
     "data": {
      "image/png": "[encoded data removed]",
      "text/plain": [
       "<Figure size 216x720 with 51 Axes>"
      ]
     },
     "metadata": {
      "needs_background": "light"
     },
     "output_type": "display_data"
    }
   ],
   "source": [
    "for r in t[t['id'] == 122]:\n",
    "    \n",
    "    id = r[\"id\"]\n",
    "    print(\"Fitting gaussian model to source {} ...\".format(id))\n",
    "    \n",
    "    x_com, y_com, z_com = r[\"x_com\"], r[\"y_com\"], r[\"z_com\"]\n",
    "    xmin, ymin, zmin = r[\"xmin\"], r[\"ymin\"], r[\"zmin\"]\n",
    "    xmax, ymax, zmax = r[\"xmax\"], r[\"ymax\"], r[\"zmax\"]\n",
    "    dx, dy, dz = r[\"dx\"], r[\"dy\"], r[\"dz\"]\n",
    "    counts = r[\"counts\"]\n",
    "\n",
    "    if (xmax-xmin) < 4:\n",
    "        print(\"   x extend is less than 5. Skipping ....\")\n",
    "        continue\n",
    "    \n",
    "    if (ymax-ymin) < 4:\n",
    "        print(\"   y extend is less than 5. Skipping ....\")\n",
    "        continue\n",
    "    \n",
    "    if (zmax-zmin) < 4:\n",
    "        print(\"   z extend is less than 5. Skipping ....\")\n",
    "        continue\n",
    "    \n",
    "    if dx > dxmax:\n",
    "        print(\"   dx = {} is larger than threshold {}. Skipping ....\".format(dx, dxmax))\n",
    "        continue\n",
    "    if dy > dymax:\n",
    "        print(\"   dy = {} is larger than threshold {}. Skipping ....\".format(dy, dymax))\n",
    "        continue\n",
    "    if dz > dzmax:\n",
    "        print(\"   dz = {} is larger than threshold {}. Skipping ....\".format(dz, dzmax))\n",
    "        continue\n",
    "\n",
    "\n",
    "    if not USEMAP:\n",
    "        ii  = XX >= xmin\n",
    "        ii *= XX <= xmax\n",
    "        ii *= YY >= ymin\n",
    "        ii *= YY <= ymax\n",
    "        ii *= ZZ >= zmin\n",
    "        ii *= ZZ <= zmax\n",
    "    else:\n",
    "        ii = m.data == id\n",
    "    #model = gauss3D(x_com, y_com, z_com, np.sqrt(dx**2. + dy**2.), dz, XX, YY, ZZ)\n",
    "\n",
    "    sigmaxy = np.sqrt(dx**2. + dy**2.)/1.414\n",
    "\n",
    "    p0 = [counts, x_com, y_com, z_com, sigmaxy, dz]\n",
    "    print(\"    Initial guesses are: \", p0)\n",
    "    #model = peval(p0, XX, YY, ZZ)\n",
    "\n",
    "\n",
    "    CC = c.data\n",
    "    #EE = np.ones_like(c.data)*2.5e-3\n",
    "    #try:\n",
    "    bestfit = least_squares(resid, p0, args=(XX, YY, ZZ, CC, EE, ii))\n",
    "\n",
    "    model = peval(bestfit.x, XX, YY, ZZ)\n",
    "\n",
    "    print(\"   Bestfit parameters after {} iterations are: \".format(fit_iteration_count), bestfit.x)\n",
    "    print(\"   Reduced chisq is: {}\".format(rchisq(bestfit.x, XX, YY, ZZ, CC, EE, ii)))\n",
    "\n",
    "    if DEBUG:\n",
    "        # peak in pixel counts\n",
    "        cnts_max = np.nanmax(c.data[int(z_com)][ymin:ymax,xmin:xmax])\n",
    "        N = zmax-zmin\n",
    "        f = plt.figure(figsize=[3,10])\n",
    "        for i, z in enumerate( range(zmin,zmax) ):\n",
    "            plt.subplot(N, 3, i*3+1)\n",
    "            plt.imshow( c.data[z][ymin:ymax,xmin:xmax], vmin=0, vmax=cnts_max )\n",
    "\n",
    "            plt.subplot(N, 3, i*3+2)\n",
    "            plt.imshow( model[z][ymin:ymax,xmin:xmax], vmin=0, vmax=cnts_max )\n",
    "\n",
    "            plt.subplot(N, 3, i*3+3)\n",
    "            plt.imshow( c.data[z][ymin:ymax,xmin:xmax] - model[z][ymin:ymax,xmin:xmax], vmin=-cnts_max/10., vmax=cnts_max/10.  )\n",
    "        plt.show()\n",
    "    #except:\n",
    "    #    print(\"    Fit failed.\")\n"
   ]
  },
  {
   "cell_type": "code",
   "execution_count": 34,
   "metadata": {},
   "outputs": [
    {
     "name": "stdout",
     "output_type": "stream",
     "text": [
      "0.9914 168.55 291.97 449.5 1.4594839115841696 1.39 4.1866182056384575\n"
     ]
    },
    {
     "data": {
      "text/plain": [
       "array([ 3.24734808,  2.77091635,  1.84382568,  2.77231999,  0.35062295,\n",
       "        0.76272627,  2.04765712,  2.742666  ,  1.03227099, -0.47666361,\n",
       "       -0.12674989,  1.38911924,  2.47732421,  1.43885334,  0.09167019,\n",
       "        0.05137985,  1.11782288, -1.52458525, -0.84638311,  1.40613924,\n",
       "        2.82726982,  2.67542399, -0.53226717, -2.5423161 , -1.86274389,\n",
       "        0.82130675,  2.63800086,  0.39549993, -1.31006172, -1.11846358,\n",
       "        0.80685945,  0.58444122,  1.80362334,  2.65064189, -2.09278427,\n",
       "       -1.62570424,  0.59543837,  2.10680285, -0.84452199, -3.0093934 ,\n",
       "       -2.55299303,  0.15438091,  2.13374851,  2.25486455,  0.38360951,\n",
       "       -1.41590344, -1.35512685,  0.61750458,  2.50838236,  1.79556801,\n",
       "        0.80905453,  2.69854049,  2.47715994,  2.04091849,  2.5897235 ,\n",
       "        2.74822926,  2.25332178,  2.77764241,  3.48193556,  3.28053417,\n",
       "        2.74317332,  2.97867155,  3.11555145,  2.65253567,  2.72892823,\n",
       "        3.00893199])"
      ]
     },
     "execution_count": 34,
     "metadata": {},
     "output_type": "execute_result"
    }
   ],
   "source": [
    "resid(p0, XX, YY, ZZ, CC, EE, ii, DEBUG=True)"
   ]
  },
  {
   "cell_type": "code",
   "execution_count": 71,
   "metadata": {},
   "outputs": [
    {
     "data": {
      "text/plain": [
       "58"
      ]
     },
     "execution_count": 71,
     "metadata": {},
     "output_type": "execute_result"
    }
   ],
   "source": [
    "len(t)"
   ]
  },
  {
   "cell_type": "code",
   "execution_count": 35,
   "metadata": {},
   "outputs": [
    {
     "data": {
      "text/plain": [
       "array([[0.01188249, 0.01321841, 0.01430559, 0.01506216, 0.01542848,\n",
       "        0.01537495, 0.01490593],\n",
       "       [0.01229344, 0.01367556, 0.01480035, 0.01558307, 0.01596206,\n",
       "        0.01590668, 0.01542144],\n",
       "       [0.01237354, 0.01376467, 0.01489678, 0.01568461, 0.01606607,\n",
       "        0.01601033, 0.01552193],\n",
       "       [0.01211628, 0.01347849, 0.01458706, 0.01535851, 0.01573204,\n",
       "        0.01567746, 0.01519921],\n",
       "       [0.01154248, 0.01284018, 0.01389626, 0.01463117, 0.01498701,\n",
       "        0.01493501, 0.01447941]])"
      ]
     },
     "execution_count": 35,
     "metadata": {},
     "output_type": "execute_result"
    }
   ],
   "source": [
    "model[z][ymin:ymax,xmin:xmax]"
   ]
  },
  {
   "cell_type": "code",
   "execution_count": 39,
   "metadata": {},
   "outputs": [
    {
     "data": {
      "text/plain": [
       "<matplotlib.image.AxesImage at 0x7f7f12f4a978>"
      ]
     },
     "execution_count": 39,
     "metadata": {},
     "output_type": "execute_result"
    },
    {
     "data": {
      "image/png": "[encoded data removed]",
      "text/plain": [
       "<Figure size 432x288 with 1 Axes>"
      ]
     },
     "metadata": {
      "needs_background": "light"
     },
     "output_type": "display_data"
    }
   ],
   "source": [
    "plt.imshow( EE[z][ymin:ymax,xmin:xmax], vmin=0, vmax=cnts_max )"
   ]
  },
  {
   "cell_type": "code",
   "execution_count": 40,
   "metadata": {},
   "outputs": [
    {
     "data": {
      "text/plain": [
       "array([[0.00423942, 0.00423942, 0.00423942, 0.00423942, 0.00423942,\n",
       "        0.00423942, 0.00423942],\n",
       "       [0.00423942, 0.00423942, 0.00423942, 0.00423942, 0.00423942,\n",
       "        0.00423942, 0.00423942],\n",
       "       [0.00423942, 0.00423942, 0.00423942, 0.00423942, 0.00423942,\n",
       "        0.00423942, 0.00423942],\n",
       "       [0.00423942, 0.00423942, 0.00423942, 0.00423942, 0.00423942,\n",
       "        0.00423942, 0.00423942],\n",
       "       [0.00423942, 0.00423942, 0.00423942, 0.00423942, 0.00423942,\n",
       "        0.00423942, 0.00423942]])"
      ]
     },
     "execution_count": 40,
     "metadata": {},
     "output_type": "execute_result"
    }
   ],
   "source": [
    "EE[z][ymin:ymax,xmin:xmax]"
   ]
  },
  {
   "cell_type": "code",
   "execution_count": 74,
   "metadata": {},
   "outputs": [
    {
     "name": "stdout",
     "output_type": "stream",
     "text": [
      "Fitting gaussian model to source 20 ...\n",
      "   x extend is less than 5. Skipping ....\n"
     ]
    }
   ],
   "source": [
    "fit_iteration_count = 0\n",
    "\n",
    "#generic gaussian\n",
    "def gauss(sigma, xsq, norm=True):\n",
    "    if norm:\n",
    "        return 1./(sigma * np.sqrt(2. * np.pi) ) * np.exp( -xsq/(2. * sigma**2.))\n",
    "    else:\n",
    "        return np.exp( -xsq/(2. * sigma**2.))\n",
    "\n",
    "\n",
    "def gauss3D(xc, yc, zc, sigmaxy, sigmaz, XX, YY, ZZ):\n",
    "    RRSQ = (XX - xc)**2 + (YY - yc)**2 \n",
    "    g = gauss(sigmaxy, RRSQ, norm=True) * gauss(sigmaz, (ZZ - zc)**2., norm=True)\n",
    "    return g\n",
    "\n",
    "\n",
    "fit_iteration_count = 0\n",
    "\n",
    "def peval(p, XX, YY, ZZ):\n",
    "    A, xc, yc, zc, sigmaxy, sigmaz = p\n",
    "    g = gauss3D(xc, yc, zc, sigmaxy, sigmaz, XX, YY, ZZ) /  2.5066\n",
    "    #g = g/np.sum(g)\n",
    "    model = A * g\n",
    "    #print(\"X\", np.sum(g), np.sum(model))\n",
    "    return model\n",
    "\n",
    "def resid(p, XX, YY, ZZ, CC, EE, ii, DEBUG=False): \n",
    "    global fit_iteration_count\n",
    "    fit_iteration_count += 1\n",
    "    model = peval(p, XX[ii], YY[ii], ZZ[ii])\n",
    "    A, xc, yc, zc, sigmaxy, sigmaz = p\n",
    "    res = (CC[ii] - model)/EE[ii]\n",
    "    if DEBUG:\n",
    "        print( A, xc, yc, zc, sigmaxy, sigmaz, np.sum(res**2.) /np.sum(ii) )\n",
    "    return res\n",
    "    \n",
    "def rchisq(p, XX, YY, ZZ, CC, EE, ii, model=\"none\"):\n",
    "    \"\"\"\n",
    "    Compute reduced chisq.\n",
    "    \"\"\"\n",
    "    if type(model) == type(None):\n",
    "        _model = peval(p, XX[ii], YY[ii], ZZ[ii])\n",
    "    else:\n",
    "        _model = model[ii]\n",
    "    A, xc, yc, zc, sigmaxy, sigmaz = p\n",
    "    res = (CC[ii] - _model)/EE[ii]\n",
    "    return np.sum(res**2.)/(np.sum(ii) - len(p))\n",
    "\n",
    "\n",
    "def fit_pointsource(id, x_com, y_com, z_com, xmin, ymin, zmin, xmax, ymax, zmax, dx, dy, dz, counts,\\\n",
    "                    CC, MM, EE, USEMAP, DEBUG, max_nfev=5000):\n",
    "    global fit_iteration_count\n",
    "\n",
    "    if not USEMAP:\n",
    "        ii  = XX >= xmin\n",
    "        ii *= XX <= xmax\n",
    "        ii *= YY >= ymin\n",
    "        ii *= YY <= ymax\n",
    "        ii *= ZZ >= zmin\n",
    "        ii *= ZZ <= zmax\n",
    "    else:\n",
    "        ii = MM == id\n",
    "\n",
    "    sigmaxy = np.sqrt(dx**2. + dy**2.)/1.414\n",
    "\n",
    "    p0 = [counts, x_com, y_com, z_com, sigmaxy, dz]\n",
    "    print(\"    Initial guesses are: \", p0)\n",
    "\n",
    "    \n",
    "\n",
    "    bestfit = least_squares(resid, p0, args=(XX, YY, ZZ, CC, EE, ii, DEBUG), max_nfev=max_nfev)\n",
    "\n",
    "    model = peval(bestfit.x, XX, YY, ZZ)\n",
    "\n",
    "    if DEBUG:\n",
    "        # peak in pixel counts\n",
    "        cnts_max = np.nanmax(CC[int(z_com)][ymin:ymax,xmin:xmax])\n",
    "        N = zmax-zmin\n",
    "        f = plt.figure(figsize=[3,10])\n",
    "        for i, z in enumerate( range(zmin,zmax) ):\n",
    "            plt.subplot(N, 3, i*3+1)\n",
    "            plt.imshow( CC[z][ymin:ymax,xmin:xmax], vmin=0, vmax=cnts_max )\n",
    "\n",
    "            plt.subplot(N, 3, i*3+2)\n",
    "            plt.imshow( model[z][ymin:ymax,xmin:xmax], vmin=0, vmax=cnts_max )\n",
    "\n",
    "            plt.subplot(N, 3, i*3+3)\n",
    "            plt.imshow( CC[z][ymin:ymax,xmin:xmax] - model[z][ymin:ymax,xmin:xmax], \\\n",
    "                       vmin=-cnts_max/10., vmax=cnts_max/10.  )\n",
    "        #plt.show()\n",
    "        f.tight_layout(figsize=[20,10])\n",
    "        plt.savefig(\"fit_pointsource.pdf\")\n",
    "        \n",
    "    return bestfit\n",
    "\n",
    "\n",
    "for r in t[t['id'] == 20]:\n",
    "    \n",
    "    id = r[\"id\"]\n",
    "    print(\"Fitting gaussian model to source {} ...\".format(id))\n",
    "    \n",
    "    x_com, y_com, z_com = r[\"x_com\"], r[\"y_com\"], r[\"z_com\"]\n",
    "    xmin, ymin, zmin = r[\"xmin\"], r[\"ymin\"], r[\"zmin\"]\n",
    "    xmax, ymax, zmax = r[\"xmax\"], r[\"ymax\"], r[\"zmax\"]\n",
    "    dx, dy, dz = r[\"dx\"], r[\"dy\"], r[\"dz\"]\n",
    "    counts = r[\"counts\"]\n",
    "\n",
    "    if (xmax-xmin) < 4:\n",
    "        print(\"   x extend is less than 5. Skipping ....\")\n",
    "        continue\n",
    "    \n",
    "    if (ymax-ymin) < 4:\n",
    "        print(\"   y extend is less than 5. Skipping ....\")\n",
    "        continue\n",
    "    \n",
    "    if (zmax-zmin) < 4:\n",
    "        print(\"   z extend is less than 5. Skipping ....\")\n",
    "        continue\n",
    "    \n",
    "    if dx > dxmax:\n",
    "        print(\"   dx = {} is larger than threshold {}. Skipping ....\".format(dx, dxmax))\n",
    "        continue\n",
    "    if dy > dymax:\n",
    "        print(\"   dy = {} is larger than threshold {}. Skipping ....\".format(dy, dymax))\n",
    "        continue\n",
    "    if dz > dzmax:\n",
    "        print(\"   dz = {} is larger than threshold {}. Skipping ....\".format(dz, dzmax))\n",
    "        continue\n",
    "\n",
    "\n",
    "    if not USEMAP:\n",
    "        print(\"Not using map.\")\n",
    "        ii  = XX >= xmin\n",
    "        ii *= XX <= xmax\n",
    "        ii *= YY >= ymin\n",
    "        ii *= YY <= ymax\n",
    "        ii *= ZZ >= zmin\n",
    "        ii *= ZZ <= zmax\n",
    "    else:\n",
    "        ii = m.data == id\n",
    "    print(\"{} sum(ii) = {}\".format(id, np.sum(ii)))\n",
    "    #model = gauss3D(x_com, y_com, z_com, np.sqrt(dx**2. + dy**2.), dz, XX, YY, ZZ)\n",
    "\n",
    "    sigmaxy = np.sqrt(dx**2. + dy**2.)/1.414\n",
    "\n",
    "    p0 = [counts, x_com, y_com, z_com, sigmaxy, dz]\n",
    "\n",
    "\n",
    "    CC = c.data\n",
    "\n",
    "    print(\"fit_pointsource\", r, x_com, y_com, z_com, xmin, ymin, zmin, xmax, ymax, zmax, dx, dy, dz, counts,\\\n",
    "                CC, m.data, EE, True, True)\n",
    "    p = fit_pointsource(r, x_com, y_com, z_com, xmin, ymin, zmin, xmax, ymax, zmax, dx, dy, dz, counts,\\\n",
    "                CC, m.data, EE, True, True)\n",
    "    \n",
    "    if not bestfit.success:\n",
    "        print(\"    Fit failed.\")\n",
    "    else:\n",
    "        p = bestfit.x\n",
    "        print(\"P: \", p)\n",
    "        psfit_cnts, psfit_xc, psfit_yc, psfit_zc, psfit_sigxy, psfit_sigz = p\n",
    "        # integrate model\n",
    "        model = peval(p, XX, YY, ZZ)\n",
    "        psfit_rchisq = rchisq(p, XX, YY, ZZ, CC, EE, ii, model=model)\n",
    "\n",
    "        print(\"   Bestfit parameters after {} iterations are: \".format(fit_iteration_count), p)\n",
    "        print(\"   Reduced chisq is: {}\".format(psfit_rchisq) )\n",
    "\n",
    "        fit_iteration_count = 0\n"
   ]
  },
  {
   "cell_type": "code",
   "execution_count": null,
   "metadata": {},
   "outputs": [],
   "source": []
  }
 ],
 "metadata": {
  "kernelspec": {
   "display_name": "Python 3",
   "language": "python",
   "name": "python3"
  },
  "language_info": {
   "codemirror_mode": {
    "name": "ipython",
    "version": 3
   },
   "file_extension": ".py",
   "mimetype": "text/x-python",
   "name": "python",
   "nbconvert_exporter": "python",
   "pygments_lexer": "ipython3",
   "version": "3.7.0"
  }
 },
 "nbformat": 4,
 "nbformat_minor": 2
}
