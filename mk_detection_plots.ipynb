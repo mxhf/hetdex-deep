{
 "cells": [
  {
   "cell_type": "code",
   "execution_count": 1,
   "metadata": {},
   "outputs": [
    {
     "name": "stdout",
     "output_type": "stream",
     "text": [
      "/Users/mxhf/work/MPE/hetdex/src/deep_and_repeat/COSMOS\r\n"
     ]
    }
   ],
   "source": [
    "!pwd"
   ]
  },
  {
   "cell_type": "code",
   "execution_count": 2,
   "metadata": {},
   "outputs": [
    {
     "data": {
      "text/html": [
       "<style>.container { width:100% !important; }</style>"
      ],
      "text/plain": [
       "<IPython.core.display.HTML object>"
      ]
     },
     "metadata": {},
     "output_type": "display_data"
    }
   ],
   "source": [
    "# go wide screen\n",
    "from IPython.core.display import display, HTML\n",
    "display(HTML(\"<style>.container { width:100% !important; }</style>\"))"
   ]
  },
  {
   "cell_type": "markdown",
   "metadata": {},
   "source": [
    "# Generate Plots"
   ]
  },
  {
   "cell_type": "code",
   "execution_count": 5,
   "metadata": {
    "collapsed": true
   },
   "outputs": [],
   "source": [
    "import matplotlib.pyplot as plt\n",
    "import numpy as np\n",
    "from mpl_toolkits.mplot3d import Axes3D\n",
    "% matplotlib inline\n",
    "\n",
    "import spectrum\n",
    "from astropy.io import ascii\n",
    "from astropy.io import fits\n",
    "from scipy import interpolate\n",
    "import numpy\n",
    "from matplotlib import pyplot as plot\n",
    "import skimage.morphology\n",
    "from scipy.optimize import least_squares\n",
    "from astropy.stats import biweight_location\n",
    "import numpy as np\n",
    "from astropy.table import Table, Column"
   ]
  },
  {
   "cell_type": "code",
   "execution_count": 6,
   "metadata": {
    "collapsed": true
   },
   "outputs": [],
   "source": [
    "from IPython.parallel import Client\n",
    "c = Client()\n",
    "lv = c.load_balanced_view()   # this object represents the engines (workers)"
   ]
  },
  {
   "cell_type": "code",
   "execution_count": 14,
   "metadata": {},
   "outputs": [
    {
     "name": "stdout",
     "output_type": "stream",
     "text": [
      "45\n"
     ]
    }
   ],
   "source": [
    "field = \"COSMOSD\"\n",
    "ifu_list = np.sort( ascii.read(\"ifu_list_{}.txt\".format(field))['ifu'] )\n",
    "\n",
    "print(len(ifu_list))"
   ]
  },
  {
   "cell_type": "code",
   "execution_count": 15,
   "metadata": {},
   "outputs": [
    {
     "name": "stdout",
     "output_type": "stream",
     "text": [
      "0\n",
      "0\n",
      "0\n",
      "0\n",
      "0\n",
      "0\n",
      "0\n",
      "0\n",
      "0\n",
      "0\n",
      "0\n",
      "0\n",
      "0\n",
      "0\n",
      "256\n",
      "0\n",
      "0\n",
      "0\n",
      "0\n",
      "0\n",
      "0\n",
      "0\n",
      "0\n",
      "0\n",
      "0\n",
      "0\n",
      "0\n",
      "0\n",
      "0\n",
      "256\n",
      "0\n",
      "0\n",
      "0\n",
      "0\n",
      "256\n",
      "0\n",
      "0\n",
      "0\n",
      "0\n",
      "0\n",
      "256\n",
      "0\n",
      "0\n",
      "0\n",
      "0\n"
     ]
    }
   ],
   "source": [
    "def mk_detection_plots(field, ifu, DRYRUN=True):\n",
    "    import os\n",
    "    cmd=\"python mk_detection_plots.py -f {} -i {:03d}\".format(field, ifu)\n",
    "    #cmd=\"ls\"\n",
    "    if DRYRUN:\n",
    "        return cmd\n",
    "    \n",
    "    return os.system( cmd )\n",
    "\n",
    "\n",
    "tasks = []\n",
    "for ifu in ifu_list:\n",
    "    tasks.append(lv.apply(mk_detection_plots, field, ifu))\n",
    "result = [task.get() for task in tasks]  # blocks until all results are back\n",
    "\n",
    "for r in result:\n",
    "    print(r)"
   ]
  },
  {
   "cell_type": "code",
   "execution_count": 1,
   "metadata": {},
   "outputs": [
    {
     "name": "stdout",
     "output_type": "stream",
     "text": [
      "/Users/mxhf/ownCloudRZG/work/MPE/hetdex/src/deep_and_repeat/COSMOS/src\r\n"
     ]
    }
   ],
   "source": [
    "!pwd"
   ]
  },
  {
   "cell_type": "code",
   "execution_count": null,
   "metadata": {},
   "outputs": [],
   "source": []
  }
 ],
 "metadata": {
  "kernelspec": {
   "display_name": "Python 3",
   "language": "python",
   "name": "python3"
  },
  "language_info": {
   "codemirror_mode": {
    "name": "ipython",
    "version": 3
   },
   "file_extension": ".py",
   "mimetype": "text/x-python",
   "name": "python",
   "nbconvert_exporter": "python",
   "pygments_lexer": "ipython3",
   "version": "3.6.8"
  }
 },
 "nbformat": 4,
 "nbformat_minor": 2
}
