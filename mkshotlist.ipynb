{
 "cells": [
  {
   "cell_type": "code",
   "execution_count": 1,
   "metadata": {},
   "outputs": [],
   "source": [
    "%matplotlib inline\n",
    "import sys\n",
    "import os\n",
    "import os.path\n",
    "import subprocess\n",
    "import numpy as np\n",
    "\n",
    "import tables as tb\n",
    "import matplotlib.pyplot as plt\n",
    "from matplotlib.colors import LogNorm\n",
    "from astropy.visualization import ZScaleInterval\n",
    "from astropy.table import Table, vstack, Column\n",
    "from astropy.io import ascii\n",
    "\n",
    "from datetime import datetime\n",
    "\n",
    "import glob\n",
    "\n",
    "from astropy.table import unique"
   ]
  },
  {
   "cell_type": "markdown",
   "metadata": {},
   "source": [
    "# create shotlist"
   ]
  },
  {
   "cell_type": "code",
   "execution_count": 2,
   "metadata": {},
   "outputs": [],
   "source": [
    "# now load survey file, such that we can select shot that fullfill certain criteria, such as expsure time etc.\n",
    "import sys\n",
    "sys.path.append('/home1/04287/mxhf/HETDEX_API/')\n",
    "\n",
    "from hetdex_api.survey import Survey\n",
    "survey = Survey('hdr2')\n",
    "thdr1 = Table(survey.hdfile.root.Survey[:])\n",
    "\n",
    "uhdr1shotids  = np.unique( thdr1[\"datevobs\"] )"
   ]
  },
  {
   "cell_type": "code",
   "execution_count": 7,
   "metadata": {},
   "outputs": [
    {
     "name": "stderr",
     "output_type": "stream",
     "text": [
      "WARNING: AstropyDeprecationWarning: /work/04287/mxhf/maverick/hetdex/shotlist_hdr2.txt already exists. Automatically overwriting ASCII files is deprecated. Use the argument 'overwrite=True' in the future. [astropy.io.ascii.ui]\n"
     ]
    }
   ],
   "source": [
    "Table([uhdr1shotids]).write(\"/work/04287/mxhf/maverick/hetdex/shotlist_hdr2.txt\", format=\"ascii\")"
   ]
  },
  {
   "cell_type": "code",
   "execution_count": null,
   "metadata": {},
   "outputs": [],
   "source": []
  }
 ],
 "metadata": {
  "kernelspec": {
   "display_name": "Python 3",
   "language": "python",
   "name": "python3"
  },
  "language_info": {
   "codemirror_mode": {
    "name": "ipython",
    "version": 3
   },
   "file_extension": ".py",
   "mimetype": "text/x-python",
   "name": "python",
   "nbconvert_exporter": "python",
   "pygments_lexer": "ipython3",
   "version": "3.7.0"
  }
 },
 "nbformat": 4,
 "nbformat_minor": 2
}
