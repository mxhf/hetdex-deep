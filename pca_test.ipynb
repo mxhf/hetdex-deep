{
 "cells": [
  {
   "cell_type": "code",
   "execution_count": 6,
   "id": "fb44d41a",
   "metadata": {},
   "outputs": [
    {
     "name": "stdout",
     "output_type": "stream",
     "text": [
      "[0.87583658 0.07169803 0.05246538]\n",
      "[359.7221436  102.92224633  88.04243645]\n",
      "[-0.70975908 -0.70421732 -0.01788924] [ 0.3927774  -0.37453203 -0.83991171] [-0.58478027  0.60316145 -0.54242815]\n",
      "c 0.00: min = -145.91 max = 0.13 biweight_loc = -77.20 biweight_midvariance = 39.29\n",
      "c 1.00: min = -19.92 max = 29.69 biweight_loc = 0.99 biweight_midvariance = 11.30\n",
      "c 2.00: min = -18.71 max = 23.87 biweight_loc = 1.69 biweight_midvariance = 9.50\n"
     ]
    }
   ],
   "source": [
    "import numpy as np\n",
    "from sklearn.decomposition import PCA\n",
    "%matplotlib inline\n",
    "from matplotlib import pyplot as plt\n",
    "\n",
    "\n",
    "xs = np.arange(10,100,1.)\n",
    "ys = 1.*xs\n",
    "zs = 0.*xs\n",
    "xs += np.random.normal(size=len(xs),scale=10.)\n",
    "ys += np.random.normal(size=len(ys),scale=10.)\n",
    "zs += np.random.normal(size=len(zs),scale=10.)\n",
    "\n",
    "kk = xs > -1000.\n",
    "\n",
    "from sklearn.decomposition import PCA\n",
    "\n",
    "n_components = 3\n",
    "pca = PCA(n_components=n_components)\n",
    "M = np.array( [xs[kk], ys[kk], zs[kk]]).T\n",
    "pca.fit( M )\n",
    "\n",
    "\n",
    "print(pca.explained_variance_ratio_)\n",
    "print(pca.singular_values_)\n",
    "\n",
    "print(pca.components_[0] , pca.components_[1] , pca.components_[2] )\n",
    "\n",
    "from astropy.stats import biweight_location, biweight_midvariance\n",
    "\n",
    "ranges = []\n",
    "kappa = 2.\n",
    "for i in range(n_components):\n",
    "    \n",
    "    P = M.dot( pca.components_[i] )\n",
    "    x, dx = biweight_location(P), np.sqrt((biweight_midvariance(P)))\n",
    "    vmin, vmax = np.min(P), np.max(P)\n",
    "    print(\"c {:.2f}: min = {:.2f} max = {:.2f} biweight_loc = {:.2f} biweight_midvariance = {:.2f}\".format(i, vmin, vmax, x, dx) )\n",
    "    ranges.append( [x-kappa*dx, x+kappa*dx])"
   ]
  },
  {
   "cell_type": "code",
   "execution_count": 27,
   "id": "38639c15",
   "metadata": {},
   "outputs": [
    {
     "data": {
      "text/plain": [
       "(-23.377899356441713,\n",
       " 122.06745257468803,\n",
       " -21.849128739815598,\n",
       " 116.42447552155522)"
      ]
     },
     "execution_count": 27,
     "metadata": {},
     "output_type": "execute_result"
    },
    {
     "data": {
      "image/png": "[encoded data removed]",
      "text/plain": [
       "<Figure size 432x288 with 1 Axes>"
      ]
     },
     "metadata": {
      "needs_background": "light"
     },
     "output_type": "display_data"
    }
   ],
   "source": [
    "plt.plot(xs[kk],ys[kk],'o')\n",
    "plt.arrow( np.mean(xs[kk]),np.mean(ys[kk]), pca.components_[0][0]*100, pca.components_[0][1]*100 )\n",
    "plt.arrow( np.mean(xs[kk]),np.mean(ys[kk]), pca.components_[1][0]*100, pca.components_[1][1]*100 )\n",
    "plt.xlabel(\"xs\")\n",
    "plt.ylabel(\"ys\")\n",
    "plt.axis('equal')"
   ]
  },
  {
   "cell_type": "code",
   "execution_count": 18,
   "id": "ce2b9ff7",
   "metadata": {},
   "outputs": [],
   "source": [
    "plt.arrow?"
   ]
  },
  {
   "cell_type": "code",
   "execution_count": null,
   "id": "e3924b63",
   "metadata": {},
   "outputs": [],
   "source": []
  }
 ],
 "metadata": {
  "kernelspec": {
   "display_name": "Python 3 (ipykernel)",
   "language": "python",
   "name": "python3"
  },
  "language_info": {
   "codemirror_mode": {
    "name": "ipython",
    "version": 3
   },
   "file_extension": ".py",
   "mimetype": "text/x-python",
   "name": "python",
   "nbconvert_exporter": "python",
   "pygments_lexer": "ipython3",
   "version": "3.9.5"
  }
 },
 "nbformat": 4,
 "nbformat_minor": 5
}
