{
 "cells": [
  {
   "cell_type": "code",
   "execution_count": 104,
   "metadata": {
    "collapsed": false
   },
   "outputs": [],
   "source": [
    "import numpy as np\n",
    "from matplotlib import pyplot as plt\n",
    "%matplotlib inline\n",
    "\n",
    "def gauss(mu, sigma, x):\n",
    "    return 1./(sigma * np.sqrt(2. * np.pi) ) * np.exp( -(x-mu)**2./(2. * sigma**2.))"
   ]
  },
  {
   "cell_type": "code",
   "execution_count": null,
   "metadata": {
    "collapsed": false
   },
   "outputs": [],
   "source": []
  },
  {
   "cell_type": "code",
   "execution_count": 156,
   "metadata": {
    "collapsed": false
   },
   "outputs": [],
   "source": [
    "c = np.zeros([50,40,60])\n",
    "\n",
    "x_com = c.shape[2]/2.\n",
    "y_com = c.shape[1]/2.\n",
    "z_com = c.shape[0]/2.\n",
    "\n",
    "XX = np.arange(0.,c.shape[2]) - x_com\n",
    "YY = np.arange(0.,c.shape[1]) - y_com\n",
    "ZZ = np.arange(0.,c.shape[0]) - z_com\n",
    "\n",
    "#xx,yy = np.meshgrid(XX,YY)\n",
    "xx,yy,zz = np.meshgrid(XX,YY,ZZ, indexing=\"ij\")\n",
    "xx = xx.T\n",
    "yy = yy.T\n",
    "zz = zz.T\n",
    "\n",
    "#dd2D = np.sqrt(xx**2. + (yy)**2.)\n",
    "dd3D = np.sqrt(xx**2. + (yy)**2. + (zz)**2.)\n",
    "\n",
    "sigma = 5.\n",
    "g = gauss(0., sigma, dd3D)\n",
    "c = g.reshape(c.shape)\n",
    "\n",
    "c = dd3D <= sigma"
   ]
  },
  {
   "cell_type": "code",
   "execution_count": 157,
   "metadata": {
    "collapsed": false
   },
   "outputs": [
    {
     "data": {
      "text/plain": [
       "<matplotlib.image.AxesImage at 0x11f1e5860>"
      ]
     },
     "execution_count": 157,
     "metadata": {},
     "output_type": "execute_result"
    },
    {
     "data": {
      "image/png": "[encoded data removed]",
      "text/plain": [
       "<matplotlib.figure.Figure at 0x11e6143c8>"
      ]
     },
     "metadata": {},
     "output_type": "display_data"
    }
   ],
   "source": [
    "plt.imshow(np.sum(c,axis=0))"
   ]
  },
  {
   "cell_type": "code",
   "execution_count": 158,
   "metadata": {
    "collapsed": false
   },
   "outputs": [
    {
     "name": "stdout",
     "output_type": "stream",
     "text": [
      "2.225187019584562 2.225187019584562 2.225187019584562\n",
      "[2.22518702 2.22518702]\n",
      "3.1468896619130535\n"
     ]
    }
   ],
   "source": [
    "mx = np.max(c)\n",
    "scale = 10000.\n",
    "cov3d = np.cov( [xx.flatten(), yy.flatten(), zz.flatten()], fweights=np.array( c.flatten()*scale/mx , dtype=int) )\n",
    "cov2d = np.cov( [xx.flatten(), yy.flatten()], fweights=np.array( c.flatten()*scale/mx , dtype=int) )\n",
    "\n",
    "sqr_cov3d = np.sqrt( cov3d)\n",
    "dx = sqr_cov3d[0,0]\n",
    "dy = sqr_cov3d[1,1]\n",
    "dz = sqr_cov3d[2,2]\n",
    "print(dx,dy,dz)\n",
    "\n",
    "eigenval,eigenvec = np.linalg.eig(cov2d)\n",
    "print(np.sqrt( eigenval ))\n",
    "print(np.sqrt(np.sum(eigenval)))\n",
    "e1,e2 = np.sqrt( eigenval )"
   ]
  },
  {
   "cell_type": "code",
   "execution_count": 159,
   "metadata": {
    "collapsed": false
   },
   "outputs": [
    {
     "name": "stdout",
     "output_type": "stream",
     "text": [
      "[[2.22518918 0.         0.        ]\n",
      " [0.         2.22518918 0.        ]\n",
      " [0.         0.         2.22518918]]\n"
     ]
    }
   ],
   "source": [
    "proj  = np.sum(c,axis=0)\n",
    "mx = np.max(proj)\n",
    "scale = 10000.\n",
    "cov = np.cov( [xx.flatten(), yy.flatten(), zz.flatten()], fweights=np.array( c.flatten()*scale/mx , dtype=int) )\n",
    "\n",
    "print(np.sqrt( cov))"
   ]
  },
  {
   "cell_type": "code",
   "execution_count": 160,
   "metadata": {
    "collapsed": false
   },
   "outputs": [
    {
     "name": "stdout",
     "output_type": "stream",
     "text": [
      "[2.22518918 2.22518918 2.22518918]\n",
      "3.8541407165616066\n"
     ]
    }
   ],
   "source": [
    "eigenval,eigenvec = np.linalg.eig(cov)\n",
    "print(np.sqrt(eigenval))\n",
    "print(np.sqrt(np.sum(eigenval)))"
   ]
  },
  {
   "cell_type": "code",
   "execution_count": 161,
   "metadata": {
    "collapsed": false
   },
   "outputs": [
    {
     "data": {
      "text/plain": [
       "5.587627738"
      ]
     },
     "execution_count": 161,
     "metadata": {},
     "output_type": "execute_result"
    }
   ],
   "source": [
    "3.99116267*1.4"
   ]
  },
  {
   "cell_type": "code",
   "execution_count": 162,
   "metadata": {
    "collapsed": true
   },
   "outputs": [],
   "source": [
    "ii = c > 0.\n",
    "M = np.sum(c[ii])\n",
    "\n",
    "\n",
    "\n",
    "dx = np.sqrt( np.sum( c[ii] * (xx[ii] - x_com)**2. ) / M ) \n",
    "dy = np.sqrt( np.sum( c[ii] * (yy[ii] - y_com)**2. ) / M ) \n",
    "dz = np.sqrt( np.sum( c[ii] * (zz[ii] - z_com)**2. ) / M ) "
   ]
  },
  {
   "cell_type": "code",
   "execution_count": 142,
   "metadata": {
    "collapsed": false
   },
   "outputs": [
    {
     "data": {
      "text/plain": [
       "(30.41381265424993, 20.61537031147292, 25.49509703965959)"
      ]
     },
     "execution_count": 142,
     "metadata": {},
     "output_type": "execute_result"
    }
   ],
   "source": [
    "dx, dy, dz"
   ]
  },
  {
   "cell_type": "code",
   "execution_count": 146,
   "metadata": {
    "collapsed": false
   },
   "outputs": [
    {
     "data": {
      "text/plain": [
       "2.5"
      ]
     },
     "execution_count": 146,
     "metadata": {},
     "output_type": "execute_result"
    }
   ],
   "source": [
    "a = np.arange(-50,50,1.)\n",
    "\n",
    "\n",
    "g = gauss(0., 2.5, a)\n",
    "\n",
    "M = np.sum(g)\n",
    "np.sqrt( np.sum( g * (a)**2. ) / M ) "
   ]
  },
  {
   "cell_type": "code",
   "execution_count": null,
   "metadata": {
    "collapsed": true
   },
   "outputs": [],
   "source": []
  }
 ],
 "metadata": {
  "kernelspec": {
   "display_name": "Python 3",
   "language": "python",
   "name": "python3"
  },
  "language_info": {
   "codemirror_mode": {
    "name": "ipython",
    "version": 3
   },
   "file_extension": ".py",
   "mimetype": "text/x-python",
   "name": "python",
   "nbconvert_exporter": "python",
   "pygments_lexer": "ipython3",
   "version": "3.6.0"
  }
 },
 "nbformat": 4,
 "nbformat_minor": 2
}
