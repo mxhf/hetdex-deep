{
 "cells": [
  {
   "cell_type": "markdown",
   "metadata": {},
   "source": [
    "Check which catalog plots I moved manually to the subdirectories \"bad\" of \"check\" and \n",
    "relabel the objects in the catalog accordingly"
   ]
  },
  {
   "cell_type": "code",
   "execution_count": 2,
   "metadata": {},
   "outputs": [],
   "source": [
    "from astropy.io import ascii\n",
    "from astropy.table import Column\n",
    "import glob\n",
    "import os"
   ]
  },
  {
   "cell_type": "code",
   "execution_count": 3,
   "metadata": {},
   "outputs": [
    {
     "name": "stdout",
     "output_type": "stream",
     "text": [
      "/Users/mxhf/work/MPE/hetdex/src/deep_and_repeat/COSMOS/src\r\n"
     ]
    }
   ],
   "source": [
    "!pwd"
   ]
  },
  {
   "cell_type": "code",
   "execution_count": 13,
   "metadata": {},
   "outputs": [],
   "source": [
    "# load catalog\n",
    "c = ascii.read(\"../data/mmsf2outcube_COSMOSC_allifu.cat\")"
   ]
  },
  {
   "cell_type": "code",
   "execution_count": 14,
   "metadata": {},
   "outputs": [],
   "source": [
    "# check which catalog plots I moved manually to the subdirectories \"bad\" of \"check\"\n",
    "ffbad = glob.glob(\"../catalog_plots/COSMOSC/bad/*.pdf\")\n",
    "ffcheck = glob.glob(\"../catalog_plots/COSMOSC/check/*.pdf\")\n",
    "ffshowcase = glob.glob(\"../catalog_plots/COSMOSC/showcase/*.pdf\")"
   ]
  },
  {
   "cell_type": "code",
   "execution_count": 15,
   "metadata": {},
   "outputs": [
    {
     "data": {
      "text/plain": [
       "['../catalog_plots/COSMOSC/showcase/catalog_021_5037_agn.pdf',\n",
       " '../catalog_plots/COSMOSC/showcase/catalog_023_10014_filament.pdf',\n",
       " '../catalog_plots/COSMOSC/showcase/catalog_023_5071_agn.pdf',\n",
       " '../catalog_plots/COSMOSC/showcase/catalog_025_10018.pdf',\n",
       " '../catalog_plots/COSMOSC/showcase/catalog_032_10021_filament.pdf',\n",
       " '../catalog_plots/COSMOSC/showcase/catalog_032_10025_filament.pdf',\n",
       " '../catalog_plots/COSMOSC/showcase/catalog_032_10026_filament.pdf',\n",
       " '../catalog_plots/COSMOSC/showcase/catalog_032_10035_filament.pdf',\n",
       " '../catalog_plots/COSMOSC/showcase/catalog_034_10035_filament.pdf',\n",
       " '../catalog_plots/COSMOSC/showcase/catalog_035_5028_filament.pdf',\n",
       " '../catalog_plots/COSMOSC/showcase/catalog_042_5049_agn.pdf',\n",
       " '../catalog_plots/COSMOSC/showcase/catalog_047_10007_filament.pdf',\n",
       " '../catalog_plots/COSMOSC/showcase/catalog_047_5032_filament.pdf',\n",
       " '../catalog_plots/COSMOSC/showcase/catalog_052_10045_filament.pdf',\n",
       " '../catalog_plots/COSMOSC/showcase/catalog_052_10074_filament.pdf',\n",
       " '../catalog_plots/COSMOSC/showcase/catalog_062_10006_halo.pdf',\n",
       " '../catalog_plots/COSMOSC/showcase/catalog_063_5005_halo.pdf',\n",
       " '../catalog_plots/COSMOSC/showcase/catalog_072_5003_halo.pdf',\n",
       " '../catalog_plots/COSMOSC/showcase/catalog_073_10008_halo.pdf',\n",
       " '../catalog_plots/COSMOSC/showcase/catalog_073_10038_halo.pdf',\n",
       " '../catalog_plots/COSMOSC/showcase/catalog_073_5004_halo.pdf',\n",
       " '../catalog_plots/COSMOSC/showcase/catalog_074_10019_halo.pdf',\n",
       " '../catalog_plots/COSMOSC/showcase/catalog_074_5004_halo.pdf',\n",
       " '../catalog_plots/COSMOSC/showcase/catalog_075_10009_filament.pdf',\n",
       " '../catalog_plots/COSMOSC/showcase/catalog_075_10019_halo.pdf',\n",
       " '../catalog_plots/COSMOSC/showcase/catalog_075_10021_halo.pdf',\n",
       " '../catalog_plots/COSMOSC/showcase/catalog_076_10005_halo.pdf',\n",
       " '../catalog_plots/COSMOSC/showcase/catalog_076_10012_halo.pdf',\n",
       " '../catalog_plots/COSMOSC/showcase/catalog_076_10018_filament.pdf',\n",
       " '../catalog_plots/COSMOSC/showcase/catalog_076_5007_halo.pdf',\n",
       " '../catalog_plots/COSMOSC/showcase/catalog_077_10016_halo.pdf',\n",
       " '../catalog_plots/COSMOSC/showcase/catalog_077_10033_halo.pdf',\n",
       " '../catalog_plots/COSMOSC/showcase/catalog_082_10027_halo.pdf',\n",
       " '../catalog_plots/COSMOSC/showcase/catalog_082_10055_halo.pdf',\n",
       " '../catalog_plots/COSMOSC/showcase/catalog_082_5006_halo.pdf',\n",
       " '../catalog_plots/COSMOSC/showcase/catalog_082_5018_halo.pdf',\n",
       " '../catalog_plots/COSMOSC/showcase/catalog_082_5031_filament.pdf',\n",
       " '../catalog_plots/COSMOSC/showcase/catalog_082_5060_halo.pdf',\n",
       " '../catalog_plots/COSMOSC/showcase/catalog_083_10005_filament.pdf',\n",
       " '../catalog_plots/COSMOSC/showcase/catalog_084_10004_halo.pdf',\n",
       " '../catalog_plots/COSMOSC/showcase/catalog_085_5004_halo.pdf',\n",
       " '../catalog_plots/COSMOSC/showcase/catalog_086_10007_filament.pdf',\n",
       " '../catalog_plots/COSMOSC/showcase/catalog_087_10007_halo.pdf',\n",
       " '../catalog_plots/COSMOSC/showcase/catalog_087_5032_filament.pdf',\n",
       " '../catalog_plots/COSMOSC/showcase/catalog_087_5039_halo.pdf',\n",
       " '../catalog_plots/COSMOSC/showcase/catalog_087_5041_halo.pdf',\n",
       " '../catalog_plots/COSMOSC/showcase/catalog_093_10008_halo.pdf',\n",
       " '../catalog_plots/COSMOSC/showcase/catalog_093_10016_halo.pdf',\n",
       " '../catalog_plots/COSMOSC/showcase/catalog_093_5002_halo.pdf',\n",
       " '../catalog_plots/COSMOSC/showcase/catalog_095_10017_filament.pdf',\n",
       " '../catalog_plots/COSMOSC/showcase/catalog_095_10024_halo.pdf',\n",
       " '../catalog_plots/COSMOSC/showcase/catalog_096_10009_halo.pdf',\n",
       " '../catalog_plots/COSMOSC/showcase/catalog_096_10039_halo.pdf',\n",
       " '../catalog_plots/COSMOSC/showcase/catalog_096_10061_halo.pdf',\n",
       " '../catalog_plots/COSMOSC/showcase/catalog_097_10011_halo.pdf',\n",
       " '../catalog_plots/COSMOSC/showcase/catalog_097_10014_filament.pdf',\n",
       " '../catalog_plots/COSMOSC/showcase/catalog_097_10021_halo.pdf',\n",
       " '../catalog_plots/COSMOSC/showcase/catalog_097_5009_agn.pdf',\n",
       " '../catalog_plots/COSMOSC/showcase/catalog_097_5021_halo.pdf',\n",
       " '../catalog_plots/COSMOSC/showcase/catalog_097_5036_halo.pdf',\n",
       " '../catalog_plots/COSMOSC/showcase/catalog_097_5048_halo.pdf',\n",
       " '../catalog_plots/COSMOSC/showcase/catalog_105_5025_halo.pdf',\n",
       " '../catalog_plots/COSMOSC/showcase/catalog_106_10008_filament.pdf']"
      ]
     },
     "execution_count": 15,
     "metadata": {},
     "output_type": "execute_result"
    }
   ],
   "source": [
    "ffbad.sort()\n",
    "ffshowcase.sort()\n",
    "ffcheck.sort()\n",
    "ffshowcase"
   ]
  },
  {
   "cell_type": "code",
   "execution_count": 16,
   "metadata": {},
   "outputs": [],
   "source": [
    "# relabel bad objects\n",
    "\n",
    "for f in ffbad:\n",
    "    h,t = os.path.split(f)\n",
    "    tt = t.replace(\".pdf\",\"\").split(\"_\")\n",
    "    ifu = tt[1]\n",
    "    objectid = tt[2]\n",
    "    #print(ifu,objectid)\n",
    "    ii = (c[\"ifu\"] == ifu) * (c[\"id\"] == int(objectid))\n",
    "    if ( sum(ii) != 1 ):\n",
    "        print(\"Error: Could not identify source for IFU {} with id {}.\".format(ifu, objectid))\n",
    "    else:\n",
    "        c[\"class2\"][ii] = \"bad\""
   ]
  },
  {
   "cell_type": "code",
   "execution_count": 17,
   "metadata": {},
   "outputs": [],
   "source": [
    "# relabel \"check objects\"\n",
    "for f in ffcheck:\n",
    "    h,t = os.path.split(f)\n",
    "    tt = t.replace(\".pdf\",\"\").split(\"_\")\n",
    "    ifu = tt[1]\n",
    "    objectid = tt[2]\n",
    "    #print(ifu,objectid)\n",
    "    ii = (c[\"ifu\"] == ifu) * (c[\"id\"] == int(objectid))\n",
    "    if ( sum(ii) != 1 ):\n",
    "        print(\"Error: Could not identify source for IFU {} with id {}.\".format(ifu, objectid))\n",
    "    else:\n",
    "        c[\"class2\"][ii] = \"check\""
   ]
  },
  {
   "cell_type": "code",
   "execution_count": 18,
   "metadata": {},
   "outputs": [],
   "source": [
    "c.remove_column(\"good\")"
   ]
  },
  {
   "cell_type": "code",
   "execution_count": 19,
   "metadata": {},
   "outputs": [],
   "source": [
    "if \"showcase\" in c.colnames:\n",
    "    c.remove_column(\"showcase\")\n",
    "c.add_column(Column(name=\"showcase\", dtype=bool, data=[False]*len(c), description=\"Highlight outstanding sources.\" ) )"
   ]
  },
  {
   "cell_type": "code",
   "execution_count": 20,
   "metadata": {},
   "outputs": [],
   "source": [
    "# relabel \"showcase objects\"\n",
    "for f in ffgood:\n",
    "    h,t = os.path.split(f)\n",
    "    tt = t.replace(\".pdf\",\"\").split(\"_\")\n",
    "    ifu = tt[1]\n",
    "    objectid = tt[2]\n",
    "    #print(ifu,objectid)\n",
    "    ii = (c[\"ifu\"] == ifu) * (c[\"id\"] == int(objectid))\n",
    "    if ( sum(ii) != 1 ):\n",
    "        print(\"Error: Could not identify source for IFU {} with id {}.\".format(ifu, objectid))\n",
    "    else:\n",
    "        c[\"showcase\"][ii] = True"
   ]
  },
  {
   "cell_type": "code",
   "execution_count": 21,
   "metadata": {},
   "outputs": [
    {
     "name": "stderr",
     "output_type": "stream",
     "text": [
      "WARNING: AstropyDeprecationWarning: ../data/mmsf2outcube_COSMOSC_allifu.cat already exists. Automatically overwriting ASCII files is deprecated. Use the argument 'overwrite=True' in the future. [astropy.io.ascii.ui]\n"
     ]
    }
   ],
   "source": [
    "# save catalog\n",
    "c.write(\"../data/mmsf2outcube_COSMOSC_allifu.cat\", format=\"ascii.ecsv\")"
   ]
  },
  {
   "cell_type": "code",
   "execution_count": 22,
   "metadata": {},
   "outputs": [
    {
     "data": {
      "text/plain": [
       "62"
      ]
     },
     "execution_count": 22,
     "metadata": {},
     "output_type": "execute_result"
    }
   ],
   "source": [
    "sum(c[\"showcase\"])"
   ]
  },
  {
   "cell_type": "code",
   "execution_count": null,
   "metadata": {},
   "outputs": [],
   "source": []
  }
 ],
 "metadata": {
  "kernelspec": {
   "display_name": "Python 3",
   "language": "python",
   "name": "python3"
  },
  "language_info": {
   "codemirror_mode": {
    "name": "ipython",
    "version": 3
   },
   "file_extension": ".py",
   "mimetype": "text/x-python",
   "name": "python",
   "nbconvert_exporter": "python",
   "pygments_lexer": "ipython3",
   "version": "3.6.8"
  }
 },
 "nbformat": 4,
 "nbformat_minor": 2
}
