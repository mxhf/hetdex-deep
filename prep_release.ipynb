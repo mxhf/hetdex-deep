{
 "cells": [
  {
   "cell_type": "code",
   "execution_count": 14,
   "metadata": {},
   "outputs": [],
   "source": [
    "from astropy.io import ascii\n",
    "from numpy import sum"
   ]
  },
  {
   "cell_type": "code",
   "execution_count": 9,
   "metadata": {},
   "outputs": [],
   "source": [
    "cat = ascii.read(\"data/mmsf2outcube_COSMOSC_allifu.cat\")"
   ]
  },
  {
   "cell_type": "code",
   "execution_count": 13,
   "metadata": {},
   "outputs": [],
   "source": [
    "iiagn = cat[\"class2\"] == \"agn\"\n",
    "iipointsource = cat[\"class2\"] == \"pointsource\"\n",
    "iifilament = cat[\"class2\"] == \"filament\"\n",
    "iihalo = cat[\"class2\"] == \"halo\""
   ]
  },
  {
   "cell_type": "code",
   "execution_count": 16,
   "metadata": {},
   "outputs": [
    {
     "name": "stdout",
     "output_type": "stream",
     "text": [
      "Halo 322\n",
      "Filament 129\n",
      "Pointsource 485\n",
      "AGN 15\n"
     ]
    }
   ],
   "source": [
    "print(\"Halo {}\".format(sum(iihalo)))\n",
    "print(\"Filament {}\".format(sum(iifilament)))\n",
    "print(\"Pointsource {}\".format(sum(iipointsource)))\n",
    "print(\"AGN {}\".format(sum(iiagn)))"
   ]
  },
  {
   "cell_type": "code",
   "execution_count": 17,
   "metadata": {},
   "outputs": [],
   "source": [
    "ii = iiagn + iipointsource + iifilament + iihalo"
   ]
  },
  {
   "cell_type": "code",
   "execution_count": 18,
   "metadata": {},
   "outputs": [
    {
     "name": "stdout",
     "output_type": "stream",
     "text": [
      "All 951\n"
     ]
    }
   ],
   "source": [
    "print(\"All {}\".format(sum(ii)))"
   ]
  },
  {
   "cell_type": "code",
   "execution_count": 19,
   "metadata": {},
   "outputs": [],
   "source": [
    "newcat = cat[ii]"
   ]
  },
  {
   "cell_type": "code",
   "execution_count": 21,
   "metadata": {},
   "outputs": [],
   "source": [
    "newcat.write(\"release/COSMOSC.cat\", format=\"ascii.ecsv\")"
   ]
  },
  {
   "cell_type": "code",
   "execution_count": null,
   "metadata": {},
   "outputs": [],
   "source": []
  }
 ],
 "metadata": {
  "kernelspec": {
   "display_name": "Python 3",
   "language": "python",
   "name": "python3"
  },
  "language_info": {
   "codemirror_mode": {
    "name": "ipython",
    "version": 3
   },
   "file_extension": ".py",
   "mimetype": "text/x-python",
   "name": "python",
   "nbconvert_exporter": "python",
   "pygments_lexer": "ipython3",
   "version": "3.6.8"
  }
 },
 "nbformat": 4,
 "nbformat_minor": 2
}
