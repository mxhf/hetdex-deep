{
 "cells": [
  {
   "cell_type": "code",
   "execution_count": 1,
   "metadata": {},
   "outputs": [],
   "source": [
    "COMMANDLINE = False"
   ]
  },
  {
   "cell_type": "code",
   "execution_count": 2,
   "metadata": {},
   "outputs": [
    {
     "data": {
      "text/html": [
       "<style>.container { width:100% !important; }</style>"
      ],
      "text/plain": [
       "<IPython.core.display.HTML object>"
      ]
     },
     "metadata": {},
     "output_type": "display_data"
    }
   ],
   "source": [
    "if not COMMANDLINE:\n",
    "    # go wide screen\n",
    "    from IPython.core.display import display, HTML\n",
    "    display(HTML(\"<style>.container { width:100% !important; }</style>\"))\n",
    "\n",
    "    # Next two lines force automatic reload of loaded module. Convenient if\n",
    "    # one is still fiddeling with them.\n",
    "    %load_ext autoreload\n",
    "    %autoreload 2"
   ]
  },
  {
   "cell_type": "code",
   "execution_count": 3,
   "metadata": {},
   "outputs": [
    {
     "name": "stdout",
     "output_type": "stream",
     "text": [
      "mv: cannot stat ‘/home1/04287/mxhf/srebin.py’: No such file or directory\r\n"
     ]
    }
   ],
   "source": [
    "!mv ~/srebin.py ."
   ]
  },
  {
   "cell_type": "code",
   "execution_count": 4,
   "metadata": {},
   "outputs": [],
   "source": [
    "import sys\n",
    "sys.path.append('/home1/04287/mxhf/HETDEX_API/')"
   ]
  },
  {
   "cell_type": "code",
   "execution_count": 5,
   "metadata": {},
   "outputs": [],
   "source": [
    "if not COMMANDLINE:\n",
    "    %matplotlib inline\n",
    "    import matplotlib.pyplot as plt\n",
    "    from matplotlib.colors import LogNorm\n",
    "    from astropy.visualization import ZScaleInterval\n",
    "\n",
    "import astropy.units as u\n",
    "from astropy.coordinates import SkyCoord\n",
    "\n",
    "from hetdex_api.shot import *"
   ]
  },
  {
   "cell_type": "code",
   "execution_count": 6,
   "metadata": {},
   "outputs": [],
   "source": [
    "from __future__ import print_function\n",
    "\n",
    "import pylab\n",
    "from astropy.io import fits\n",
    "import sys\n",
    "from scipy import *\n",
    "from scipy import optimize\n",
    "import spectrum\n",
    "import numpy\n",
    "import optparse\n",
    "from matplotlib import pyplot as plt\n",
    "import spectrum\n",
    "from astropy.io import ascii\n",
    "from astropy.table import Table\n",
    "import os\n",
    "import glob\n",
    "import numpy as np\n",
    "\n",
    "from scipy.interpolate import UnivariateSpline\n",
    "\n",
    "import srebin\n",
    "import sys\n",
    "from astropy.table import Column, vstack\n",
    "from astropy.io import ascii\n",
    "import argparse\n",
    "import pickle\n",
    "import glob"
   ]
  },
  {
   "cell_type": "code",
   "execution_count": 7,
   "metadata": {},
   "outputs": [],
   "source": [
    "import numpy as np"
   ]
  },
  {
   "cell_type": "code",
   "execution_count": 8,
   "metadata": {},
   "outputs": [],
   "source": [
    "def get_rebinned(ww, ff, start = 3494.74, step =  1.9858398, stop = 5500.):\n",
    "    N = int( np.ceil( (stop - start)/step ) )\n",
    "    _lw, _lf = srebin.linlin(ww, ff, start, step, stop, dowarn=False)\n",
    "    \n",
    "    lw = (np.arange(N) * step) + start\n",
    "    lf = np.zeros_like(lw)\n",
    "    \n",
    "    lf[:min(N, len(_lf))] = _lf[:min(N, len(_lf))]\n",
    "\n",
    "    if not _lw[0] == lw[0]:\n",
    "        print(\"Binning is broken, please check.\")\n",
    "        return np.nan\n",
    "    \n",
    "    return lw, lf"
   ]
  },
  {
   "cell_type": "code",
   "execution_count": 9,
   "metadata": {},
   "outputs": [],
   "source": [
    "def rebin_IFU(t, p):\n",
    "    expnum, ifuslot = p\n",
    "    print(\"Processing expnum {} ifuslot {} \".format(expnum, ifuslot.decode(\"utf-8\")) )\n",
    "    amplifiers = \\\n",
    "        np.unique(np.unique( [ x['amp'] for x in t.where(\"\"\"(expnum == {expnum}) & (ifuslot == {ifuslot})\"\"\".format(expnum=expnum, ifuslot=ifuslot))] ))\n",
    "\n",
    "    for amp in amplifiers:\n",
    "        rebin_path = \"{}/exp{:02d}\".format(shot, int(expnum))\n",
    "\n",
    "        rebin_filename = \"multi_xxx_{ifuslot}_xxx_{amp}_rebin.pickle\".format(ifuslot=ifuslot.decode(\"utf-8\"),amp=amp.decode(\"utf-8\"))\n",
    "        rebin_file_path = os.path.join(rebin_path,rebin_filename)\n",
    "\n",
    "        if os.path.exists( rebin_file_path ) and not force_rebin:\n",
    "            print(\"{} already exists, skipping ...\".format(rebin_file_path))\n",
    "            continue\n",
    "        else:    \n",
    "            rebinned = {}\n",
    "\n",
    "            idx = [ x['fibidx'] for x in t.where( \"\"\"(expnum == {expnum}) & (ifuslot == {ifuslot}) & (amp == {amp})\"\"\".format(expnum=expnum, ifuslot=ifuslot, amp=amp) ) ]\n",
    "            www = [ x[\"wavelength\"] for x in t.where( \"\"\"(expnum == {expnum}) & (ifuslot == {ifuslot}) & (amp == {amp})\"\"\".format(expnum=expnum, ifuslot=ifuslot, amp=amp) ) ]\n",
    "\n",
    "            for ext in extensions:\n",
    "                fff = [ x[ext] for x in t.where( \"\"\"(expnum == {expnum}) & (ifuslot == {ifuslot}) & (amp == {amp})\"\"\".format(expnum=expnum, ifuslot=ifuslot, amp=amp) ) ]\n",
    "                data = []\n",
    "                print(\"Rebinning expnum {} , ifuslot {} , amp {} , ext {} \".format( expnum, ifuslot.decode(\"utf-8\"), amp.decode(\"utf-8\"), ext) )\n",
    "\n",
    "                for i,ww,ff in zip(idx,www,fff):\n",
    "\n",
    "                    lw, lf = get_rebinned(ww, ff, start = 3494.74, step =  1.9858398, stop = 5500.)\n",
    "                    data.append(lf)\n",
    "\n",
    "                rebinned[ext] = np.array(data)\n",
    "\n",
    "            try:\n",
    "                os.makedirs(rebin_path)\n",
    "            except:\n",
    "                pass\n",
    "\n",
    "            with open(rebin_file_path, 'wb') as f:\n",
    "                # Pickle the 'data' dictionary using the highest protocol available.\n",
    "                print(\"Writing \", rebin_file_path)\n",
    "                pickle.dump((lw, rebinned), f, pickle.HIGHEST_PROTOCOL)\n",
    "                #sys.exit(1)\n",
    "    return True\n",
    "                    "
   ]
  },
  {
   "cell_type": "code",
   "execution_count": 10,
   "metadata": {},
   "outputs": [],
   "source": [
    "shot = '20180124v010'\n",
    "NCPU = 20\n",
    "force_rebin = False\n",
    "\n",
    "#ifuslots = [b'022']\n",
    "extensions = [\"spectrum\", \"sky_subtracted\", \"sky_spectrum\", \"fiber_to_fiber\"]\n",
    "\n",
    "\n",
    "filename = '/work/03946/hetdex/hdr1/reduction/data/{}.h5'.format(shot)\n",
    "fileh = tb.open_file(filename)\n",
    "t = fileh.root.Data.Fibers\n"
   ]
  },
  {
   "cell_type": "code",
   "execution_count": 14,
   "metadata": {},
   "outputs": [],
   "source": [
    "exposures = [1,2,3]                  \n",
    "# find which ifuslots we have\n",
    "ifuslots = np.unique(np.unique(  [x['ifuslot'] for x in t]  ))\n",
    "\n",
    "ifuslots = ifuslots[:2] # for testing\n",
    "\n",
    "# create array with every exposure/ifu combination to map multiprocessing to\n",
    "for i in ifuslots:\n",
    "    for e in exposures:\n",
    "        exp_ifu.append([e,i])\n",
    "        rebin_IFU(t, exp_ifu[2])\n",
    "    "
   ]
  },
  {
   "cell_type": "code",
   "execution_count": 15,
   "metadata": {},
   "outputs": [
    {
     "name": "stdout",
     "output_type": "stream",
     "text": [
      "Processing expnum 3 ifuslot 022 \n",
      "20180124v010/exp03/multi_xxx_022_xxx_LL_rebin.pickle already exists, skipping ...\n",
      "20180124v010/exp03/multi_xxx_022_xxx_LU_rebin.pickle already exists, skipping ...\n",
      "20180124v010/exp03/multi_xxx_022_xxx_RL_rebin.pickle already exists, skipping ...\n",
      "20180124v010/exp03/multi_xxx_022_xxx_RU_rebin.pickle already exists, skipping ...\n"
     ]
    },
    {
     "data": {
      "text/plain": [
       "True"
      ]
     },
     "execution_count": 15,
     "metadata": {},
     "output_type": "execute_result"
    }
   ],
   "source": []
  },
  {
   "cell_type": "markdown",
   "metadata": {},
   "source": [
    "# Check against previous rebinned file"
   ]
  },
  {
   "cell_type": "code",
   "execution_count": null,
   "metadata": {},
   "outputs": [],
   "source": [
    "!ls /work/04287/mxhf/maverick/hetdex/cubes/exp01/multi_???_022_???_LL_rebin.pickle"
   ]
  },
  {
   "cell_type": "code",
   "execution_count": 48,
   "metadata": {},
   "outputs": [],
   "source": [
    "ww,rebinned = pickle.load(open(\"/work/04287/mxhf/maverick/hetdex/cubes/rebin/20180124v010/exp01/multi_317_022_039_LL_rebin.pickle\",'rb') , encoding='latin1')"
   ]
  },
  {
   "cell_type": "code",
   "execution_count": 49,
   "metadata": {},
   "outputs": [
    {
     "data": {
      "text/plain": [
       "array([[ 44.16650608,  40.28904142,  39.14809976, ...,   0.        ,\n",
       "          0.        ,   0.        ],\n",
       "       [ 45.00337588,  40.60051559,  39.85620886, ..., 143.97700669,\n",
       "          0.        ,   0.        ],\n",
       "       [ 45.358628  ,  40.59465581,  40.1559046 , ..., 144.80466677,\n",
       "          0.        ,   0.        ],\n",
       "       ...,\n",
       "       [ 44.70013365,  41.43942216,  39.75027431, ..., 162.82325068,\n",
       "        163.82772024, 168.67576862],\n",
       "       [ 43.5854706 ,  40.4234008 ,  38.7523115 , ..., 158.85326402,\n",
       "        159.82116533, 164.55744557],\n",
       "       [ 43.84256613,  40.67584297,  38.96999006, ..., 159.16458694,\n",
       "        160.07483788, 164.90503294]])"
      ]
     },
     "execution_count": 49,
     "metadata": {},
     "output_type": "execute_result"
    }
   ],
   "source": [
    "rebinned['sky_spectrum']"
   ]
  },
  {
   "cell_type": "code",
   "execution_count": 50,
   "metadata": {},
   "outputs": [],
   "source": [
    "nww,nrebinned = pickle.load(open(\"20180124v010/exp01/multi_xxx_022_xxx_LL_rebin.pickle\",'rb') , encoding='latin1')"
   ]
  },
  {
   "cell_type": "code",
   "execution_count": 51,
   "metadata": {},
   "outputs": [
    {
     "data": {
      "text/plain": [
       "array([[ 44.16650608,  40.28904142,  39.14809976, ...,   0.        ,\n",
       "          0.        ,   0.        ],\n",
       "       [ 45.00337588,  40.60051559,  39.85620886, ..., 143.97700669,\n",
       "          0.        ,   0.        ],\n",
       "       [ 45.358628  ,  40.59465581,  40.1559046 , ..., 144.80466677,\n",
       "          0.        ,   0.        ],\n",
       "       ...,\n",
       "       [ 44.70013365,  41.43942216,  39.75027431, ..., 162.82325068,\n",
       "        163.82772024, 168.67576862],\n",
       "       [ 43.5854706 ,  40.4234008 ,  38.7523115 , ..., 158.85326402,\n",
       "        159.82116533, 164.55744557],\n",
       "       [ 43.84256613,  40.67584297,  38.96999006, ..., 159.16458694,\n",
       "        160.07483788, 164.90503294]])"
      ]
     },
     "execution_count": 51,
     "metadata": {},
     "output_type": "execute_result"
    }
   ],
   "source": [
    "nrebinned['sky_spectrum']"
   ]
  },
  {
   "cell_type": "code",
   "execution_count": 58,
   "metadata": {},
   "outputs": [
    {
     "data": {
      "text/plain": [
       "0.0"
      ]
     },
     "execution_count": 58,
     "metadata": {},
     "output_type": "execute_result"
    }
   ],
   "source": [
    "difference = rebinned['sky_spectrum'] - nrebinned['sky_spectrum']\n",
    "np.std(difference) "
   ]
  },
  {
   "cell_type": "code",
   "execution_count": 61,
   "metadata": {},
   "outputs": [],
   "source": [
    "from hetdex_api.survey import Survey\n",
    "survey = Survey('hdr1')\n",
    "thdr1 = Table(survey.hdfile.root.Survey[:])\n"
   ]
  },
  {
   "cell_type": "code",
   "execution_count": 67,
   "metadata": {},
   "outputs": [],
   "source": [
    "ii  = thdr1[\"shotid\"] >= 20181100000\n",
    "ii *= thdr1[\"shotid\"] <= 20190100000"
   ]
  },
  {
   "cell_type": "code",
   "execution_count": 68,
   "metadata": {},
   "outputs": [
    {
     "data": {
      "text/plain": [
       "251"
      ]
     },
     "execution_count": 68,
     "metadata": {},
     "output_type": "execute_result"
    }
   ],
   "source": [
    "np.sum(ii)"
   ]
  },
  {
   "cell_type": "code",
   "execution_count": 69,
   "metadata": {},
   "outputs": [
    {
     "data": {
      "text/plain": [
       "1045.8333333333333"
      ]
     },
     "execution_count": 69,
     "metadata": {},
     "output_type": "execute_result"
    }
   ],
   "source": [
    "251*250/60."
   ]
  },
  {
   "cell_type": "code",
   "execution_count": 72,
   "metadata": {},
   "outputs": [
    {
     "data": {
      "text/plain": [
       "300000"
      ]
     },
     "execution_count": 72,
     "metadata": {},
     "output_type": "execute_result"
    }
   ],
   "source": [
    "3 * 50 * 4 * 250 * 2"
   ]
  },
  {
   "cell_type": "code",
   "execution_count": null,
   "metadata": {},
   "outputs": [],
   "source": []
  }
 ],
 "metadata": {
  "kernelspec": {
   "display_name": "Python 3",
   "language": "python",
   "name": "python3"
  },
  "language_info": {
   "codemirror_mode": {
    "name": "ipython",
    "version": 3
   },
   "file_extension": ".py",
   "mimetype": "text/x-python",
   "name": "python",
   "nbconvert_exporter": "python",
   "pygments_lexer": "ipython3",
   "version": "3.7.0"
  }
 },
 "nbformat": 4,
 "nbformat_minor": 2
}
