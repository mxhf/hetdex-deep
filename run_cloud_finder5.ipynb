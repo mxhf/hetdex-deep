{
 "cells": [
  {
   "cell_type": "code",
   "execution_count": 103,
   "metadata": {},
   "outputs": [
    {
     "data": {
      "text/html": [
       "<style>.container { width:100% !important; }</style>"
      ],
      "text/plain": [
       "<IPython.core.display.HTML object>"
      ]
     },
     "metadata": {},
     "output_type": "display_data"
    }
   ],
   "source": [
    "# go wide screen\n",
    "from IPython.core.display import display, HTML\n",
    "display(HTML(\"<style>.container { width:100% !important; }</style>\"))"
   ]
  },
  {
   "cell_type": "code",
   "execution_count": 104,
   "metadata": {
    "collapsed": true
   },
   "outputs": [],
   "source": [
    "import os\n",
    "import glob\n",
    "import numpy as np\n",
    "import os"
   ]
  },
  {
   "cell_type": "code",
   "execution_count": 105,
   "metadata": {},
   "outputs": [
    {
     "name": "stdout",
     "output_type": "stream",
     "text": [
      "1 2\n"
     ]
    }
   ],
   "source": [
    "class load_balanced_view_replace:\n",
    "    \n",
    "    def apply(self, func, *args):\n",
    "        func(*args)\n",
    "    \n",
    "def func(a,b):\n",
    "    print(a,b)\n",
    "    \n",
    "lv = load_balanced_view_replace()\n",
    "lv.apply(func, 1, 2)"
   ]
  },
  {
   "cell_type": "code",
   "execution_count": 106,
   "metadata": {},
   "outputs": [
    {
     "name": "stdout",
     "output_type": "stream",
     "text": [
      "Using IPython.parallel.\n"
     ]
    }
   ],
   "source": [
    "try:\n",
    "    # have IPython.parallel?\n",
    "    \n",
    "    from IPython.parallel import Client\n",
    "    c = Client()\n",
    "    lv = c.load_balanced_view()   # this object represents the engines (workers)\n",
    "    print(\"Using IPython.parallel.\")\n",
    "except:\n",
    "    class task:\n",
    "        def __init__(self, result):\n",
    "            self.result = result\n",
    "            \n",
    "        def get(self):\n",
    "            return self.result\n",
    "        \n",
    "    # else, execute commands in sequence\n",
    "    class load_balanced_view_replace:\n",
    "    \n",
    "        def apply(self, func, *args):\n",
    "            return task( func(*args) )\n",
    "    \n",
    "    lv = load_balanced_view_replace()"
   ]
  },
  {
   "cell_type": "code",
   "execution_count": 107,
   "metadata": {
    "collapsed": true
   },
   "outputs": [],
   "source": [
    "field='COSMOSC'"
   ]
  },
  {
   "cell_type": "code",
   "execution_count": 108,
   "metadata": {
    "collapsed": true
   },
   "outputs": [],
   "source": [
    "def filter_cube(f, DRYRUN=True):\n",
    "    import os\n",
    "    h,t = os.path.split(f)\n",
    "    cmd=\"python filter_cube.py --infile {} --outfile {}\".format(f,os.path.join(h,\"sf2\" + t) )\n",
    "    if DRYRUN:\n",
    "        print(cmd)\n",
    "        return -1, cmd\n",
    "    else:\n",
    "        return os.system( cmd ), cmd"
   ]
  },
  {
   "cell_type": "code",
   "execution_count": 9,
   "metadata": {},
   "outputs": [],
   "source": [
    "# filter data cubes\n",
    "ff = np.sort( glob.glob(\"data/outcube_{}_???.fits.gz\".format(field)) )\n",
    "\n",
    "tasks = []\n",
    "for f in ff:\n",
    "    tasks.append(lv.apply(filter_cube, f))\n",
    "result = [task.get() for task in tasks]  # blocks until all results are back"
   ]
  },
  {
   "cell_type": "code",
   "execution_count": 225,
   "metadata": {},
   "outputs": [
    {
     "name": "stdout",
     "output_type": "stream",
     "text": [
      "(-1, 'python noise_model2.py --infile data/sf2outcube_COSMOSC_021.fits.gz --outfile data/ncsf2outcube_COSMOSC_021.fits.gz')\n",
      "(-1, 'python noise_model2.py --infile data/sf2outcube_COSMOSC_022.fits.gz --outfile data/ncsf2outcube_COSMOSC_022.fits.gz')\n",
      "(-1, 'python noise_model2.py --infile data/sf2outcube_COSMOSC_023.fits.gz --outfile data/ncsf2outcube_COSMOSC_023.fits.gz')\n",
      "(-1, 'python noise_model2.py --infile data/sf2outcube_COSMOSC_024.fits.gz --outfile data/ncsf2outcube_COSMOSC_024.fits.gz')\n",
      "(-1, 'python noise_model2.py --infile data/sf2outcube_COSMOSC_025.fits.gz --outfile data/ncsf2outcube_COSMOSC_025.fits.gz')\n",
      "(-1, 'python noise_model2.py --infile data/sf2outcube_COSMOSC_026.fits.gz --outfile data/ncsf2outcube_COSMOSC_026.fits.gz')\n",
      "(-1, 'python noise_model2.py --infile data/sf2outcube_COSMOSC_027.fits.gz --outfile data/ncsf2outcube_COSMOSC_027.fits.gz')\n",
      "(-1, 'python noise_model2.py --infile data/sf2outcube_COSMOSC_032.fits.gz --outfile data/ncsf2outcube_COSMOSC_032.fits.gz')\n",
      "(-1, 'python noise_model2.py --infile data/sf2outcube_COSMOSC_033.fits.gz --outfile data/ncsf2outcube_COSMOSC_033.fits.gz')\n",
      "(-1, 'python noise_model2.py --infile data/sf2outcube_COSMOSC_034.fits.gz --outfile data/ncsf2outcube_COSMOSC_034.fits.gz')\n",
      "(-1, 'python noise_model2.py --infile data/sf2outcube_COSMOSC_035.fits.gz --outfile data/ncsf2outcube_COSMOSC_035.fits.gz')\n",
      "(-1, 'python noise_model2.py --infile data/sf2outcube_COSMOSC_036.fits.gz --outfile data/ncsf2outcube_COSMOSC_036.fits.gz')\n",
      "(-1, 'python noise_model2.py --infile data/sf2outcube_COSMOSC_037.fits.gz --outfile data/ncsf2outcube_COSMOSC_037.fits.gz')\n",
      "(-1, 'python noise_model2.py --infile data/sf2outcube_COSMOSC_042.fits.gz --outfile data/ncsf2outcube_COSMOSC_042.fits.gz')\n",
      "(-1, 'python noise_model2.py --infile data/sf2outcube_COSMOSC_043.fits.gz --outfile data/ncsf2outcube_COSMOSC_043.fits.gz')\n",
      "(-1, 'python noise_model2.py --infile data/sf2outcube_COSMOSC_044.fits.gz --outfile data/ncsf2outcube_COSMOSC_044.fits.gz')\n",
      "(-1, 'python noise_model2.py --infile data/sf2outcube_COSMOSC_045.fits.gz --outfile data/ncsf2outcube_COSMOSC_045.fits.gz')\n",
      "(-1, 'python noise_model2.py --infile data/sf2outcube_COSMOSC_046.fits.gz --outfile data/ncsf2outcube_COSMOSC_046.fits.gz')\n",
      "(-1, 'python noise_model2.py --infile data/sf2outcube_COSMOSC_047.fits.gz --outfile data/ncsf2outcube_COSMOSC_047.fits.gz')\n",
      "(-1, 'python noise_model2.py --infile data/sf2outcube_COSMOSC_052.fits.gz --outfile data/ncsf2outcube_COSMOSC_052.fits.gz')\n",
      "(-1, 'python noise_model2.py --infile data/sf2outcube_COSMOSC_053.fits.gz --outfile data/ncsf2outcube_COSMOSC_053.fits.gz')\n",
      "(-1, 'python noise_model2.py --infile data/sf2outcube_COSMOSC_062.fits.gz --outfile data/ncsf2outcube_COSMOSC_062.fits.gz')\n",
      "(-1, 'python noise_model2.py --infile data/sf2outcube_COSMOSC_063.fits.gz --outfile data/ncsf2outcube_COSMOSC_063.fits.gz')\n",
      "(-1, 'python noise_model2.py --infile data/sf2outcube_COSMOSC_072.fits.gz --outfile data/ncsf2outcube_COSMOSC_072.fits.gz')\n",
      "(-1, 'python noise_model2.py --infile data/sf2outcube_COSMOSC_073.fits.gz --outfile data/ncsf2outcube_COSMOSC_073.fits.gz')\n",
      "(-1, 'python noise_model2.py --infile data/sf2outcube_COSMOSC_074.fits.gz --outfile data/ncsf2outcube_COSMOSC_074.fits.gz')\n",
      "(-1, 'python noise_model2.py --infile data/sf2outcube_COSMOSC_075.fits.gz --outfile data/ncsf2outcube_COSMOSC_075.fits.gz')\n",
      "(-1, 'python noise_model2.py --infile data/sf2outcube_COSMOSC_076.fits.gz --outfile data/ncsf2outcube_COSMOSC_076.fits.gz')\n",
      "(-1, 'python noise_model2.py --infile data/sf2outcube_COSMOSC_077.fits.gz --outfile data/ncsf2outcube_COSMOSC_077.fits.gz')\n",
      "(-1, 'python noise_model2.py --infile data/sf2outcube_COSMOSC_082.fits.gz --outfile data/ncsf2outcube_COSMOSC_082.fits.gz')\n",
      "(-1, 'python noise_model2.py --infile data/sf2outcube_COSMOSC_083.fits.gz --outfile data/ncsf2outcube_COSMOSC_083.fits.gz')\n",
      "(-1, 'python noise_model2.py --infile data/sf2outcube_COSMOSC_084.fits.gz --outfile data/ncsf2outcube_COSMOSC_084.fits.gz')\n",
      "(-1, 'python noise_model2.py --infile data/sf2outcube_COSMOSC_085.fits.gz --outfile data/ncsf2outcube_COSMOSC_085.fits.gz')\n",
      "(-1, 'python noise_model2.py --infile data/sf2outcube_COSMOSC_086.fits.gz --outfile data/ncsf2outcube_COSMOSC_086.fits.gz')\n",
      "(-1, 'python noise_model2.py --infile data/sf2outcube_COSMOSC_087.fits.gz --outfile data/ncsf2outcube_COSMOSC_087.fits.gz')\n",
      "(-1, 'python noise_model2.py --infile data/sf2outcube_COSMOSC_093.fits.gz --outfile data/ncsf2outcube_COSMOSC_093.fits.gz')\n",
      "(-1, 'python noise_model2.py --infile data/sf2outcube_COSMOSC_095.fits.gz --outfile data/ncsf2outcube_COSMOSC_095.fits.gz')\n",
      "(-1, 'python noise_model2.py --infile data/sf2outcube_COSMOSC_096.fits.gz --outfile data/ncsf2outcube_COSMOSC_096.fits.gz')\n",
      "(-1, 'python noise_model2.py --infile data/sf2outcube_COSMOSC_097.fits.gz --outfile data/ncsf2outcube_COSMOSC_097.fits.gz')\n",
      "(-1, 'python noise_model2.py --infile data/sf2outcube_COSMOSC_103.fits.gz --outfile data/ncsf2outcube_COSMOSC_103.fits.gz')\n",
      "(-1, 'python noise_model2.py --infile data/sf2outcube_COSMOSC_104.fits.gz --outfile data/ncsf2outcube_COSMOSC_104.fits.gz')\n",
      "(-1, 'python noise_model2.py --infile data/sf2outcube_COSMOSC_105.fits.gz --outfile data/ncsf2outcube_COSMOSC_105.fits.gz')\n",
      "(-1, 'python noise_model2.py --infile data/sf2outcube_COSMOSC_106.fits.gz --outfile data/ncsf2outcube_COSMOSC_106.fits.gz')\n"
     ]
    }
   ],
   "source": [
    "#build noise model\n",
    "def noise_model(f, DRYRUN=True):\n",
    "    import os\n",
    "    h,t = os.path.split(f)\n",
    "    cmd=\"python noise_model2.py --infile {} --outfile {}\".format(f,os.path.join(h,\"nc\" + t) )\n",
    "    if DRYRUN:\n",
    "        print(cmd)\n",
    "        return -1, cmd\n",
    "    else:\n",
    "        return os.system( cmd ), cmd\n",
    "\n",
    "tasks = []\n",
    "for f in ff:\n",
    "    tasks.append(lv.apply(noise_model, f))\n",
    "result = [task.get() for task in tasks]  # blocks until all results are back\n",
    "\n",
    "for r in result:\n",
    "    print(r)"
   ]
  },
  {
   "cell_type": "code",
   "execution_count": 11,
   "metadata": {},
   "outputs": [],
   "source": [
    "# filter noise cubes\n",
    "ff = np.sort( glob.glob(\"data/ncoutcube_{}_???.fits.gz\".format(field)) )\n",
    "\n",
    "tasks = []\n",
    "for f in ff:\n",
    "    tasks.append(lv.apply(filter_cube, f))\n",
    "result = [task.get() for task in tasks]  # blocks until all results are back\n",
    "\n",
    "# don't need the unsmoothed noise cubes anymore\n",
    "cmd=\"rm data/ncoutcube_{}_???.fits.gz\".format(field)"
   ]
  },
  {
   "cell_type": "code",
   "execution_count": 12,
   "metadata": {
    "collapsed": true
   },
   "outputs": [],
   "source": [
    "detect_limits = {}\n",
    "\n",
    "detect_limits['COSMOSA'] = { 'detect_threshold':0.35, 'grow_threshold':0.21}\n",
    "detect_limits['COSMOSB'] = { 'detect_threshold':0.64, 'grow_threshold':0.39}\n",
    "detect_limits['COSMOSC'] = { 'detect_threshold':0.64, 'grow_threshold':0.39}\n",
    "detect_limits['COSMOSD'] = { 'detect_threshold':0.64, 'grow_threshold':0.39}"
   ]
  },
  {
   "cell_type": "code",
   "execution_count": 13,
   "metadata": {
    "collapsed": true
   },
   "outputs": [],
   "source": [
    "if False:\n",
    "    # run detect and segmentation\n",
    "    def cloud_finder2(f, field, detect_limits):\n",
    "        import os\n",
    "        h,t = os.path.split(f)\n",
    "        dt, gt = detect_limits[field]['detect_threshold'], detect_limits[field]['grow_threshold']\n",
    "        cmd = \"python cloud_finder2.py -i {} --detect_threshold {} --grow_threshold {} -b {} -o {}\".format(f,dt,gt,f.replace('.fits.gz','.badregs'),f.replace('sf2outcube','map'))\n",
    "        return cmd\n",
    "        #return os.system( cmd )\n",
    "\n",
    "    ff = np.sort( glob.glob(\"data/sf2outcube_{}_???.fits.gz\".format(field)) )\n",
    "\n",
    "    tasks = []\n",
    "    for f in ff:\n",
    "        tasks.append(lv.apply(cloud_finder2, f, field, detect_limits))\n",
    "    result = [task.get() for task in tasks]  # blocks until all results are back\n",
    "\n",
    "    for r in result:\n",
    "        print(r)"
   ]
  },
  {
   "cell_type": "code",
   "execution_count": 226,
   "metadata": {},
   "outputs": [
    {
     "name": "stdout",
     "output_type": "stream",
     "text": [
      "(-1, 'python detection_noise_model.py -i data/sf2outcube_COSMOSC_021.fits.gz -o data/sf2outcube_COSMOSC_021.detect_noise_model')\n",
      "(-1, 'python detection_noise_model.py -i data/sf2outcube_COSMOSC_022.fits.gz -o data/sf2outcube_COSMOSC_022.detect_noise_model')\n",
      "(-1, 'python detection_noise_model.py -i data/sf2outcube_COSMOSC_023.fits.gz -o data/sf2outcube_COSMOSC_023.detect_noise_model')\n",
      "(-1, 'python detection_noise_model.py -i data/sf2outcube_COSMOSC_024.fits.gz -o data/sf2outcube_COSMOSC_024.detect_noise_model')\n",
      "(-1, 'python detection_noise_model.py -i data/sf2outcube_COSMOSC_025.fits.gz -o data/sf2outcube_COSMOSC_025.detect_noise_model')\n",
      "(-1, 'python detection_noise_model.py -i data/sf2outcube_COSMOSC_026.fits.gz -o data/sf2outcube_COSMOSC_026.detect_noise_model')\n",
      "(-1, 'python detection_noise_model.py -i data/sf2outcube_COSMOSC_027.fits.gz -o data/sf2outcube_COSMOSC_027.detect_noise_model')\n",
      "(-1, 'python detection_noise_model.py -i data/sf2outcube_COSMOSC_032.fits.gz -o data/sf2outcube_COSMOSC_032.detect_noise_model')\n",
      "(-1, 'python detection_noise_model.py -i data/sf2outcube_COSMOSC_033.fits.gz -o data/sf2outcube_COSMOSC_033.detect_noise_model')\n",
      "(-1, 'python detection_noise_model.py -i data/sf2outcube_COSMOSC_034.fits.gz -o data/sf2outcube_COSMOSC_034.detect_noise_model')\n",
      "(-1, 'python detection_noise_model.py -i data/sf2outcube_COSMOSC_035.fits.gz -o data/sf2outcube_COSMOSC_035.detect_noise_model')\n",
      "(-1, 'python detection_noise_model.py -i data/sf2outcube_COSMOSC_036.fits.gz -o data/sf2outcube_COSMOSC_036.detect_noise_model')\n",
      "(-1, 'python detection_noise_model.py -i data/sf2outcube_COSMOSC_037.fits.gz -o data/sf2outcube_COSMOSC_037.detect_noise_model')\n",
      "(-1, 'python detection_noise_model.py -i data/sf2outcube_COSMOSC_042.fits.gz -o data/sf2outcube_COSMOSC_042.detect_noise_model')\n",
      "(-1, 'python detection_noise_model.py -i data/sf2outcube_COSMOSC_043.fits.gz -o data/sf2outcube_COSMOSC_043.detect_noise_model')\n",
      "(-1, 'python detection_noise_model.py -i data/sf2outcube_COSMOSC_044.fits.gz -o data/sf2outcube_COSMOSC_044.detect_noise_model')\n",
      "(-1, 'python detection_noise_model.py -i data/sf2outcube_COSMOSC_045.fits.gz -o data/sf2outcube_COSMOSC_045.detect_noise_model')\n",
      "(-1, 'python detection_noise_model.py -i data/sf2outcube_COSMOSC_046.fits.gz -o data/sf2outcube_COSMOSC_046.detect_noise_model')\n",
      "(-1, 'python detection_noise_model.py -i data/sf2outcube_COSMOSC_047.fits.gz -o data/sf2outcube_COSMOSC_047.detect_noise_model')\n",
      "(-1, 'python detection_noise_model.py -i data/sf2outcube_COSMOSC_052.fits.gz -o data/sf2outcube_COSMOSC_052.detect_noise_model')\n",
      "(-1, 'python detection_noise_model.py -i data/sf2outcube_COSMOSC_053.fits.gz -o data/sf2outcube_COSMOSC_053.detect_noise_model')\n",
      "(-1, 'python detection_noise_model.py -i data/sf2outcube_COSMOSC_062.fits.gz -o data/sf2outcube_COSMOSC_062.detect_noise_model')\n",
      "(-1, 'python detection_noise_model.py -i data/sf2outcube_COSMOSC_063.fits.gz -o data/sf2outcube_COSMOSC_063.detect_noise_model')\n",
      "(-1, 'python detection_noise_model.py -i data/sf2outcube_COSMOSC_072.fits.gz -o data/sf2outcube_COSMOSC_072.detect_noise_model')\n",
      "(-1, 'python detection_noise_model.py -i data/sf2outcube_COSMOSC_073.fits.gz -o data/sf2outcube_COSMOSC_073.detect_noise_model')\n",
      "(-1, 'python detection_noise_model.py -i data/sf2outcube_COSMOSC_074.fits.gz -o data/sf2outcube_COSMOSC_074.detect_noise_model')\n",
      "(-1, 'python detection_noise_model.py -i data/sf2outcube_COSMOSC_075.fits.gz -o data/sf2outcube_COSMOSC_075.detect_noise_model')\n",
      "(-1, 'python detection_noise_model.py -i data/sf2outcube_COSMOSC_076.fits.gz -o data/sf2outcube_COSMOSC_076.detect_noise_model')\n",
      "(-1, 'python detection_noise_model.py -i data/sf2outcube_COSMOSC_077.fits.gz -o data/sf2outcube_COSMOSC_077.detect_noise_model')\n",
      "(-1, 'python detection_noise_model.py -i data/sf2outcube_COSMOSC_082.fits.gz -o data/sf2outcube_COSMOSC_082.detect_noise_model')\n",
      "(-1, 'python detection_noise_model.py -i data/sf2outcube_COSMOSC_083.fits.gz -o data/sf2outcube_COSMOSC_083.detect_noise_model')\n",
      "(-1, 'python detection_noise_model.py -i data/sf2outcube_COSMOSC_084.fits.gz -o data/sf2outcube_COSMOSC_084.detect_noise_model')\n",
      "(-1, 'python detection_noise_model.py -i data/sf2outcube_COSMOSC_085.fits.gz -o data/sf2outcube_COSMOSC_085.detect_noise_model')\n",
      "(-1, 'python detection_noise_model.py -i data/sf2outcube_COSMOSC_086.fits.gz -o data/sf2outcube_COSMOSC_086.detect_noise_model')\n",
      "(-1, 'python detection_noise_model.py -i data/sf2outcube_COSMOSC_087.fits.gz -o data/sf2outcube_COSMOSC_087.detect_noise_model')\n",
      "(-1, 'python detection_noise_model.py -i data/sf2outcube_COSMOSC_093.fits.gz -o data/sf2outcube_COSMOSC_093.detect_noise_model')\n",
      "(-1, 'python detection_noise_model.py -i data/sf2outcube_COSMOSC_095.fits.gz -o data/sf2outcube_COSMOSC_095.detect_noise_model')\n",
      "(-1, 'python detection_noise_model.py -i data/sf2outcube_COSMOSC_096.fits.gz -o data/sf2outcube_COSMOSC_096.detect_noise_model')\n",
      "(-1, 'python detection_noise_model.py -i data/sf2outcube_COSMOSC_097.fits.gz -o data/sf2outcube_COSMOSC_097.detect_noise_model')\n",
      "(-1, 'python detection_noise_model.py -i data/sf2outcube_COSMOSC_103.fits.gz -o data/sf2outcube_COSMOSC_103.detect_noise_model')\n",
      "(-1, 'python detection_noise_model.py -i data/sf2outcube_COSMOSC_104.fits.gz -o data/sf2outcube_COSMOSC_104.detect_noise_model')\n",
      "(-1, 'python detection_noise_model.py -i data/sf2outcube_COSMOSC_105.fits.gz -o data/sf2outcube_COSMOSC_105.detect_noise_model')\n",
      "(-1, 'python detection_noise_model.py -i data/sf2outcube_COSMOSC_106.fits.gz -o data/sf2outcube_COSMOSC_106.detect_noise_model')\n"
     ]
    }
   ],
   "source": [
    "# run detect and segmentation\n",
    "def build_detect_noise_model(f, DRYRUN=True):\n",
    "    import os\n",
    "    detect_noise_model = f.replace(\".fits.gz\",\".detect_noise_model\")\n",
    "    cmd = \"python detection_noise_model.py -i {} -o {}\".format(f,detect_noise_model)\n",
    "    if DRYRUN:\n",
    "        print(cmd)\n",
    "        return -1, cmd\n",
    "    else:\n",
    "        return os.system( cmd ), cmd\n",
    "\n",
    "ff = np.sort( glob.glob(\"data/sf2outcube_{}_???.fits.gz\".format(field)) )\n",
    "\n",
    "tasks = []\n",
    "for f in ff:\n",
    "    tasks.append(lv.apply(build_detect_noise_model, f))\n",
    "result = [task.get() for task in tasks]  # blocks until all results are back\n",
    "\n",
    "for r in result:\n",
    "   print(r)"
   ]
  },
  {
   "cell_type": "code",
   "execution_count": 228,
   "metadata": {
    "scrolled": false
   },
   "outputs": [
    {
     "name": "stdout",
     "output_type": "stream",
     "text": [
      "(-1, 'python cloud_finder3.py -i data/sf2outcube_COSMOSC_021.fits.gz --sigma_detect_threshold 5.0 --sigma_grow_threshold 3.0 -b data/sf2outcube_COSMOSC_021.badregs -o data/map_COSMOSC_021.fits.gz -n data/sf2outcube_COSMOSC_021.detect_noise_model')\n",
      "(-1, 'python cloud_finder3.py -i data/sf2outcube_COSMOSC_022.fits.gz --sigma_detect_threshold 5.0 --sigma_grow_threshold 3.0 -b data/sf2outcube_COSMOSC_022.badregs -o data/map_COSMOSC_022.fits.gz -n data/sf2outcube_COSMOSC_022.detect_noise_model')\n",
      "(-1, 'python cloud_finder3.py -i data/sf2outcube_COSMOSC_023.fits.gz --sigma_detect_threshold 5.0 --sigma_grow_threshold 3.0 -b data/sf2outcube_COSMOSC_023.badregs -o data/map_COSMOSC_023.fits.gz -n data/sf2outcube_COSMOSC_023.detect_noise_model')\n",
      "(-1, 'python cloud_finder3.py -i data/sf2outcube_COSMOSC_024.fits.gz --sigma_detect_threshold 5.0 --sigma_grow_threshold 3.0 -b data/sf2outcube_COSMOSC_024.badregs -o data/map_COSMOSC_024.fits.gz -n data/sf2outcube_COSMOSC_024.detect_noise_model')\n",
      "(-1, 'python cloud_finder3.py -i data/sf2outcube_COSMOSC_025.fits.gz --sigma_detect_threshold 5.0 --sigma_grow_threshold 3.0 -b data/sf2outcube_COSMOSC_025.badregs -o data/map_COSMOSC_025.fits.gz -n data/sf2outcube_COSMOSC_025.detect_noise_model')\n",
      "(-1, 'python cloud_finder3.py -i data/sf2outcube_COSMOSC_026.fits.gz --sigma_detect_threshold 5.0 --sigma_grow_threshold 3.0 -b data/sf2outcube_COSMOSC_026.badregs -o data/map_COSMOSC_026.fits.gz -n data/sf2outcube_COSMOSC_026.detect_noise_model')\n",
      "(-1, 'python cloud_finder3.py -i data/sf2outcube_COSMOSC_027.fits.gz --sigma_detect_threshold 5.0 --sigma_grow_threshold 3.0 -b data/sf2outcube_COSMOSC_027.badregs -o data/map_COSMOSC_027.fits.gz -n data/sf2outcube_COSMOSC_027.detect_noise_model')\n",
      "(-1, 'python cloud_finder3.py -i data/sf2outcube_COSMOSC_032.fits.gz --sigma_detect_threshold 5.0 --sigma_grow_threshold 3.0 -b data/sf2outcube_COSMOSC_032.badregs -o data/map_COSMOSC_032.fits.gz -n data/sf2outcube_COSMOSC_032.detect_noise_model')\n",
      "(-1, 'python cloud_finder3.py -i data/sf2outcube_COSMOSC_033.fits.gz --sigma_detect_threshold 5.0 --sigma_grow_threshold 3.0 -b data/sf2outcube_COSMOSC_033.badregs -o data/map_COSMOSC_033.fits.gz -n data/sf2outcube_COSMOSC_033.detect_noise_model')\n",
      "(-1, 'python cloud_finder3.py -i data/sf2outcube_COSMOSC_034.fits.gz --sigma_detect_threshold 5.0 --sigma_grow_threshold 3.0 -b data/sf2outcube_COSMOSC_034.badregs -o data/map_COSMOSC_034.fits.gz -n data/sf2outcube_COSMOSC_034.detect_noise_model')\n",
      "(-1, 'python cloud_finder3.py -i data/sf2outcube_COSMOSC_035.fits.gz --sigma_detect_threshold 5.0 --sigma_grow_threshold 3.0 -b data/sf2outcube_COSMOSC_035.badregs -o data/map_COSMOSC_035.fits.gz -n data/sf2outcube_COSMOSC_035.detect_noise_model')\n",
      "(-1, 'python cloud_finder3.py -i data/sf2outcube_COSMOSC_036.fits.gz --sigma_detect_threshold 5.0 --sigma_grow_threshold 3.0 -b data/sf2outcube_COSMOSC_036.badregs -o data/map_COSMOSC_036.fits.gz -n data/sf2outcube_COSMOSC_036.detect_noise_model')\n",
      "(-1, 'python cloud_finder3.py -i data/sf2outcube_COSMOSC_037.fits.gz --sigma_detect_threshold 5.0 --sigma_grow_threshold 3.0 -b data/sf2outcube_COSMOSC_037.badregs -o data/map_COSMOSC_037.fits.gz -n data/sf2outcube_COSMOSC_037.detect_noise_model')\n",
      "(-1, 'python cloud_finder3.py -i data/sf2outcube_COSMOSC_042.fits.gz --sigma_detect_threshold 5.0 --sigma_grow_threshold 3.0 -b data/sf2outcube_COSMOSC_042.badregs -o data/map_COSMOSC_042.fits.gz -n data/sf2outcube_COSMOSC_042.detect_noise_model')\n",
      "(-1, 'python cloud_finder3.py -i data/sf2outcube_COSMOSC_043.fits.gz --sigma_detect_threshold 5.0 --sigma_grow_threshold 3.0 -b data/sf2outcube_COSMOSC_043.badregs -o data/map_COSMOSC_043.fits.gz -n data/sf2outcube_COSMOSC_043.detect_noise_model')\n",
      "(-1, 'python cloud_finder3.py -i data/sf2outcube_COSMOSC_044.fits.gz --sigma_detect_threshold 5.0 --sigma_grow_threshold 3.0 -b data/sf2outcube_COSMOSC_044.badregs -o data/map_COSMOSC_044.fits.gz -n data/sf2outcube_COSMOSC_044.detect_noise_model')\n",
      "(-1, 'python cloud_finder3.py -i data/sf2outcube_COSMOSC_045.fits.gz --sigma_detect_threshold 5.0 --sigma_grow_threshold 3.0 -b data/sf2outcube_COSMOSC_045.badregs -o data/map_COSMOSC_045.fits.gz -n data/sf2outcube_COSMOSC_045.detect_noise_model')\n",
      "(-1, 'python cloud_finder3.py -i data/sf2outcube_COSMOSC_046.fits.gz --sigma_detect_threshold 5.0 --sigma_grow_threshold 3.0 -b data/sf2outcube_COSMOSC_046.badregs -o data/map_COSMOSC_046.fits.gz -n data/sf2outcube_COSMOSC_046.detect_noise_model')\n",
      "(-1, 'python cloud_finder3.py -i data/sf2outcube_COSMOSC_047.fits.gz --sigma_detect_threshold 5.0 --sigma_grow_threshold 3.0 -b data/sf2outcube_COSMOSC_047.badregs -o data/map_COSMOSC_047.fits.gz -n data/sf2outcube_COSMOSC_047.detect_noise_model')\n",
      "(-1, 'python cloud_finder3.py -i data/sf2outcube_COSMOSC_052.fits.gz --sigma_detect_threshold 5.0 --sigma_grow_threshold 3.0 -b data/sf2outcube_COSMOSC_052.badregs -o data/map_COSMOSC_052.fits.gz -n data/sf2outcube_COSMOSC_052.detect_noise_model')\n",
      "(-1, 'python cloud_finder3.py -i data/sf2outcube_COSMOSC_053.fits.gz --sigma_detect_threshold 5.0 --sigma_grow_threshold 3.0 -b data/sf2outcube_COSMOSC_053.badregs -o data/map_COSMOSC_053.fits.gz -n data/sf2outcube_COSMOSC_053.detect_noise_model')\n",
      "(-1, 'python cloud_finder3.py -i data/sf2outcube_COSMOSC_062.fits.gz --sigma_detect_threshold 5.0 --sigma_grow_threshold 3.0 -b data/sf2outcube_COSMOSC_062.badregs -o data/map_COSMOSC_062.fits.gz -n data/sf2outcube_COSMOSC_062.detect_noise_model')\n",
      "(-1, 'python cloud_finder3.py -i data/sf2outcube_COSMOSC_063.fits.gz --sigma_detect_threshold 5.0 --sigma_grow_threshold 3.0 -b data/sf2outcube_COSMOSC_063.badregs -o data/map_COSMOSC_063.fits.gz -n data/sf2outcube_COSMOSC_063.detect_noise_model')\n",
      "(-1, 'python cloud_finder3.py -i data/sf2outcube_COSMOSC_072.fits.gz --sigma_detect_threshold 5.0 --sigma_grow_threshold 3.0 -b data/sf2outcube_COSMOSC_072.badregs -o data/map_COSMOSC_072.fits.gz -n data/sf2outcube_COSMOSC_072.detect_noise_model')\n",
      "(-1, 'python cloud_finder3.py -i data/sf2outcube_COSMOSC_073.fits.gz --sigma_detect_threshold 5.0 --sigma_grow_threshold 3.0 -b data/sf2outcube_COSMOSC_073.badregs -o data/map_COSMOSC_073.fits.gz -n data/sf2outcube_COSMOSC_073.detect_noise_model')\n",
      "(-1, 'python cloud_finder3.py -i data/sf2outcube_COSMOSC_074.fits.gz --sigma_detect_threshold 5.0 --sigma_grow_threshold 3.0 -b data/sf2outcube_COSMOSC_074.badregs -o data/map_COSMOSC_074.fits.gz -n data/sf2outcube_COSMOSC_074.detect_noise_model')\n",
      "(-1, 'python cloud_finder3.py -i data/sf2outcube_COSMOSC_075.fits.gz --sigma_detect_threshold 5.0 --sigma_grow_threshold 3.0 -b data/sf2outcube_COSMOSC_075.badregs -o data/map_COSMOSC_075.fits.gz -n data/sf2outcube_COSMOSC_075.detect_noise_model')\n",
      "(-1, 'python cloud_finder3.py -i data/sf2outcube_COSMOSC_076.fits.gz --sigma_detect_threshold 5.0 --sigma_grow_threshold 3.0 -b data/sf2outcube_COSMOSC_076.badregs -o data/map_COSMOSC_076.fits.gz -n data/sf2outcube_COSMOSC_076.detect_noise_model')\n",
      "(-1, 'python cloud_finder3.py -i data/sf2outcube_COSMOSC_077.fits.gz --sigma_detect_threshold 5.0 --sigma_grow_threshold 3.0 -b data/sf2outcube_COSMOSC_077.badregs -o data/map_COSMOSC_077.fits.gz -n data/sf2outcube_COSMOSC_077.detect_noise_model')\n",
      "(-1, 'python cloud_finder3.py -i data/sf2outcube_COSMOSC_082.fits.gz --sigma_detect_threshold 5.0 --sigma_grow_threshold 3.0 -b data/sf2outcube_COSMOSC_082.badregs -o data/map_COSMOSC_082.fits.gz -n data/sf2outcube_COSMOSC_082.detect_noise_model')\n",
      "(-1, 'python cloud_finder3.py -i data/sf2outcube_COSMOSC_083.fits.gz --sigma_detect_threshold 5.0 --sigma_grow_threshold 3.0 -b data/sf2outcube_COSMOSC_083.badregs -o data/map_COSMOSC_083.fits.gz -n data/sf2outcube_COSMOSC_083.detect_noise_model')\n",
      "(-1, 'python cloud_finder3.py -i data/sf2outcube_COSMOSC_084.fits.gz --sigma_detect_threshold 5.0 --sigma_grow_threshold 3.0 -b data/sf2outcube_COSMOSC_084.badregs -o data/map_COSMOSC_084.fits.gz -n data/sf2outcube_COSMOSC_084.detect_noise_model')\n",
      "(-1, 'python cloud_finder3.py -i data/sf2outcube_COSMOSC_085.fits.gz --sigma_detect_threshold 5.0 --sigma_grow_threshold 3.0 -b data/sf2outcube_COSMOSC_085.badregs -o data/map_COSMOSC_085.fits.gz -n data/sf2outcube_COSMOSC_085.detect_noise_model')\n",
      "(-1, 'python cloud_finder3.py -i data/sf2outcube_COSMOSC_086.fits.gz --sigma_detect_threshold 5.0 --sigma_grow_threshold 3.0 -b data/sf2outcube_COSMOSC_086.badregs -o data/map_COSMOSC_086.fits.gz -n data/sf2outcube_COSMOSC_086.detect_noise_model')\n",
      "(-1, 'python cloud_finder3.py -i data/sf2outcube_COSMOSC_087.fits.gz --sigma_detect_threshold 5.0 --sigma_grow_threshold 3.0 -b data/sf2outcube_COSMOSC_087.badregs -o data/map_COSMOSC_087.fits.gz -n data/sf2outcube_COSMOSC_087.detect_noise_model')\n",
      "(-1, 'python cloud_finder3.py -i data/sf2outcube_COSMOSC_093.fits.gz --sigma_detect_threshold 5.0 --sigma_grow_threshold 3.0 -b data/sf2outcube_COSMOSC_093.badregs -o data/map_COSMOSC_093.fits.gz -n data/sf2outcube_COSMOSC_093.detect_noise_model')\n",
      "(-1, 'python cloud_finder3.py -i data/sf2outcube_COSMOSC_095.fits.gz --sigma_detect_threshold 5.0 --sigma_grow_threshold 3.0 -b data/sf2outcube_COSMOSC_095.badregs -o data/map_COSMOSC_095.fits.gz -n data/sf2outcube_COSMOSC_095.detect_noise_model')\n",
      "(-1, 'python cloud_finder3.py -i data/sf2outcube_COSMOSC_096.fits.gz --sigma_detect_threshold 5.0 --sigma_grow_threshold 3.0 -b data/sf2outcube_COSMOSC_096.badregs -o data/map_COSMOSC_096.fits.gz -n data/sf2outcube_COSMOSC_096.detect_noise_model')\n",
      "(-1, 'python cloud_finder3.py -i data/sf2outcube_COSMOSC_097.fits.gz --sigma_detect_threshold 5.0 --sigma_grow_threshold 3.0 -b data/sf2outcube_COSMOSC_097.badregs -o data/map_COSMOSC_097.fits.gz -n data/sf2outcube_COSMOSC_097.detect_noise_model')\n",
      "(-1, 'python cloud_finder3.py -i data/sf2outcube_COSMOSC_103.fits.gz --sigma_detect_threshold 5.0 --sigma_grow_threshold 3.0 -b data/sf2outcube_COSMOSC_103.badregs -o data/map_COSMOSC_103.fits.gz -n data/sf2outcube_COSMOSC_103.detect_noise_model')\n",
      "(-1, 'python cloud_finder3.py -i data/sf2outcube_COSMOSC_104.fits.gz --sigma_detect_threshold 5.0 --sigma_grow_threshold 3.0 -b data/sf2outcube_COSMOSC_104.badregs -o data/map_COSMOSC_104.fits.gz -n data/sf2outcube_COSMOSC_104.detect_noise_model')\n",
      "(-1, 'python cloud_finder3.py -i data/sf2outcube_COSMOSC_105.fits.gz --sigma_detect_threshold 5.0 --sigma_grow_threshold 3.0 -b data/sf2outcube_COSMOSC_105.badregs -o data/map_COSMOSC_105.fits.gz -n data/sf2outcube_COSMOSC_105.detect_noise_model')\n",
      "(-1, 'python cloud_finder3.py -i data/sf2outcube_COSMOSC_106.fits.gz --sigma_detect_threshold 5.0 --sigma_grow_threshold 3.0 -b data/sf2outcube_COSMOSC_106.badregs -o data/map_COSMOSC_106.fits.gz -n data/sf2outcube_COSMOSC_106.detect_noise_model')\n"
     ]
    }
   ],
   "source": [
    "sigma_detect_threshold = 5.\n",
    "sigma_grow_threshold = 3.\n",
    "\n",
    "# run detect and segmentation\n",
    "def cloud_finder3(f, field, sigma_detect_threshold, sigma_grow_threshold, DRYRUN=True):\n",
    "    import os\n",
    "    h,t = os.path.split(f)\n",
    "    detect_noise_model = f.replace(\".fits.gz\",\".detect_noise_model\")\n",
    "    \n",
    "    cmd = \"python cloud_finder3.py -i {} --sigma_detect_threshold {} --sigma_grow_threshold {} -b {} -o {} -n {}\".\\\n",
    "        format(f,sigma_detect_threshold, sigma_grow_threshold,f.replace('.fits.gz','.badregs'),f.replace('sf2outcube','map'),detect_noise_model)\n",
    "    if DRYRUN:\n",
    "        print(cmd)\n",
    "        return -1, cmd\n",
    "    else:\n",
    "        return os.system( cmd ), cmd\n",
    "    \n",
    "    return os.system( cmd )\n",
    "\n",
    "ff = np.sort( glob.glob(\"data/sf2outcube_{}_???.fits.gz\".format(field)) )\n",
    "\n",
    "tasks = []\n",
    "for f in ff:\n",
    "    tasks.append(lv.apply(cloud_finder3, f, field, sigma_detect_threshold, sigma_grow_threshold))\n",
    "result = [task.get() for task in tasks]  # blocks until all results are back\n",
    "\n",
    "for r in result:\n",
    "    print(r)"
   ]
  },
  {
   "cell_type": "code",
   "execution_count": 213,
   "metadata": {},
   "outputs": [
    {
     "name": "stdout",
     "output_type": "stream",
     "text": [
      "(0, 'python apply_manual_catalog.py -i data/sf2outcube_COSMOSC_021.fits.gz -s 2.0 -m data/map_COSMOSC_021.fits.gz -n data/sf2outcube_COSMOSC_021.detect_noise_model -o data/mmap_COSMOSC_021.fits.gz -c data/COSMOSC_021.txt')\n",
      "(0, 'python apply_manual_catalog.py -i data/sf2outcube_COSMOSC_022.fits.gz -s 2.0 -m data/map_COSMOSC_022.fits.gz -n data/sf2outcube_COSMOSC_022.detect_noise_model -o data/mmap_COSMOSC_022.fits.gz -c data/COSMOSC_022.txt')\n",
      "(0, 'python apply_manual_catalog.py -i data/sf2outcube_COSMOSC_023.fits.gz -s 2.0 -m data/map_COSMOSC_023.fits.gz -n data/sf2outcube_COSMOSC_023.detect_noise_model -o data/mmap_COSMOSC_023.fits.gz -c data/COSMOSC_023.txt')\n",
      "(0, 'python apply_manual_catalog.py -i data/sf2outcube_COSMOSC_024.fits.gz -s 2.0 -m data/map_COSMOSC_024.fits.gz -n data/sf2outcube_COSMOSC_024.detect_noise_model -o data/mmap_COSMOSC_024.fits.gz -c data/COSMOSC_024.txt')\n",
      "(0, 'python apply_manual_catalog.py -i data/sf2outcube_COSMOSC_025.fits.gz -s 2.0 -m data/map_COSMOSC_025.fits.gz -n data/sf2outcube_COSMOSC_025.detect_noise_model -o data/mmap_COSMOSC_025.fits.gz -c data/COSMOSC_025.txt')\n",
      "(0, 'python apply_manual_catalog.py -i data/sf2outcube_COSMOSC_026.fits.gz -s 2.0 -m data/map_COSMOSC_026.fits.gz -n data/sf2outcube_COSMOSC_026.detect_noise_model -o data/mmap_COSMOSC_026.fits.gz -c data/COSMOSC_026.txt')\n",
      "(0, 'python apply_manual_catalog.py -i data/sf2outcube_COSMOSC_027.fits.gz -s 2.0 -m data/map_COSMOSC_027.fits.gz -n data/sf2outcube_COSMOSC_027.detect_noise_model -o data/mmap_COSMOSC_027.fits.gz -c data/COSMOSC_027.txt')\n",
      "(0, 'python apply_manual_catalog.py -i data/sf2outcube_COSMOSC_032.fits.gz -s 2.0 -m data/map_COSMOSC_032.fits.gz -n data/sf2outcube_COSMOSC_032.detect_noise_model -o data/mmap_COSMOSC_032.fits.gz -c data/COSMOSC_032.txt')\n",
      "(256, 'python apply_manual_catalog.py -i data/sf2outcube_COSMOSC_033.fits.gz -s 2.0 -m data/map_COSMOSC_033.fits.gz -n data/sf2outcube_COSMOSC_033.detect_noise_model -o data/mmap_COSMOSC_033.fits.gz -c data/COSMOSC_033.txt')\n",
      "(0, 'python apply_manual_catalog.py -i data/sf2outcube_COSMOSC_034.fits.gz -s 2.0 -m data/map_COSMOSC_034.fits.gz -n data/sf2outcube_COSMOSC_034.detect_noise_model -o data/mmap_COSMOSC_034.fits.gz -c data/COSMOSC_034.txt')\n",
      "(0, 'python apply_manual_catalog.py -i data/sf2outcube_COSMOSC_035.fits.gz -s 2.0 -m data/map_COSMOSC_035.fits.gz -n data/sf2outcube_COSMOSC_035.detect_noise_model -o data/mmap_COSMOSC_035.fits.gz -c data/COSMOSC_035.txt')\n",
      "(0, 'python apply_manual_catalog.py -i data/sf2outcube_COSMOSC_036.fits.gz -s 2.0 -m data/map_COSMOSC_036.fits.gz -n data/sf2outcube_COSMOSC_036.detect_noise_model -o data/mmap_COSMOSC_036.fits.gz -c data/COSMOSC_036.txt')\n",
      "(0, 'python apply_manual_catalog.py -i data/sf2outcube_COSMOSC_037.fits.gz -s 2.0 -m data/map_COSMOSC_037.fits.gz -n data/sf2outcube_COSMOSC_037.detect_noise_model -o data/mmap_COSMOSC_037.fits.gz -c data/COSMOSC_037.txt')\n",
      "(0, 'python apply_manual_catalog.py -i data/sf2outcube_COSMOSC_042.fits.gz -s 2.0 -m data/map_COSMOSC_042.fits.gz -n data/sf2outcube_COSMOSC_042.detect_noise_model -o data/mmap_COSMOSC_042.fits.gz -c data/COSMOSC_042.txt')\n",
      "(0, 'python apply_manual_catalog.py -i data/sf2outcube_COSMOSC_043.fits.gz -s 2.0 -m data/map_COSMOSC_043.fits.gz -n data/sf2outcube_COSMOSC_043.detect_noise_model -o data/mmap_COSMOSC_043.fits.gz -c data/COSMOSC_043.txt')\n",
      "(0, 'python apply_manual_catalog.py -i data/sf2outcube_COSMOSC_044.fits.gz -s 2.0 -m data/map_COSMOSC_044.fits.gz -n data/sf2outcube_COSMOSC_044.detect_noise_model -o data/mmap_COSMOSC_044.fits.gz -c data/COSMOSC_044.txt')\n",
      "(0, 'python apply_manual_catalog.py -i data/sf2outcube_COSMOSC_045.fits.gz -s 2.0 -m data/map_COSMOSC_045.fits.gz -n data/sf2outcube_COSMOSC_045.detect_noise_model -o data/mmap_COSMOSC_045.fits.gz -c data/COSMOSC_045.txt')\n",
      "(0, 'python apply_manual_catalog.py -i data/sf2outcube_COSMOSC_046.fits.gz -s 2.0 -m data/map_COSMOSC_046.fits.gz -n data/sf2outcube_COSMOSC_046.detect_noise_model -o data/mmap_COSMOSC_046.fits.gz -c data/COSMOSC_046.txt')\n",
      "(0, 'python apply_manual_catalog.py -i data/sf2outcube_COSMOSC_047.fits.gz -s 2.0 -m data/map_COSMOSC_047.fits.gz -n data/sf2outcube_COSMOSC_047.detect_noise_model -o data/mmap_COSMOSC_047.fits.gz -c data/COSMOSC_047.txt')\n",
      "(0, 'python apply_manual_catalog.py -i data/sf2outcube_COSMOSC_052.fits.gz -s 2.0 -m data/map_COSMOSC_052.fits.gz -n data/sf2outcube_COSMOSC_052.detect_noise_model -o data/mmap_COSMOSC_052.fits.gz -c data/COSMOSC_052.txt')\n",
      "(0, 'python apply_manual_catalog.py -i data/sf2outcube_COSMOSC_053.fits.gz -s 2.0 -m data/map_COSMOSC_053.fits.gz -n data/sf2outcube_COSMOSC_053.detect_noise_model -o data/mmap_COSMOSC_053.fits.gz -c data/COSMOSC_053.txt')\n",
      "(0, 'python apply_manual_catalog.py -i data/sf2outcube_COSMOSC_062.fits.gz -s 2.0 -m data/map_COSMOSC_062.fits.gz -n data/sf2outcube_COSMOSC_062.detect_noise_model -o data/mmap_COSMOSC_062.fits.gz -c data/COSMOSC_062.txt')\n",
      "(0, 'python apply_manual_catalog.py -i data/sf2outcube_COSMOSC_063.fits.gz -s 2.0 -m data/map_COSMOSC_063.fits.gz -n data/sf2outcube_COSMOSC_063.detect_noise_model -o data/mmap_COSMOSC_063.fits.gz -c data/COSMOSC_063.txt')\n",
      "(0, 'python apply_manual_catalog.py -i data/sf2outcube_COSMOSC_072.fits.gz -s 2.0 -m data/map_COSMOSC_072.fits.gz -n data/sf2outcube_COSMOSC_072.detect_noise_model -o data/mmap_COSMOSC_072.fits.gz -c data/COSMOSC_072.txt')\n",
      "(0, 'python apply_manual_catalog.py -i data/sf2outcube_COSMOSC_073.fits.gz -s 2.0 -m data/map_COSMOSC_073.fits.gz -n data/sf2outcube_COSMOSC_073.detect_noise_model -o data/mmap_COSMOSC_073.fits.gz -c data/COSMOSC_073.txt')\n",
      "(0, 'python apply_manual_catalog.py -i data/sf2outcube_COSMOSC_074.fits.gz -s 2.0 -m data/map_COSMOSC_074.fits.gz -n data/sf2outcube_COSMOSC_074.detect_noise_model -o data/mmap_COSMOSC_074.fits.gz -c data/COSMOSC_074.txt')\n",
      "(0, 'python apply_manual_catalog.py -i data/sf2outcube_COSMOSC_075.fits.gz -s 2.0 -m data/map_COSMOSC_075.fits.gz -n data/sf2outcube_COSMOSC_075.detect_noise_model -o data/mmap_COSMOSC_075.fits.gz -c data/COSMOSC_075.txt')\n",
      "(0, 'python apply_manual_catalog.py -i data/sf2outcube_COSMOSC_076.fits.gz -s 2.0 -m data/map_COSMOSC_076.fits.gz -n data/sf2outcube_COSMOSC_076.detect_noise_model -o data/mmap_COSMOSC_076.fits.gz -c data/COSMOSC_076.txt')\n",
      "(0, 'python apply_manual_catalog.py -i data/sf2outcube_COSMOSC_077.fits.gz -s 2.0 -m data/map_COSMOSC_077.fits.gz -n data/sf2outcube_COSMOSC_077.detect_noise_model -o data/mmap_COSMOSC_077.fits.gz -c data/COSMOSC_077.txt')\n",
      "(0, 'python apply_manual_catalog.py -i data/sf2outcube_COSMOSC_082.fits.gz -s 2.0 -m data/map_COSMOSC_082.fits.gz -n data/sf2outcube_COSMOSC_082.detect_noise_model -o data/mmap_COSMOSC_082.fits.gz -c data/COSMOSC_082.txt')\n",
      "(0, 'python apply_manual_catalog.py -i data/sf2outcube_COSMOSC_083.fits.gz -s 2.0 -m data/map_COSMOSC_083.fits.gz -n data/sf2outcube_COSMOSC_083.detect_noise_model -o data/mmap_COSMOSC_083.fits.gz -c data/COSMOSC_083.txt')\n",
      "(0, 'python apply_manual_catalog.py -i data/sf2outcube_COSMOSC_084.fits.gz -s 2.0 -m data/map_COSMOSC_084.fits.gz -n data/sf2outcube_COSMOSC_084.detect_noise_model -o data/mmap_COSMOSC_084.fits.gz -c data/COSMOSC_084.txt')\n",
      "(0, 'python apply_manual_catalog.py -i data/sf2outcube_COSMOSC_085.fits.gz -s 2.0 -m data/map_COSMOSC_085.fits.gz -n data/sf2outcube_COSMOSC_085.detect_noise_model -o data/mmap_COSMOSC_085.fits.gz -c data/COSMOSC_085.txt')\n",
      "(0, 'python apply_manual_catalog.py -i data/sf2outcube_COSMOSC_086.fits.gz -s 2.0 -m data/map_COSMOSC_086.fits.gz -n data/sf2outcube_COSMOSC_086.detect_noise_model -o data/mmap_COSMOSC_086.fits.gz -c data/COSMOSC_086.txt')\n",
      "(0, 'python apply_manual_catalog.py -i data/sf2outcube_COSMOSC_087.fits.gz -s 2.0 -m data/map_COSMOSC_087.fits.gz -n data/sf2outcube_COSMOSC_087.detect_noise_model -o data/mmap_COSMOSC_087.fits.gz -c data/COSMOSC_087.txt')\n",
      "(0, 'python apply_manual_catalog.py -i data/sf2outcube_COSMOSC_093.fits.gz -s 2.0 -m data/map_COSMOSC_093.fits.gz -n data/sf2outcube_COSMOSC_093.detect_noise_model -o data/mmap_COSMOSC_093.fits.gz -c data/COSMOSC_093.txt')\n",
      "(0, 'python apply_manual_catalog.py -i data/sf2outcube_COSMOSC_095.fits.gz -s 2.0 -m data/map_COSMOSC_095.fits.gz -n data/sf2outcube_COSMOSC_095.detect_noise_model -o data/mmap_COSMOSC_095.fits.gz -c data/COSMOSC_095.txt')\n",
      "(0, 'python apply_manual_catalog.py -i data/sf2outcube_COSMOSC_096.fits.gz -s 2.0 -m data/map_COSMOSC_096.fits.gz -n data/sf2outcube_COSMOSC_096.detect_noise_model -o data/mmap_COSMOSC_096.fits.gz -c data/COSMOSC_096.txt')\n",
      "(0, 'python apply_manual_catalog.py -i data/sf2outcube_COSMOSC_097.fits.gz -s 2.0 -m data/map_COSMOSC_097.fits.gz -n data/sf2outcube_COSMOSC_097.detect_noise_model -o data/mmap_COSMOSC_097.fits.gz -c data/COSMOSC_097.txt')\n",
      "(0, 'python apply_manual_catalog.py -i data/sf2outcube_COSMOSC_103.fits.gz -s 2.0 -m data/map_COSMOSC_103.fits.gz -n data/sf2outcube_COSMOSC_103.detect_noise_model -o data/mmap_COSMOSC_103.fits.gz -c data/COSMOSC_103.txt')\n",
      "(0, 'python apply_manual_catalog.py -i data/sf2outcube_COSMOSC_104.fits.gz -s 2.0 -m data/map_COSMOSC_104.fits.gz -n data/sf2outcube_COSMOSC_104.detect_noise_model -o data/mmap_COSMOSC_104.fits.gz -c data/COSMOSC_104.txt')\n",
      "(0, 'python apply_manual_catalog.py -i data/sf2outcube_COSMOSC_105.fits.gz -s 2.0 -m data/map_COSMOSC_105.fits.gz -n data/sf2outcube_COSMOSC_105.detect_noise_model -o data/mmap_COSMOSC_105.fits.gz -c data/COSMOSC_105.txt')\n",
      "(0, 'python apply_manual_catalog.py -i data/sf2outcube_COSMOSC_106.fits.gz -s 2.0 -m data/map_COSMOSC_106.fits.gz -n data/sf2outcube_COSMOSC_106.detect_noise_model -o data/mmap_COSMOSC_106.fits.gz -c data/COSMOSC_106.txt')\n"
     ]
    }
   ],
   "source": [
    "# add segmants for manually flagged \n",
    "def apply_manual_catalog(f, field, sigma_grow_threshold, DRYRUN=False):\n",
    "    import os\n",
    "    h,t = os.path.split(f)\n",
    "    ifu = t.replace('.fits.gz','').split(\"_\")[-1]\n",
    "    fncatalog = \"data/{}_{}.txt\".format(field, ifu)\n",
    "    detect_noise_model = f.replace(\".fits.gz\",\".detect_noise_model\")\n",
    "    \n",
    "    cmd = \"python apply_manual_catalog.py -i {} -s {} -m {} -n {} -o {} -c {}\".\\\n",
    "        format(f, sigma_grow_threshold, f.replace('sf2outcube','map'), \\\n",
    "               detect_noise_model, f.replace('sf2outcube','mmap'), fncatalog)\n",
    "    if DRYRUN:\n",
    "        print(cmd)\n",
    "        return cmd\n",
    "    else:\n",
    "        return os.system( cmd ), cmd\n",
    "    \n",
    "    return os.system( cmd )\n",
    "\n",
    "ff = np.sort( glob.glob(\"data/sf2outcube_{}_???.fits.gz\".format(field)) )\n",
    "\n",
    "sigma_grow_threshold = 2.0\n",
    "\n",
    "tasks = []\n",
    "for f in ff:\n",
    "    tasks.append(lv.apply(apply_manual_catalog, f, field, sigma_grow_threshold))\n",
    "result = [task.get() for task in tasks]  # blocks until all results are back\n",
    "\n",
    "for r in result:\n",
    "    print(r)\n",
    "\n",
    "#python apply_manual_catalog.py -i data/sf2outcube_COSMOSC_021.fits.gz --sigma_grow_threshold 1.7  \n",
    "#-m data/map_COSMOSC_021.fits.gz -n data/sf2outcube_COSMOSC_021.detect_noise_model -o data/mmap_COSMOSC_021.fits.gz -c data/COSMOSC_021.txt"
   ]
  },
  {
   "cell_type": "code",
   "execution_count": 223,
   "metadata": {},
   "outputs": [
    {
     "name": "stdout",
     "output_type": "stream",
     "text": [
      "(0, 'python build_catalog.py -i data/sf2outcube_COSMOSC_021.fits.gz -m data/mmap_COSMOSC_021.fits.gz -c specphot/mean_cal_COSMOSC.txt -o data/msf2outcube_COSMOSC_021.cat')\n",
      "(0, 'python build_catalog.py -i data/sf2outcube_COSMOSC_022.fits.gz -m data/mmap_COSMOSC_022.fits.gz -c specphot/mean_cal_COSMOSC.txt -o data/msf2outcube_COSMOSC_022.cat')\n",
      "(0, 'python build_catalog.py -i data/sf2outcube_COSMOSC_023.fits.gz -m data/mmap_COSMOSC_023.fits.gz -c specphot/mean_cal_COSMOSC.txt -o data/msf2outcube_COSMOSC_023.cat')\n",
      "(0, 'python build_catalog.py -i data/sf2outcube_COSMOSC_024.fits.gz -m data/mmap_COSMOSC_024.fits.gz -c specphot/mean_cal_COSMOSC.txt -o data/msf2outcube_COSMOSC_024.cat')\n",
      "(0, 'python build_catalog.py -i data/sf2outcube_COSMOSC_025.fits.gz -m data/mmap_COSMOSC_025.fits.gz -c specphot/mean_cal_COSMOSC.txt -o data/msf2outcube_COSMOSC_025.cat')\n",
      "(0, 'python build_catalog.py -i data/sf2outcube_COSMOSC_026.fits.gz -m data/mmap_COSMOSC_026.fits.gz -c specphot/mean_cal_COSMOSC.txt -o data/msf2outcube_COSMOSC_026.cat')\n",
      "(0, 'python build_catalog.py -i data/sf2outcube_COSMOSC_027.fits.gz -m data/mmap_COSMOSC_027.fits.gz -c specphot/mean_cal_COSMOSC.txt -o data/msf2outcube_COSMOSC_027.cat')\n",
      "(0, 'python build_catalog.py -i data/sf2outcube_COSMOSC_032.fits.gz -m data/mmap_COSMOSC_032.fits.gz -c specphot/mean_cal_COSMOSC.txt -o data/msf2outcube_COSMOSC_032.cat')\n",
      "(256, 'python build_catalog.py -i data/sf2outcube_COSMOSC_033.fits.gz -m data/mmap_COSMOSC_033.fits.gz -c specphot/mean_cal_COSMOSC.txt -o data/msf2outcube_COSMOSC_033.cat')\n",
      "(0, 'python build_catalog.py -i data/sf2outcube_COSMOSC_034.fits.gz -m data/mmap_COSMOSC_034.fits.gz -c specphot/mean_cal_COSMOSC.txt -o data/msf2outcube_COSMOSC_034.cat')\n",
      "(0, 'python build_catalog.py -i data/sf2outcube_COSMOSC_035.fits.gz -m data/mmap_COSMOSC_035.fits.gz -c specphot/mean_cal_COSMOSC.txt -o data/msf2outcube_COSMOSC_035.cat')\n",
      "(0, 'python build_catalog.py -i data/sf2outcube_COSMOSC_036.fits.gz -m data/mmap_COSMOSC_036.fits.gz -c specphot/mean_cal_COSMOSC.txt -o data/msf2outcube_COSMOSC_036.cat')\n",
      "(0, 'python build_catalog.py -i data/sf2outcube_COSMOSC_037.fits.gz -m data/mmap_COSMOSC_037.fits.gz -c specphot/mean_cal_COSMOSC.txt -o data/msf2outcube_COSMOSC_037.cat')\n",
      "(0, 'python build_catalog.py -i data/sf2outcube_COSMOSC_042.fits.gz -m data/mmap_COSMOSC_042.fits.gz -c specphot/mean_cal_COSMOSC.txt -o data/msf2outcube_COSMOSC_042.cat')\n",
      "(0, 'python build_catalog.py -i data/sf2outcube_COSMOSC_043.fits.gz -m data/mmap_COSMOSC_043.fits.gz -c specphot/mean_cal_COSMOSC.txt -o data/msf2outcube_COSMOSC_043.cat')\n",
      "(0, 'python build_catalog.py -i data/sf2outcube_COSMOSC_044.fits.gz -m data/mmap_COSMOSC_044.fits.gz -c specphot/mean_cal_COSMOSC.txt -o data/msf2outcube_COSMOSC_044.cat')\n",
      "(0, 'python build_catalog.py -i data/sf2outcube_COSMOSC_045.fits.gz -m data/mmap_COSMOSC_045.fits.gz -c specphot/mean_cal_COSMOSC.txt -o data/msf2outcube_COSMOSC_045.cat')\n",
      "(0, 'python build_catalog.py -i data/sf2outcube_COSMOSC_046.fits.gz -m data/mmap_COSMOSC_046.fits.gz -c specphot/mean_cal_COSMOSC.txt -o data/msf2outcube_COSMOSC_046.cat')\n",
      "(0, 'python build_catalog.py -i data/sf2outcube_COSMOSC_047.fits.gz -m data/mmap_COSMOSC_047.fits.gz -c specphot/mean_cal_COSMOSC.txt -o data/msf2outcube_COSMOSC_047.cat')\n",
      "(0, 'python build_catalog.py -i data/sf2outcube_COSMOSC_052.fits.gz -m data/mmap_COSMOSC_052.fits.gz -c specphot/mean_cal_COSMOSC.txt -o data/msf2outcube_COSMOSC_052.cat')\n",
      "(0, 'python build_catalog.py -i data/sf2outcube_COSMOSC_053.fits.gz -m data/mmap_COSMOSC_053.fits.gz -c specphot/mean_cal_COSMOSC.txt -o data/msf2outcube_COSMOSC_053.cat')\n",
      "(0, 'python build_catalog.py -i data/sf2outcube_COSMOSC_062.fits.gz -m data/mmap_COSMOSC_062.fits.gz -c specphot/mean_cal_COSMOSC.txt -o data/msf2outcube_COSMOSC_062.cat')\n",
      "(0, 'python build_catalog.py -i data/sf2outcube_COSMOSC_063.fits.gz -m data/mmap_COSMOSC_063.fits.gz -c specphot/mean_cal_COSMOSC.txt -o data/msf2outcube_COSMOSC_063.cat')\n",
      "(0, 'python build_catalog.py -i data/sf2outcube_COSMOSC_072.fits.gz -m data/mmap_COSMOSC_072.fits.gz -c specphot/mean_cal_COSMOSC.txt -o data/msf2outcube_COSMOSC_072.cat')\n",
      "(0, 'python build_catalog.py -i data/sf2outcube_COSMOSC_073.fits.gz -m data/mmap_COSMOSC_073.fits.gz -c specphot/mean_cal_COSMOSC.txt -o data/msf2outcube_COSMOSC_073.cat')\n",
      "(0, 'python build_catalog.py -i data/sf2outcube_COSMOSC_074.fits.gz -m data/mmap_COSMOSC_074.fits.gz -c specphot/mean_cal_COSMOSC.txt -o data/msf2outcube_COSMOSC_074.cat')\n",
      "(0, 'python build_catalog.py -i data/sf2outcube_COSMOSC_075.fits.gz -m data/mmap_COSMOSC_075.fits.gz -c specphot/mean_cal_COSMOSC.txt -o data/msf2outcube_COSMOSC_075.cat')\n",
      "(0, 'python build_catalog.py -i data/sf2outcube_COSMOSC_076.fits.gz -m data/mmap_COSMOSC_076.fits.gz -c specphot/mean_cal_COSMOSC.txt -o data/msf2outcube_COSMOSC_076.cat')\n",
      "(0, 'python build_catalog.py -i data/sf2outcube_COSMOSC_077.fits.gz -m data/mmap_COSMOSC_077.fits.gz -c specphot/mean_cal_COSMOSC.txt -o data/msf2outcube_COSMOSC_077.cat')\n",
      "(0, 'python build_catalog.py -i data/sf2outcube_COSMOSC_082.fits.gz -m data/mmap_COSMOSC_082.fits.gz -c specphot/mean_cal_COSMOSC.txt -o data/msf2outcube_COSMOSC_082.cat')\n",
      "(0, 'python build_catalog.py -i data/sf2outcube_COSMOSC_083.fits.gz -m data/mmap_COSMOSC_083.fits.gz -c specphot/mean_cal_COSMOSC.txt -o data/msf2outcube_COSMOSC_083.cat')\n",
      "(0, 'python build_catalog.py -i data/sf2outcube_COSMOSC_084.fits.gz -m data/mmap_COSMOSC_084.fits.gz -c specphot/mean_cal_COSMOSC.txt -o data/msf2outcube_COSMOSC_084.cat')\n",
      "(0, 'python build_catalog.py -i data/sf2outcube_COSMOSC_085.fits.gz -m data/mmap_COSMOSC_085.fits.gz -c specphot/mean_cal_COSMOSC.txt -o data/msf2outcube_COSMOSC_085.cat')\n",
      "(0, 'python build_catalog.py -i data/sf2outcube_COSMOSC_086.fits.gz -m data/mmap_COSMOSC_086.fits.gz -c specphot/mean_cal_COSMOSC.txt -o data/msf2outcube_COSMOSC_086.cat')\n",
      "(0, 'python build_catalog.py -i data/sf2outcube_COSMOSC_087.fits.gz -m data/mmap_COSMOSC_087.fits.gz -c specphot/mean_cal_COSMOSC.txt -o data/msf2outcube_COSMOSC_087.cat')\n",
      "(0, 'python build_catalog.py -i data/sf2outcube_COSMOSC_093.fits.gz -m data/mmap_COSMOSC_093.fits.gz -c specphot/mean_cal_COSMOSC.txt -o data/msf2outcube_COSMOSC_093.cat')\n",
      "(0, 'python build_catalog.py -i data/sf2outcube_COSMOSC_095.fits.gz -m data/mmap_COSMOSC_095.fits.gz -c specphot/mean_cal_COSMOSC.txt -o data/msf2outcube_COSMOSC_095.cat')\n",
      "(0, 'python build_catalog.py -i data/sf2outcube_COSMOSC_096.fits.gz -m data/mmap_COSMOSC_096.fits.gz -c specphot/mean_cal_COSMOSC.txt -o data/msf2outcube_COSMOSC_096.cat')\n",
      "(0, 'python build_catalog.py -i data/sf2outcube_COSMOSC_097.fits.gz -m data/mmap_COSMOSC_097.fits.gz -c specphot/mean_cal_COSMOSC.txt -o data/msf2outcube_COSMOSC_097.cat')\n",
      "(0, 'python build_catalog.py -i data/sf2outcube_COSMOSC_103.fits.gz -m data/mmap_COSMOSC_103.fits.gz -c specphot/mean_cal_COSMOSC.txt -o data/msf2outcube_COSMOSC_103.cat')\n",
      "(0, 'python build_catalog.py -i data/sf2outcube_COSMOSC_104.fits.gz -m data/mmap_COSMOSC_104.fits.gz -c specphot/mean_cal_COSMOSC.txt -o data/msf2outcube_COSMOSC_104.cat')\n",
      "(0, 'python build_catalog.py -i data/sf2outcube_COSMOSC_105.fits.gz -m data/mmap_COSMOSC_105.fits.gz -c specphot/mean_cal_COSMOSC.txt -o data/msf2outcube_COSMOSC_105.cat')\n",
      "(0, 'python build_catalog.py -i data/sf2outcube_COSMOSC_106.fits.gz -m data/mmap_COSMOSC_106.fits.gz -c specphot/mean_cal_COSMOSC.txt -o data/msf2outcube_COSMOSC_106.cat')\n"
     ]
    }
   ],
   "source": [
    "#sf2outcube_COSMOSA_044.fits.gz\n",
    "#map_COSMOSB_042.fits.gz\n",
    "\n",
    "\n",
    "# build catalog\n",
    "def build_catalog(f, field, DRYRUN=False):\n",
    "    import os\n",
    "    ifu = f[-11:-8]\n",
    "    \n",
    "    cmd = \"python build_catalog.py -i {f} -m data/mmap_{field}_{ifu}.fits.gz -c specphot/mean_cal_{field}.txt -o data/msf2outcube_{field}_{ifu}.cat\"\\\n",
    "        .format(f=f,field=field,ifu=ifu)\n",
    "    \n",
    "    if DRYRUN:\n",
    "        return -1, cmd\n",
    "    \n",
    "    return os.system( cmd ), cmd\n",
    "\n",
    "ff = np.sort( glob.glob(\"data/sf2outcube_{}_???.fits.gz\".format(field)) )\n",
    "\n",
    "tasks = []\n",
    "for f in ff:\n",
    "    tasks.append(lv.apply(build_catalog, f, field))\n",
    "result = [task.get() for task in tasks]  # blocks until all results are back\n",
    "\n",
    "for r in result:\n",
    "    print(r)"
   ]
  },
  {
   "cell_type": "code",
   "execution_count": 224,
   "metadata": {},
   "outputs": [
    {
     "name": "stdout",
     "output_type": "stream",
     "text": [
      "python src/add_manual_info.py -m data/mmap_COSMOSC_021.fits.gz -c data/COSMOSC_021.txt -a data/msf2outcube_COSMOSC_021.cat\n",
      "python src/add_manual_info.py -m data/mmap_COSMOSC_022.fits.gz -c data/COSMOSC_022.txt -a data/msf2outcube_COSMOSC_022.cat\n",
      "python src/add_manual_info.py -m data/mmap_COSMOSC_023.fits.gz -c data/COSMOSC_023.txt -a data/msf2outcube_COSMOSC_023.cat\n",
      "python src/add_manual_info.py -m data/mmap_COSMOSC_024.fits.gz -c data/COSMOSC_024.txt -a data/msf2outcube_COSMOSC_024.cat\n",
      "python src/add_manual_info.py -m data/mmap_COSMOSC_025.fits.gz -c data/COSMOSC_025.txt -a data/msf2outcube_COSMOSC_025.cat\n",
      "python src/add_manual_info.py -m data/mmap_COSMOSC_026.fits.gz -c data/COSMOSC_026.txt -a data/msf2outcube_COSMOSC_026.cat\n",
      "python src/add_manual_info.py -m data/mmap_COSMOSC_027.fits.gz -c data/COSMOSC_027.txt -a data/msf2outcube_COSMOSC_027.cat\n",
      "python src/add_manual_info.py -m data/mmap_COSMOSC_032.fits.gz -c data/COSMOSC_032.txt -a data/msf2outcube_COSMOSC_032.cat\n",
      "python src/add_manual_info.py -m data/mmap_COSMOSC_033.fits.gz -c data/COSMOSC_033.txt -a data/msf2outcube_COSMOSC_033.cat\n",
      "python src/add_manual_info.py -m data/mmap_COSMOSC_034.fits.gz -c data/COSMOSC_034.txt -a data/msf2outcube_COSMOSC_034.cat\n",
      "python src/add_manual_info.py -m data/mmap_COSMOSC_035.fits.gz -c data/COSMOSC_035.txt -a data/msf2outcube_COSMOSC_035.cat\n",
      "python src/add_manual_info.py -m data/mmap_COSMOSC_036.fits.gz -c data/COSMOSC_036.txt -a data/msf2outcube_COSMOSC_036.cat\n",
      "python src/add_manual_info.py -m data/mmap_COSMOSC_037.fits.gz -c data/COSMOSC_037.txt -a data/msf2outcube_COSMOSC_037.cat\n",
      "python src/add_manual_info.py -m data/mmap_COSMOSC_042.fits.gz -c data/COSMOSC_042.txt -a data/msf2outcube_COSMOSC_042.cat\n",
      "python src/add_manual_info.py -m data/mmap_COSMOSC_043.fits.gz -c data/COSMOSC_043.txt -a data/msf2outcube_COSMOSC_043.cat\n",
      "python src/add_manual_info.py -m data/mmap_COSMOSC_044.fits.gz -c data/COSMOSC_044.txt -a data/msf2outcube_COSMOSC_044.cat\n",
      "python src/add_manual_info.py -m data/mmap_COSMOSC_045.fits.gz -c data/COSMOSC_045.txt -a data/msf2outcube_COSMOSC_045.cat\n",
      "python src/add_manual_info.py -m data/mmap_COSMOSC_046.fits.gz -c data/COSMOSC_046.txt -a data/msf2outcube_COSMOSC_046.cat\n",
      "python src/add_manual_info.py -m data/mmap_COSMOSC_047.fits.gz -c data/COSMOSC_047.txt -a data/msf2outcube_COSMOSC_047.cat\n",
      "python src/add_manual_info.py -m data/mmap_COSMOSC_052.fits.gz -c data/COSMOSC_052.txt -a data/msf2outcube_COSMOSC_052.cat\n",
      "python src/add_manual_info.py -m data/mmap_COSMOSC_053.fits.gz -c data/COSMOSC_053.txt -a data/msf2outcube_COSMOSC_053.cat\n",
      "python src/add_manual_info.py -m data/mmap_COSMOSC_062.fits.gz -c data/COSMOSC_062.txt -a data/msf2outcube_COSMOSC_062.cat\n",
      "python src/add_manual_info.py -m data/mmap_COSMOSC_063.fits.gz -c data/COSMOSC_063.txt -a data/msf2outcube_COSMOSC_063.cat\n",
      "python src/add_manual_info.py -m data/mmap_COSMOSC_072.fits.gz -c data/COSMOSC_072.txt -a data/msf2outcube_COSMOSC_072.cat\n",
      "python src/add_manual_info.py -m data/mmap_COSMOSC_073.fits.gz -c data/COSMOSC_073.txt -a data/msf2outcube_COSMOSC_073.cat\n",
      "python src/add_manual_info.py -m data/mmap_COSMOSC_074.fits.gz -c data/COSMOSC_074.txt -a data/msf2outcube_COSMOSC_074.cat\n",
      "python src/add_manual_info.py -m data/mmap_COSMOSC_075.fits.gz -c data/COSMOSC_075.txt -a data/msf2outcube_COSMOSC_075.cat\n",
      "python src/add_manual_info.py -m data/mmap_COSMOSC_076.fits.gz -c data/COSMOSC_076.txt -a data/msf2outcube_COSMOSC_076.cat\n",
      "python src/add_manual_info.py -m data/mmap_COSMOSC_077.fits.gz -c data/COSMOSC_077.txt -a data/msf2outcube_COSMOSC_077.cat\n",
      "python src/add_manual_info.py -m data/mmap_COSMOSC_082.fits.gz -c data/COSMOSC_082.txt -a data/msf2outcube_COSMOSC_082.cat\n",
      "python src/add_manual_info.py -m data/mmap_COSMOSC_083.fits.gz -c data/COSMOSC_083.txt -a data/msf2outcube_COSMOSC_083.cat\n",
      "python src/add_manual_info.py -m data/mmap_COSMOSC_084.fits.gz -c data/COSMOSC_084.txt -a data/msf2outcube_COSMOSC_084.cat\n",
      "python src/add_manual_info.py -m data/mmap_COSMOSC_085.fits.gz -c data/COSMOSC_085.txt -a data/msf2outcube_COSMOSC_085.cat\n",
      "python src/add_manual_info.py -m data/mmap_COSMOSC_086.fits.gz -c data/COSMOSC_086.txt -a data/msf2outcube_COSMOSC_086.cat\n",
      "python src/add_manual_info.py -m data/mmap_COSMOSC_087.fits.gz -c data/COSMOSC_087.txt -a data/msf2outcube_COSMOSC_087.cat\n",
      "python src/add_manual_info.py -m data/mmap_COSMOSC_093.fits.gz -c data/COSMOSC_093.txt -a data/msf2outcube_COSMOSC_093.cat\n",
      "python src/add_manual_info.py -m data/mmap_COSMOSC_095.fits.gz -c data/COSMOSC_095.txt -a data/msf2outcube_COSMOSC_095.cat\n",
      "python src/add_manual_info.py -m data/mmap_COSMOSC_096.fits.gz -c data/COSMOSC_096.txt -a data/msf2outcube_COSMOSC_096.cat\n",
      "python src/add_manual_info.py -m data/mmap_COSMOSC_097.fits.gz -c data/COSMOSC_097.txt -a data/msf2outcube_COSMOSC_097.cat\n",
      "python src/add_manual_info.py -m data/mmap_COSMOSC_103.fits.gz -c data/COSMOSC_103.txt -a data/msf2outcube_COSMOSC_103.cat\n",
      "python src/add_manual_info.py -m data/mmap_COSMOSC_104.fits.gz -c data/COSMOSC_104.txt -a data/msf2outcube_COSMOSC_104.cat\n",
      "python src/add_manual_info.py -m data/mmap_COSMOSC_105.fits.gz -c data/COSMOSC_105.txt -a data/msf2outcube_COSMOSC_105.cat\n",
      "python src/add_manual_info.py -m data/mmap_COSMOSC_106.fits.gz -c data/COSMOSC_106.txt -a data/msf2outcube_COSMOSC_106.cat\n"
     ]
    }
   ],
   "source": [
    "# add segmants for manually flagged \n",
    "def add_manual_info(f, field, DRYRUN=True):\n",
    "    import os\n",
    "    h,t = os.path.split(f)\n",
    "    ifu = t.replace('.fits.gz','').split(\"_\")[-1]\n",
    "    \n",
    "    fncatalog = \"data/{}_{}.txt\".format(field, ifu)\n",
    "\n",
    "    #python src/add_manual_info.py -m data/mmap_COSMOSC_021.fits.gz \n",
    "    # -c data/COSMOSC_021.txt -a data/msf2outcube_COSMOSC_021.cat\n",
    "    \n",
    "    cmd = \"python src/add_manual_info.py -m {} -c {} -a {}\".\\\n",
    "        format(f.replace('sf2outcube','mmap'), fncatalog, f.replace('.fits.gz','.cat').replace(\"sf2outcube\",\"msf2outcube\"))\n",
    "    if DRYRUN:\n",
    "        print(cmd)\n",
    "        return cmd\n",
    "    else:\n",
    "        return os.system( cmd ), cmd\n",
    "    \n",
    "    return os.system( cmd )\n",
    "\n",
    "ff = np.sort( glob.glob(\"data/sf2outcube_{}_???.fits.gz\".format(field)) )\n",
    "\n",
    "tasks = []\n",
    "for f in ff:\n",
    "    tasks.append(lv.apply(add_manual_info, f, field))\n",
    "result = [task.get() for task in tasks]  # blocks until all results are back\n",
    "\n",
    "for r in result:\n",
    "    print(r)"
   ]
  },
  {
   "cell_type": "code",
   "execution_count": null,
   "metadata": {
    "scrolled": false
   },
   "outputs": [],
   "source": [
    "\n",
    "#combine (vstack) all tables from this field\n",
    "from astropy.table import vstack, Column\n",
    "from astropy.io import ascii\n",
    "\n",
    "ff = glob.glob(\"data/msf2outcube_{field}_???.cat\".format(field=field))\n",
    "#print(ff)\n",
    "tt = []\n",
    "for f in ff:\n",
    "    ifu = f[-7:-4]\n",
    "    print(ifu)\n",
    "    t = ascii.read(f, format=\"ecsv\")\n",
    "    t.add_column(Column([ifu]*len(t),name='ifu'),0)\n",
    "    tt.append(t)\n",
    " \n",
    "tall = vstack(tt)\n",
    "tall.write(\"data/msf2outcube_{field}_allifu.cat\".format(field=field),format=\"ascii.ecsv\")   \n"
   ]
  },
  {
   "cell_type": "code",
   "execution_count": 236,
   "metadata": {},
   "outputs": [
    {
     "name": "stderr",
     "output_type": "stream",
     "text": [
      "WARNING: AstropyDeprecationWarning: data/msf2outcube_COSMOSC_allifu.cat already exists. Automatically overwriting ASCII files is deprecated. Use the argument 'overwrite=True' in the future. [astropy.io.ascii.ui]\n"
     ]
    }
   ],
   "source": [
    "tall = vstack(tt)\n",
    "tall.write(\"data/msf2outcube_{field}_allifu.cat\".format(field=field),format=\"ascii.ecsv\")   \n"
   ]
  },
  {
   "cell_type": "code",
   "execution_count": 182,
   "metadata": {},
   "outputs": [],
   "source": [
    "halos = (tall[\"class\"] == \"halo\" ).data"
   ]
  },
  {
   "cell_type": "code",
   "execution_count": 232,
   "metadata": {},
   "outputs": [
    {
     "ename": "ValueError",
     "evalue": "operands could not be broadcast together with shapes (2872,) (2814,) (2872,) ",
     "output_type": "error",
     "traceback": [
      "\u001b[0;31m---------------------------------------------------------------------------\u001b[0m",
      "\u001b[0;31mValueError\u001b[0m                                Traceback (most recent call last)",
      "\u001b[0;32m<ipython-input-232-bb78e127623a>\u001b[0m in \u001b[0;36m<module>\u001b[0;34m()\u001b[0m\n\u001b[1;32m      1\u001b[0m \u001b[0mii\u001b[0m \u001b[0;34m=\u001b[0m \u001b[0mtall\u001b[0m\u001b[0;34m[\u001b[0m\u001b[0;34m\"id\"\u001b[0m\u001b[0;34m]\u001b[0m \u001b[0;34m>\u001b[0m \u001b[0;36m10000\u001b[0m\u001b[0;34m\u001b[0m\u001b[0m\n\u001b[0;32m----> 2\u001b[0;31m \u001b[0mii\u001b[0m \u001b[0;34m*=\u001b[0m \u001b[0mhalos\u001b[0m\u001b[0;34m\u001b[0m\u001b[0m\n\u001b[0m\u001b[1;32m      3\u001b[0m \u001b[0mnp\u001b[0m\u001b[0;34m.\u001b[0m\u001b[0msum\u001b[0m\u001b[0;34m(\u001b[0m\u001b[0mii\u001b[0m\u001b[0;34m)\u001b[0m\u001b[0;34m\u001b[0m\u001b[0m\n",
      "\u001b[0;32m/Users/mxhf/.pyenv/versions/anaconda3-4.3.0/lib/python3.6/site-packages/numpy/ma/core.py\u001b[0m in \u001b[0;36m__imul__\u001b[0;34m(self, other)\u001b[0m\n\u001b[1;32m   4210\u001b[0m             \u001b[0mself\u001b[0m\u001b[0;34m.\u001b[0m\u001b[0m_mask\u001b[0m \u001b[0;34m+=\u001b[0m \u001b[0mm\u001b[0m\u001b[0;34m\u001b[0m\u001b[0m\n\u001b[1;32m   4211\u001b[0m         self._data.__imul__(np.where(self._mask, self.dtype.type(1),\n\u001b[0;32m-> 4212\u001b[0;31m                                      getdata(other)))\n\u001b[0m\u001b[1;32m   4213\u001b[0m         \u001b[0;32mreturn\u001b[0m \u001b[0mself\u001b[0m\u001b[0;34m\u001b[0m\u001b[0m\n\u001b[1;32m   4214\u001b[0m \u001b[0;34m\u001b[0m\u001b[0m\n",
      "\u001b[0;31mValueError\u001b[0m: operands could not be broadcast together with shapes (2872,) (2814,) (2872,) "
     ]
    }
   ],
   "source": [
    "ii = tall[\"id\"] > 10000\n",
    "ii *= halos\n",
    "np.sum(ii)"
   ]
  },
  {
   "cell_type": "code",
   "execution_count": 233,
   "metadata": {},
   "outputs": [
    {
     "data": {
      "text/html": [
       "&lt;Table masked=True length=1193&gt;\n",
       "<table id=\"table4857332960\" class=\"table-striped table-bordered table-condensed\">\n",
       "<thead><tr><th>ifu</th><th>id</th><th>N</th><th>counts</th><th>flux</th><th>ra_com</th><th>dec_com</th><th>ddec</th><th>dra</th><th>x_com</th><th>y_com</th><th>z_com</th><th>dx</th><th>dy</th><th>dz</th><th>sqrt(ev1)</th><th>sqrt(ev2)</th><th>size2d</th><th>x_ext</th><th>y_ext</th><th>z_ext</th><th>wl_com</th><th>dwl</th><th>xmin</th><th>xmax</th><th>ymin</th><th>ymax</th><th>zmin</th><th>zmax</th><th>class</th><th>manualx</th><th>manualy</th><th>manualz</th></tr></thead>\n",
       "<thead><tr><th></th><th></th><th>px</th><th>counts</th><th>erg / (cm2 s)</th><th>RA[J2000]</th><th>Dec[J2000]</th><th>arcsec</th><th>arcsec</th><th>px</th><th>px</th><th>px</th><th>px</th><th>px</th><th>px</th><th>px</th><th>px</th><th>px</th><th>px</th><th>px</th><th>px</th><th>A</th><th>A</th><th>px</th><th>px</th><th>px</th><th>px</th><th>px</th><th>px</th><th></th><th></th><th></th><th></th></tr></thead>\n",
       "<thead><tr><th>str3</th><th>int64</th><th>int64</th><th>float64</th><th>float64</th><th>float64</th><th>float64</th><th>float64</th><th>float64</th><th>float64</th><th>float64</th><th>float64</th><th>float64</th><th>float64</th><th>float64</th><th>float64</th><th>float64</th><th>float64</th><th>int64</th><th>int64</th><th>int64</th><th>float64</th><th>float64</th><th>int64</th><th>int64</th><th>int64</th><th>int64</th><th>int64</th><th>int64</th><th>str8</th><th>float64</th><th>float64</th><th>float64</th></tr></thead>\n",
       "<tr><td>097</td><td>10001</td><td>1238</td><td>3.9769e+02</td><td>1.6063e-16</td><td>150.080332</td><td>2.293728</td><td>1.8</td><td>1.4</td><td>63.92</td><td>60.38</td><td>61.88</td><td>3.54</td><td>2.86</td><td>8.50</td><td>3.57</td><td>2.83</td><td>4.56</td><td>16</td><td>14</td><td>27</td><td>3615.63</td><td>53.62</td><td>54</td><td>70</td><td>54</td><td>68</td><td>48</td><td>75</td><td>halo</td><td>65.0</td><td>58.0</td><td>51.0</td></tr>\n",
       "<tr><td>097</td><td>10002</td><td>6465</td><td>2.4829e+03</td><td>7.0942e-16</td><td>150.080023</td><td>2.289977</td><td>6.3</td><td>3.9</td><td>66.14</td><td>33.37</td><td>147.05</td><td>12.67</td><td>7.77</td><td>20.29</td><td>13.09</td><td>7.03</td><td>14.86</td><td>44</td><td>34</td><td>78</td><td>3784.77</td><td>154.90</td><td>46</td><td>90</td><td>19</td><td>53</td><td>99</td><td>177</td><td>fil</td><td>56.0</td><td>43.0</td><td>160.0</td></tr>\n",
       "<tr><td>097</td><td>10003</td><td>1322</td><td>5.4595e+02</td><td>1.3449e-16</td><td>150.080196</td><td>2.291281</td><td>2.1</td><td>3.8</td><td>64.90</td><td>42.76</td><td>196.61</td><td>4.14</td><td>7.61</td><td>7.76</td><td>3.85</td><td>7.76</td><td>8.67</td><td>20</td><td>30</td><td>29</td><td>3883.19</td><td>57.59</td><td>55</td><td>75</td><td>34</td><td>64</td><td>182</td><td>211</td><td>EL</td><td>71.0</td><td>40.0</td><td>208.0</td></tr>\n",
       "<tr><td>097</td><td>10004</td><td>751</td><td>3.2000e+02</td><td>7.5351e-17</td><td>150.074143</td><td>2.295736</td><td>1.1</td><td>2.1</td><td>108.44</td><td>74.83</td><td>207.13</td><td>2.28</td><td>4.11</td><td>3.08</td><td>2.27</td><td>4.11</td><td>4.70</td><td>11</td><td>19</td><td>13</td><td>3904.08</td><td>25.82</td><td>103</td><td>114</td><td>66</td><td>85</td><td>201</td><td>214</td><td>EL</td><td>108.0</td><td>76.0</td><td>208.0</td></tr>\n",
       "<tr><td>097</td><td>10005</td><td>633</td><td>2.6699e+02</td><td>5.5217e-17</td><td>150.078075</td><td>2.294435</td><td>1.1</td><td>1.8</td><td>80.16</td><td>65.47</td><td>238.38</td><td>2.19</td><td>3.68</td><td>3.08</td><td>2.17</td><td>3.69</td><td>4.28</td><td>10</td><td>17</td><td>13</td><td>3966.13</td><td>25.82</td><td>75</td><td>85</td><td>56</td><td>73</td><td>233</td><td>246</td><td>EL</td><td>78.0</td><td>67.0</td><td>238.0</td></tr>\n",
       "<tr><td>097</td><td>10006</td><td>4846</td><td>1.9712e+03</td><td>3.5565e-16</td><td>150.077647</td><td>2.293448</td><td>4.5</td><td>3.1</td><td>83.23</td><td>58.37</td><td>277.14</td><td>9.05</td><td>6.17</td><td>18.24</td><td>9.09</td><td>6.13</td><td>10.96</td><td>48</td><td>35</td><td>68</td><td>4043.10</td><td>135.04</td><td>59</td><td>107</td><td>38</td><td>73</td><td>247</td><td>315</td><td>EL</td><td>81.0</td><td>65.0</td><td>257.0</td></tr>\n",
       "<tr><td>097</td><td>10007</td><td>344</td><td>1.4996e+02</td><td>2.8900e-17</td><td>150.079812</td><td>2.293909</td><td>0.8</td><td>1.5</td><td>67.66</td><td>61.68</td><td>256.54</td><td>1.68</td><td>3.04</td><td>2.08</td><td>1.42</td><td>3.17</td><td>3.47</td><td>8</td><td>13</td><td>9</td><td>4002.21</td><td>17.87</td><td>64</td><td>72</td><td>56</td><td>69</td><td>252</td><td>261</td><td>EL</td><td>69.0</td><td>60.0</td><td>257.0</td></tr>\n",
       "<tr><td>097</td><td>10008</td><td>356</td><td>1.6984e+02</td><td>3.0304e-17</td><td>150.079113</td><td>2.290643</td><td>1.1</td><td>0.9</td><td>72.68</td><td>38.17</td><td>275.91</td><td>2.27</td><td>1.87</td><td>2.25</td><td>2.64</td><td>1.30</td><td>2.94</td><td>11</td><td>8</td><td>12</td><td>4040.68</td><td>23.83</td><td>67</td><td>78</td><td>34</td><td>42</td><td>268</td><td>280</td><td>EL</td><td>73.0</td><td>37.0</td><td>277.0</td></tr>\n",
       "<tr><td>097</td><td>10009</td><td>471</td><td>2.1410e+02</td><td>3.8066e-17</td><td>150.071409</td><td>2.295677</td><td>1.8</td><td>1.4</td><td>128.11</td><td>74.41</td><td>277.36</td><td>3.59</td><td>2.70</td><td>2.21</td><td>4.17</td><td>1.67</td><td>4.50</td><td>14</td><td>13</td><td>11</td><td>4043.55</td><td>21.84</td><td>122</td><td>136</td><td>69</td><td>82</td><td>271</td><td>282</td><td>EL</td><td>127.0</td><td>74.0</td><td>278.0</td></tr>\n",
       "<tr><td>...</td><td>...</td><td>...</td><td>...</td><td>...</td><td>...</td><td>...</td><td>...</td><td>...</td><td>...</td><td>...</td><td>...</td><td>...</td><td>...</td><td>...</td><td>...</td><td>...</td><td>...</td><td>...</td><td>...</td><td>...</td><td>...</td><td>...</td><td>...</td><td>...</td><td>...</td><td>...</td><td>...</td><td>...</td><td>...</td><td>...</td><td>...</td><td>...</td></tr>\n",
       "<tr><td>072</td><td>10012</td><td>21</td><td>9.5049e+00</td><td>1.3222e-18</td><td>150.203795</td><td>2.208353</td><td>0.4</td><td>0.3</td><td>43.92</td><td>82.52</td><td>541.79</td><td>0.80</td><td>0.65</td><td>1.05</td><td>0.81</td><td>0.64</td><td>1.03</td><td>3</td><td>3</td><td>4</td><td>4568.67</td><td>7.94</td><td>43</td><td>46</td><td>81</td><td>84</td><td>540</td><td>544</td><td>EL</td><td>45.0</td><td>82.0</td><td>543.0</td></tr>\n",
       "<tr><td>072</td><td>10013</td><td>2</td><td>-1.4985e-01</td><td>-2.0103e-20</td><td>150.203043</td><td>2.211661</td><td>0.5</td><td>0.5</td><td>49.33</td><td>106.33</td><td>594.33</td><td>1.00</td><td>1.00</td><td>1.00</td><td>1.00</td><td>1.00</td><td>1.03</td><td>1</td><td>1</td><td>1</td><td>4673.01</td><td>1.99</td><td>49</td><td>50</td><td>106</td><td>107</td><td>594</td><td>595</td><td>EL</td><td>49.0</td><td>106.0</td><td>594.0</td></tr>\n",
       "<tr><td>072</td><td>10014</td><td>2</td><td>-4.6844e-01</td><td>-6.2842e-20</td><td>150.197169</td><td>2.206420</td><td>0.5</td><td>0.5</td><td>91.60</td><td>68.60</td><td>594.60</td><td>1.00</td><td>1.00</td><td>1.00</td><td>1.00</td><td>1.00</td><td>1.03</td><td>1</td><td>1</td><td>1</td><td>4673.53</td><td>1.99</td><td>91</td><td>92</td><td>68</td><td>69</td><td>594</td><td>595</td><td>EL</td><td>91.0</td><td>68.0</td><td>594.0</td></tr>\n",
       "<tr><td>072</td><td>10015</td><td>172</td><td>1.1641e+02</td><td>1.5583e-17</td><td>150.203597</td><td>2.213018</td><td>0.7</td><td>0.8</td><td>45.35</td><td>116.10</td><td>796.55</td><td>1.46</td><td>1.55</td><td>1.40</td><td>1.45</td><td>1.55</td><td>2.13</td><td>6</td><td>6</td><td>5</td><td>5074.58</td><td>9.93</td><td>42</td><td>48</td><td>113</td><td>119</td><td>794</td><td>799</td><td>EL</td><td>45.0</td><td>116.0</td><td>796.0</td></tr>\n",
       "<tr><td>072</td><td>10016</td><td>364</td><td>2.2413e+02</td><td>3.0663e-17</td><td>150.201522</td><td>2.211383</td><td>0.9</td><td>1.1</td><td>60.28</td><td>104.33</td><td>874.78</td><td>1.75</td><td>2.15</td><td>2.49</td><td>1.61</td><td>2.26</td><td>2.78</td><td>8</td><td>9</td><td>11</td><td>5229.92</td><td>21.84</td><td>56</td><td>64</td><td>100</td><td>109</td><td>869</td><td>880</td><td>EL</td><td>61.0</td><td>105.0</td><td>875.0</td></tr>\n",
       "<tr><td>072</td><td>10017</td><td>300</td><td>1.8792e+02</td><td>2.5874e-17</td><td>150.205876</td><td>2.204746</td><td>1.0</td><td>0.7</td><td>28.95</td><td>56.54</td><td>895.77</td><td>2.03</td><td>1.31</td><td>2.85</td><td>2.04</td><td>1.30</td><td>2.42</td><td>9</td><td>6</td><td>13</td><td>5271.60</td><td>25.82</td><td>24</td><td>33</td><td>54</td><td>60</td><td>887</td><td>900</td><td>EL</td><td>29.0</td><td>57.0</td><td>896.0</td></tr>\n",
       "<tr><td>105</td><td>10001</td><td>1086</td><td>4.5535e+02</td><td>1.3735e-16</td><td>150.080876</td><td>2.232133</td><td>1.7</td><td>2.2</td><td>101.46</td><td>62.87</td><td>121.49</td><td>3.42</td><td>4.37</td><td>7.77</td><td>3.17</td><td>4.56</td><td>5.55</td><td>14</td><td>18</td><td>29</td><td>3734.01</td><td>57.59</td><td>95</td><td>109</td><td>54</td><td>72</td><td>105</td><td>134</td><td>EL</td><td>100.0</td><td>60.0</td><td>127.0</td></tr>\n",
       "<tr><td>105</td><td>10002</td><td>638</td><td>3.0071e+02</td><td>6.2339e-17</td><td>150.083827</td><td>2.228273</td><td>1.3</td><td>2.5</td><td>80.22</td><td>35.07</td><td>237.75</td><td>2.67</td><td>4.93</td><td>6.34</td><td>2.08</td><td>5.20</td><td>5.60</td><td>12</td><td>17</td><td>21</td><td>3964.88</td><td>41.70</td><td>73</td><td>85</td><td>27</td><td>44</td><td>229</td><td>250</td><td>halo</td><td>81.0</td><td>31.0</td><td>231.0</td></tr>\n",
       "<tr><td>105</td><td>10003</td><td>1523</td><td>7.6448e+02</td><td>1.4545e-16</td><td>150.086033</td><td>2.229256</td><td>2.1</td><td>2.1</td><td>64.35</td><td>42.15</td><td>259.72</td><td>4.18</td><td>4.22</td><td>6.31</td><td>4.00</td><td>4.39</td><td>5.94</td><td>22</td><td>22</td><td>26</td><td>4008.51</td><td>51.63</td><td>51</td><td>73</td><td>31</td><td>53</td><td>249</td><td>275</td><td>halo</td><td>66.0</td><td>39.0</td><td>257.0</td></tr>\n",
       "<tr><td>105</td><td>10004</td><td>1746</td><td>9.0278e+02</td><td>1.3996e-16</td><td>150.080787</td><td>2.231848</td><td>3.0</td><td>2.3</td><td>102.10</td><td>60.81</td><td>418.42</td><td>5.92</td><td>4.61</td><td>5.29</td><td>6.57</td><td>3.62</td><td>7.50</td><td>22</td><td>26</td><td>22</td><td>4323.68</td><td>43.69</td><td>91</td><td>113</td><td>49</td><td>75</td><td>409</td><td>431</td><td>halo</td><td>97.0</td><td>64.0</td><td>416.0</td></tr>\n",
       "</table>"
      ],
      "text/plain": [
       "<Table masked=True length=1193>\n",
       "ifu    id    N      counts        flux     ... class manualx manualy manualz\n",
       "             px     counts   erg / (cm2 s) ...                              \n",
       "str3 int64 int64   float64      float64    ...  str8 float64 float64 float64\n",
       "---- ----- ----- ----------- ------------- ... ----- ------- ------- -------\n",
       " 097 10001  1238  3.9769e+02    1.6063e-16 ...  halo    65.0    58.0    51.0\n",
       " 097 10002  6465  2.4829e+03    7.0942e-16 ...   fil    56.0    43.0   160.0\n",
       " 097 10003  1322  5.4595e+02    1.3449e-16 ...    EL    71.0    40.0   208.0\n",
       " 097 10004   751  3.2000e+02    7.5351e-17 ...    EL   108.0    76.0   208.0\n",
       " 097 10005   633  2.6699e+02    5.5217e-17 ...    EL    78.0    67.0   238.0\n",
       " 097 10006  4846  1.9712e+03    3.5565e-16 ...    EL    81.0    65.0   257.0\n",
       " 097 10007   344  1.4996e+02    2.8900e-17 ...    EL    69.0    60.0   257.0\n",
       " 097 10008   356  1.6984e+02    3.0304e-17 ...    EL    73.0    37.0   277.0\n",
       " 097 10009   471  2.1410e+02    3.8066e-17 ...    EL   127.0    74.0   278.0\n",
       " ...   ...   ...         ...           ... ...   ...     ...     ...     ...\n",
       " 072 10012    21  9.5049e+00    1.3222e-18 ...    EL    45.0    82.0   543.0\n",
       " 072 10013     2 -1.4985e-01   -2.0103e-20 ...    EL    49.0   106.0   594.0\n",
       " 072 10014     2 -4.6844e-01   -6.2842e-20 ...    EL    91.0    68.0   594.0\n",
       " 072 10015   172  1.1641e+02    1.5583e-17 ...    EL    45.0   116.0   796.0\n",
       " 072 10016   364  2.2413e+02    3.0663e-17 ...    EL    61.0   105.0   875.0\n",
       " 072 10017   300  1.8792e+02    2.5874e-17 ...    EL    29.0    57.0   896.0\n",
       " 105 10001  1086  4.5535e+02    1.3735e-16 ...    EL   100.0    60.0   127.0\n",
       " 105 10002   638  3.0071e+02    6.2339e-17 ...  halo    81.0    31.0   231.0\n",
       " 105 10003  1523  7.6448e+02    1.4545e-16 ...  halo    66.0    39.0   257.0\n",
       " 105 10004  1746  9.0278e+02    1.3996e-16 ...  halo    97.0    64.0   416.0"
      ]
     },
     "execution_count": 233,
     "metadata": {},
     "output_type": "execute_result"
    }
   ],
   "source": [
    "tall[ii]"
   ]
  },
  {
   "cell_type": "code",
   "execution_count": null,
   "metadata": {},
   "outputs": [],
   "source": [
    "from matplotlib import pyplot as plt\n",
    "% matplotlib inline\n",
    "\n",
    "plt.figure(figsize=[7,7])\n",
    "\n",
    "plt.plot( tall[\"ra_com\"][ii], tall[\"dec_com\"][ii], '.', alpha=.2)\n",
    "plt.xlabel(\"RA[Deg]\")\n",
    "plt.ylabel(\"Dec[Deg]\")\n",
    "plt.ax\n",
    "invert_yaxis\n"
   ]
  },
  {
   "cell_type": "code",
   "execution_count": 185,
   "metadata": {},
   "outputs": [
    {
     "data": {
      "text/plain": [
       "<matplotlib.text.Text at 0x1236f19b0>"
      ]
     },
     "execution_count": 185,
     "metadata": {},
     "output_type": "execute_result"
    },
    {
     "data": {
      "image/png": "[encoded data removed]",
      "text/plain": [
       "<matplotlib.figure.Figure at 0x1239575f8>"
      ]
     },
     "metadata": {},
     "output_type": "display_data"
    }
   ],
   "source": [
    "plt.figure(figsize=[7,7])\n",
    "__ = plt.hist( tall['size2d'][ii], bins=np.arange(0.,30.,1.))\n",
    "plt.xlabel(\"size2d [px]\")\n",
    "plt.ylabel(\"N\")\n"
   ]
  },
  {
   "cell_type": "code",
   "execution_count": 186,
   "metadata": {},
   "outputs": [
    {
     "data": {
      "text/plain": [
       "<matplotlib.text.Text at 0x12320c160>"
      ]
     },
     "execution_count": 186,
     "metadata": {},
     "output_type": "execute_result"
    },
    {
     "data": {
      "image/png": "[encoded data removed]",
      "text/plain": [
       "<matplotlib.figure.Figure at 0x123186c50>"
      ]
     },
     "metadata": {},
     "output_type": "display_data"
    }
   ],
   "source": [
    "plt.figure(figsize=[7,7])\n",
    "__ = plt.hist( tall['wl_com'][ii], bins=np.arange(3500,5500,20.))\n",
    "plt.xlabel(\"wl [A]\")\n",
    "plt.ylabel(\"N\")\n"
   ]
  },
  {
   "cell_type": "code",
   "execution_count": 187,
   "metadata": {},
   "outputs": [
    {
     "data": {
      "text/plain": [
       "<matplotlib.text.Text at 0x123186ac8>"
      ]
     },
     "execution_count": 187,
     "metadata": {},
     "output_type": "execute_result"
    },
    {
     "data": {
      "image/png": "[encoded data removed]",
      "text/plain": [
       "<matplotlib.figure.Figure at 0x123282588>"
      ]
     },
     "metadata": {},
     "output_type": "display_data"
    }
   ],
   "source": [
    "plt.figure(figsize=[7,7])\n",
    "__ = plt.hist( tall['wl_com'][ii]/1216.-1., bins=np.arange(1.9,3.5,.05))\n",
    "plt.xlabel(\"wl [A]\")\n",
    "plt.ylabel(\"N\")\n"
   ]
  },
  {
   "cell_type": "code",
   "execution_count": 188,
   "metadata": {},
   "outputs": [
    {
     "data": {
      "text/plain": [
       "<matplotlib.text.Text at 0x123ae44e0>"
      ]
     },
     "execution_count": 188,
     "metadata": {},
     "output_type": "execute_result"
    },
    {
     "data": {
      "image/png": "[encoded data removed]",
      "text/plain": [
       "<matplotlib.figure.Figure at 0x123ac5d30>"
      ]
     },
     "metadata": {},
     "output_type": "display_data"
    }
   ],
   "source": [
    "plt.figure(figsize=[7,7])\n",
    "__ = plt.hist( tall['flux'][ii]*1e17, bins=np.arange(0,100,.1))\n",
    "plt.xlabel(\"flux [10^-17 erg s^-1 cm^-2 ]\")\n",
    "plt.ylabel(\"N\")\n"
   ]
  },
  {
   "cell_type": "code",
   "execution_count": 189,
   "metadata": {},
   "outputs": [
    {
     "name": "stderr",
     "output_type": "stream",
     "text": [
      "/Users/mxhf/.pyenv/versions/anaconda3-4.3.0/lib/python3.6/site-packages/ipykernel/__main__.py:2: RuntimeWarning: divide by zero encountered in log\n",
      "  from ipykernel import kernelapp as app\n",
      "/Users/mxhf/.pyenv/versions/anaconda3-4.3.0/lib/python3.6/site-packages/ipykernel/__main__.py:2: RuntimeWarning: invalid value encountered in log\n",
      "  from ipykernel import kernelapp as app\n"
     ]
    },
    {
     "data": {
      "text/plain": [
       "<matplotlib.text.Text at 0x123d2dd30>"
      ]
     },
     "execution_count": 189,
     "metadata": {},
     "output_type": "execute_result"
    },
    {
     "data": {
      "image/png": "[encoded data removed]",
      "text/plain": [
       "<matplotlib.figure.Figure at 0x123b556a0>"
      ]
     },
     "metadata": {},
     "output_type": "display_data"
    }
   ],
   "source": [
    "plt.figure(figsize=[7,7])\n",
    "__ = plt.hist( np.log( tall['flux'][ii]*1e17 ) , bins=np.arange(0,5,.1))\n",
    "plt.xlabel(\"flux [ log( 10^-17 erg s^-1 cm^-2) ]\")\n",
    "plt.ylabel(\"N\")\n",
    "\n",
    "\n"
   ]
  },
  {
   "cell_type": "code",
   "execution_count": 191,
   "metadata": {},
   "outputs": [
    {
     "data": {
      "text/plain": [
       "<matplotlib.text.Text at 0x121bfc128>"
      ]
     },
     "execution_count": 191,
     "metadata": {},
     "output_type": "execute_result"
    },
    {
     "data": {
      "image/png": "[encoded data removed]",
      "text/plain": [
       "<matplotlib.figure.Figure at 0x12424a668>"
      ]
     },
     "metadata": {},
     "output_type": "display_data"
    }
   ],
   "source": [
    "from matplotlib import pyplot as plt\n",
    "% matplotlib inline\n",
    "\n",
    "plt.figure(figsize=[7,7])\n",
    "plt.plot( tall[\"size2d\"][ii], tall[\"flux\"][ii], '.', alpha=.2)\n",
    "plt.ylim(0.,1e-16)\n",
    "plt.xlim(0.,10.)\n",
    "plt.xlabel(\"size [px]\")\n",
    "plt.ylabel(\"flux [erg/s/cm^2]\")\n"
   ]
  },
  {
   "cell_type": "code",
   "execution_count": 192,
   "metadata": {},
   "outputs": [
    {
     "data": {
      "text/plain": [
       "(0.0, 1000.0)"
      ]
     },
     "execution_count": 192,
     "metadata": {},
     "output_type": "execute_result"
    },
    {
     "data": {
      "image/png": "[encoded data removed]",
      "text/plain": [
       "<matplotlib.figure.Figure at 0x1237aaba8>"
      ]
     },
     "metadata": {},
     "output_type": "display_data"
    }
   ],
   "source": [
    "from matplotlib import pyplot as plt\n",
    "% matplotlib inline\n",
    "\n",
    "plt.figure(figsize=[7,7])\n",
    "plt.plot( tall[\"flux\"][ii], tall[\"N\"][ii], '.', alpha=.2)\n",
    "plt.xlim(0.,1e-16)\n",
    "plt.ylim(0.,1000.)\n",
    "#plt.xlabel(\"RA[Deg]\")\n",
    "#plt.ylabel(\"Dec[Deg]\")"
   ]
  },
  {
   "cell_type": "code",
   "execution_count": 193,
   "metadata": {},
   "outputs": [
    {
     "data": {
      "text/plain": [
       "(0.0, 150.0)"
      ]
     },
     "execution_count": 193,
     "metadata": {},
     "output_type": "execute_result"
    },
    {
     "data": {
      "image/png": "[encoded data removed]",
      "text/plain": [
       "<matplotlib.figure.Figure at 0x124c96710>"
      ]
     },
     "metadata": {},
     "output_type": "display_data"
    }
   ],
   "source": [
    "plt.figure(figsize=[7,7])\n",
    "plt.plot( tall[\"flux\"][ii], tall[\"dwl\"][ii], '.', alpha=.2)\n",
    "plt.xlim(0.,2e-16)\n",
    "plt.ylim(0.,150.)\n"
   ]
  },
  {
   "cell_type": "code",
   "execution_count": 158,
   "metadata": {},
   "outputs": [],
   "source": [
    "from astropy.table import Table\n",
    "t = Table( [Column(['']*100,dtype='S100', name='foo')] )"
   ]
  },
  {
   "cell_type": "code",
   "execution_count": 160,
   "metadata": {},
   "outputs": [],
   "source": [
    "t['foo'][0] = 'asdklfnalskfn'"
   ]
  },
  {
   "cell_type": "code",
   "execution_count": 161,
   "metadata": {},
   "outputs": [
    {
     "data": {
      "text/html": [
       "&lt;Table length=100&gt;\n",
       "<table id=\"table4890840816\" class=\"table-striped table-bordered table-condensed\">\n",
       "<thead><tr><th>foo</th></tr></thead>\n",
       "<thead><tr><th>bytes100</th></tr></thead>\n",
       "<tr><td>asdklfnalskfn</td></tr>\n",
       "<tr><td></td></tr>\n",
       "<tr><td></td></tr>\n",
       "<tr><td></td></tr>\n",
       "<tr><td></td></tr>\n",
       "<tr><td></td></tr>\n",
       "<tr><td></td></tr>\n",
       "<tr><td></td></tr>\n",
       "<tr><td></td></tr>\n",
       "<tr><td></td></tr>\n",
       "<tr><td>...</td></tr>\n",
       "<tr><td></td></tr>\n",
       "<tr><td></td></tr>\n",
       "<tr><td></td></tr>\n",
       "<tr><td></td></tr>\n",
       "<tr><td></td></tr>\n",
       "<tr><td></td></tr>\n",
       "<tr><td></td></tr>\n",
       "<tr><td></td></tr>\n",
       "<tr><td></td></tr>\n",
       "<tr><td></td></tr>\n",
       "</table>"
      ],
      "text/plain": [
       "<Table length=100>\n",
       "     foo     \n",
       "   bytes100  \n",
       "-------------\n",
       "asdklfnalskfn\n",
       "             \n",
       "             \n",
       "             \n",
       "             \n",
       "             \n",
       "             \n",
       "             \n",
       "             \n",
       "             \n",
       "          ...\n",
       "             \n",
       "             \n",
       "             \n",
       "             \n",
       "             \n",
       "             \n",
       "             \n",
       "             \n",
       "             \n",
       "             "
      ]
     },
     "execution_count": 161,
     "metadata": {},
     "output_type": "execute_result"
    }
   ],
   "source": [
    "t"
   ]
  },
  {
   "cell_type": "code",
   "execution_count": null,
   "metadata": {
    "collapsed": true
   },
   "outputs": [],
   "source": []
  }
 ],
 "metadata": {
  "kernelspec": {
   "display_name": "Python 3",
   "language": "python",
   "name": "python3"
  },
  "language_info": {
   "codemirror_mode": {
    "name": "ipython",
    "version": 3
   },
   "file_extension": ".py",
   "mimetype": "text/x-python",
   "name": "python",
   "nbconvert_exporter": "python",
   "pygments_lexer": "ipython3",
   "version": "3.6.8"
  }
 },
 "nbformat": 4,
 "nbformat_minor": 2
}
