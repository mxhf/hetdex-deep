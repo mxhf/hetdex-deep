{
 "cells": [
  {
   "cell_type": "code",
   "execution_count": 1,
   "metadata": {},
   "outputs": [
    {
     "data": {
      "text/html": [
       "<style>.container { width:100% !important; }</style>"
      ],
      "text/plain": [
       "<IPython.core.display.HTML object>"
      ]
     },
     "metadata": {},
     "output_type": "display_data"
    }
   ],
   "source": [
    "# go wide screen\n",
    "from IPython.core.display import display, HTML\n",
    "display(HTML(\"<style>.container { width:100% !important; }</style>\"))"
   ]
  },
  {
   "cell_type": "code",
   "execution_count": 2,
   "metadata": {},
   "outputs": [],
   "source": [
    "import os\n",
    "import glob\n",
    "import numpy as np\n",
    "import os"
   ]
  },
  {
   "cell_type": "code",
   "execution_count": 3,
   "metadata": {},
   "outputs": [
    {
     "name": "stdout",
     "output_type": "stream",
     "text": [
      "1 2\n"
     ]
    }
   ],
   "source": [
    "class load_balanced_view_replace:\n",
    "    \n",
    "    def apply(self, func, *args):\n",
    "        func(*args)\n",
    "    \n",
    "def func(a,b):\n",
    "    print(a,b)\n",
    "    \n",
    "lv = load_balanced_view_replace()\n",
    "lv.apply(func, 1, 2)"
   ]
  },
  {
   "cell_type": "code",
   "execution_count": 4,
   "metadata": {},
   "outputs": [
    {
     "name": "stderr",
     "output_type": "stream",
     "text": [
      "/Users/mxhf/.pyenv/versions/anaconda3-4.3.0/lib/python3.6/site-packages/IPython/parallel.py:13: ShimWarning: The `IPython.parallel` package has been deprecated. You should import from ipyparallel instead.\n",
      "  \"You should import from ipyparallel instead.\", ShimWarning)\n"
     ]
    },
    {
     "name": "stdout",
     "output_type": "stream",
     "text": [
      "Waiting for connection file: ~/.ipython/profile_default/security/ipcontroller-client.json\n"
     ]
    }
   ],
   "source": [
    "try:\n",
    "    # have IPython.parallel?\n",
    "    \n",
    "    from IPython.parallel import Client\n",
    "    c = Client()\n",
    "    lv = c.load_balanced_view()   # this object represents the engines (workers)\n",
    "    print(\"Using IPython.parallel.\")\n",
    "except:\n",
    "    class task:\n",
    "        def __init__(self, result):\n",
    "            self.result = result\n",
    "            \n",
    "        def get(self):\n",
    "            return self.result\n",
    "        \n",
    "    # else, execute commands in sequence\n",
    "    class load_balanced_view_replace:\n",
    "    \n",
    "        def apply(self, func, *args):\n",
    "            return task( func(*args) )\n",
    "    \n",
    "    lv = load_balanced_view_replace()"
   ]
  },
  {
   "cell_type": "code",
   "execution_count": 5,
   "metadata": {},
   "outputs": [],
   "source": [
    "field='COSMOSA'"
   ]
  },
  {
   "cell_type": "code",
   "execution_count": 6,
   "metadata": {},
   "outputs": [],
   "source": [
    "def filter_cube(f, DRYRUN=True):\n",
    "    import os\n",
    "    h,t = os.path.split(f)\n",
    "    cmd=\"python filter_cube.py --infile {} --outfile {}\".format(f,os.path.join(h,\"sf2\" + t) )\n",
    "    if DRYRUN:\n",
    "        print(cmd)\n",
    "        return -1, cmd\n",
    "    else:\n",
    "        return os.system( cmd ), cmd"
   ]
  },
  {
   "cell_type": "code",
   "execution_count": 7,
   "metadata": {},
   "outputs": [
    {
     "name": "stdout",
     "output_type": "stream",
     "text": [
      "python filter_cube.py --infile ../data/outcube_COSMOSA_022.fits.gz --outfile ../data/sf2outcube_COSMOSA_022.fits.gz\n",
      "python filter_cube.py --infile ../data/outcube_COSMOSA_023.fits.gz --outfile ../data/sf2outcube_COSMOSA_023.fits.gz\n",
      "python filter_cube.py --infile ../data/outcube_COSMOSA_032.fits.gz --outfile ../data/sf2outcube_COSMOSA_032.fits.gz\n",
      "python filter_cube.py --infile ../data/outcube_COSMOSA_033.fits.gz --outfile ../data/sf2outcube_COSMOSA_033.fits.gz\n",
      "python filter_cube.py --infile ../data/outcube_COSMOSA_034.fits.gz --outfile ../data/sf2outcube_COSMOSA_034.fits.gz\n",
      "python filter_cube.py --infile ../data/outcube_COSMOSA_035.fits.gz --outfile ../data/sf2outcube_COSMOSA_035.fits.gz\n",
      "python filter_cube.py --infile ../data/outcube_COSMOSA_036.fits.gz --outfile ../data/sf2outcube_COSMOSA_036.fits.gz\n",
      "python filter_cube.py --infile ../data/outcube_COSMOSA_037.fits.gz --outfile ../data/sf2outcube_COSMOSA_037.fits.gz\n",
      "python filter_cube.py --infile ../data/outcube_COSMOSA_042.fits.gz --outfile ../data/sf2outcube_COSMOSA_042.fits.gz\n",
      "python filter_cube.py --infile ../data/outcube_COSMOSA_043.fits.gz --outfile ../data/sf2outcube_COSMOSA_043.fits.gz\n",
      "python filter_cube.py --infile ../data/outcube_COSMOSA_044.fits.gz --outfile ../data/sf2outcube_COSMOSA_044.fits.gz\n",
      "python filter_cube.py --infile ../data/outcube_COSMOSA_045.fits.gz --outfile ../data/sf2outcube_COSMOSA_045.fits.gz\n",
      "python filter_cube.py --infile ../data/outcube_COSMOSA_046.fits.gz --outfile ../data/sf2outcube_COSMOSA_046.fits.gz\n",
      "python filter_cube.py --infile ../data/outcube_COSMOSA_073.fits.gz --outfile ../data/sf2outcube_COSMOSA_073.fits.gz\n",
      "python filter_cube.py --infile ../data/outcube_COSMOSA_074.fits.gz --outfile ../data/sf2outcube_COSMOSA_074.fits.gz\n",
      "python filter_cube.py --infile ../data/outcube_COSMOSA_076.fits.gz --outfile ../data/sf2outcube_COSMOSA_076.fits.gz\n",
      "python filter_cube.py --infile ../data/outcube_COSMOSA_083.fits.gz --outfile ../data/sf2outcube_COSMOSA_083.fits.gz\n",
      "python filter_cube.py --infile ../data/outcube_COSMOSA_084.fits.gz --outfile ../data/sf2outcube_COSMOSA_084.fits.gz\n",
      "python filter_cube.py --infile ../data/outcube_COSMOSA_085.fits.gz --outfile ../data/sf2outcube_COSMOSA_085.fits.gz\n",
      "python filter_cube.py --infile ../data/outcube_COSMOSA_086.fits.gz --outfile ../data/sf2outcube_COSMOSA_086.fits.gz\n",
      "python filter_cube.py --infile ../data/outcube_COSMOSA_093.fits.gz --outfile ../data/sf2outcube_COSMOSA_093.fits.gz\n",
      "python filter_cube.py --infile ../data/outcube_COSMOSA_094.fits.gz --outfile ../data/sf2outcube_COSMOSA_094.fits.gz\n",
      "python filter_cube.py --infile ../data/outcube_COSMOSA_096.fits.gz --outfile ../data/sf2outcube_COSMOSA_096.fits.gz\n",
      "python filter_cube.py --infile ../data/outcube_COSMOSA_103.fits.gz --outfile ../data/sf2outcube_COSMOSA_103.fits.gz\n",
      "python filter_cube.py --infile ../data/outcube_COSMOSA_104.fits.gz --outfile ../data/sf2outcube_COSMOSA_104.fits.gz\n",
      "python filter_cube.py --infile ../data/outcube_COSMOSA_105.fits.gz --outfile ../data/sf2outcube_COSMOSA_105.fits.gz\n",
      "python filter_cube.py --infile ../data/outcube_COSMOSA_106.fits.gz --outfile ../data/sf2outcube_COSMOSA_106.fits.gz\n"
     ]
    }
   ],
   "source": [
    "# filter data cubes\n",
    "ff = np.sort( glob.glob(\"../data/outcube_{}_???.fits.gz\".format(field)) )\n",
    "\n",
    "tasks = []\n",
    "for f in ff:\n",
    "    tasks.append(lv.apply(filter_cube, f))\n",
    "result = [task.get() for task in tasks]  # blocks until all results are back"
   ]
  },
  {
   "cell_type": "code",
   "execution_count": 8,
   "metadata": {},
   "outputs": [
    {
     "name": "stdout",
     "output_type": "stream",
     "text": [
      "python noise_model2.py --infile ../data/outcube_COSMOSA_022.fits.gz --outfile ../data/ncoutcube_COSMOSA_022.fits.gz\n",
      "python noise_model2.py --infile ../data/outcube_COSMOSA_023.fits.gz --outfile ../data/ncoutcube_COSMOSA_023.fits.gz\n",
      "python noise_model2.py --infile ../data/outcube_COSMOSA_032.fits.gz --outfile ../data/ncoutcube_COSMOSA_032.fits.gz\n",
      "python noise_model2.py --infile ../data/outcube_COSMOSA_033.fits.gz --outfile ../data/ncoutcube_COSMOSA_033.fits.gz\n",
      "python noise_model2.py --infile ../data/outcube_COSMOSA_034.fits.gz --outfile ../data/ncoutcube_COSMOSA_034.fits.gz\n",
      "python noise_model2.py --infile ../data/outcube_COSMOSA_035.fits.gz --outfile ../data/ncoutcube_COSMOSA_035.fits.gz\n",
      "python noise_model2.py --infile ../data/outcube_COSMOSA_036.fits.gz --outfile ../data/ncoutcube_COSMOSA_036.fits.gz\n",
      "python noise_model2.py --infile ../data/outcube_COSMOSA_037.fits.gz --outfile ../data/ncoutcube_COSMOSA_037.fits.gz\n",
      "python noise_model2.py --infile ../data/outcube_COSMOSA_042.fits.gz --outfile ../data/ncoutcube_COSMOSA_042.fits.gz\n",
      "python noise_model2.py --infile ../data/outcube_COSMOSA_043.fits.gz --outfile ../data/ncoutcube_COSMOSA_043.fits.gz\n",
      "python noise_model2.py --infile ../data/outcube_COSMOSA_044.fits.gz --outfile ../data/ncoutcube_COSMOSA_044.fits.gz\n",
      "python noise_model2.py --infile ../data/outcube_COSMOSA_045.fits.gz --outfile ../data/ncoutcube_COSMOSA_045.fits.gz\n",
      "python noise_model2.py --infile ../data/outcube_COSMOSA_046.fits.gz --outfile ../data/ncoutcube_COSMOSA_046.fits.gz\n",
      "python noise_model2.py --infile ../data/outcube_COSMOSA_073.fits.gz --outfile ../data/ncoutcube_COSMOSA_073.fits.gz\n",
      "python noise_model2.py --infile ../data/outcube_COSMOSA_074.fits.gz --outfile ../data/ncoutcube_COSMOSA_074.fits.gz\n",
      "python noise_model2.py --infile ../data/outcube_COSMOSA_076.fits.gz --outfile ../data/ncoutcube_COSMOSA_076.fits.gz\n",
      "python noise_model2.py --infile ../data/outcube_COSMOSA_083.fits.gz --outfile ../data/ncoutcube_COSMOSA_083.fits.gz\n",
      "python noise_model2.py --infile ../data/outcube_COSMOSA_084.fits.gz --outfile ../data/ncoutcube_COSMOSA_084.fits.gz\n",
      "python noise_model2.py --infile ../data/outcube_COSMOSA_085.fits.gz --outfile ../data/ncoutcube_COSMOSA_085.fits.gz\n",
      "python noise_model2.py --infile ../data/outcube_COSMOSA_086.fits.gz --outfile ../data/ncoutcube_COSMOSA_086.fits.gz\n",
      "python noise_model2.py --infile ../data/outcube_COSMOSA_093.fits.gz --outfile ../data/ncoutcube_COSMOSA_093.fits.gz\n",
      "python noise_model2.py --infile ../data/outcube_COSMOSA_094.fits.gz --outfile ../data/ncoutcube_COSMOSA_094.fits.gz\n",
      "python noise_model2.py --infile ../data/outcube_COSMOSA_096.fits.gz --outfile ../data/ncoutcube_COSMOSA_096.fits.gz\n",
      "python noise_model2.py --infile ../data/outcube_COSMOSA_103.fits.gz --outfile ../data/ncoutcube_COSMOSA_103.fits.gz\n",
      "python noise_model2.py --infile ../data/outcube_COSMOSA_104.fits.gz --outfile ../data/ncoutcube_COSMOSA_104.fits.gz\n",
      "python noise_model2.py --infile ../data/outcube_COSMOSA_105.fits.gz --outfile ../data/ncoutcube_COSMOSA_105.fits.gz\n",
      "python noise_model2.py --infile ../data/outcube_COSMOSA_106.fits.gz --outfile ../data/ncoutcube_COSMOSA_106.fits.gz\n",
      "(-1, 'python noise_model2.py --infile ../data/outcube_COSMOSA_022.fits.gz --outfile ../data/ncoutcube_COSMOSA_022.fits.gz')\n",
      "(-1, 'python noise_model2.py --infile ../data/outcube_COSMOSA_023.fits.gz --outfile ../data/ncoutcube_COSMOSA_023.fits.gz')\n",
      "(-1, 'python noise_model2.py --infile ../data/outcube_COSMOSA_032.fits.gz --outfile ../data/ncoutcube_COSMOSA_032.fits.gz')\n",
      "(-1, 'python noise_model2.py --infile ../data/outcube_COSMOSA_033.fits.gz --outfile ../data/ncoutcube_COSMOSA_033.fits.gz')\n",
      "(-1, 'python noise_model2.py --infile ../data/outcube_COSMOSA_034.fits.gz --outfile ../data/ncoutcube_COSMOSA_034.fits.gz')\n",
      "(-1, 'python noise_model2.py --infile ../data/outcube_COSMOSA_035.fits.gz --outfile ../data/ncoutcube_COSMOSA_035.fits.gz')\n",
      "(-1, 'python noise_model2.py --infile ../data/outcube_COSMOSA_036.fits.gz --outfile ../data/ncoutcube_COSMOSA_036.fits.gz')\n",
      "(-1, 'python noise_model2.py --infile ../data/outcube_COSMOSA_037.fits.gz --outfile ../data/ncoutcube_COSMOSA_037.fits.gz')\n",
      "(-1, 'python noise_model2.py --infile ../data/outcube_COSMOSA_042.fits.gz --outfile ../data/ncoutcube_COSMOSA_042.fits.gz')\n",
      "(-1, 'python noise_model2.py --infile ../data/outcube_COSMOSA_043.fits.gz --outfile ../data/ncoutcube_COSMOSA_043.fits.gz')\n",
      "(-1, 'python noise_model2.py --infile ../data/outcube_COSMOSA_044.fits.gz --outfile ../data/ncoutcube_COSMOSA_044.fits.gz')\n",
      "(-1, 'python noise_model2.py --infile ../data/outcube_COSMOSA_045.fits.gz --outfile ../data/ncoutcube_COSMOSA_045.fits.gz')\n",
      "(-1, 'python noise_model2.py --infile ../data/outcube_COSMOSA_046.fits.gz --outfile ../data/ncoutcube_COSMOSA_046.fits.gz')\n",
      "(-1, 'python noise_model2.py --infile ../data/outcube_COSMOSA_073.fits.gz --outfile ../data/ncoutcube_COSMOSA_073.fits.gz')\n",
      "(-1, 'python noise_model2.py --infile ../data/outcube_COSMOSA_074.fits.gz --outfile ../data/ncoutcube_COSMOSA_074.fits.gz')\n",
      "(-1, 'python noise_model2.py --infile ../data/outcube_COSMOSA_076.fits.gz --outfile ../data/ncoutcube_COSMOSA_076.fits.gz')\n",
      "(-1, 'python noise_model2.py --infile ../data/outcube_COSMOSA_083.fits.gz --outfile ../data/ncoutcube_COSMOSA_083.fits.gz')\n",
      "(-1, 'python noise_model2.py --infile ../data/outcube_COSMOSA_084.fits.gz --outfile ../data/ncoutcube_COSMOSA_084.fits.gz')\n",
      "(-1, 'python noise_model2.py --infile ../data/outcube_COSMOSA_085.fits.gz --outfile ../data/ncoutcube_COSMOSA_085.fits.gz')\n",
      "(-1, 'python noise_model2.py --infile ../data/outcube_COSMOSA_086.fits.gz --outfile ../data/ncoutcube_COSMOSA_086.fits.gz')\n",
      "(-1, 'python noise_model2.py --infile ../data/outcube_COSMOSA_093.fits.gz --outfile ../data/ncoutcube_COSMOSA_093.fits.gz')\n",
      "(-1, 'python noise_model2.py --infile ../data/outcube_COSMOSA_094.fits.gz --outfile ../data/ncoutcube_COSMOSA_094.fits.gz')\n",
      "(-1, 'python noise_model2.py --infile ../data/outcube_COSMOSA_096.fits.gz --outfile ../data/ncoutcube_COSMOSA_096.fits.gz')\n",
      "(-1, 'python noise_model2.py --infile ../data/outcube_COSMOSA_103.fits.gz --outfile ../data/ncoutcube_COSMOSA_103.fits.gz')\n",
      "(-1, 'python noise_model2.py --infile ../data/outcube_COSMOSA_104.fits.gz --outfile ../data/ncoutcube_COSMOSA_104.fits.gz')\n",
      "(-1, 'python noise_model2.py --infile ../data/outcube_COSMOSA_105.fits.gz --outfile ../data/ncoutcube_COSMOSA_105.fits.gz')\n",
      "(-1, 'python noise_model2.py --infile ../data/outcube_COSMOSA_106.fits.gz --outfile ../data/ncoutcube_COSMOSA_106.fits.gz')\n"
     ]
    }
   ],
   "source": [
    "#build noise model\n",
    "def noise_model(f, DRYRUN=True):\n",
    "    import os\n",
    "    h,t = os.path.split(f)\n",
    "    cmd=\"python noise_model2.py --infile {} --outfile {}\".format(f,os.path.join(h,\"nc\" + t) )\n",
    "    if DRYRUN:\n",
    "        print(cmd)\n",
    "        return -1, cmd\n",
    "    else:\n",
    "        return os.system( cmd ), cmd\n",
    "\n",
    "tasks = []\n",
    "for f in ff:\n",
    "    tasks.append(lv.apply(noise_model, f))\n",
    "result = [task.get() for task in tasks]  # blocks until all results are back\n",
    "\n",
    "for r in result:\n",
    "    print(r)"
   ]
  },
  {
   "cell_type": "code",
   "execution_count": 11,
   "metadata": {},
   "outputs": [],
   "source": [
    "# filter noise cubes\n",
    "ff = np.sort( glob.glob(\"data/ncoutcube_{}_???.fits.gz\".format(field)) )\n",
    "\n",
    "tasks = []\n",
    "for f in ff:\n",
    "    tasks.append(lv.apply(filter_cube, f))\n",
    "result = [task.get() for task in tasks]  # blocks until all results are back\n",
    "\n",
    "# don't need the unsmoothed noise cubes anymore\n",
    "cmd=\"rm data/ncoutcube_{}_???.fits.gz\".format(field)"
   ]
  },
  {
   "cell_type": "code",
   "execution_count": 12,
   "metadata": {
    "collapsed": true
   },
   "outputs": [],
   "source": [
    "detect_limits = {}\n",
    "\n",
    "detect_limits['COSMOSA'] = { 'detect_threshold':0.35, 'grow_threshold':0.21}\n",
    "detect_limits['COSMOSB'] = { 'detect_threshold':0.64, 'grow_threshold':0.39}\n",
    "detect_limits['COSMOSC'] = { 'detect_threshold':0.64, 'grow_threshold':0.39}\n",
    "detect_limits['COSMOSD'] = { 'detect_threshold':0.64, 'grow_threshold':0.39}"
   ]
  },
  {
   "cell_type": "code",
   "execution_count": 13,
   "metadata": {
    "collapsed": true
   },
   "outputs": [],
   "source": [
    "if False:\n",
    "    # run detect and segmentation\n",
    "    def cloud_finder2(f, field, detect_limits):\n",
    "        import os\n",
    "        h,t = os.path.split(f)\n",
    "        dt, gt = detect_limits[field]['detect_threshold'], detect_limits[field]['grow_threshold']\n",
    "        cmd = \"python cloud_finder2.py -i {} --detect_threshold {} --grow_threshold {} -b {} -o {}\".format(f,dt,gt,f.replace('.fits.gz','.badregs'),f.replace('sf2outcube','map'))\n",
    "        return cmd\n",
    "        #return os.system( cmd )\n",
    "\n",
    "    ff = np.sort( glob.glob(\"data/sf2outcube_{}_???.fits.gz\".format(field)) )\n",
    "\n",
    "    tasks = []\n",
    "    for f in ff:\n",
    "        tasks.append(lv.apply(cloud_finder2, f, field, detect_limits))\n",
    "    result = [task.get() for task in tasks]  # blocks until all results are back\n",
    "\n",
    "    for r in result:\n",
    "        print(r)"
   ]
  },
  {
   "cell_type": "code",
   "execution_count": 226,
   "metadata": {},
   "outputs": [
    {
     "name": "stdout",
     "output_type": "stream",
     "text": [
      "(-1, 'python detection_noise_model.py -i data/sf2outcube_COSMOSC_021.fits.gz -o data/sf2outcube_COSMOSC_021.detect_noise_model')\n",
      "(-1, 'python detection_noise_model.py -i data/sf2outcube_COSMOSC_022.fits.gz -o data/sf2outcube_COSMOSC_022.detect_noise_model')\n",
      "(-1, 'python detection_noise_model.py -i data/sf2outcube_COSMOSC_023.fits.gz -o data/sf2outcube_COSMOSC_023.detect_noise_model')\n",
      "(-1, 'python detection_noise_model.py -i data/sf2outcube_COSMOSC_024.fits.gz -o data/sf2outcube_COSMOSC_024.detect_noise_model')\n",
      "(-1, 'python detection_noise_model.py -i data/sf2outcube_COSMOSC_025.fits.gz -o data/sf2outcube_COSMOSC_025.detect_noise_model')\n",
      "(-1, 'python detection_noise_model.py -i data/sf2outcube_COSMOSC_026.fits.gz -o data/sf2outcube_COSMOSC_026.detect_noise_model')\n",
      "(-1, 'python detection_noise_model.py -i data/sf2outcube_COSMOSC_027.fits.gz -o data/sf2outcube_COSMOSC_027.detect_noise_model')\n",
      "(-1, 'python detection_noise_model.py -i data/sf2outcube_COSMOSC_032.fits.gz -o data/sf2outcube_COSMOSC_032.detect_noise_model')\n",
      "(-1, 'python detection_noise_model.py -i data/sf2outcube_COSMOSC_033.fits.gz -o data/sf2outcube_COSMOSC_033.detect_noise_model')\n",
      "(-1, 'python detection_noise_model.py -i data/sf2outcube_COSMOSC_034.fits.gz -o data/sf2outcube_COSMOSC_034.detect_noise_model')\n",
      "(-1, 'python detection_noise_model.py -i data/sf2outcube_COSMOSC_035.fits.gz -o data/sf2outcube_COSMOSC_035.detect_noise_model')\n",
      "(-1, 'python detection_noise_model.py -i data/sf2outcube_COSMOSC_036.fits.gz -o data/sf2outcube_COSMOSC_036.detect_noise_model')\n",
      "(-1, 'python detection_noise_model.py -i data/sf2outcube_COSMOSC_037.fits.gz -o data/sf2outcube_COSMOSC_037.detect_noise_model')\n",
      "(-1, 'python detection_noise_model.py -i data/sf2outcube_COSMOSC_042.fits.gz -o data/sf2outcube_COSMOSC_042.detect_noise_model')\n",
      "(-1, 'python detection_noise_model.py -i data/sf2outcube_COSMOSC_043.fits.gz -o data/sf2outcube_COSMOSC_043.detect_noise_model')\n",
      "(-1, 'python detection_noise_model.py -i data/sf2outcube_COSMOSC_044.fits.gz -o data/sf2outcube_COSMOSC_044.detect_noise_model')\n",
      "(-1, 'python detection_noise_model.py -i data/sf2outcube_COSMOSC_045.fits.gz -o data/sf2outcube_COSMOSC_045.detect_noise_model')\n",
      "(-1, 'python detection_noise_model.py -i data/sf2outcube_COSMOSC_046.fits.gz -o data/sf2outcube_COSMOSC_046.detect_noise_model')\n",
      "(-1, 'python detection_noise_model.py -i data/sf2outcube_COSMOSC_047.fits.gz -o data/sf2outcube_COSMOSC_047.detect_noise_model')\n",
      "(-1, 'python detection_noise_model.py -i data/sf2outcube_COSMOSC_052.fits.gz -o data/sf2outcube_COSMOSC_052.detect_noise_model')\n",
      "(-1, 'python detection_noise_model.py -i data/sf2outcube_COSMOSC_053.fits.gz -o data/sf2outcube_COSMOSC_053.detect_noise_model')\n",
      "(-1, 'python detection_noise_model.py -i data/sf2outcube_COSMOSC_062.fits.gz -o data/sf2outcube_COSMOSC_062.detect_noise_model')\n",
      "(-1, 'python detection_noise_model.py -i data/sf2outcube_COSMOSC_063.fits.gz -o data/sf2outcube_COSMOSC_063.detect_noise_model')\n",
      "(-1, 'python detection_noise_model.py -i data/sf2outcube_COSMOSC_072.fits.gz -o data/sf2outcube_COSMOSC_072.detect_noise_model')\n",
      "(-1, 'python detection_noise_model.py -i data/sf2outcube_COSMOSC_073.fits.gz -o data/sf2outcube_COSMOSC_073.detect_noise_model')\n",
      "(-1, 'python detection_noise_model.py -i data/sf2outcube_COSMOSC_074.fits.gz -o data/sf2outcube_COSMOSC_074.detect_noise_model')\n",
      "(-1, 'python detection_noise_model.py -i data/sf2outcube_COSMOSC_075.fits.gz -o data/sf2outcube_COSMOSC_075.detect_noise_model')\n",
      "(-1, 'python detection_noise_model.py -i data/sf2outcube_COSMOSC_076.fits.gz -o data/sf2outcube_COSMOSC_076.detect_noise_model')\n",
      "(-1, 'python detection_noise_model.py -i data/sf2outcube_COSMOSC_077.fits.gz -o data/sf2outcube_COSMOSC_077.detect_noise_model')\n",
      "(-1, 'python detection_noise_model.py -i data/sf2outcube_COSMOSC_082.fits.gz -o data/sf2outcube_COSMOSC_082.detect_noise_model')\n",
      "(-1, 'python detection_noise_model.py -i data/sf2outcube_COSMOSC_083.fits.gz -o data/sf2outcube_COSMOSC_083.detect_noise_model')\n",
      "(-1, 'python detection_noise_model.py -i data/sf2outcube_COSMOSC_084.fits.gz -o data/sf2outcube_COSMOSC_084.detect_noise_model')\n",
      "(-1, 'python detection_noise_model.py -i data/sf2outcube_COSMOSC_085.fits.gz -o data/sf2outcube_COSMOSC_085.detect_noise_model')\n",
      "(-1, 'python detection_noise_model.py -i data/sf2outcube_COSMOSC_086.fits.gz -o data/sf2outcube_COSMOSC_086.detect_noise_model')\n",
      "(-1, 'python detection_noise_model.py -i data/sf2outcube_COSMOSC_087.fits.gz -o data/sf2outcube_COSMOSC_087.detect_noise_model')\n",
      "(-1, 'python detection_noise_model.py -i data/sf2outcube_COSMOSC_093.fits.gz -o data/sf2outcube_COSMOSC_093.detect_noise_model')\n",
      "(-1, 'python detection_noise_model.py -i data/sf2outcube_COSMOSC_095.fits.gz -o data/sf2outcube_COSMOSC_095.detect_noise_model')\n",
      "(-1, 'python detection_noise_model.py -i data/sf2outcube_COSMOSC_096.fits.gz -o data/sf2outcube_COSMOSC_096.detect_noise_model')\n",
      "(-1, 'python detection_noise_model.py -i data/sf2outcube_COSMOSC_097.fits.gz -o data/sf2outcube_COSMOSC_097.detect_noise_model')\n",
      "(-1, 'python detection_noise_model.py -i data/sf2outcube_COSMOSC_103.fits.gz -o data/sf2outcube_COSMOSC_103.detect_noise_model')\n",
      "(-1, 'python detection_noise_model.py -i data/sf2outcube_COSMOSC_104.fits.gz -o data/sf2outcube_COSMOSC_104.detect_noise_model')\n",
      "(-1, 'python detection_noise_model.py -i data/sf2outcube_COSMOSC_105.fits.gz -o data/sf2outcube_COSMOSC_105.detect_noise_model')\n",
      "(-1, 'python detection_noise_model.py -i data/sf2outcube_COSMOSC_106.fits.gz -o data/sf2outcube_COSMOSC_106.detect_noise_model')\n"
     ]
    }
   ],
   "source": [
    "# run detect and segmentation\n",
    "def build_detect_noise_model(f, DRYRUN=True):\n",
    "    import os\n",
    "    detect_noise_model = f.replace(\".fits.gz\",\".detect_noise_model\")\n",
    "    cmd = \"python detection_noise_model.py -i {} -o {}\".format(f,detect_noise_model)\n",
    "    if DRYRUN:\n",
    "        print(cmd)\n",
    "        return -1, cmd\n",
    "    else:\n",
    "        return os.system( cmd ), cmd\n",
    "\n",
    "ff = np.sort( glob.glob(\"data/sf2outcube_{}_???.fits.gz\".format(field)) )\n",
    "\n",
    "tasks = []\n",
    "for f in ff:\n",
    "    tasks.append(lv.apply(build_detect_noise_model, f))\n",
    "result = [task.get() for task in tasks]  # blocks until all results are back\n",
    "\n",
    "for r in result:\n",
    "   print(r)"
   ]
  },
  {
   "cell_type": "code",
   "execution_count": 228,
   "metadata": {
    "scrolled": false
   },
   "outputs": [
    {
     "name": "stdout",
     "output_type": "stream",
     "text": [
      "(-1, 'python cloud_finder3.py -i data/sf2outcube_COSMOSC_021.fits.gz --sigma_detect_threshold 5.0 --sigma_grow_threshold 3.0 -b data/sf2outcube_COSMOSC_021.badregs -o data/map_COSMOSC_021.fits.gz -n data/sf2outcube_COSMOSC_021.detect_noise_model')\n",
      "(-1, 'python cloud_finder3.py -i data/sf2outcube_COSMOSC_022.fits.gz --sigma_detect_threshold 5.0 --sigma_grow_threshold 3.0 -b data/sf2outcube_COSMOSC_022.badregs -o data/map_COSMOSC_022.fits.gz -n data/sf2outcube_COSMOSC_022.detect_noise_model')\n",
      "(-1, 'python cloud_finder3.py -i data/sf2outcube_COSMOSC_023.fits.gz --sigma_detect_threshold 5.0 --sigma_grow_threshold 3.0 -b data/sf2outcube_COSMOSC_023.badregs -o data/map_COSMOSC_023.fits.gz -n data/sf2outcube_COSMOSC_023.detect_noise_model')\n",
      "(-1, 'python cloud_finder3.py -i data/sf2outcube_COSMOSC_024.fits.gz --sigma_detect_threshold 5.0 --sigma_grow_threshold 3.0 -b data/sf2outcube_COSMOSC_024.badregs -o data/map_COSMOSC_024.fits.gz -n data/sf2outcube_COSMOSC_024.detect_noise_model')\n",
      "(-1, 'python cloud_finder3.py -i data/sf2outcube_COSMOSC_025.fits.gz --sigma_detect_threshold 5.0 --sigma_grow_threshold 3.0 -b data/sf2outcube_COSMOSC_025.badregs -o data/map_COSMOSC_025.fits.gz -n data/sf2outcube_COSMOSC_025.detect_noise_model')\n",
      "(-1, 'python cloud_finder3.py -i data/sf2outcube_COSMOSC_026.fits.gz --sigma_detect_threshold 5.0 --sigma_grow_threshold 3.0 -b data/sf2outcube_COSMOSC_026.badregs -o data/map_COSMOSC_026.fits.gz -n data/sf2outcube_COSMOSC_026.detect_noise_model')\n",
      "(-1, 'python cloud_finder3.py -i data/sf2outcube_COSMOSC_027.fits.gz --sigma_detect_threshold 5.0 --sigma_grow_threshold 3.0 -b data/sf2outcube_COSMOSC_027.badregs -o data/map_COSMOSC_027.fits.gz -n data/sf2outcube_COSMOSC_027.detect_noise_model')\n",
      "(-1, 'python cloud_finder3.py -i data/sf2outcube_COSMOSC_032.fits.gz --sigma_detect_threshold 5.0 --sigma_grow_threshold 3.0 -b data/sf2outcube_COSMOSC_032.badregs -o data/map_COSMOSC_032.fits.gz -n data/sf2outcube_COSMOSC_032.detect_noise_model')\n",
      "(-1, 'python cloud_finder3.py -i data/sf2outcube_COSMOSC_033.fits.gz --sigma_detect_threshold 5.0 --sigma_grow_threshold 3.0 -b data/sf2outcube_COSMOSC_033.badregs -o data/map_COSMOSC_033.fits.gz -n data/sf2outcube_COSMOSC_033.detect_noise_model')\n",
      "(-1, 'python cloud_finder3.py -i data/sf2outcube_COSMOSC_034.fits.gz --sigma_detect_threshold 5.0 --sigma_grow_threshold 3.0 -b data/sf2outcube_COSMOSC_034.badregs -o data/map_COSMOSC_034.fits.gz -n data/sf2outcube_COSMOSC_034.detect_noise_model')\n",
      "(-1, 'python cloud_finder3.py -i data/sf2outcube_COSMOSC_035.fits.gz --sigma_detect_threshold 5.0 --sigma_grow_threshold 3.0 -b data/sf2outcube_COSMOSC_035.badregs -o data/map_COSMOSC_035.fits.gz -n data/sf2outcube_COSMOSC_035.detect_noise_model')\n",
      "(-1, 'python cloud_finder3.py -i data/sf2outcube_COSMOSC_036.fits.gz --sigma_detect_threshold 5.0 --sigma_grow_threshold 3.0 -b data/sf2outcube_COSMOSC_036.badregs -o data/map_COSMOSC_036.fits.gz -n data/sf2outcube_COSMOSC_036.detect_noise_model')\n",
      "(-1, 'python cloud_finder3.py -i data/sf2outcube_COSMOSC_037.fits.gz --sigma_detect_threshold 5.0 --sigma_grow_threshold 3.0 -b data/sf2outcube_COSMOSC_037.badregs -o data/map_COSMOSC_037.fits.gz -n data/sf2outcube_COSMOSC_037.detect_noise_model')\n",
      "(-1, 'python cloud_finder3.py -i data/sf2outcube_COSMOSC_042.fits.gz --sigma_detect_threshold 5.0 --sigma_grow_threshold 3.0 -b data/sf2outcube_COSMOSC_042.badregs -o data/map_COSMOSC_042.fits.gz -n data/sf2outcube_COSMOSC_042.detect_noise_model')\n",
      "(-1, 'python cloud_finder3.py -i data/sf2outcube_COSMOSC_043.fits.gz --sigma_detect_threshold 5.0 --sigma_grow_threshold 3.0 -b data/sf2outcube_COSMOSC_043.badregs -o data/map_COSMOSC_043.fits.gz -n data/sf2outcube_COSMOSC_043.detect_noise_model')\n",
      "(-1, 'python cloud_finder3.py -i data/sf2outcube_COSMOSC_044.fits.gz --sigma_detect_threshold 5.0 --sigma_grow_threshold 3.0 -b data/sf2outcube_COSMOSC_044.badregs -o data/map_COSMOSC_044.fits.gz -n data/sf2outcube_COSMOSC_044.detect_noise_model')\n",
      "(-1, 'python cloud_finder3.py -i data/sf2outcube_COSMOSC_045.fits.gz --sigma_detect_threshold 5.0 --sigma_grow_threshold 3.0 -b data/sf2outcube_COSMOSC_045.badregs -o data/map_COSMOSC_045.fits.gz -n data/sf2outcube_COSMOSC_045.detect_noise_model')\n",
      "(-1, 'python cloud_finder3.py -i data/sf2outcube_COSMOSC_046.fits.gz --sigma_detect_threshold 5.0 --sigma_grow_threshold 3.0 -b data/sf2outcube_COSMOSC_046.badregs -o data/map_COSMOSC_046.fits.gz -n data/sf2outcube_COSMOSC_046.detect_noise_model')\n",
      "(-1, 'python cloud_finder3.py -i data/sf2outcube_COSMOSC_047.fits.gz --sigma_detect_threshold 5.0 --sigma_grow_threshold 3.0 -b data/sf2outcube_COSMOSC_047.badregs -o data/map_COSMOSC_047.fits.gz -n data/sf2outcube_COSMOSC_047.detect_noise_model')\n",
      "(-1, 'python cloud_finder3.py -i data/sf2outcube_COSMOSC_052.fits.gz --sigma_detect_threshold 5.0 --sigma_grow_threshold 3.0 -b data/sf2outcube_COSMOSC_052.badregs -o data/map_COSMOSC_052.fits.gz -n data/sf2outcube_COSMOSC_052.detect_noise_model')\n",
      "(-1, 'python cloud_finder3.py -i data/sf2outcube_COSMOSC_053.fits.gz --sigma_detect_threshold 5.0 --sigma_grow_threshold 3.0 -b data/sf2outcube_COSMOSC_053.badregs -o data/map_COSMOSC_053.fits.gz -n data/sf2outcube_COSMOSC_053.detect_noise_model')\n",
      "(-1, 'python cloud_finder3.py -i data/sf2outcube_COSMOSC_062.fits.gz --sigma_detect_threshold 5.0 --sigma_grow_threshold 3.0 -b data/sf2outcube_COSMOSC_062.badregs -o data/map_COSMOSC_062.fits.gz -n data/sf2outcube_COSMOSC_062.detect_noise_model')\n",
      "(-1, 'python cloud_finder3.py -i data/sf2outcube_COSMOSC_063.fits.gz --sigma_detect_threshold 5.0 --sigma_grow_threshold 3.0 -b data/sf2outcube_COSMOSC_063.badregs -o data/map_COSMOSC_063.fits.gz -n data/sf2outcube_COSMOSC_063.detect_noise_model')\n",
      "(-1, 'python cloud_finder3.py -i data/sf2outcube_COSMOSC_072.fits.gz --sigma_detect_threshold 5.0 --sigma_grow_threshold 3.0 -b data/sf2outcube_COSMOSC_072.badregs -o data/map_COSMOSC_072.fits.gz -n data/sf2outcube_COSMOSC_072.detect_noise_model')\n",
      "(-1, 'python cloud_finder3.py -i data/sf2outcube_COSMOSC_073.fits.gz --sigma_detect_threshold 5.0 --sigma_grow_threshold 3.0 -b data/sf2outcube_COSMOSC_073.badregs -o data/map_COSMOSC_073.fits.gz -n data/sf2outcube_COSMOSC_073.detect_noise_model')\n",
      "(-1, 'python cloud_finder3.py -i data/sf2outcube_COSMOSC_074.fits.gz --sigma_detect_threshold 5.0 --sigma_grow_threshold 3.0 -b data/sf2outcube_COSMOSC_074.badregs -o data/map_COSMOSC_074.fits.gz -n data/sf2outcube_COSMOSC_074.detect_noise_model')\n",
      "(-1, 'python cloud_finder3.py -i data/sf2outcube_COSMOSC_075.fits.gz --sigma_detect_threshold 5.0 --sigma_grow_threshold 3.0 -b data/sf2outcube_COSMOSC_075.badregs -o data/map_COSMOSC_075.fits.gz -n data/sf2outcube_COSMOSC_075.detect_noise_model')\n",
      "(-1, 'python cloud_finder3.py -i data/sf2outcube_COSMOSC_076.fits.gz --sigma_detect_threshold 5.0 --sigma_grow_threshold 3.0 -b data/sf2outcube_COSMOSC_076.badregs -o data/map_COSMOSC_076.fits.gz -n data/sf2outcube_COSMOSC_076.detect_noise_model')\n",
      "(-1, 'python cloud_finder3.py -i data/sf2outcube_COSMOSC_077.fits.gz --sigma_detect_threshold 5.0 --sigma_grow_threshold 3.0 -b data/sf2outcube_COSMOSC_077.badregs -o data/map_COSMOSC_077.fits.gz -n data/sf2outcube_COSMOSC_077.detect_noise_model')\n",
      "(-1, 'python cloud_finder3.py -i data/sf2outcube_COSMOSC_082.fits.gz --sigma_detect_threshold 5.0 --sigma_grow_threshold 3.0 -b data/sf2outcube_COSMOSC_082.badregs -o data/map_COSMOSC_082.fits.gz -n data/sf2outcube_COSMOSC_082.detect_noise_model')\n",
      "(-1, 'python cloud_finder3.py -i data/sf2outcube_COSMOSC_083.fits.gz --sigma_detect_threshold 5.0 --sigma_grow_threshold 3.0 -b data/sf2outcube_COSMOSC_083.badregs -o data/map_COSMOSC_083.fits.gz -n data/sf2outcube_COSMOSC_083.detect_noise_model')\n",
      "(-1, 'python cloud_finder3.py -i data/sf2outcube_COSMOSC_084.fits.gz --sigma_detect_threshold 5.0 --sigma_grow_threshold 3.0 -b data/sf2outcube_COSMOSC_084.badregs -o data/map_COSMOSC_084.fits.gz -n data/sf2outcube_COSMOSC_084.detect_noise_model')\n",
      "(-1, 'python cloud_finder3.py -i data/sf2outcube_COSMOSC_085.fits.gz --sigma_detect_threshold 5.0 --sigma_grow_threshold 3.0 -b data/sf2outcube_COSMOSC_085.badregs -o data/map_COSMOSC_085.fits.gz -n data/sf2outcube_COSMOSC_085.detect_noise_model')\n",
      "(-1, 'python cloud_finder3.py -i data/sf2outcube_COSMOSC_086.fits.gz --sigma_detect_threshold 5.0 --sigma_grow_threshold 3.0 -b data/sf2outcube_COSMOSC_086.badregs -o data/map_COSMOSC_086.fits.gz -n data/sf2outcube_COSMOSC_086.detect_noise_model')\n",
      "(-1, 'python cloud_finder3.py -i data/sf2outcube_COSMOSC_087.fits.gz --sigma_detect_threshold 5.0 --sigma_grow_threshold 3.0 -b data/sf2outcube_COSMOSC_087.badregs -o data/map_COSMOSC_087.fits.gz -n data/sf2outcube_COSMOSC_087.detect_noise_model')\n",
      "(-1, 'python cloud_finder3.py -i data/sf2outcube_COSMOSC_093.fits.gz --sigma_detect_threshold 5.0 --sigma_grow_threshold 3.0 -b data/sf2outcube_COSMOSC_093.badregs -o data/map_COSMOSC_093.fits.gz -n data/sf2outcube_COSMOSC_093.detect_noise_model')\n",
      "(-1, 'python cloud_finder3.py -i data/sf2outcube_COSMOSC_095.fits.gz --sigma_detect_threshold 5.0 --sigma_grow_threshold 3.0 -b data/sf2outcube_COSMOSC_095.badregs -o data/map_COSMOSC_095.fits.gz -n data/sf2outcube_COSMOSC_095.detect_noise_model')\n",
      "(-1, 'python cloud_finder3.py -i data/sf2outcube_COSMOSC_096.fits.gz --sigma_detect_threshold 5.0 --sigma_grow_threshold 3.0 -b data/sf2outcube_COSMOSC_096.badregs -o data/map_COSMOSC_096.fits.gz -n data/sf2outcube_COSMOSC_096.detect_noise_model')\n",
      "(-1, 'python cloud_finder3.py -i data/sf2outcube_COSMOSC_097.fits.gz --sigma_detect_threshold 5.0 --sigma_grow_threshold 3.0 -b data/sf2outcube_COSMOSC_097.badregs -o data/map_COSMOSC_097.fits.gz -n data/sf2outcube_COSMOSC_097.detect_noise_model')\n",
      "(-1, 'python cloud_finder3.py -i data/sf2outcube_COSMOSC_103.fits.gz --sigma_detect_threshold 5.0 --sigma_grow_threshold 3.0 -b data/sf2outcube_COSMOSC_103.badregs -o data/map_COSMOSC_103.fits.gz -n data/sf2outcube_COSMOSC_103.detect_noise_model')\n",
      "(-1, 'python cloud_finder3.py -i data/sf2outcube_COSMOSC_104.fits.gz --sigma_detect_threshold 5.0 --sigma_grow_threshold 3.0 -b data/sf2outcube_COSMOSC_104.badregs -o data/map_COSMOSC_104.fits.gz -n data/sf2outcube_COSMOSC_104.detect_noise_model')\n",
      "(-1, 'python cloud_finder3.py -i data/sf2outcube_COSMOSC_105.fits.gz --sigma_detect_threshold 5.0 --sigma_grow_threshold 3.0 -b data/sf2outcube_COSMOSC_105.badregs -o data/map_COSMOSC_105.fits.gz -n data/sf2outcube_COSMOSC_105.detect_noise_model')\n",
      "(-1, 'python cloud_finder3.py -i data/sf2outcube_COSMOSC_106.fits.gz --sigma_detect_threshold 5.0 --sigma_grow_threshold 3.0 -b data/sf2outcube_COSMOSC_106.badregs -o data/map_COSMOSC_106.fits.gz -n data/sf2outcube_COSMOSC_106.detect_noise_model')\n"
     ]
    }
   ],
   "source": [
    "sigma_detect_threshold = 5.\n",
    "sigma_grow_threshold = 3.\n",
    "\n",
    "# run detect and segmentation\n",
    "def cloud_finder3(f, field, sigma_detect_threshold, sigma_grow_threshold, DRYRUN=True):\n",
    "    import os\n",
    "    h,t = os.path.split(f)\n",
    "    detect_noise_model = f.replace(\".fits.gz\",\".detect_noise_model\")\n",
    "    \n",
    "    cmd = \"python cloud_finder3.py -i {} --sigma_detect_threshold {} --sigma_grow_threshold {} -b {} -o {} -n {}\".\\\n",
    "        format(f,sigma_detect_threshold, sigma_grow_threshold,f.replace('.fits.gz','.badregs'),f.replace('sf2outcube','map'),detect_noise_model)\n",
    "    if DRYRUN:\n",
    "        print(cmd)\n",
    "        return -1, cmd\n",
    "    else:\n",
    "        return os.system( cmd ), cmd\n",
    "    \n",
    "    return os.system( cmd )\n",
    "\n",
    "ff = np.sort( glob.glob(\"data/sf2outcube_{}_???.fits.gz\".format(field)) )\n",
    "\n",
    "tasks = []\n",
    "for f in ff:\n",
    "    tasks.append(lv.apply(cloud_finder3, f, field, sigma_detect_threshold, sigma_grow_threshold))\n",
    "result = [task.get() for task in tasks]  # blocks until all results are back\n",
    "\n",
    "for r in result:\n",
    "    print(r)"
   ]
  },
  {
   "cell_type": "code",
   "execution_count": 213,
   "metadata": {},
   "outputs": [
    {
     "name": "stdout",
     "output_type": "stream",
     "text": [
      "(0, 'python apply_manual_catalog.py -i data/sf2outcube_COSMOSC_021.fits.gz -s 2.0 -m data/map_COSMOSC_021.fits.gz -n data/sf2outcube_COSMOSC_021.detect_noise_model -o data/mmap_COSMOSC_021.fits.gz -c data/COSMOSC_021.txt')\n",
      "(0, 'python apply_manual_catalog.py -i data/sf2outcube_COSMOSC_022.fits.gz -s 2.0 -m data/map_COSMOSC_022.fits.gz -n data/sf2outcube_COSMOSC_022.detect_noise_model -o data/mmap_COSMOSC_022.fits.gz -c data/COSMOSC_022.txt')\n",
      "(0, 'python apply_manual_catalog.py -i data/sf2outcube_COSMOSC_023.fits.gz -s 2.0 -m data/map_COSMOSC_023.fits.gz -n data/sf2outcube_COSMOSC_023.detect_noise_model -o data/mmap_COSMOSC_023.fits.gz -c data/COSMOSC_023.txt')\n",
      "(0, 'python apply_manual_catalog.py -i data/sf2outcube_COSMOSC_024.fits.gz -s 2.0 -m data/map_COSMOSC_024.fits.gz -n data/sf2outcube_COSMOSC_024.detect_noise_model -o data/mmap_COSMOSC_024.fits.gz -c data/COSMOSC_024.txt')\n",
      "(0, 'python apply_manual_catalog.py -i data/sf2outcube_COSMOSC_025.fits.gz -s 2.0 -m data/map_COSMOSC_025.fits.gz -n data/sf2outcube_COSMOSC_025.detect_noise_model -o data/mmap_COSMOSC_025.fits.gz -c data/COSMOSC_025.txt')\n",
      "(0, 'python apply_manual_catalog.py -i data/sf2outcube_COSMOSC_026.fits.gz -s 2.0 -m data/map_COSMOSC_026.fits.gz -n data/sf2outcube_COSMOSC_026.detect_noise_model -o data/mmap_COSMOSC_026.fits.gz -c data/COSMOSC_026.txt')\n",
      "(0, 'python apply_manual_catalog.py -i data/sf2outcube_COSMOSC_027.fits.gz -s 2.0 -m data/map_COSMOSC_027.fits.gz -n data/sf2outcube_COSMOSC_027.detect_noise_model -o data/mmap_COSMOSC_027.fits.gz -c data/COSMOSC_027.txt')\n",
      "(0, 'python apply_manual_catalog.py -i data/sf2outcube_COSMOSC_032.fits.gz -s 2.0 -m data/map_COSMOSC_032.fits.gz -n data/sf2outcube_COSMOSC_032.detect_noise_model -o data/mmap_COSMOSC_032.fits.gz -c data/COSMOSC_032.txt')\n",
      "(256, 'python apply_manual_catalog.py -i data/sf2outcube_COSMOSC_033.fits.gz -s 2.0 -m data/map_COSMOSC_033.fits.gz -n data/sf2outcube_COSMOSC_033.detect_noise_model -o data/mmap_COSMOSC_033.fits.gz -c data/COSMOSC_033.txt')\n",
      "(0, 'python apply_manual_catalog.py -i data/sf2outcube_COSMOSC_034.fits.gz -s 2.0 -m data/map_COSMOSC_034.fits.gz -n data/sf2outcube_COSMOSC_034.detect_noise_model -o data/mmap_COSMOSC_034.fits.gz -c data/COSMOSC_034.txt')\n",
      "(0, 'python apply_manual_catalog.py -i data/sf2outcube_COSMOSC_035.fits.gz -s 2.0 -m data/map_COSMOSC_035.fits.gz -n data/sf2outcube_COSMOSC_035.detect_noise_model -o data/mmap_COSMOSC_035.fits.gz -c data/COSMOSC_035.txt')\n",
      "(0, 'python apply_manual_catalog.py -i data/sf2outcube_COSMOSC_036.fits.gz -s 2.0 -m data/map_COSMOSC_036.fits.gz -n data/sf2outcube_COSMOSC_036.detect_noise_model -o data/mmap_COSMOSC_036.fits.gz -c data/COSMOSC_036.txt')\n",
      "(0, 'python apply_manual_catalog.py -i data/sf2outcube_COSMOSC_037.fits.gz -s 2.0 -m data/map_COSMOSC_037.fits.gz -n data/sf2outcube_COSMOSC_037.detect_noise_model -o data/mmap_COSMOSC_037.fits.gz -c data/COSMOSC_037.txt')\n",
      "(0, 'python apply_manual_catalog.py -i data/sf2outcube_COSMOSC_042.fits.gz -s 2.0 -m data/map_COSMOSC_042.fits.gz -n data/sf2outcube_COSMOSC_042.detect_noise_model -o data/mmap_COSMOSC_042.fits.gz -c data/COSMOSC_042.txt')\n",
      "(0, 'python apply_manual_catalog.py -i data/sf2outcube_COSMOSC_043.fits.gz -s 2.0 -m data/map_COSMOSC_043.fits.gz -n data/sf2outcube_COSMOSC_043.detect_noise_model -o data/mmap_COSMOSC_043.fits.gz -c data/COSMOSC_043.txt')\n",
      "(0, 'python apply_manual_catalog.py -i data/sf2outcube_COSMOSC_044.fits.gz -s 2.0 -m data/map_COSMOSC_044.fits.gz -n data/sf2outcube_COSMOSC_044.detect_noise_model -o data/mmap_COSMOSC_044.fits.gz -c data/COSMOSC_044.txt')\n",
      "(0, 'python apply_manual_catalog.py -i data/sf2outcube_COSMOSC_045.fits.gz -s 2.0 -m data/map_COSMOSC_045.fits.gz -n data/sf2outcube_COSMOSC_045.detect_noise_model -o data/mmap_COSMOSC_045.fits.gz -c data/COSMOSC_045.txt')\n",
      "(0, 'python apply_manual_catalog.py -i data/sf2outcube_COSMOSC_046.fits.gz -s 2.0 -m data/map_COSMOSC_046.fits.gz -n data/sf2outcube_COSMOSC_046.detect_noise_model -o data/mmap_COSMOSC_046.fits.gz -c data/COSMOSC_046.txt')\n",
      "(0, 'python apply_manual_catalog.py -i data/sf2outcube_COSMOSC_047.fits.gz -s 2.0 -m data/map_COSMOSC_047.fits.gz -n data/sf2outcube_COSMOSC_047.detect_noise_model -o data/mmap_COSMOSC_047.fits.gz -c data/COSMOSC_047.txt')\n",
      "(0, 'python apply_manual_catalog.py -i data/sf2outcube_COSMOSC_052.fits.gz -s 2.0 -m data/map_COSMOSC_052.fits.gz -n data/sf2outcube_COSMOSC_052.detect_noise_model -o data/mmap_COSMOSC_052.fits.gz -c data/COSMOSC_052.txt')\n",
      "(0, 'python apply_manual_catalog.py -i data/sf2outcube_COSMOSC_053.fits.gz -s 2.0 -m data/map_COSMOSC_053.fits.gz -n data/sf2outcube_COSMOSC_053.detect_noise_model -o data/mmap_COSMOSC_053.fits.gz -c data/COSMOSC_053.txt')\n",
      "(0, 'python apply_manual_catalog.py -i data/sf2outcube_COSMOSC_062.fits.gz -s 2.0 -m data/map_COSMOSC_062.fits.gz -n data/sf2outcube_COSMOSC_062.detect_noise_model -o data/mmap_COSMOSC_062.fits.gz -c data/COSMOSC_062.txt')\n",
      "(0, 'python apply_manual_catalog.py -i data/sf2outcube_COSMOSC_063.fits.gz -s 2.0 -m data/map_COSMOSC_063.fits.gz -n data/sf2outcube_COSMOSC_063.detect_noise_model -o data/mmap_COSMOSC_063.fits.gz -c data/COSMOSC_063.txt')\n",
      "(0, 'python apply_manual_catalog.py -i data/sf2outcube_COSMOSC_072.fits.gz -s 2.0 -m data/map_COSMOSC_072.fits.gz -n data/sf2outcube_COSMOSC_072.detect_noise_model -o data/mmap_COSMOSC_072.fits.gz -c data/COSMOSC_072.txt')\n",
      "(0, 'python apply_manual_catalog.py -i data/sf2outcube_COSMOSC_073.fits.gz -s 2.0 -m data/map_COSMOSC_073.fits.gz -n data/sf2outcube_COSMOSC_073.detect_noise_model -o data/mmap_COSMOSC_073.fits.gz -c data/COSMOSC_073.txt')\n",
      "(0, 'python apply_manual_catalog.py -i data/sf2outcube_COSMOSC_074.fits.gz -s 2.0 -m data/map_COSMOSC_074.fits.gz -n data/sf2outcube_COSMOSC_074.detect_noise_model -o data/mmap_COSMOSC_074.fits.gz -c data/COSMOSC_074.txt')\n",
      "(0, 'python apply_manual_catalog.py -i data/sf2outcube_COSMOSC_075.fits.gz -s 2.0 -m data/map_COSMOSC_075.fits.gz -n data/sf2outcube_COSMOSC_075.detect_noise_model -o data/mmap_COSMOSC_075.fits.gz -c data/COSMOSC_075.txt')\n",
      "(0, 'python apply_manual_catalog.py -i data/sf2outcube_COSMOSC_076.fits.gz -s 2.0 -m data/map_COSMOSC_076.fits.gz -n data/sf2outcube_COSMOSC_076.detect_noise_model -o data/mmap_COSMOSC_076.fits.gz -c data/COSMOSC_076.txt')\n",
      "(0, 'python apply_manual_catalog.py -i data/sf2outcube_COSMOSC_077.fits.gz -s 2.0 -m data/map_COSMOSC_077.fits.gz -n data/sf2outcube_COSMOSC_077.detect_noise_model -o data/mmap_COSMOSC_077.fits.gz -c data/COSMOSC_077.txt')\n",
      "(0, 'python apply_manual_catalog.py -i data/sf2outcube_COSMOSC_082.fits.gz -s 2.0 -m data/map_COSMOSC_082.fits.gz -n data/sf2outcube_COSMOSC_082.detect_noise_model -o data/mmap_COSMOSC_082.fits.gz -c data/COSMOSC_082.txt')\n",
      "(0, 'python apply_manual_catalog.py -i data/sf2outcube_COSMOSC_083.fits.gz -s 2.0 -m data/map_COSMOSC_083.fits.gz -n data/sf2outcube_COSMOSC_083.detect_noise_model -o data/mmap_COSMOSC_083.fits.gz -c data/COSMOSC_083.txt')\n",
      "(0, 'python apply_manual_catalog.py -i data/sf2outcube_COSMOSC_084.fits.gz -s 2.0 -m data/map_COSMOSC_084.fits.gz -n data/sf2outcube_COSMOSC_084.detect_noise_model -o data/mmap_COSMOSC_084.fits.gz -c data/COSMOSC_084.txt')\n",
      "(0, 'python apply_manual_catalog.py -i data/sf2outcube_COSMOSC_085.fits.gz -s 2.0 -m data/map_COSMOSC_085.fits.gz -n data/sf2outcube_COSMOSC_085.detect_noise_model -o data/mmap_COSMOSC_085.fits.gz -c data/COSMOSC_085.txt')\n",
      "(0, 'python apply_manual_catalog.py -i data/sf2outcube_COSMOSC_086.fits.gz -s 2.0 -m data/map_COSMOSC_086.fits.gz -n data/sf2outcube_COSMOSC_086.detect_noise_model -o data/mmap_COSMOSC_086.fits.gz -c data/COSMOSC_086.txt')\n",
      "(0, 'python apply_manual_catalog.py -i data/sf2outcube_COSMOSC_087.fits.gz -s 2.0 -m data/map_COSMOSC_087.fits.gz -n data/sf2outcube_COSMOSC_087.detect_noise_model -o data/mmap_COSMOSC_087.fits.gz -c data/COSMOSC_087.txt')\n",
      "(0, 'python apply_manual_catalog.py -i data/sf2outcube_COSMOSC_093.fits.gz -s 2.0 -m data/map_COSMOSC_093.fits.gz -n data/sf2outcube_COSMOSC_093.detect_noise_model -o data/mmap_COSMOSC_093.fits.gz -c data/COSMOSC_093.txt')\n",
      "(0, 'python apply_manual_catalog.py -i data/sf2outcube_COSMOSC_095.fits.gz -s 2.0 -m data/map_COSMOSC_095.fits.gz -n data/sf2outcube_COSMOSC_095.detect_noise_model -o data/mmap_COSMOSC_095.fits.gz -c data/COSMOSC_095.txt')\n",
      "(0, 'python apply_manual_catalog.py -i data/sf2outcube_COSMOSC_096.fits.gz -s 2.0 -m data/map_COSMOSC_096.fits.gz -n data/sf2outcube_COSMOSC_096.detect_noise_model -o data/mmap_COSMOSC_096.fits.gz -c data/COSMOSC_096.txt')\n",
      "(0, 'python apply_manual_catalog.py -i data/sf2outcube_COSMOSC_097.fits.gz -s 2.0 -m data/map_COSMOSC_097.fits.gz -n data/sf2outcube_COSMOSC_097.detect_noise_model -o data/mmap_COSMOSC_097.fits.gz -c data/COSMOSC_097.txt')\n",
      "(0, 'python apply_manual_catalog.py -i data/sf2outcube_COSMOSC_103.fits.gz -s 2.0 -m data/map_COSMOSC_103.fits.gz -n data/sf2outcube_COSMOSC_103.detect_noise_model -o data/mmap_COSMOSC_103.fits.gz -c data/COSMOSC_103.txt')\n",
      "(0, 'python apply_manual_catalog.py -i data/sf2outcube_COSMOSC_104.fits.gz -s 2.0 -m data/map_COSMOSC_104.fits.gz -n data/sf2outcube_COSMOSC_104.detect_noise_model -o data/mmap_COSMOSC_104.fits.gz -c data/COSMOSC_104.txt')\n",
      "(0, 'python apply_manual_catalog.py -i data/sf2outcube_COSMOSC_105.fits.gz -s 2.0 -m data/map_COSMOSC_105.fits.gz -n data/sf2outcube_COSMOSC_105.detect_noise_model -o data/mmap_COSMOSC_105.fits.gz -c data/COSMOSC_105.txt')\n",
      "(0, 'python apply_manual_catalog.py -i data/sf2outcube_COSMOSC_106.fits.gz -s 2.0 -m data/map_COSMOSC_106.fits.gz -n data/sf2outcube_COSMOSC_106.detect_noise_model -o data/mmap_COSMOSC_106.fits.gz -c data/COSMOSC_106.txt')\n"
     ]
    }
   ],
   "source": [
    "# add segmants for manually flagged \n",
    "def apply_manual_catalog(f, field, sigma_grow_threshold, DRYRUN=False):\n",
    "    import os\n",
    "    h,t = os.path.split(f)\n",
    "    ifu = t.replace('.fits.gz','').split(\"_\")[-1]\n",
    "    fncatalog = \"data/{}_{}.txt\".format(field, ifu)\n",
    "    detect_noise_model = f.replace(\".fits.gz\",\".detect_noise_model\")\n",
    "    \n",
    "    cmd = \"python apply_manual_catalog.py -i {} -s {} -m {} -n {} -o {} -c {}\".\\\n",
    "        format(f, sigma_grow_threshold, f.replace('sf2outcube','map'), \\\n",
    "               detect_noise_model, f.replace('sf2outcube','mmap'), fncatalog)\n",
    "    if DRYRUN:\n",
    "        print(cmd)\n",
    "        return cmd\n",
    "    else:\n",
    "        return os.system( cmd ), cmd\n",
    "    \n",
    "    return os.system( cmd )\n",
    "\n",
    "ff = np.sort( glob.glob(\"data/sf2outcube_{}_???.fits.gz\".format(field)) )\n",
    "\n",
    "sigma_grow_threshold = 2.0\n",
    "\n",
    "tasks = []\n",
    "for f in ff:\n",
    "    tasks.append(lv.apply(apply_manual_catalog, f, field, sigma_grow_threshold))\n",
    "result = [task.get() for task in tasks]  # blocks until all results are back\n",
    "\n",
    "for r in result:\n",
    "    print(r)\n",
    "\n",
    "#python apply_manual_catalog.py -i data/sf2outcube_COSMOSC_021.fits.gz --sigma_grow_threshold 1.7  \n",
    "#-m data/map_COSMOSC_021.fits.gz -n data/sf2outcube_COSMOSC_021.detect_noise_model -o data/mmap_COSMOSC_021.fits.gz -c data/COSMOSC_021.txt"
   ]
  },
  {
   "cell_type": "code",
   "execution_count": 223,
   "metadata": {},
   "outputs": [
    {
     "name": "stdout",
     "output_type": "stream",
     "text": [
      "(0, 'python build_catalog.py -i data/sf2outcube_COSMOSC_021.fits.gz -m data/mmap_COSMOSC_021.fits.gz -c specphot/mean_cal_COSMOSC.txt -o data/msf2outcube_COSMOSC_021.cat')\n",
      "(0, 'python build_catalog.py -i data/sf2outcube_COSMOSC_022.fits.gz -m data/mmap_COSMOSC_022.fits.gz -c specphot/mean_cal_COSMOSC.txt -o data/msf2outcube_COSMOSC_022.cat')\n",
      "(0, 'python build_catalog.py -i data/sf2outcube_COSMOSC_023.fits.gz -m data/mmap_COSMOSC_023.fits.gz -c specphot/mean_cal_COSMOSC.txt -o data/msf2outcube_COSMOSC_023.cat')\n",
      "(0, 'python build_catalog.py -i data/sf2outcube_COSMOSC_024.fits.gz -m data/mmap_COSMOSC_024.fits.gz -c specphot/mean_cal_COSMOSC.txt -o data/msf2outcube_COSMOSC_024.cat')\n",
      "(0, 'python build_catalog.py -i data/sf2outcube_COSMOSC_025.fits.gz -m data/mmap_COSMOSC_025.fits.gz -c specphot/mean_cal_COSMOSC.txt -o data/msf2outcube_COSMOSC_025.cat')\n",
      "(0, 'python build_catalog.py -i data/sf2outcube_COSMOSC_026.fits.gz -m data/mmap_COSMOSC_026.fits.gz -c specphot/mean_cal_COSMOSC.txt -o data/msf2outcube_COSMOSC_026.cat')\n",
      "(0, 'python build_catalog.py -i data/sf2outcube_COSMOSC_027.fits.gz -m data/mmap_COSMOSC_027.fits.gz -c specphot/mean_cal_COSMOSC.txt -o data/msf2outcube_COSMOSC_027.cat')\n",
      "(0, 'python build_catalog.py -i data/sf2outcube_COSMOSC_032.fits.gz -m data/mmap_COSMOSC_032.fits.gz -c specphot/mean_cal_COSMOSC.txt -o data/msf2outcube_COSMOSC_032.cat')\n",
      "(256, 'python build_catalog.py -i data/sf2outcube_COSMOSC_033.fits.gz -m data/mmap_COSMOSC_033.fits.gz -c specphot/mean_cal_COSMOSC.txt -o data/msf2outcube_COSMOSC_033.cat')\n",
      "(0, 'python build_catalog.py -i data/sf2outcube_COSMOSC_034.fits.gz -m data/mmap_COSMOSC_034.fits.gz -c specphot/mean_cal_COSMOSC.txt -o data/msf2outcube_COSMOSC_034.cat')\n",
      "(0, 'python build_catalog.py -i data/sf2outcube_COSMOSC_035.fits.gz -m data/mmap_COSMOSC_035.fits.gz -c specphot/mean_cal_COSMOSC.txt -o data/msf2outcube_COSMOSC_035.cat')\n",
      "(0, 'python build_catalog.py -i data/sf2outcube_COSMOSC_036.fits.gz -m data/mmap_COSMOSC_036.fits.gz -c specphot/mean_cal_COSMOSC.txt -o data/msf2outcube_COSMOSC_036.cat')\n",
      "(0, 'python build_catalog.py -i data/sf2outcube_COSMOSC_037.fits.gz -m data/mmap_COSMOSC_037.fits.gz -c specphot/mean_cal_COSMOSC.txt -o data/msf2outcube_COSMOSC_037.cat')\n",
      "(0, 'python build_catalog.py -i data/sf2outcube_COSMOSC_042.fits.gz -m data/mmap_COSMOSC_042.fits.gz -c specphot/mean_cal_COSMOSC.txt -o data/msf2outcube_COSMOSC_042.cat')\n",
      "(0, 'python build_catalog.py -i data/sf2outcube_COSMOSC_043.fits.gz -m data/mmap_COSMOSC_043.fits.gz -c specphot/mean_cal_COSMOSC.txt -o data/msf2outcube_COSMOSC_043.cat')\n",
      "(0, 'python build_catalog.py -i data/sf2outcube_COSMOSC_044.fits.gz -m data/mmap_COSMOSC_044.fits.gz -c specphot/mean_cal_COSMOSC.txt -o data/msf2outcube_COSMOSC_044.cat')\n",
      "(0, 'python build_catalog.py -i data/sf2outcube_COSMOSC_045.fits.gz -m data/mmap_COSMOSC_045.fits.gz -c specphot/mean_cal_COSMOSC.txt -o data/msf2outcube_COSMOSC_045.cat')\n",
      "(0, 'python build_catalog.py -i data/sf2outcube_COSMOSC_046.fits.gz -m data/mmap_COSMOSC_046.fits.gz -c specphot/mean_cal_COSMOSC.txt -o data/msf2outcube_COSMOSC_046.cat')\n",
      "(0, 'python build_catalog.py -i data/sf2outcube_COSMOSC_047.fits.gz -m data/mmap_COSMOSC_047.fits.gz -c specphot/mean_cal_COSMOSC.txt -o data/msf2outcube_COSMOSC_047.cat')\n",
      "(0, 'python build_catalog.py -i data/sf2outcube_COSMOSC_052.fits.gz -m data/mmap_COSMOSC_052.fits.gz -c specphot/mean_cal_COSMOSC.txt -o data/msf2outcube_COSMOSC_052.cat')\n",
      "(0, 'python build_catalog.py -i data/sf2outcube_COSMOSC_053.fits.gz -m data/mmap_COSMOSC_053.fits.gz -c specphot/mean_cal_COSMOSC.txt -o data/msf2outcube_COSMOSC_053.cat')\n",
      "(0, 'python build_catalog.py -i data/sf2outcube_COSMOSC_062.fits.gz -m data/mmap_COSMOSC_062.fits.gz -c specphot/mean_cal_COSMOSC.txt -o data/msf2outcube_COSMOSC_062.cat')\n",
      "(0, 'python build_catalog.py -i data/sf2outcube_COSMOSC_063.fits.gz -m data/mmap_COSMOSC_063.fits.gz -c specphot/mean_cal_COSMOSC.txt -o data/msf2outcube_COSMOSC_063.cat')\n",
      "(0, 'python build_catalog.py -i data/sf2outcube_COSMOSC_072.fits.gz -m data/mmap_COSMOSC_072.fits.gz -c specphot/mean_cal_COSMOSC.txt -o data/msf2outcube_COSMOSC_072.cat')\n",
      "(0, 'python build_catalog.py -i data/sf2outcube_COSMOSC_073.fits.gz -m data/mmap_COSMOSC_073.fits.gz -c specphot/mean_cal_COSMOSC.txt -o data/msf2outcube_COSMOSC_073.cat')\n",
      "(0, 'python build_catalog.py -i data/sf2outcube_COSMOSC_074.fits.gz -m data/mmap_COSMOSC_074.fits.gz -c specphot/mean_cal_COSMOSC.txt -o data/msf2outcube_COSMOSC_074.cat')\n",
      "(0, 'python build_catalog.py -i data/sf2outcube_COSMOSC_075.fits.gz -m data/mmap_COSMOSC_075.fits.gz -c specphot/mean_cal_COSMOSC.txt -o data/msf2outcube_COSMOSC_075.cat')\n",
      "(0, 'python build_catalog.py -i data/sf2outcube_COSMOSC_076.fits.gz -m data/mmap_COSMOSC_076.fits.gz -c specphot/mean_cal_COSMOSC.txt -o data/msf2outcube_COSMOSC_076.cat')\n",
      "(0, 'python build_catalog.py -i data/sf2outcube_COSMOSC_077.fits.gz -m data/mmap_COSMOSC_077.fits.gz -c specphot/mean_cal_COSMOSC.txt -o data/msf2outcube_COSMOSC_077.cat')\n",
      "(0, 'python build_catalog.py -i data/sf2outcube_COSMOSC_082.fits.gz -m data/mmap_COSMOSC_082.fits.gz -c specphot/mean_cal_COSMOSC.txt -o data/msf2outcube_COSMOSC_082.cat')\n",
      "(0, 'python build_catalog.py -i data/sf2outcube_COSMOSC_083.fits.gz -m data/mmap_COSMOSC_083.fits.gz -c specphot/mean_cal_COSMOSC.txt -o data/msf2outcube_COSMOSC_083.cat')\n",
      "(0, 'python build_catalog.py -i data/sf2outcube_COSMOSC_084.fits.gz -m data/mmap_COSMOSC_084.fits.gz -c specphot/mean_cal_COSMOSC.txt -o data/msf2outcube_COSMOSC_084.cat')\n",
      "(0, 'python build_catalog.py -i data/sf2outcube_COSMOSC_085.fits.gz -m data/mmap_COSMOSC_085.fits.gz -c specphot/mean_cal_COSMOSC.txt -o data/msf2outcube_COSMOSC_085.cat')\n",
      "(0, 'python build_catalog.py -i data/sf2outcube_COSMOSC_086.fits.gz -m data/mmap_COSMOSC_086.fits.gz -c specphot/mean_cal_COSMOSC.txt -o data/msf2outcube_COSMOSC_086.cat')\n",
      "(0, 'python build_catalog.py -i data/sf2outcube_COSMOSC_087.fits.gz -m data/mmap_COSMOSC_087.fits.gz -c specphot/mean_cal_COSMOSC.txt -o data/msf2outcube_COSMOSC_087.cat')\n",
      "(0, 'python build_catalog.py -i data/sf2outcube_COSMOSC_093.fits.gz -m data/mmap_COSMOSC_093.fits.gz -c specphot/mean_cal_COSMOSC.txt -o data/msf2outcube_COSMOSC_093.cat')\n",
      "(0, 'python build_catalog.py -i data/sf2outcube_COSMOSC_095.fits.gz -m data/mmap_COSMOSC_095.fits.gz -c specphot/mean_cal_COSMOSC.txt -o data/msf2outcube_COSMOSC_095.cat')\n",
      "(0, 'python build_catalog.py -i data/sf2outcube_COSMOSC_096.fits.gz -m data/mmap_COSMOSC_096.fits.gz -c specphot/mean_cal_COSMOSC.txt -o data/msf2outcube_COSMOSC_096.cat')\n",
      "(0, 'python build_catalog.py -i data/sf2outcube_COSMOSC_097.fits.gz -m data/mmap_COSMOSC_097.fits.gz -c specphot/mean_cal_COSMOSC.txt -o data/msf2outcube_COSMOSC_097.cat')\n",
      "(0, 'python build_catalog.py -i data/sf2outcube_COSMOSC_103.fits.gz -m data/mmap_COSMOSC_103.fits.gz -c specphot/mean_cal_COSMOSC.txt -o data/msf2outcube_COSMOSC_103.cat')\n",
      "(0, 'python build_catalog.py -i data/sf2outcube_COSMOSC_104.fits.gz -m data/mmap_COSMOSC_104.fits.gz -c specphot/mean_cal_COSMOSC.txt -o data/msf2outcube_COSMOSC_104.cat')\n",
      "(0, 'python build_catalog.py -i data/sf2outcube_COSMOSC_105.fits.gz -m data/mmap_COSMOSC_105.fits.gz -c specphot/mean_cal_COSMOSC.txt -o data/msf2outcube_COSMOSC_105.cat')\n",
      "(0, 'python build_catalog.py -i data/sf2outcube_COSMOSC_106.fits.gz -m data/mmap_COSMOSC_106.fits.gz -c specphot/mean_cal_COSMOSC.txt -o data/msf2outcube_COSMOSC_106.cat')\n"
     ]
    }
   ],
   "source": [
    "#sf2outcube_COSMOSA_044.fits.gz\n",
    "#map_COSMOSB_042.fits.gz\n",
    "\n",
    "\n",
    "# build catalog\n",
    "def build_catalog(f, field, DRYRUN=False):\n",
    "    import os\n",
    "    ifu = f[-11:-8]\n",
    "    \n",
    "    cmd = \"python build_catalog.py -i {f} -m data/mmap_{field}_{ifu}.fits.gz -c specphot/mean_cal_{field}.txt -o data/msf2outcube_{field}_{ifu}.cat\"\\\n",
    "        .format(f=f,field=field,ifu=ifu)\n",
    "    \n",
    "    if DRYRUN:\n",
    "        return -1, cmd\n",
    "    \n",
    "    return os.system( cmd ), cmd\n",
    "\n",
    "ff = np.sort( glob.glob(\"data/sf2outcube_{}_???.fits.gz\".format(field)) )\n",
    "\n",
    "tasks = []\n",
    "for f in ff:\n",
    "    tasks.append(lv.apply(build_catalog, f, field))\n",
    "result = [task.get() for task in tasks]  # blocks until all results are back\n",
    "\n",
    "for r in result:\n",
    "    print(r)"
   ]
  },
  {
   "cell_type": "code",
   "execution_count": 224,
   "metadata": {},
   "outputs": [
    {
     "name": "stdout",
     "output_type": "stream",
     "text": [
      "python src/add_manual_info.py -m data/mmap_COSMOSC_021.fits.gz -c data/COSMOSC_021.txt -a data/msf2outcube_COSMOSC_021.cat\n",
      "python src/add_manual_info.py -m data/mmap_COSMOSC_022.fits.gz -c data/COSMOSC_022.txt -a data/msf2outcube_COSMOSC_022.cat\n",
      "python src/add_manual_info.py -m data/mmap_COSMOSC_023.fits.gz -c data/COSMOSC_023.txt -a data/msf2outcube_COSMOSC_023.cat\n",
      "python src/add_manual_info.py -m data/mmap_COSMOSC_024.fits.gz -c data/COSMOSC_024.txt -a data/msf2outcube_COSMOSC_024.cat\n",
      "python src/add_manual_info.py -m data/mmap_COSMOSC_025.fits.gz -c data/COSMOSC_025.txt -a data/msf2outcube_COSMOSC_025.cat\n",
      "python src/add_manual_info.py -m data/mmap_COSMOSC_026.fits.gz -c data/COSMOSC_026.txt -a data/msf2outcube_COSMOSC_026.cat\n",
      "python src/add_manual_info.py -m data/mmap_COSMOSC_027.fits.gz -c data/COSMOSC_027.txt -a data/msf2outcube_COSMOSC_027.cat\n",
      "python src/add_manual_info.py -m data/mmap_COSMOSC_032.fits.gz -c data/COSMOSC_032.txt -a data/msf2outcube_COSMOSC_032.cat\n",
      "python src/add_manual_info.py -m data/mmap_COSMOSC_033.fits.gz -c data/COSMOSC_033.txt -a data/msf2outcube_COSMOSC_033.cat\n",
      "python src/add_manual_info.py -m data/mmap_COSMOSC_034.fits.gz -c data/COSMOSC_034.txt -a data/msf2outcube_COSMOSC_034.cat\n",
      "python src/add_manual_info.py -m data/mmap_COSMOSC_035.fits.gz -c data/COSMOSC_035.txt -a data/msf2outcube_COSMOSC_035.cat\n",
      "python src/add_manual_info.py -m data/mmap_COSMOSC_036.fits.gz -c data/COSMOSC_036.txt -a data/msf2outcube_COSMOSC_036.cat\n",
      "python src/add_manual_info.py -m data/mmap_COSMOSC_037.fits.gz -c data/COSMOSC_037.txt -a data/msf2outcube_COSMOSC_037.cat\n",
      "python src/add_manual_info.py -m data/mmap_COSMOSC_042.fits.gz -c data/COSMOSC_042.txt -a data/msf2outcube_COSMOSC_042.cat\n",
      "python src/add_manual_info.py -m data/mmap_COSMOSC_043.fits.gz -c data/COSMOSC_043.txt -a data/msf2outcube_COSMOSC_043.cat\n",
      "python src/add_manual_info.py -m data/mmap_COSMOSC_044.fits.gz -c data/COSMOSC_044.txt -a data/msf2outcube_COSMOSC_044.cat\n",
      "python src/add_manual_info.py -m data/mmap_COSMOSC_045.fits.gz -c data/COSMOSC_045.txt -a data/msf2outcube_COSMOSC_045.cat\n",
      "python src/add_manual_info.py -m data/mmap_COSMOSC_046.fits.gz -c data/COSMOSC_046.txt -a data/msf2outcube_COSMOSC_046.cat\n",
      "python src/add_manual_info.py -m data/mmap_COSMOSC_047.fits.gz -c data/COSMOSC_047.txt -a data/msf2outcube_COSMOSC_047.cat\n",
      "python src/add_manual_info.py -m data/mmap_COSMOSC_052.fits.gz -c data/COSMOSC_052.txt -a data/msf2outcube_COSMOSC_052.cat\n",
      "python src/add_manual_info.py -m data/mmap_COSMOSC_053.fits.gz -c data/COSMOSC_053.txt -a data/msf2outcube_COSMOSC_053.cat\n",
      "python src/add_manual_info.py -m data/mmap_COSMOSC_062.fits.gz -c data/COSMOSC_062.txt -a data/msf2outcube_COSMOSC_062.cat\n",
      "python src/add_manual_info.py -m data/mmap_COSMOSC_063.fits.gz -c data/COSMOSC_063.txt -a data/msf2outcube_COSMOSC_063.cat\n",
      "python src/add_manual_info.py -m data/mmap_COSMOSC_072.fits.gz -c data/COSMOSC_072.txt -a data/msf2outcube_COSMOSC_072.cat\n",
      "python src/add_manual_info.py -m data/mmap_COSMOSC_073.fits.gz -c data/COSMOSC_073.txt -a data/msf2outcube_COSMOSC_073.cat\n",
      "python src/add_manual_info.py -m data/mmap_COSMOSC_074.fits.gz -c data/COSMOSC_074.txt -a data/msf2outcube_COSMOSC_074.cat\n",
      "python src/add_manual_info.py -m data/mmap_COSMOSC_075.fits.gz -c data/COSMOSC_075.txt -a data/msf2outcube_COSMOSC_075.cat\n",
      "python src/add_manual_info.py -m data/mmap_COSMOSC_076.fits.gz -c data/COSMOSC_076.txt -a data/msf2outcube_COSMOSC_076.cat\n",
      "python src/add_manual_info.py -m data/mmap_COSMOSC_077.fits.gz -c data/COSMOSC_077.txt -a data/msf2outcube_COSMOSC_077.cat\n",
      "python src/add_manual_info.py -m data/mmap_COSMOSC_082.fits.gz -c data/COSMOSC_082.txt -a data/msf2outcube_COSMOSC_082.cat\n",
      "python src/add_manual_info.py -m data/mmap_COSMOSC_083.fits.gz -c data/COSMOSC_083.txt -a data/msf2outcube_COSMOSC_083.cat\n",
      "python src/add_manual_info.py -m data/mmap_COSMOSC_084.fits.gz -c data/COSMOSC_084.txt -a data/msf2outcube_COSMOSC_084.cat\n",
      "python src/add_manual_info.py -m data/mmap_COSMOSC_085.fits.gz -c data/COSMOSC_085.txt -a data/msf2outcube_COSMOSC_085.cat\n",
      "python src/add_manual_info.py -m data/mmap_COSMOSC_086.fits.gz -c data/COSMOSC_086.txt -a data/msf2outcube_COSMOSC_086.cat\n",
      "python src/add_manual_info.py -m data/mmap_COSMOSC_087.fits.gz -c data/COSMOSC_087.txt -a data/msf2outcube_COSMOSC_087.cat\n",
      "python src/add_manual_info.py -m data/mmap_COSMOSC_093.fits.gz -c data/COSMOSC_093.txt -a data/msf2outcube_COSMOSC_093.cat\n",
      "python src/add_manual_info.py -m data/mmap_COSMOSC_095.fits.gz -c data/COSMOSC_095.txt -a data/msf2outcube_COSMOSC_095.cat\n",
      "python src/add_manual_info.py -m data/mmap_COSMOSC_096.fits.gz -c data/COSMOSC_096.txt -a data/msf2outcube_COSMOSC_096.cat\n",
      "python src/add_manual_info.py -m data/mmap_COSMOSC_097.fits.gz -c data/COSMOSC_097.txt -a data/msf2outcube_COSMOSC_097.cat\n",
      "python src/add_manual_info.py -m data/mmap_COSMOSC_103.fits.gz -c data/COSMOSC_103.txt -a data/msf2outcube_COSMOSC_103.cat\n",
      "python src/add_manual_info.py -m data/mmap_COSMOSC_104.fits.gz -c data/COSMOSC_104.txt -a data/msf2outcube_COSMOSC_104.cat\n",
      "python src/add_manual_info.py -m data/mmap_COSMOSC_105.fits.gz -c data/COSMOSC_105.txt -a data/msf2outcube_COSMOSC_105.cat\n",
      "python src/add_manual_info.py -m data/mmap_COSMOSC_106.fits.gz -c data/COSMOSC_106.txt -a data/msf2outcube_COSMOSC_106.cat\n"
     ]
    }
   ],
   "source": [
    "# add segmants for manually flagged \n",
    "def add_manual_info(f, field, DRYRUN=True):\n",
    "    import os\n",
    "    h,t = os.path.split(f)\n",
    "    ifu = t.replace('.fits.gz','').split(\"_\")[-1]\n",
    "    \n",
    "    fncatalog = \"data/{}_{}.txt\".format(field, ifu)\n",
    "\n",
    "    #python src/add_manual_info.py -m data/mmap_COSMOSC_021.fits.gz \n",
    "    # -c data/COSMOSC_021.txt -a data/msf2outcube_COSMOSC_021.cat\n",
    "    \n",
    "    cmd = \"python src/add_manual_info.py -m {} -c {} -a {}\".\\\n",
    "        format(f.replace('sf2outcube','mmap'), fncatalog, f.replace('.fits.gz','.cat').replace(\"sf2outcube\",\"msf2outcube\"))\n",
    "    if DRYRUN:\n",
    "        print(cmd)\n",
    "        return cmd\n",
    "    else:\n",
    "        return os.system( cmd ), cmd\n",
    "    \n",
    "    return os.system( cmd )\n",
    "\n",
    "ff = np.sort( glob.glob(\"data/sf2outcube_{}_???.fits.gz\".format(field)) )\n",
    "\n",
    "tasks = []\n",
    "for f in ff:\n",
    "    tasks.append(lv.apply(add_manual_info, f, field))\n",
    "result = [task.get() for task in tasks]  # blocks until all results are back\n",
    "\n",
    "for r in result:\n",
    "    print(r)"
   ]
  },
  {
   "cell_type": "code",
   "execution_count": null,
   "metadata": {
    "scrolled": false
   },
   "outputs": [],
   "source": [
    "\n",
    "#combine (vstack) all tables from this field\n",
    "from astropy.table import vstack, Column\n",
    "from astropy.io import ascii\n",
    "\n",
    "ff = glob.glob(\"data/msf2outcube_{field}_???.cat\".format(field=field))\n",
    "#print(ff)\n",
    "tt = []\n",
    "for f in ff:\n",
    "    ifu = f[-7:-4]\n",
    "    print(ifu)\n",
    "    t = ascii.read(f, format=\"ecsv\")\n",
    "    t.add_column(Column([ifu]*len(t),name='ifu'),0)\n",
    "    tt.append(t)\n",
    " \n",
    "tall = vstack(tt)\n",
    "tall.write(\"data/msf2outcube_{field}_allifu.cat\".format(field=field),format=\"ascii.ecsv\")   \n"
   ]
  },
  {
   "cell_type": "code",
   "execution_count": 236,
   "metadata": {},
   "outputs": [
    {
     "name": "stderr",
     "output_type": "stream",
     "text": [
      "WARNING: AstropyDeprecationWarning: data/msf2outcube_COSMOSC_allifu.cat already exists. Automatically overwriting ASCII files is deprecated. Use the argument 'overwrite=True' in the future. [astropy.io.ascii.ui]\n"
     ]
    }
   ],
   "source": [
    "tall = vstack(tt)\n",
    "tall.write(\"data/msf2outcube_{field}_allifu.cat\".format(field=field),format=\"ascii.ecsv\")   \n"
   ]
  },
  {
   "cell_type": "code",
   "execution_count": 182,
   "metadata": {},
   "outputs": [],
   "source": [
    "halos = (tall[\"class\"] == \"halo\" ).data"
   ]
  },
  {
   "cell_type": "code",
   "execution_count": null,
   "metadata": {
    "collapsed": true
   },
   "outputs": [],
   "source": []
  }
 ],
 "metadata": {
  "kernelspec": {
   "display_name": "Python 3",
   "language": "python",
   "name": "python3"
  },
  "language_info": {
   "codemirror_mode": {
    "name": "ipython",
    "version": 3
   },
   "file_extension": ".py",
   "mimetype": "text/x-python",
   "name": "python",
   "nbconvert_exporter": "python",
   "pygments_lexer": "ipython3",
   "version": "3.6.8"
  }
 },
 "nbformat": 4,
 "nbformat_minor": 2
}
