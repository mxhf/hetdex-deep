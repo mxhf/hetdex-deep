{
 "cells": [
  {
   "cell_type": "code",
   "execution_count": 64,
   "metadata": {},
   "outputs": [
    {
     "data": {
      "text/html": [
       "<style>.container { width:100% !important; }</style>"
      ],
      "text/plain": [
       "<IPython.core.display.HTML object>"
      ]
     },
     "metadata": {},
     "output_type": "display_data"
    }
   ],
   "source": [
    "# go wide screen\n",
    "from IPython.core.display import display, HTML\n",
    "display(HTML(\"<style>.container { width:100% !important; }</style>\"))"
   ]
  },
  {
   "cell_type": "code",
   "execution_count": 65,
   "metadata": {},
   "outputs": [],
   "source": [
    "import pysao\n",
    "from astropy.io import ascii\n",
    "from astropy.table import Table, Column\n",
    "import os"
   ]
  },
  {
   "cell_type": "code",
   "execution_count": 66,
   "metadata": {},
   "outputs": [],
   "source": [
    "\n",
    "import ipywidgets as widgets\n",
    "from IPython.display import display\n",
    "from ipywidgets import Button, Layout\n",
    "\n",
    "import numpy as np"
   ]
  },
  {
   "cell_type": "code",
   "execution_count": 86,
   "metadata": {},
   "outputs": [],
   "source": [
    "def show_next_record():\n",
    "    global ii, catalog, current_record_idx, info\n",
    "    records = catalog[ii]\n",
    "    record = records[current_record_idx]\n",
    "    #print(record[\"comment2\"])\n",
    "    \n",
    "    s = \"\"\n",
    "    s = \"<style>\"\n",
    "    s = \"table, th, td {\"\n",
    "    s = \"  border: 1px solid black;\"\n",
    "    s = \"  border-collapse: collapse;\"\n",
    "    s = \"}\"\n",
    "    s = \"th, td {\"\n",
    "    s = \"  padding: 20px;\"\n",
    "    s = \"}\"\n",
    "    s = \"</style>\"\n",
    "\n",
    "    s += \"<b>Object {} of {}</b><br>\\n\".format(current_record_idx+1, len(records))\n",
    "    \n",
    "    \n",
    "    ncols = 3\n",
    "    tablerows = []\n",
    "    sr = \"\"\n",
    "    z_lya = record[\"wl_com\"] /1216. - 1.\n",
    "    z_oii = record[\"wl_com\"] /3727. - 1.\n",
    "    \n",
    "    s += \"<b>z_LyA = {:.2f}</b><br>\\n\".format(z_lya)\n",
    "    s += \"<b>z_OII = {:.2f}</b><br>\\n\".format(z_oii)\n",
    "    \n",
    "    s += \"<table style='width:100%'>\\n\"\n",
    "    \n",
    "    for i,n in enumerate(record.colnames):\n",
    "        sr += \"<td><b>{:10s}:</b> \".format(n)\n",
    "        sr += str(record[n]) + \" \"\n",
    "        if record.columns[n].unit != \"\":\n",
    "            sr += str(record.columns[n].unit) + \"</td>\\n\"\n",
    "        else:\n",
    "            sr += \"</td>\\n\"\n",
    "        if i % ncols == 0.:\n",
    "            tablerows.append(sr)\n",
    "            sr = \"\"\n",
    "    s += \"</tr>\\n\"\n",
    "    s += \"</tr>\\n<tr>\".join(tablerows)       \n",
    "    s += \"</tr>\\n\"\n",
    "    s += \"</table>\\n\"\n",
    "    \n",
    "    info.value = s\n",
    "    comment.value = str(record[\"comment2\"])\n",
    "    \n",
    "    if current_record_idx == len(records):\n",
    "        print(\"Last objects reached.\")\n",
    "        return\n",
    "    \n",
    "    \n",
    "    id = record[\"id\"]\n",
    "    x = record[\"manualx\"]\n",
    "    y = record[\"manualy\"]\n",
    "    z = record[\"manualz\"]\n",
    "    if np.isnan(x):\n",
    "        x = record[\"x_com\"]\n",
    "    if np.isnan(y):\n",
    "        y = record[\"y_com\"]\n",
    "    if np.isnan(z):\n",
    "        z = record[\"z_com\"]\n",
    "        \n",
    "    show_object(x,y,z,vmax,gbimages)\n",
    "    current_record_idx += 1\n",
    "\n",
    "def update_catalog(classifier):\n",
    "    global ii, catalog, current_record_idx, info\n",
    "    records = catalog[ii]\n",
    "    \n",
    "    record = records[current_record_idx-1]\n",
    "    id = record[\"id\"]\n",
    "    ifu = record[\"ifu\"]\n",
    "    jj  = catalog[\"id\"] == id\n",
    "    jj *= catalog[\"ifu\"] == ifu\n",
    "    if not np.sum(jj) == 1:\n",
    "        print(\"Unable to find object {} for ifu {}.\".format(id, ifu))\n",
    "    catalog[\"class2\"][jj] = classifier\n",
    " \n",
    "def update_comment(comment):\n",
    "    global ii, catalog, current_record_idx, info\n",
    "    records = catalog[ii]\n",
    "    \n",
    "    record = records[current_record_idx-1]\n",
    "    id = record[\"id\"]\n",
    "    ifu = record[\"ifu\"]\n",
    "    jj  = catalog[\"id\"] == id\n",
    "    jj *= catalog[\"ifu\"] == ifu\n",
    "    if not np.sum(jj) == 1:\n",
    "        print(\"Unable to find object {} for ifu {}.\".format(id, ifu))\n",
    "    catalog[\"comment2\"][jj] = comment\n",
    " \n",
    "\n",
    "def on_scale_up(b):\n",
    "    global vmax\n",
    "    vmax = float(ds9.xpa.get(\"scale limits\").split()[1])\n",
    "    ds9.xpa.set(\"frame 1\")\n",
    "    ds9.xpa.set(\"scale limits 0. {}\".format(vmax*1.05))\n",
    "\n",
    "def on_scale_down(b):\n",
    "    global vmax\n",
    "    vmax = float(ds9.xpa.get(\"scale limits\").split()[1])\n",
    "    ds9.xpa.set(\"frame 1\")\n",
    "    ds9.xpa.set(\"scale limits 0. {}\".format(vmax*.95))\n",
    "\n",
    "    \n",
    "def on_prevslice_clicked(b):\n",
    "    ds9.xpa.set(\"frame 1\")\n",
    "    ds9.xpa.set(\"cube prev\")\n",
    "\n",
    "def on_nextslice_clicked(b):\n",
    "    ds9.xpa.set(\"frame 1\")\n",
    "    ds9.xpa.set(\"cube next\")\n",
    "    \n",
    "    \n",
    "def on_prev_clicked(b):\n",
    "    global current_record_idx\n",
    "    current_record_idx -=2\n",
    "    show_next_record()\n",
    "    #print(\"Previous object.\")\n",
    "\n",
    "def on_next_clicked(b):\n",
    "    global current_record_idx, records\n",
    "    if current_record_idx == len(records):\n",
    "        print(\"No more objects.\")\n",
    "        return\n",
    "    show_next_record()\n",
    "    \n",
    "    on_save_clicked(None)\n",
    "    #print(\"Next object.\")\n",
    "    \n",
    "def on_halo_clicked(b):\n",
    "    update_catalog(\"halo\")\n",
    "    #show_next_record()\n",
    "    #print(\"Selected halo.\")\n",
    "    \n",
    "def on_fil_clicked(b):\n",
    "    update_catalog(\"filament\")\n",
    "    #show_next_record()\n",
    "    #print(\"Selected halo.\")\n",
    "    \n",
    "def on_ps_clicked(b):\n",
    "    update_catalog(\"pointsource\")\n",
    "    #show_next_record()\n",
    "    #print(\"Selected poinsource.\")\n",
    "    \n",
    "def on_gal_clicked(b):\n",
    "    update_catalog(\"gal\")\n",
    "    #show_next_record()\n",
    "    #print(\"Selected poinsource.\")\n",
    "    \n",
    "def on_agn_clicked(b):\n",
    "    update_catalog(\"agn\")\n",
    "    #show_next_record()\n",
    "    #print(\"Selected poinsource.\")\n",
    "    \n",
    "\n",
    "def on_junk_clicked(b):\n",
    "    update_catalog(\"junk\")\n",
    "    #show_next_record()\n",
    "    #print(\"Selected junk.\")\n",
    "    \n",
    "    \n",
    "def on_save_clicked(b):\n",
    "    global fncatalog\n",
    "\n",
    "    #catalog.write(newfncatalog, format=\"ascii.ecsv\", overwrite=True)\n",
    "    \n",
    "    \n",
    "    #fncatalog=\"../data/msf2outcube_{}_allifu.cat\".format(field)\n",
    "    h,t = os.path.split(fncatalog)\n",
    "    newfncatalog = os.path.join( h , \"m\" + t)\n",
    "    catalog.write(newfncatalog, format=\"ascii.ecsv\", overwrite=True)\n",
    "    \n",
    "    #print(\"Wrote {}.\".format(newfncatalog))\n",
    "\n",
    "def on_transfer_contours(b):\n",
    "    transfer_contours()\n",
    "    \n",
    "def on_clear_contours(b):\n",
    "    clear_contours_on_images()\n",
    "    \n",
    "\n",
    "    \n",
    "def on_add_comment_clicked(b):\n",
    "    global comment\n",
    "    update_comment(comment.value)\n",
    "    "
   ]
  },
  {
   "cell_type": "code",
   "execution_count": 73,
   "metadata": {},
   "outputs": [],
   "source": [
    "def startup(field, ifu, fncube, fnmap, gbimages, vmax):\n",
    "    global ds9\n",
    "    ds9 = pysao.ds9()\n",
    "    ds9.xpa.set(\"frame 1\")\n",
    "    ds9.xpa.set(\"fits {fncube}\".format(fncube=fncube))\n",
    "\n",
    "    ds9.xpa.set(\"frame lock wcs\")\n",
    "    ds9.xpa.set(\"cube lock wcs\")\n",
    "\n",
    "    ds9.xpa.set(\"tile\")\n",
    "    ds9.xpa.set(\"tile grid mode manual\")\n",
    "    ds9.xpa.set(\"tile grid layout 5 2\")\n",
    "\n",
    "    ds9.xpa.set(\"frame 2\")\n",
    "    ds9.xpa.set(\"fits {fnmap}\".format(fnmap=fnmap))\n",
    "    for i,f in enumerate(gbimages):\n",
    "        ds9.xpa.set(\"frame {}\".format(i+3))\n",
    "        ds9.xpa.set(\"fits {f}\".format(f=f))\n",
    "\n",
    "\n",
    "    ds9.xpa.set(\"frame 1\")\n",
    "    ds9.xpa.set(\"cmap staircase\")\n",
    "    ds9.xpa.set(\"scale limits 0 {}\".format(vmax))\n",
    "    #ds9.xpa.set(\"crosshair\")\n",
    "\n",
    "    ds9.xpa.set(\"frame 1\")\n",
    "    ds9.xpa.set(\"catalog sdss9\")\n",
    "    ds9.xpa.set(\"frame 1\")\n",
    "    ds9.xpa.set(\"catalog symbol color white\")\n",
    "    ds9.xpa.set(\"lock crosshair wcs\")\n",
    "    ds9.xpa.set(\"catalog close\")\n",
    "    ds9.xpa.set(\"catalog load ../civano+2016_cls.xml\")\n",
    "    ds9.xpa.set(\"catalog symbol color green\")\n",
    "    ds9.xpa.set(\"catalog close\")\n",
    "\n",
    "    for i,f in enumerate(gbimages):\n",
    "        ds9.xpa.set(\"frame {}\".format(i+3))\n",
    "        ds9.xpa.set(\"cmap heat\")\n",
    "        ds9.xpa.set(\"scale mode 98.\")\n",
    "\n",
    "    regfile=\"../data/sf2outcube_{field}_{ifu}_photz.reg\".format(field=field,ifu=ifu)\n",
    "    if not os.path.exists(regfile):\n",
    "        cmd=\"python ../zphotds9.py {fncube}\".format(fncube=fncube)\n",
    "        !$cmd\n",
    "\n",
    "    ds9.xpa.set(\"frame 3\")\n",
    "    #print(\"regions load {}  color grey\".format(regfile))\n",
    "    ds9.xpa.set(\"regions load {}\".format(regfile))\n",
    "    ds9.xpa.set(\"regions color grey \")\n",
    "    \n",
    "\n",
    "    ds9.xpa.set(\"frame 1\")\n",
    "    \n",
    "    return ds9\n",
    "\n",
    "showing_contours = False\n",
    "\n",
    "def clear_contours_on_images():\n",
    "    global ds9,gbimages, showing_contours\n",
    "    for i in range(len(gbimages) + 2):\n",
    "       ds9.xpa.set(\"frame {}\".format(i+1))\n",
    "       ds9.xpa.set(\"contour clear \")\n",
    "        \n",
    "def show_object(x,y,z,vmax,gbimages):\n",
    "    global showing_contours\n",
    "\n",
    "    ds9.xpa.set(\"frame 1\")\n",
    "    ds9.xpa.set(\"contour clear \")\n",
    "    \n",
    "    if showing_contours:\n",
    "        clear_contours_on_images()\n",
    "        showing_contours = False\n",
    "\n",
    "    ds9.xpa.set(\"frame 1\")\n",
    "    ds9.xpa.set(\"pan to {} {} image\".format(x,y))\n",
    "    ds9.xpa.set(\"crosshair lock wcs\")\n",
    "    ds9.xpa.set(\"crosshair {} {} image\".format(x,y))\n",
    "    \n",
    "    ds9.xpa.set(\"cube {} image\".format(int(z)))\n",
    "\n",
    "    s=vmax/0.6; \n",
    "    levels=[ .2*s, .3*s, .4*s, .5*s, .6*s, .8*s, 1.0*s ]\n",
    "    ds9.xpa.set(\"frame 1\")\n",
    "    ds9.xpa.set(\"contour method smooth\")\n",
    "    ds9.xpa.set(\"contour generate\")\n",
    "    ds9.xpa.set(\"contour \")\n",
    "    #print(\"contour levels \" + \" \".join([str(l) for l in levels]))\n",
    "    ds9.xpa.set(\"contour levels \" + \" \".join([str(l) for l in levels]))\n",
    "    ds9.xpa.set(\"contour color grey\")\n",
    "    \n",
    "    ds9.xpa.set(\"contour close \")\n",
    "    \n",
    "def transfer_contours():\n",
    "    global ds9, showing_contours\n",
    "    \n",
    "    ds9.xpa.set(\"frame 1\")\n",
    "    ds9.xpa.set(\"contour copy\")\n",
    "\n",
    "    for i,f in enumerate(gbimages):\n",
    "       ds9.xpa.set(\"frame {}\".format(i+3))\n",
    "       ds9.xpa.set(\"contour paste wcs white 1 no \")\n",
    "\n",
    "    #ds9.xpa.set(\"contours close\")\n",
    "    ds9.xpa.set(\"frame 1\")\n",
    "    showing_contours = True\n",
    "    \n",
    "\n"
   ]
  },
  {
   "cell_type": "code",
   "execution_count": 77,
   "metadata": {},
   "outputs": [],
   "source": [
    "fncatalog=\"../data/msf2outcube_{}_allifu.cat\".format(field)\n",
    "h,t = os.path.split(fncatalog)\n",
    "newfncatalog = os.path.join( h , \"m\" + t)\n",
    "catalog.write(newfncatalog, format=\"ascii.ecsv\", overwrite=True)"
   ]
  },
  {
   "cell_type": "code",
   "execution_count": 13,
   "metadata": {},
   "outputs": [],
   "source": [
    "catalog.write(fncatalog, format=\"ascii.ecsv\", overwrite=True)"
   ]
  },
  {
   "cell_type": "code",
   "execution_count": 14,
   "metadata": {},
   "outputs": [],
   "source": [
    "vmax = float(ds9.xpa.get(\"scale limits\").split()[1])\n",
    "ds9.xpa.set(\"frame 1\")\n",
    "ds9.xpa.set(\"scale limits 0. {}\".format(vmax*.95))"
   ]
  },
  {
   "cell_type": "code",
   "execution_count": null,
   "metadata": {},
   "outputs": [],
   "source": []
  },
  {
   "cell_type": "code",
   "execution_count": 89,
   "metadata": {
    "scrolled": false
   },
   "outputs": [
    {
     "name": "stdout",
     "output_type": "stream",
     "text": [
      "Reading ../data/mmsf2outcube_COSMOSC_allifu.cat\n",
      "Reading ../pdz_cosmos2015_v1.3.fits ...\n",
      "Writing ../data/sf2outcube_COSMOSC_073_photz.reg ...\n",
      "Wrote ../data/sf2outcube_COSMOSC_073_photz.reg.\n"
     ]
    },
    {
     "data": {
      "application/vnd.jupyter.widget-view+json": {
       "model_id": "c841e8c41cfc4d33a42a461fbffdeaca",
       "version_major": 2,
       "version_minor": 0
      },
      "text/plain": [
       "VBox(children=(HBox(children=(VBox(children=(Label(value='Objects'), Button(description='Previous', icon='chec…"
      ]
     },
     "metadata": {},
     "output_type": "display_data"
    }
   ],
   "source": [
    "def mkgui():\n",
    "    global info, comment\n",
    "    \n",
    "    button_scaleup = widgets.Button(\n",
    "        description='scale up',\n",
    "        disabled=False,\n",
    "        button_style='', # 'success', 'info', 'warning', 'danger' or ''\n",
    "        tooltip='Click me',\n",
    "        icon='check'\n",
    "    )\n",
    "\n",
    "    button_scaledown = widgets.Button(\n",
    "        description='scale down',\n",
    "        disabled=False,\n",
    "        button_style='', # 'success', 'info', 'warning', 'danger' or ''\n",
    "        tooltip='Click me',\n",
    "        icon='check'\n",
    "    )\n",
    "\n",
    "\n",
    "    button_prevslice = widgets.Button(\n",
    "        description='previous slice',\n",
    "        disabled=False,\n",
    "        button_style='', # 'success', 'info', 'warning', 'danger' or ''\n",
    "        tooltip='Click me',\n",
    "        icon='check'\n",
    "    )\n",
    "\n",
    "    button_nextslice = widgets.Button(\n",
    "        description='next slice',\n",
    "        disabled=False,\n",
    "        button_style='', # 'success', 'info', 'warning', 'danger' or ''\n",
    "        tooltip='Click me',\n",
    "        icon='check'\n",
    "    )\n",
    "\n",
    "    button_transfer_contours = widgets.Button(\n",
    "        description='add contours',\n",
    "        disabled=False,\n",
    "        button_style='', # 'success', 'info', 'warning', 'danger' or ''\n",
    "        tooltip='Click me',\n",
    "        icon='check'\n",
    "    )\n",
    "\n",
    "    button_clear_contours = widgets.Button(\n",
    "        description='clear contours',\n",
    "        disabled=False,\n",
    "        button_style='', # 'success', 'info', 'warning', 'danger' or ''\n",
    "        tooltip='Click me',\n",
    "        icon='check'\n",
    "    )\n",
    "\n",
    "    button_prev = widgets.Button(\n",
    "        description='Previous',\n",
    "        disabled=False,\n",
    "        button_style='', # 'success', 'info', 'warning', 'danger' or ''\n",
    "        tooltip='Click me',\n",
    "        icon='check'\n",
    "    )\n",
    "\n",
    "    button_next = widgets.Button(\n",
    "        description='Next',\n",
    "        disabled=False,\n",
    "        button_style='success', # 'success', 'info', 'warning', 'danger' or ''\n",
    "        tooltip='Click me',\n",
    "        icon='check'\n",
    "    )\n",
    "\n",
    "    button_pointsource = widgets.Button(\n",
    "        description='Pointsource',\n",
    "        disabled=False,\n",
    "        button_style='', # 'success', 'info', 'warning', 'danger' or ''\n",
    "        tooltip='Click me',\n",
    "        icon='check'\n",
    "    )\n",
    "\n",
    "    button_halo = widgets.Button(\n",
    "        description='Halo',\n",
    "        disabled=False,\n",
    "        button_style='', # 'success', 'info', 'warning', 'danger' or ''\n",
    "        tooltip='Click me',\n",
    "        icon='check'\n",
    "    )\n",
    "\n",
    "    button_fil = widgets.Button(\n",
    "        description='Filament',\n",
    "        disabled=False,\n",
    "        button_style='', # 'success', 'info', 'warning', 'danger' or ''\n",
    "        tooltip='Click me',\n",
    "        icon='check'\n",
    "    )\n",
    "\n",
    "    button_junk = widgets.Button(\n",
    "        description='Junk',\n",
    "        disabled=False,\n",
    "        button_style='danger', # 'success', 'info', 'warning', 'danger' or ''\n",
    "        tooltip='Click me',\n",
    "        icon='check'\n",
    "    )\n",
    "\n",
    "    button_gal = widgets.Button(\n",
    "        description='Galaxy',\n",
    "        disabled=False,\n",
    "        button_style='', # 'success', 'info', 'warning', 'danger' or ''\n",
    "        tooltip='Click me',\n",
    "        icon='check'\n",
    "    )\n",
    "\n",
    "    button_agn = widgets.Button(\n",
    "        description='AGN',\n",
    "        disabled=False,\n",
    "        button_style='', # 'success', 'info', 'warning', 'danger' or ''\n",
    "        tooltip='Click me',\n",
    "        icon='check'\n",
    "    )\n",
    "\n",
    "    button_save = widgets.Button(\n",
    "        description='Save',\n",
    "        disabled=False,\n",
    "        button_style='warning', # 'success', 'info', 'warning', 'danger' or ''\n",
    "        tooltip='Click me',\n",
    "        icon='check'\n",
    "    )\n",
    "\n",
    "\n",
    "    info = widgets.HTML(\n",
    "        value=\"Hello <b>World</b>\",\n",
    "        placeholder='Some HTML',\n",
    "        description='Some HTML',\n",
    "    )\n",
    "\n",
    "\n",
    "    comment = widgets.Textarea(\n",
    "        value='',\n",
    "        placeholder='Type something',\n",
    "        description='String:',\n",
    "        disabled=False\n",
    "    )\n",
    "\n",
    "    button_add_comment = widgets.Button(\n",
    "        description='Add comment',\n",
    "        disabled=False,\n",
    "        button_style='warning', # 'success', 'info', 'warning', 'danger' or ''\n",
    "        tooltip='Click me',\n",
    "        icon='check'\n",
    "    )\n",
    "\n",
    "\n",
    "\n",
    "    button_prevslice.on_click(on_prevslice_clicked)\n",
    "    button_nextslice.on_click(on_nextslice_clicked)\n",
    "    button_scaleup.on_click(on_scale_up)\n",
    "    button_scaledown.on_click(on_scale_down)\n",
    "    button_transfer_contours.on_click(on_transfer_contours)\n",
    "    button_clear_contours.on_click(on_clear_contours)\n",
    "\n",
    "\n",
    "    button_prev.on_click(on_prev_clicked)\n",
    "    button_next.on_click(on_next_clicked)\n",
    "    button_pointsource.on_click(on_ps_clicked)\n",
    "    button_halo.on_click(on_halo_clicked)\n",
    "    button_fil.on_click(on_fil_clicked)\n",
    "    button_gal.on_click(on_gal_clicked)\n",
    "    button_agn.on_click(on_agn_clicked)\n",
    "    button_junk.on_click(on_junk_clicked)\n",
    "\n",
    "    button_save.on_click(on_save_clicked)\n",
    "    button_add_comment.on_click(on_add_comment_clicked)\n",
    "\n",
    "    items = [widgets.Label(value=\"Objects\"), button_prev, button_next, \\\n",
    "             button_pointsource, button_halo, button_fil, button_gal, button_agn, button_junk]\n",
    "    buttonbox1 = widgets.VBox(items, layout=Layout(width='15%', positioning=\"bottom\"))\n",
    "\n",
    "    items = [widgets.Label(value=\"ds9 control\"), button_prevslice, button_nextslice, button_scaleup, \\\n",
    "             button_scaledown, button_transfer_contours, button_clear_contours,\n",
    "             widgets.Label(value=\"catalog\"), button_save]\n",
    "    buttonbox2 = widgets.VBox(items, layout=Layout(width='15%', positioning=\"bottom\"))\n",
    "\n",
    "\n",
    "    items = [buttonbox1, buttonbox2, info]\n",
    "    hb1 = widgets.HBox(items)\n",
    "\n",
    "    items = [comment, button_add_comment]\n",
    "    hb2 = widgets.HBox(items, layout=Layout(width='100%', positioning=\"bottom\"))\n",
    "\n",
    "    return widgets.VBox([hb1, hb2])\n",
    "\n",
    "\n",
    "\n",
    "\n",
    "def load_data(field, ifu, vmax):\n",
    "    global gbimages, ii, current_record_idx , catalog, records, fncatalog\n",
    "    fncatalog=\"../data/msf2outcube_{}_allifu.cat\".format(field)\n",
    "\n",
    "\n",
    "    h,t = os.path.split(fncatalog)\n",
    "    newfncatalog = os.path.join( h , \"m\" + t)\n",
    "\n",
    "    if os.path.exists(newfncatalog):\n",
    "        print(\"Reading {}\".format(newfncatalog))\n",
    "        catalog = ascii.read(newfncatalog)\n",
    "    else:\n",
    "        print(\"Reading {}\".format(fncatalog))\n",
    "        catalog = ascii.read(fncatalog)\n",
    "\n",
    "\n",
    "    B = \"../aux/thumbnails/{field}/ifu{ifu}_COSMOS.B.original_psf.v2.fits\".format(field=field,ifu=ifu)\n",
    "    V = \"../aux/thumbnails/{field}/ifu{ifu}_COSMOS.V.original_psf.v2.fits\".format(field=field,ifu=ifu)\n",
    "    gp = \"../aux/thumbnails/{field}/ifu{ifu}_COSMOS.gp.original_psf.v2.fits\".format(field=field,ifu=ifu)\n",
    "    rp = \"../aux/thumbnails/{field}/ifu{ifu}_COSMOS.rp.original_psf.v2.fits\".format(field=field,ifu=ifu)\n",
    "    ip = \"../aux/thumbnails/{field}/ifu{ifu}_COSMOS.ip.original_psf.v2.fits\".format(field=field,ifu=ifu)\n",
    "    zp = \"../aux/thumbnails/{field}/ifu{ifu}_COSMOS.zp.original_psf.v2.fits\".format(field=field,ifu=ifu)\n",
    "    Ks = \"../aux/thumbnails/{field}/ifu{ifu}_COSMOS.Ks.original_psf.v5.fits\".format(field=field,ifu=ifu)\n",
    "    K = \"../aux/thumbnails/{field}/ifu{ifu}_COSMOS.K.UV_original_psf.v1.fits\".format(field=field,ifu=ifu)\n",
    "\n",
    "    gbimages=[B,V,gp,rp,ip,zp,Ks,K]\n",
    "\n",
    "    ii  = catalog[\"ifu\"] == ifu\n",
    "    ii *= ~np.isnan( catalog[\"manualx\"] )\n",
    "    current_record_idx = 0\n",
    "    if not \"class2\" in catalog.colnames:\n",
    "        catalog.add_column(Column([\"NA\"]*len(catalog), name='class2', dtype='S100'), masked=False)\n",
    "    if not \"comment2\" in catalog.colnames:\n",
    "        catalog.add_column(Column([\"\"]*len(catalog), name='comment2', dtype='S500', masked=False))\n",
    "\n",
    "    catalog = catalog.filled()\n",
    "    records = catalog[ii]\n",
    "    ##record = records[0]\n",
    "    #str(record[\"comment2\"])  \n",
    "    \n",
    "\n",
    "\n",
    "\n",
    "field=\"COSMOSC\"\n",
    "ifu=\"073\"\n",
    "vmax = 0.6\n",
    "\n",
    "load_data(field, ifu, vmax)\n",
    "fncube=\"../data/sf2outcube_{field}_{ifu}.fits.gz\".format(field=field,ifu=ifu)\n",
    "fnmap=\"../data/mmap_{field}_{ifu}.fits.gz\".format(field=field,ifu=ifu)\n",
    "\n",
    "! killall ds9\n",
    "ds9 = startup(field, ifu, fncube, fnmap, gbimages, vmax)\n",
    "\n",
    "gui = mkgui()\n",
    "\n",
    "show_next_record()\n",
    "\n",
    "display(gui)\n"
   ]
  },
  {
   "cell_type": "code",
   "execution_count": 71,
   "metadata": {},
   "outputs": [
    {
     "data": {
      "text/plain": [
       "'\\n../data/COSMOSC_021.txt\\n../data/COSMOSC_022.txt\\n../data/COSMOSC_023.txt\\n../data/COSMOSC_024.txt\\n../data/COSMOSC_025.txt\\n../data/COSMOSC_026.txt\\n../data/COSMOSC_027.txt\\n../data/COSMOSC_032.txt\\n../data/COSMOSC_033.txt\\n../data/COSMOSC_034.txt\\n../data/COSMOSC_035.txt\\n../data/COSMOSC_036.txt\\n../data/COSMOSC_037.txt\\n../data/COSMOSC_042.txt\\n../data/COSMOSC_043.txt\\n../data/COSMOSC_044.txt\\n../data/COSMOSC_045.txt\\n../data/COSMOSC_046.txt\\n../data/COSMOSC_047.txt\\n../data/COSMOSC_052.txt\\n../data/COSMOSC_053.txt\\n../data/COSMOSC_062.txt\\n../data/COSMOSC_063.txt\\n../data/COSMOSC_072.txt\\n../data/COSMOSC_073.txt\\n../data/COSMOSC_074.txt\\n../data/COSMOSC_075.txt\\n../data/COSMOSC_076.txt\\n../data/COSMOSC_077.txt\\n../data/COSMOSC_082.txt\\n../data/COSMOSC_083.txt\\n../data/COSMOSC_084.txt\\n../data/COSMOSC_085.txt # done \\n../data/COSMOSC_086.txt # done\\n../data/COSMOSC_087.txt # done\\n../data/COSMOSC_093.txt # done\\n../data/COSMOSC_095.txt # done\\n../data/COSMOSC_096.txt # done\\n../data/COSMOSC_097.txt # done, very many objects\\n../data/COSMOSC_103.txt # done\\n../data/COSMOSC_104.txt # done\\n../data/COSMOSC_105.txt # done\\n../data/COSMOSC_106.txt # done\\n'"
      ]
     },
     "execution_count": 71,
     "metadata": {},
     "output_type": "execute_result"
    }
   ],
   "source": [
    "\"\"\"\n",
    "../data/COSMOSC_021.txt\n",
    "../data/COSMOSC_022.txt\n",
    "../data/COSMOSC_023.txt\n",
    "../data/COSMOSC_024.txt\n",
    "../data/COSMOSC_025.txt\n",
    "../data/COSMOSC_026.txt\n",
    "../data/COSMOSC_027.txt\n",
    "../data/COSMOSC_032.txt\n",
    "../data/COSMOSC_033.txt\n",
    "../data/COSMOSC_034.txt\n",
    "../data/COSMOSC_035.txt\n",
    "../data/COSMOSC_036.txt\n",
    "../data/COSMOSC_037.txt\n",
    "../data/COSMOSC_042.txt\n",
    "../data/COSMOSC_043.txt\n",
    "../data/COSMOSC_044.txt\n",
    "../data/COSMOSC_045.txt\n",
    "../data/COSMOSC_046.txt\n",
    "../data/COSMOSC_047.txt\n",
    "../data/COSMOSC_052.txt\n",
    "../data/COSMOSC_053.txt\n",
    "../data/COSMOSC_062.txt\n",
    "../data/COSMOSC_063.txt\n",
    "../data/COSMOSC_072.txt\n",
    "../data/COSMOSC_073.txt\n",
    "../data/COSMOSC_074.txt # done\n",
    "../data/COSMOSC_075.txt # done\n",
    "../data/COSMOSC_076.txt # done\n",
    "../data/COSMOSC_077.txt # done\n",
    "../data/COSMOSC_082.txt # done\n",
    "../data/COSMOSC_083.txt # done\n",
    "../data/COSMOSC_084.txt # done \n",
    "../data/COSMOSC_085.txt # done \n",
    "../data/COSMOSC_086.txt # done\n",
    "../data/COSMOSC_087.txt # done\n",
    "../data/COSMOSC_093.txt # done\n",
    "../data/COSMOSC_095.txt # done\n",
    "../data/COSMOSC_096.txt # done\n",
    "../data/COSMOSC_097.txt # done, very many objects\n",
    "../data/COSMOSC_103.txt # done\n",
    "../data/COSMOSC_104.txt # done\n",
    "../data/COSMOSC_105.txt # done\n",
    "../data/COSMOSC_106.txt # done\n",
    "\"\"\""
   ]
  }
 ],
 "metadata": {
  "kernelspec": {
   "display_name": "Python 3",
   "language": "python",
   "name": "python3"
  },
  "language_info": {
   "codemirror_mode": {
    "name": "ipython",
    "version": 3
   },
   "file_extension": ".py",
   "mimetype": "text/x-python",
   "name": "python",
   "nbconvert_exporter": "python",
   "pygments_lexer": "ipython3",
   "version": "3.6.8"
  },
  "widgets": {
   "state": {
    "0c53e252d3674940afbda930440eced4": {
     "views": [
      {
       "cell_index": 10
      }
     ]
    },
    "101e1847473049e1bf532f0c5db9e221": {
     "views": [
      {
       "cell_index": 11
      }
     ]
    },
    "126d46f25dd74f2f9c2ba745fa68239c": {
     "views": [
      {
       "cell_index": 8
      }
     ]
    },
    "170c96050f5e42ee8134c2f6819fdabe": {
     "views": [
      {
       "cell_index": 7
      }
     ]
    },
    "1787256362d04f57ad75e904f2ac2d19": {
     "views": [
      {
       "cell_index": 10
      }
     ]
    },
    "17f57c3981c948e9a83a9ea0cbe82f30": {
     "views": [
      {
       "cell_index": 7
      }
     ]
    },
    "1b86665415ed4f6ab762235ebbe413bc": {
     "views": [
      {
       "cell_index": 10
      }
     ]
    },
    "1ebc8dfd02af466e92f98cdb81b59027": {
     "views": [
      {
       "cell_index": 10
      }
     ]
    },
    "21cd337c24bc4112a714639999400bc8": {
     "views": [
      {
       "cell_index": 10
      }
     ]
    },
    "2d2a6c24bb124c50a67bc4007c1bdf0d": {
     "views": [
      {
       "cell_index": 10
      }
     ]
    },
    "2da97b2f90ce465cb018380b1dc46688": {
     "views": [
      {
       "cell_index": 7
      }
     ]
    },
    "36694c71c73642a2a3adeba3f64bd6ca": {
     "views": [
      {
       "cell_index": 10
      }
     ]
    },
    "37d3b947d07c40ea8124a0e9350e8857": {
     "views": [
      {
       "cell_index": 11
      }
     ]
    },
    "398e9097a9914862a50d1e50eefc866c": {
     "views": [
      {
       "cell_index": 8
      }
     ]
    },
    "410f52865cb4431aa4e57c48dd6b97b6": {
     "views": [
      {
       "cell_index": 10
      }
     ]
    },
    "41213373f5f24ffdaad755cfc4dc9c46": {
     "views": [
      {
       "cell_index": 10
      }
     ]
    },
    "43a6b8a882174f3eb77b917323d3663b": {
     "views": [
      {
       "cell_index": 9
      }
     ]
    },
    "474060b8a138464884e8405561273996": {
     "views": [
      {
       "cell_index": 8
      }
     ]
    },
    "4d2dae5bd23249a8adc89ce7d71f0d21": {
     "views": [
      {
       "cell_index": 10
      }
     ]
    },
    "60389746af664d9e95fecd71f5419716": {
     "views": [
      {
       "cell_index": 10
      }
     ]
    },
    "6a3797ac1ef246e5bc9b169db886a087": {
     "views": [
      {
       "cell_index": 8
      }
     ]
    },
    "77a5183d99114310bfc5cc58b31d588b": {
     "views": [
      {
       "cell_index": 10
      }
     ]
    },
    "8285ece4d96d494793b00b8ddfad3eae": {
     "views": [
      {
       "cell_index": 7
      }
     ]
    },
    "942eb3a6614944f8923cf1d1f03bf28a": {
     "views": [
      {
       "cell_index": 10
      }
     ]
    },
    "ad97f2b2eff84f328e2f6655e76be331": {
     "views": [
      {
       "cell_index": 10
      }
     ]
    },
    "ae923326fcaa4794b00bdbc4a9ee6d7c": {
     "views": [
      {
       "cell_index": 10
      }
     ]
    },
    "b10d8b2e4b3244c790bf05a0547820d6": {
     "views": [
      {
       "cell_index": 10
      }
     ]
    },
    "c0dcc70acf984006b80872ed4f11d961": {
     "views": [
      {
       "cell_index": 9
      }
     ]
    },
    "c586f6f45d9140f2aa5bd715f231e711": {
     "views": [
      {
       "cell_index": 8
      }
     ]
    },
    "c9bfd2284bf94af785f46a629a326db2": {
     "views": [
      {
       "cell_index": 7
      }
     ]
    },
    "ce9049276ed349fc85ae3404605be001": {
     "views": [
      {
       "cell_index": 10
      }
     ]
    },
    "db3f82c104664523bd3db3d0695b2994": {
     "views": [
      {
       "cell_index": 10
      }
     ]
    },
    "f8d4f4d0d6b9426bb246fdb98e4cfefd": {
     "views": [
      {
       "cell_index": 10
      }
     ]
    },
    "fb233e7b210e44548cc76818c779c013": {
     "views": [
      {
       "cell_index": 10
      }
     ]
    }
   },
   "version": "1.2.0"
  }
 },
 "nbformat": 4,
 "nbformat_minor": 2
}
