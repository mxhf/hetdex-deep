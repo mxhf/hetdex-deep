{
 "cells": [
  {
   "cell_type": "code",
   "execution_count": 25,
   "metadata": {},
   "outputs": [
    {
     "name": "stdout",
     "output_type": "stream",
     "text": [
      "/Users/mxhf/ownCloudRZG/work/MPE/hetdex/src/deep_and_repeat/COSMOS/src\r\n"
     ]
    }
   ],
   "source": [
    "!pwd"
   ]
  },
  {
   "cell_type": "code",
   "execution_count": 26,
   "metadata": {},
   "outputs": [
    {
     "data": {
      "text/html": [
       "<style>.container { width:100% !important; }</style>"
      ],
      "text/plain": [
       "<IPython.core.display.HTML object>"
      ]
     },
     "metadata": {},
     "output_type": "display_data"
    },
    {
     "name": "stdout",
     "output_type": "stream",
     "text": [
      "The autoreload extension is already loaded. To reload it, use:\n",
      "  %reload_ext autoreload\n"
     ]
    }
   ],
   "source": [
    "# go wide screen\n",
    "from IPython.core.display import display, HTML\n",
    "display(HTML(\"<style>.container { width:100% !important; }</style>\"))\n",
    "\n",
    "# Next two lines force automatic reload of loaded module. Convenient if\n",
    "# one is still fiddeling with them.\n",
    "%load_ext autoreload\n",
    "%autoreload 2"
   ]
  },
  {
   "cell_type": "code",
   "execution_count": 27,
   "metadata": {},
   "outputs": [],
   "source": [
    "%matplotlib inline\n",
    "# To prevent automatic figure display when execution of the cell ends\n",
    "%config InlineBackend.close_figures=False \n"
   ]
  },
  {
   "cell_type": "code",
   "execution_count": 28,
   "metadata": {},
   "outputs": [],
   "source": [
    "import spectrum\n"
   ]
  },
  {
   "cell_type": "code",
   "execution_count": 39,
   "metadata": {},
   "outputs": [],
   "source": [
    "from show_objects import *"
   ]
  },
  {
   "cell_type": "code",
   "execution_count": 42,
   "metadata": {
    "scrolled": false
   },
   "outputs": [
    {
     "name": "stdout",
     "output_type": "stream",
     "text": [
      "Reading ../data/mmsf2outcube_COSMOSD_allifu.cat\n"
     ]
    },
    {
     "name": "stderr",
     "output_type": "stream",
     "text": [
      "WARNING: FITSFixedWarning: RADECSYS= 'FK5 ' / Astrometric system \n",
      "the RADECSYS keyword is deprecated, use RADESYSa. [astropy.wcs.wcs]\n",
      "/Users/mxhf/ownCloudRZG/work/MPE/hetdex/src/deep_and_repeat/COSMOS/src/show_objects.py:1025: MatplotlibDeprecationWarning: Adding an axes using the same arguments as a previous axes currently reuses the earlier instance.  In a future version, a new instance will always be created and returned.  Meanwhile, this warning can be suppressed, and the future behavior ensured, by passing a unique label to each axes instance.\n",
      "  \n",
      "WARNING: FITSFixedWarning: RADECSYS= 'ICRS ' / Astrometric system \n",
      "the RADECSYS keyword is deprecated, use RADESYSa. [astropy.wcs.wcs]\n"
     ]
    },
    {
     "name": "stdout",
     "output_type": "stream",
     "text": [
      "ww :  [3494.74      3496.7258398 3498.7116796 ... 5494.4806786 5496.4665184\n",
      " 5498.4523582]\n",
      "sigma = 456.3 km/s\n"
     ]
    },
    {
     "data": {
      "application/vnd.jupyter.widget-view+json": {
       "model_id": "55afb0531b4947c4abd94d744e7e42d6",
       "version_major": 2,
       "version_minor": 0
      },
      "text/plain": [
       "HBox(children=(VBox(children=(HBox(children=(Output(layout=Layout(border='light', height='200px', width='200px…"
      ]
     },
     "metadata": {},
     "output_type": "display_data"
    },
    {
     "ename": "IndexError",
     "evalue": "boolean index did not match indexed array along dimension 0; dimension is 2060 but corresponding boolean dimension is 1182108",
     "output_type": "error",
     "traceback": [
      "\u001b[0;31m---------------------------------------------------------------------------\u001b[0m",
      "\u001b[0;31mIndexError\u001b[0m                                Traceback (most recent call last)",
      "\u001b[0;32m/Users/mxhf/ownCloudRZG/work/MPE/hetdex/src/deep_and_repeat/COSMOS/src/show_objects.py\u001b[0m in \u001b[0;36mon_next_clicked\u001b[0;34m(b)\u001b[0m\n\u001b[1;32m    185\u001b[0m         \u001b[0mprint\u001b[0m\u001b[0;34m(\u001b[0m\u001b[0;34m\"No more objects.\"\u001b[0m\u001b[0;34m)\u001b[0m\u001b[0;34m\u001b[0m\u001b[0;34m\u001b[0m\u001b[0m\n\u001b[1;32m    186\u001b[0m     \u001b[0;32melse\u001b[0m\u001b[0;34m:\u001b[0m\u001b[0;34m\u001b[0m\u001b[0;34m\u001b[0m\u001b[0m\n\u001b[0;32m--> 187\u001b[0;31m         \u001b[0mshow_next_record\u001b[0m\u001b[0;34m(\u001b[0m\u001b[0;34m)\u001b[0m\u001b[0;34m\u001b[0m\u001b[0;34m\u001b[0m\u001b[0m\n\u001b[0m\u001b[1;32m    188\u001b[0m         \u001b[0;31m# always save catalog\u001b[0m\u001b[0;34m\u001b[0m\u001b[0;34m\u001b[0m\u001b[0;34m\u001b[0m\u001b[0m\n\u001b[1;32m    189\u001b[0m         \u001b[0mon_save_clicked\u001b[0m\u001b[0;34m(\u001b[0m\u001b[0;32mNone\u001b[0m\u001b[0;34m)\u001b[0m\u001b[0;34m\u001b[0m\u001b[0;34m\u001b[0m\u001b[0m\n",
      "\u001b[0;32m/Users/mxhf/ownCloudRZG/work/MPE/hetdex/src/deep_and_repeat/COSMOS/src/show_objects.py\u001b[0m in \u001b[0;36mshow_next_record\u001b[0;34m()\u001b[0m\n\u001b[1;32m     43\u001b[0m \u001b[0;32mdef\u001b[0m \u001b[0mshow_next_record\u001b[0m\u001b[0;34m(\u001b[0m\u001b[0;34m)\u001b[0m\u001b[0;34m:\u001b[0m\u001b[0;34m\u001b[0m\u001b[0;34m\u001b[0m\u001b[0m\n\u001b[1;32m     44\u001b[0m     \u001b[0;32mglobal\u001b[0m \u001b[0mii\u001b[0m\u001b[0;34m,\u001b[0m \u001b[0mcatalog\u001b[0m\u001b[0;34m,\u001b[0m \u001b[0mcurrent_record_idx\u001b[0m\u001b[0;34m,\u001b[0m \u001b[0minfo\u001b[0m\u001b[0;34m,\u001b[0m \u001b[0mphz_zz\u001b[0m\u001b[0;34m,\u001b[0m \u001b[0mphz_pdz\u001b[0m\u001b[0;34m,\u001b[0m\u001b[0mc\u001b[0m\u001b[0;34m,\u001b[0m\u001b[0mm\u001b[0m\u001b[0;34m,\u001b[0m\u001b[0mx\u001b[0m\u001b[0;34m,\u001b[0m\u001b[0my\u001b[0m\u001b[0;34m,\u001b[0m\u001b[0mz\u001b[0m\u001b[0;34m\u001b[0m\u001b[0;34m\u001b[0m\u001b[0m\n\u001b[0;32m---> 45\u001b[0;31m     \u001b[0mrecords\u001b[0m \u001b[0;34m=\u001b[0m \u001b[0mcatalog\u001b[0m\u001b[0;34m[\u001b[0m\u001b[0mii\u001b[0m\u001b[0;34m]\u001b[0m\u001b[0;34m\u001b[0m\u001b[0;34m\u001b[0m\u001b[0m\n\u001b[0m\u001b[1;32m     46\u001b[0m     \u001b[0mrecord\u001b[0m \u001b[0;34m=\u001b[0m \u001b[0mrecords\u001b[0m\u001b[0;34m[\u001b[0m\u001b[0mcurrent_record_idx\u001b[0m\u001b[0;34m]\u001b[0m\u001b[0;34m\u001b[0m\u001b[0;34m\u001b[0m\u001b[0m\n\u001b[1;32m     47\u001b[0m     \u001b[0;31m#print(record[\"comment2\"])\u001b[0m\u001b[0;34m\u001b[0m\u001b[0;34m\u001b[0m\u001b[0;34m\u001b[0m\u001b[0m\n",
      "\u001b[0;32m/Users/mxhf/.pyenv/versions/anaconda3-4.3.0/lib/python3.6/site-packages/astropy/table/table.py\u001b[0m in \u001b[0;36m__getitem__\u001b[0;34m(self, item)\u001b[0m\n\u001b[1;32m   1368\u001b[0m             \u001b[0;31m# is produced by np.where, as in t[np.where(t['a'] > 2)]\u001b[0m\u001b[0;34m\u001b[0m\u001b[0;34m\u001b[0m\u001b[0;34m\u001b[0m\u001b[0m\n\u001b[1;32m   1369\u001b[0m             \u001b[0;31m# For all, a new table is constructed with slice of all columns\u001b[0m\u001b[0;34m\u001b[0m\u001b[0;34m\u001b[0m\u001b[0;34m\u001b[0m\u001b[0m\n\u001b[0;32m-> 1370\u001b[0;31m             \u001b[0;32mreturn\u001b[0m \u001b[0mself\u001b[0m\u001b[0;34m.\u001b[0m\u001b[0m_new_from_slice\u001b[0m\u001b[0;34m(\u001b[0m\u001b[0mitem\u001b[0m\u001b[0;34m)\u001b[0m\u001b[0;34m\u001b[0m\u001b[0;34m\u001b[0m\u001b[0m\n\u001b[0m\u001b[1;32m   1371\u001b[0m         \u001b[0;32melse\u001b[0m\u001b[0;34m:\u001b[0m\u001b[0;34m\u001b[0m\u001b[0;34m\u001b[0m\u001b[0m\n\u001b[1;32m   1372\u001b[0m             raise ValueError('Illegal type {0} for table item access'\n",
      "\u001b[0;32m/Users/mxhf/.pyenv/versions/anaconda3-4.3.0/lib/python3.6/site-packages/astropy/table/table.py\u001b[0m in \u001b[0;36m_new_from_slice\u001b[0;34m(self, slice_)\u001b[0m\n\u001b[1;32m    917\u001b[0m         \u001b[0mnewcols\u001b[0m \u001b[0;34m=\u001b[0m \u001b[0;34m[\u001b[0m\u001b[0;34m]\u001b[0m\u001b[0;34m\u001b[0m\u001b[0;34m\u001b[0m\u001b[0m\n\u001b[1;32m    918\u001b[0m         \u001b[0;32mfor\u001b[0m \u001b[0mcol\u001b[0m \u001b[0;32min\u001b[0m \u001b[0mself\u001b[0m\u001b[0;34m.\u001b[0m\u001b[0mcolumns\u001b[0m\u001b[0;34m.\u001b[0m\u001b[0mvalues\u001b[0m\u001b[0;34m(\u001b[0m\u001b[0;34m)\u001b[0m\u001b[0;34m:\u001b[0m\u001b[0;34m\u001b[0m\u001b[0;34m\u001b[0m\u001b[0m\n\u001b[0;32m--> 919\u001b[0;31m             \u001b[0mnewcol\u001b[0m \u001b[0;34m=\u001b[0m \u001b[0mcol\u001b[0m\u001b[0;34m[\u001b[0m\u001b[0mslice_\u001b[0m\u001b[0;34m]\u001b[0m\u001b[0;34m\u001b[0m\u001b[0;34m\u001b[0m\u001b[0m\n\u001b[0m\u001b[1;32m    920\u001b[0m \u001b[0;34m\u001b[0m\u001b[0m\n\u001b[1;32m    921\u001b[0m             \u001b[0;31m# Note in line below, use direct attribute access to col.indices for Column\u001b[0m\u001b[0;34m\u001b[0m\u001b[0;34m\u001b[0m\u001b[0;34m\u001b[0m\u001b[0m\n",
      "\u001b[0;32mastropy/table/_column_mixins.pyx\u001b[0m in \u001b[0;36mastropy.table._column_mixins._ColumnGetitemShim.__getitem__\u001b[0;34m()\u001b[0m\n",
      "\u001b[0;32mastropy/table/_column_mixins.pyx\u001b[0m in \u001b[0;36mastropy.table._column_mixins.base_getitem\u001b[0;34m()\u001b[0m\n",
      "\u001b[0;32mastropy/table/_column_mixins.pyx\u001b[0m in \u001b[0;36mastropy.table._column_mixins.column_getitem\u001b[0;34m()\u001b[0m\n",
      "\u001b[0;31mIndexError\u001b[0m: boolean index did not match indexed array along dimension 0; dimension is 2060 but corresponding boolean dimension is 1182108"
     ]
    }
   ],
   "source": [
    "import spectrum\n",
    "\n",
    "LOADSDSS = False\n",
    "\n",
    "field=\"COSMOSD\"\n",
    "ifu=\"086\"\n",
    "\n",
    "\n",
    "fncube, fnorigcube, fnmap, fncatalog = set_input_files(dataroot, field, ifu)\n",
    "\n",
    "plt.close('all')\n",
    "\n",
    "records, gbimages = load_data(field, ifu, vmax, fncatalog, fncube, fnorigcube, fnmap)\n",
    "\n",
    "if USEDS9:\n",
    "    ! killall ds9\n",
    "\n",
    "gui = mkgui()\n",
    "\n",
    "if USEDS9:    \n",
    "    ds9 = startup(field, ifu, fncube, fnorigcube, fnmap, gbimages, vmax)\n",
    "else:\n",
    "    startup(field, ifu, fncube, fnorigcube, fnmap, gbimages, vmax)\n",
    "\n",
    "\n",
    "show_next_record()\n",
    "\n",
    "display(gui)"
   ]
  },
  {
   "cell_type": "code",
   "execution_count": 31,
   "metadata": {},
   "outputs": [
    {
     "name": "stdout",
     "output_type": "stream",
     "text": [
      "Reading ../data/mmsf2outcube_COSMOSC_allifu.cat\n"
     ]
    },
    {
     "ename": "NameError",
     "evalue": "name 'object_selection' is not defined",
     "output_type": "error",
     "traceback": [
      "\u001b[0;31m---------------------------------------------------------------------------\u001b[0m",
      "\u001b[0;31mNameError\u001b[0m                                 Traceback (most recent call last)",
      "\u001b[0;32m<ipython-input-31-de71c4564836>\u001b[0m in \u001b[0;36m<module>\u001b[0;34m()\u001b[0m\n\u001b[1;32m     19\u001b[0m \u001b[0mgui\u001b[0m \u001b[0;34m=\u001b[0m \u001b[0mmkgui\u001b[0m\u001b[0;34m(\u001b[0m\u001b[0;34m)\u001b[0m\u001b[0;34m\u001b[0m\u001b[0;34m\u001b[0m\u001b[0m\n\u001b[1;32m     20\u001b[0m \u001b[0;34m\u001b[0m\u001b[0m\n\u001b[0;32m---> 21\u001b[0;31m \u001b[0mobject_selection\u001b[0m\u001b[0;34m.\u001b[0m\u001b[0moptions\u001b[0m \u001b[0;34m=\u001b[0m \u001b[0mrecords\u001b[0m\u001b[0;34m[\u001b[0m\u001b[0;34m\"id\"\u001b[0m\u001b[0;34m]\u001b[0m\u001b[0;34m\u001b[0m\u001b[0;34m\u001b[0m\u001b[0m\n\u001b[0m\u001b[1;32m     22\u001b[0m \u001b[0;34m\u001b[0m\u001b[0m\n\u001b[1;32m     23\u001b[0m \u001b[0mshow_next_record\u001b[0m\u001b[0;34m(\u001b[0m\u001b[0;34m)\u001b[0m\u001b[0;34m\u001b[0m\u001b[0;34m\u001b[0m\u001b[0m\n",
      "\u001b[0;31mNameError\u001b[0m: name 'object_selection' is not defined"
     ]
    }
   ],
   "source": [
    "import spectrum\n",
    "\n",
    "LOADSDSS = False\n",
    "\n",
    "field=\"COSMOSC\"\n",
    "ifu=\"023\"\n",
    "vmax = 0.6\n",
    "\n",
    "fncube=\"../data/sf2outcube_{field}_{ifu}.fits.gz\".format(field=field,ifu=ifu)\n",
    "fnorigcube=\"../data/outcube_{field}_{ifu}.fits.gz\".format(field=field,ifu=ifu)\n",
    "fnmap=\"../data/mmap_{field}_{ifu}.fits.gz\".format(field=field,ifu=ifu)\n",
    "fncatalog=\"../data/msf2outcube_{}_allifu.cat\".format(field)\n",
    "\n",
    "\n",
    "load_data(field, ifu, vmax, fncatalog, fncube, fnorigcube, fnmap)\n",
    "\n",
    "startup(field, ifu, fncube, fnorigcube, fnmap, gbimages, vmax)\n",
    "\n",
    "gui = mkgui()\n",
    "\n",
    "object_selection.options = records[\"id\"]\n",
    "\n",
    "show_next_record()\n",
    "\n",
    "display(gui)"
   ]
  },
  {
   "cell_type": "code",
   "execution_count": null,
   "metadata": {},
   "outputs": [],
   "source": []
  }
 ],
 "metadata": {
  "kernelspec": {
   "display_name": "Python 3",
   "language": "python",
   "name": "python3"
  },
  "language_info": {
   "codemirror_mode": {
    "name": "ipython",
    "version": 3
   },
   "file_extension": ".py",
   "mimetype": "text/x-python",
   "name": "python",
   "nbconvert_exporter": "python",
   "pygments_lexer": "ipython3",
   "version": "3.6.8"
  },
  "widgets": {
   "state": {
    "0c53e252d3674940afbda930440eced4": {
     "views": [
      {
       "cell_index": 10
      }
     ]
    },
    "101e1847473049e1bf532f0c5db9e221": {
     "views": [
      {
       "cell_index": 11
      }
     ]
    },
    "126d46f25dd74f2f9c2ba745fa68239c": {
     "views": [
      {
       "cell_index": 8
      }
     ]
    },
    "170c96050f5e42ee8134c2f6819fdabe": {
     "views": [
      {
       "cell_index": 7
      }
     ]
    },
    "1787256362d04f57ad75e904f2ac2d19": {
     "views": [
      {
       "cell_index": 10
      }
     ]
    },
    "17f57c3981c948e9a83a9ea0cbe82f30": {
     "views": [
      {
       "cell_index": 7
      }
     ]
    },
    "1b86665415ed4f6ab762235ebbe413bc": {
     "views": [
      {
       "cell_index": 10
      }
     ]
    },
    "1ebc8dfd02af466e92f98cdb81b59027": {
     "views": [
      {
       "cell_index": 10
      }
     ]
    },
    "21cd337c24bc4112a714639999400bc8": {
     "views": [
      {
       "cell_index": 10
      }
     ]
    },
    "2d2a6c24bb124c50a67bc4007c1bdf0d": {
     "views": [
      {
       "cell_index": 10
      }
     ]
    },
    "2da97b2f90ce465cb018380b1dc46688": {
     "views": [
      {
       "cell_index": 7
      }
     ]
    },
    "36694c71c73642a2a3adeba3f64bd6ca": {
     "views": [
      {
       "cell_index": 10
      }
     ]
    },
    "37d3b947d07c40ea8124a0e9350e8857": {
     "views": [
      {
       "cell_index": 11
      }
     ]
    },
    "398e9097a9914862a50d1e50eefc866c": {
     "views": [
      {
       "cell_index": 8
      }
     ]
    },
    "410f52865cb4431aa4e57c48dd6b97b6": {
     "views": [
      {
       "cell_index": 10
      }
     ]
    },
    "41213373f5f24ffdaad755cfc4dc9c46": {
     "views": [
      {
       "cell_index": 10
      }
     ]
    },
    "43a6b8a882174f3eb77b917323d3663b": {
     "views": [
      {
       "cell_index": 9
      }
     ]
    },
    "474060b8a138464884e8405561273996": {
     "views": [
      {
       "cell_index": 8
      }
     ]
    },
    "4d2dae5bd23249a8adc89ce7d71f0d21": {
     "views": [
      {
       "cell_index": 10
      }
     ]
    },
    "60389746af664d9e95fecd71f5419716": {
     "views": [
      {
       "cell_index": 10
      }
     ]
    },
    "6a3797ac1ef246e5bc9b169db886a087": {
     "views": [
      {
       "cell_index": 8
      }
     ]
    },
    "77a5183d99114310bfc5cc58b31d588b": {
     "views": [
      {
       "cell_index": 10
      }
     ]
    },
    "8285ece4d96d494793b00b8ddfad3eae": {
     "views": [
      {
       "cell_index": 7
      }
     ]
    },
    "942eb3a6614944f8923cf1d1f03bf28a": {
     "views": [
      {
       "cell_index": 10
      }
     ]
    },
    "ad97f2b2eff84f328e2f6655e76be331": {
     "views": [
      {
       "cell_index": 10
      }
     ]
    },
    "ae923326fcaa4794b00bdbc4a9ee6d7c": {
     "views": [
      {
       "cell_index": 10
      }
     ]
    },
    "b10d8b2e4b3244c790bf05a0547820d6": {
     "views": [
      {
       "cell_index": 10
      }
     ]
    },
    "c0dcc70acf984006b80872ed4f11d961": {
     "views": [
      {
       "cell_index": 9
      }
     ]
    },
    "c586f6f45d9140f2aa5bd715f231e711": {
     "views": [
      {
       "cell_index": 8
      }
     ]
    },
    "c9bfd2284bf94af785f46a629a326db2": {
     "views": [
      {
       "cell_index": 7
      }
     ]
    },
    "ce9049276ed349fc85ae3404605be001": {
     "views": [
      {
       "cell_index": 10
      }
     ]
    },
    "db3f82c104664523bd3db3d0695b2994": {
     "views": [
      {
       "cell_index": 10
      }
     ]
    },
    "f8d4f4d0d6b9426bb246fdb98e4cfefd": {
     "views": [
      {
       "cell_index": 10
      }
     ]
    },
    "fb233e7b210e44548cc76818c779c013": {
     "views": [
      {
       "cell_index": 10
      }
     ]
    }
   },
   "version": "1.2.0"
  }
 },
 "nbformat": 4,
 "nbformat_minor": 2
}
