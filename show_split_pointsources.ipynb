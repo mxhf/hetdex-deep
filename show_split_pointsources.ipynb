{
 "cells": [
  {
   "cell_type": "code",
   "execution_count": 19,
   "metadata": {},
   "outputs": [],
   "source": [
    "%run NB_Image.ipynb"
   ]
  },
  {
   "cell_type": "code",
   "execution_count": 2,
   "metadata": {},
   "outputs": [
    {
     "data": {
      "text/html": [
       "<style>.container { width:100% !important; }</style>"
      ],
      "text/plain": [
       "<IPython.core.display.HTML object>"
      ]
     },
     "metadata": {},
     "output_type": "display_data"
    }
   ],
   "source": [
    "# go wide screen\n",
    "from IPython.core.display import display, HTML\n",
    "display(HTML(\"<style>.container { width:100% !important; }</style>\"))"
   ]
  },
  {
   "cell_type": "code",
   "execution_count": 3,
   "metadata": {},
   "outputs": [],
   "source": [
    "from __future__ import print_function\n",
    "from astropy.coordinates import SkyCoord\n",
    "from dustmaps.sfd import SFDQuery\n",
    "\n",
    "s\n",
    "import extinction\n",
    "from extinction import ccm89\n",
    "\n",
    "from astropy.table import Table, Column\n",
    "import astropy.units as u"
   ]
  },
  {
   "cell_type": "code",
   "execution_count": 4,
   "metadata": {},
   "outputs": [],
   "source": [
    "%config InlineBackend.close_figures=True "
   ]
  },
  {
   "cell_type": "code",
   "execution_count": 5,
   "metadata": {},
   "outputs": [
    {
     "name": "stderr",
     "output_type": "stream",
     "text": [
      "/Users/mxhf/.pyenv/versions/anaconda3-4.3.0/lib/python3.6/site-packages/IPython/html.py:14: ShimWarning: The `IPython.html` package has been deprecated. You should import from `notebook` instead. `IPython.html.widgets` has moved to `ipywidgets`.\n",
      "  \"`IPython.html.widgets` has moved to `ipywidgets`.\", ShimWarning)\n"
     ]
    }
   ],
   "source": [
    "from IPython.html import widgets\n",
    "from ipywidgets import Layout\n",
    "from IPython.display import display,clear_output"
   ]
  },
  {
   "cell_type": "code",
   "execution_count": 6,
   "metadata": {},
   "outputs": [],
   "source": [
    "import matplotlib.pyplot as plt\n",
    "\n",
    "params = {'legend.fontsize': '16',\n",
    "          'figure.figsize': (15, 5),\n",
    "         'axes.labelsize': '28',\n",
    "         'axes.titlesize':'28',\n",
    "         'xtick.labelsize':'28',\n",
    "         'ytick.labelsize':'28'}\n",
    "\n",
    "plt.rcParams.update(params)"
   ]
  },
  {
   "cell_type": "code",
   "execution_count": 7,
   "metadata": {},
   "outputs": [],
   "source": [
    "from astropy.io import ascii\n",
    "\n",
    "c = ascii.read(\"../data/mmsf2outcube_COSMOSC_allifu.cat\")"
   ]
  },
  {
   "cell_type": "code",
   "execution_count": 8,
   "metadata": {},
   "outputs": [],
   "source": [
    "isplit_good = c[\"split_good\"] == \"True\"\n",
    "\n",
    "ipointsource = c[\"class2\"] == \"pointsource\"\n",
    "\n",
    "ishowcase = c[\"showcase\"] \n",
    "\n",
    "ii = ipointsource * isplit_good"
   ]
  },
  {
   "cell_type": "code",
   "execution_count": 10,
   "metadata": {},
   "outputs": [
    {
     "data": {
      "text/html": [
       "<i>Table length=3</i>\n",
       "<table id=\"table4520874560\" class=\"table-striped table-bordered table-condensed\">\n",
       "<thead><tr><th>ifu</th><th>id</th><th>N</th><th>counts</th><th>flux</th><th>ra_com</th><th>dec_com</th><th>ddec</th><th>dra</th><th>x_com</th><th>y_com</th><th>z_com</th><th>dx</th><th>dy</th><th>dz</th><th>sqrt(ev1)</th><th>sqrt(ev2)</th><th>size2d</th><th>x_ext</th><th>y_ext</th><th>z_ext</th><th>wl_com</th><th>dwl</th><th>xmin</th><th>xmax</th><th>ymin</th><th>ymax</th><th>zmin</th><th>zmax</th><th>class</th><th>manualx</th><th>manualy</th><th>manualz</th><th>class2</th><th>comment2</th><th>use_stack</th><th>split_good</th><th>showcase</th><th>xray_counterpart</th></tr></thead>\n",
       "<thead><tr><th></th><th></th><th>px</th><th>counts</th><th>erg / (cm2 s)</th><th>RA[J2000]</th><th>Dec[J2000]</th><th>arcsec</th><th>arcsec</th><th>px</th><th>px</th><th>px</th><th>px</th><th>px</th><th>px</th><th>px</th><th>px</th><th>px</th><th>px</th><th>px</th><th>px</th><th>A</th><th>A</th><th>px</th><th>px</th><th>px</th><th>px</th><th>px</th><th>px</th><th></th><th></th><th></th><th></th><th></th><th></th><th></th><th></th><th></th><th></th></tr></thead>\n",
       "<thead><tr><th>str3</th><th>int64</th><th>int64</th><th>float64</th><th>float64</th><th>float64</th><th>float64</th><th>float64</th><th>float64</th><th>float64</th><th>float64</th><th>float64</th><th>float64</th><th>float64</th><th>float64</th><th>float64</th><th>float64</th><th>float64</th><th>int64</th><th>int64</th><th>int64</th><th>float64</th><th>float64</th><th>int64</th><th>int64</th><th>int64</th><th>int64</th><th>int64</th><th>int64</th><th>str14</th><th>float64</th><th>float64</th><th>float64</th><th>str11</th><th>str135</th><th>bool</th><th>object</th><th>bool</th><th>bool</th></tr></thead>\n",
       "<tr><td>021</td><td>10001</td><td>773</td><td>2.2536e+02</td><td>9.0865e-17</td><td>150.330209</td><td>2.259786</td><td>1.5</td><td>1.4</td><td>89.34</td><td>92.92</td><td>62.10</td><td>2.91</td><td>2.73</td><td>3.53</td><td>3.32</td><td>2.23</td><td>4.00</td><td>17</td><td>15</td><td>17</td><td>3616.08</td><td>33.76</td><td>81</td><td>98</td><td>86</td><td>101</td><td>52</td><td>69</td><td>N/A</td><td>91.0</td><td>94.0</td><td>62.0</td><td>pointsource</td><td>LAE</td><td>False</td><td>True</td><td>False</td><td>False</td></tr>\n",
       "<tr><td>021</td><td>5006</td><td>193</td><td>9.6403e+01</td><td>1.9428e-17</td><td>150.329382</td><td>2.251960</td><td>1.0</td><td>0.7</td><td>95.29</td><td>36.57</td><td>245.19</td><td>2.08</td><td>1.45</td><td>1.29</td><td>2.10</td><td>1.42</td><td>2.54</td><td>8</td><td>6</td><td>5</td><td>3979.66</td><td>9.93</td><td>91</td><td>99</td><td>34</td><td>40</td><td>243</td><td>248</td><td>N/A</td><td>96.0</td><td>36.0</td><td>244.0</td><td>pointsource</td><td>N/A</td><td>True</td><td>True</td><td>False</td><td>False</td></tr>\n",
       "<tr><td>021</td><td>5007</td><td>200</td><td>1.0009e+02</td><td>1.7523e-17</td><td>150.334247</td><td>2.254039</td><td>0.9</td><td>0.7</td><td>60.29</td><td>51.53</td><td>284.73</td><td>1.77</td><td>1.40</td><td>1.88</td><td>1.82</td><td>1.34</td><td>2.26</td><td>8</td><td>5</td><td>8</td><td>4058.19</td><td>15.89</td><td>56</td><td>64</td><td>49</td><td>54</td><td>281</td><td>289</td><td>N/A</td><td>60.0</td><td>51.0</td><td>284.0</td><td>pointsource</td><td>N/A</td><td>False</td><td>True</td><td>False</td><td>False</td></tr>\n",
       "</table>"
      ],
      "text/plain": [
       "<Table length=3>\n",
       "ifu    id    N     counts   ... use_stack split_good showcase xray_counterpart\n",
       "             px    counts   ...                                               \n",
       "str3 int64 int64  float64   ...    bool     object     bool         bool      \n",
       "---- ----- ----- ---------- ... --------- ---------- -------- ----------------\n",
       " 021 10001   773 2.2536e+02 ...     False       True    False            False\n",
       " 021  5006   193 9.6403e+01 ...      True       True    False            False\n",
       " 021  5007   200 1.0009e+02 ...     False       True    False            False"
      ]
     },
     "execution_count": 10,
     "metadata": {},
     "output_type": "execute_result"
    }
   ],
   "source": [
    "c[ii][:3]"
   ]
  },
  {
   "cell_type": "code",
   "execution_count": 29,
   "metadata": {
    "scrolled": false
   },
   "outputs": [
    {
     "name": "stderr",
     "output_type": "stream",
     "text": [
      "/Users/mxhf/.pyenv/versions/anaconda3-4.3.0/lib/python3.6/site-packages/ipykernel/__main__.py:24: RuntimeWarning: More than 20 figures have been opened. Figures created through the pyplot interface (`matplotlib.pyplot.figure`) are retained until explicitly closed and may consume too much memory. (To control this warning, see the rcParam `figure.max_open_warning`).\n",
      "/Users/mxhf/.pyenv/versions/anaconda3-4.3.0/lib/python3.6/site-packages/ipykernel/__main__.py:20: DeprecationWarning: The truth value of an empty array is ambiguous. Returning False, but in future this will result in an error. Use `array.size > 0` to check that an array is not empty.\n"
     ]
    },
    {
     "data": {
      "application/vnd.jupyter.widget-view+json": {
       "model_id": "0e224f825f964923b8dfa9fd41fa71e2",
       "version_major": 2,
       "version_minor": 0
      },
      "text/plain": [
       "HBox(children=(HTML(value='ifu:021<br> id:10001'), Output(layout=Layout(border='light')), RadioButtons(descrip…"
      ]
     },
     "metadata": {},
     "output_type": "display_data"
    },
    {
     "data": {
      "application/vnd.jupyter.widget-view+json": {
       "model_id": "24a20f1e0f32422aa8997c77438775e3",
       "version_major": 2,
       "version_minor": 0
      },
      "text/plain": [
       "HBox(children=(HTML(value='ifu:021<br> id:5006'), Output(layout=Layout(border='light')), RadioButtons(descript…"
      ]
     },
     "metadata": {},
     "output_type": "display_data"
    },
    {
     "data": {
      "application/vnd.jupyter.widget-view+json": {
       "model_id": "54abccba359d45dab59c851fa0500dea",
       "version_major": 2,
       "version_minor": 0
      },
      "text/plain": [
       "HBox(children=(HTML(value='ifu:021<br> id:5007'), Output(layout=Layout(border='light')), RadioButtons(descript…"
      ]
     },
     "metadata": {},
     "output_type": "display_data"
    },
    {
     "data": {
      "application/vnd.jupyter.widget-view+json": {
       "model_id": "dc3c7557f31b4f4c89c5117da8176eda",
       "version_major": 2,
       "version_minor": 0
      },
      "text/plain": [
       "HBox(children=(HTML(value='ifu:021<br> id:5008'), Output(layout=Layout(border='light')), RadioButtons(descript…"
      ]
     },
     "metadata": {},
     "output_type": "display_data"
    },
    {
     "data": {
      "application/vnd.jupyter.widget-view+json": {
       "model_id": "d87ddbf164424d689a3d70c165d8d443",
       "version_major": 2,
       "version_minor": 0
      },
      "text/plain": [
       "HBox(children=(HTML(value='ifu:021<br> id:5013'), Output(layout=Layout(border='light')), RadioButtons(descript…"
      ]
     },
     "metadata": {},
     "output_type": "display_data"
    },
    {
     "data": {
      "application/vnd.jupyter.widget-view+json": {
       "model_id": "87cacfadbb95497293d2c39d9f2fb643",
       "version_major": 2,
       "version_minor": 0
      },
      "text/plain": [
       "HBox(children=(HTML(value='ifu:022<br> id:10001'), Output(layout=Layout(border='light')), RadioButtons(descrip…"
      ]
     },
     "metadata": {},
     "output_type": "display_data"
    },
    {
     "data": {
      "application/vnd.jupyter.widget-view+json": {
       "model_id": "4db6e94ff6874eef8b5c4d0b532c6fe0",
       "version_major": 2,
       "version_minor": 0
      },
      "text/plain": [
       "HBox(children=(HTML(value='ifu:022<br> id:10002'), Output(layout=Layout(border='light')), RadioButtons(descrip…"
      ]
     },
     "metadata": {},
     "output_type": "display_data"
    },
    {
     "data": {
      "application/vnd.jupyter.widget-view+json": {
       "model_id": "71a42802459043c1aef591fa686f6191",
       "version_major": 2,
       "version_minor": 0
      },
      "text/plain": [
       "HBox(children=(HTML(value='ifu:022<br> id:10006'), Output(layout=Layout(border='light')), RadioButtons(descrip…"
      ]
     },
     "metadata": {},
     "output_type": "display_data"
    },
    {
     "data": {
      "application/vnd.jupyter.widget-view+json": {
       "model_id": "4dd8941469ff4717be4ad57fdd0efc2d",
       "version_major": 2,
       "version_minor": 0
      },
      "text/plain": [
       "HBox(children=(HTML(value='ifu:023<br> id:5014'), Output(layout=Layout(border='light')), RadioButtons(descript…"
      ]
     },
     "metadata": {},
     "output_type": "display_data"
    },
    {
     "data": {
      "application/vnd.jupyter.widget-view+json": {
       "model_id": "fccb6b7fba234eae9bdd057dd4da653e",
       "version_major": 2,
       "version_minor": 0
      },
      "text/plain": [
       "HBox(children=(HTML(value='ifu:023<br> id:5028'), Output(layout=Layout(border='light')), RadioButtons(descript…"
      ]
     },
     "metadata": {},
     "output_type": "display_data"
    },
    {
     "data": {
      "application/vnd.jupyter.widget-view+json": {
       "model_id": "46ff042f10234cc6aaedcad1c5aa2be6",
       "version_major": 2,
       "version_minor": 0
      },
      "text/plain": [
       "HBox(children=(HTML(value='ifu:023<br> id:5032'), Output(layout=Layout(border='light')), RadioButtons(descript…"
      ]
     },
     "metadata": {},
     "output_type": "display_data"
    },
    {
     "data": {
      "application/vnd.jupyter.widget-view+json": {
       "model_id": "d79531eb89204f0f8342c9fc4c1a43c8",
       "version_major": 2,
       "version_minor": 0
      },
      "text/plain": [
       "HBox(children=(HTML(value='ifu:023<br> id:5038'), Output(layout=Layout(border='light')), RadioButtons(descript…"
      ]
     },
     "metadata": {},
     "output_type": "display_data"
    },
    {
     "data": {
      "application/vnd.jupyter.widget-view+json": {
       "model_id": "b624a7a51d7d4c0fa5f2aa6c73f041a9",
       "version_major": 2,
       "version_minor": 0
      },
      "text/plain": [
       "HBox(children=(HTML(value='ifu:023<br> id:5042'), Output(layout=Layout(border='light')), RadioButtons(descript…"
      ]
     },
     "metadata": {},
     "output_type": "display_data"
    },
    {
     "data": {
      "application/vnd.jupyter.widget-view+json": {
       "model_id": "ffd9c5ffab2e4e8fa3d94b88f4383f39",
       "version_major": 2,
       "version_minor": 0
      },
      "text/plain": [
       "HBox(children=(HTML(value='ifu:023<br> id:5046'), Output(layout=Layout(border='light')), RadioButtons(descript…"
      ]
     },
     "metadata": {},
     "output_type": "display_data"
    },
    {
     "data": {
      "application/vnd.jupyter.widget-view+json": {
       "model_id": "1f2fcf6c548c4ff1be1383e8a8d84dab",
       "version_major": 2,
       "version_minor": 0
      },
      "text/plain": [
       "HBox(children=(HTML(value='ifu:023<br> id:5047'), Output(layout=Layout(border='light')), RadioButtons(descript…"
      ]
     },
     "metadata": {},
     "output_type": "display_data"
    },
    {
     "data": {
      "application/vnd.jupyter.widget-view+json": {
       "model_id": "86864f3030d74c89bc964b24b63b4234",
       "version_major": 2,
       "version_minor": 0
      },
      "text/plain": [
       "HBox(children=(HTML(value='ifu:023<br> id:5059'), Output(layout=Layout(border='light')), RadioButtons(descript…"
      ]
     },
     "metadata": {},
     "output_type": "display_data"
    },
    {
     "data": {
      "application/vnd.jupyter.widget-view+json": {
       "model_id": "80fe7e5494574e0fad8e49267200a65c",
       "version_major": 2,
       "version_minor": 0
      },
      "text/plain": [
       "HBox(children=(HTML(value='ifu:023<br> id:5061'), Output(layout=Layout(border='light')), RadioButtons(descript…"
      ]
     },
     "metadata": {},
     "output_type": "display_data"
    },
    {
     "data": {
      "application/vnd.jupyter.widget-view+json": {
       "model_id": "d19b5530b2c1421fb4cd8f05ada13df4",
       "version_major": 2,
       "version_minor": 0
      },
      "text/plain": [
       "HBox(children=(HTML(value='ifu:024<br> id:5006'), Output(layout=Layout(border='light')), RadioButtons(descript…"
      ]
     },
     "metadata": {},
     "output_type": "display_data"
    },
    {
     "data": {
      "application/vnd.jupyter.widget-view+json": {
       "model_id": "d8b0491417664f4cbf9cd9a98a19465a",
       "version_major": 2,
       "version_minor": 0
      },
      "text/plain": [
       "HBox(children=(HTML(value='ifu:025<br> id:10002'), Output(layout=Layout(border='light')), RadioButtons(descrip…"
      ]
     },
     "metadata": {},
     "output_type": "display_data"
    },
    {
     "data": {
      "application/vnd.jupyter.widget-view+json": {
       "model_id": "38de6a286cdb4f629a8d3868f125e114",
       "version_major": 2,
       "version_minor": 0
      },
      "text/plain": [
       "HBox(children=(HTML(value='ifu:025<br> id:10026'), Output(layout=Layout(border='light')), RadioButtons(descrip…"
      ]
     },
     "metadata": {},
     "output_type": "display_data"
    },
    {
     "data": {
      "application/vnd.jupyter.widget-view+json": {
       "model_id": "1e9e77065bed4cf2a7aa6e7552e6e3c8",
       "version_major": 2,
       "version_minor": 0
      },
      "text/plain": [
       "HBox(children=(HTML(value='ifu:025<br> id:10039'), Output(layout=Layout(border='light')), RadioButtons(descrip…"
      ]
     },
     "metadata": {},
     "output_type": "display_data"
    },
    {
     "data": {
      "application/vnd.jupyter.widget-view+json": {
       "model_id": "e566274b01ba482eb05083d6f2ba10a7",
       "version_major": 2,
       "version_minor": 0
      },
      "text/plain": [
       "HBox(children=(HTML(value='ifu:025<br> id:5016'), Output(layout=Layout(border='light')), RadioButtons(descript…"
      ]
     },
     "metadata": {},
     "output_type": "display_data"
    },
    {
     "data": {
      "application/vnd.jupyter.widget-view+json": {
       "model_id": "557f188f0925472f96a949be334295a9",
       "version_major": 2,
       "version_minor": 0
      },
      "text/plain": [
       "HBox(children=(HTML(value='ifu:025<br> id:5018'), Output(layout=Layout(border='light')), RadioButtons(descript…"
      ]
     },
     "metadata": {},
     "output_type": "display_data"
    },
    {
     "data": {
      "application/vnd.jupyter.widget-view+json": {
       "model_id": "0fbc4606f449442397d0826e0288063b",
       "version_major": 2,
       "version_minor": 0
      },
      "text/plain": [
       "HBox(children=(HTML(value='ifu:025<br> id:5025'), Output(layout=Layout(border='light')), RadioButtons(descript…"
      ]
     },
     "metadata": {},
     "output_type": "display_data"
    },
    {
     "data": {
      "application/vnd.jupyter.widget-view+json": {
       "model_id": "986a849c11214126b2026362d5147d69",
       "version_major": 2,
       "version_minor": 0
      },
      "text/plain": [
       "HBox(children=(HTML(value='ifu:025<br> id:5074'), Output(layout=Layout(border='light')), RadioButtons(descript…"
      ]
     },
     "metadata": {},
     "output_type": "display_data"
    },
    {
     "data": {
      "application/vnd.jupyter.widget-view+json": {
       "model_id": "8c14bc73d2f34773851fd3b5a549baa2",
       "version_major": 2,
       "version_minor": 0
      },
      "text/plain": [
       "HBox(children=(HTML(value='ifu:025<br> id:5075'), Output(layout=Layout(border='light')), RadioButtons(descript…"
      ]
     },
     "metadata": {},
     "output_type": "display_data"
    },
    {
     "data": {
      "application/vnd.jupyter.widget-view+json": {
       "model_id": "bb6fdcfc4a3843ddbcc896866f48c15e",
       "version_major": 2,
       "version_minor": 0
      },
      "text/plain": [
       "HBox(children=(HTML(value='ifu:026<br> id:5010'), Output(layout=Layout(border='light')), RadioButtons(descript…"
      ]
     },
     "metadata": {},
     "output_type": "display_data"
    },
    {
     "data": {
      "application/vnd.jupyter.widget-view+json": {
       "model_id": "8b40c9d3837f4ea5924803637d0afd7a",
       "version_major": 2,
       "version_minor": 0
      },
      "text/plain": [
       "HBox(children=(HTML(value='ifu:026<br> id:5022'), Output(layout=Layout(border='light')), RadioButtons(descript…"
      ]
     },
     "metadata": {},
     "output_type": "display_data"
    },
    {
     "data": {
      "application/vnd.jupyter.widget-view+json": {
       "model_id": "64e3365317284ad48a50d4a320214d6d",
       "version_major": 2,
       "version_minor": 0
      },
      "text/plain": [
       "HBox(children=(HTML(value='ifu:027<br> id:10002'), Output(layout=Layout(border='light')), RadioButtons(descrip…"
      ]
     },
     "metadata": {},
     "output_type": "display_data"
    },
    {
     "data": {
      "application/vnd.jupyter.widget-view+json": {
       "model_id": "7b5ad3eaa8f54b9eb4dd3c2c5475bcca",
       "version_major": 2,
       "version_minor": 0
      },
      "text/plain": [
       "HBox(children=(HTML(value='ifu:027<br> id:10003'), Output(layout=Layout(border='light')), RadioButtons(descrip…"
      ]
     },
     "metadata": {},
     "output_type": "display_data"
    },
    {
     "data": {
      "application/vnd.jupyter.widget-view+json": {
       "model_id": "610b04106abd483c996a63a77d6b8d1c",
       "version_major": 2,
       "version_minor": 0
      },
      "text/plain": [
       "HBox(children=(HTML(value='ifu:032<br> id:10001'), Output(layout=Layout(border='light')), RadioButtons(descrip…"
      ]
     },
     "metadata": {},
     "output_type": "display_data"
    },
    {
     "data": {
      "application/vnd.jupyter.widget-view+json": {
       "model_id": "22c32f9114f94af1af4a96fadd675a7e",
       "version_major": 2,
       "version_minor": 0
      },
      "text/plain": [
       "HBox(children=(HTML(value='ifu:032<br> id:10002'), Output(layout=Layout(border='light')), RadioButtons(descrip…"
      ]
     },
     "metadata": {},
     "output_type": "display_data"
    },
    {
     "data": {
      "application/vnd.jupyter.widget-view+json": {
       "model_id": "e1caff3a73214a3c89267d6deb16168d",
       "version_major": 2,
       "version_minor": 0
      },
      "text/plain": [
       "HBox(children=(HTML(value='ifu:032<br> id:10010'), Output(layout=Layout(border='light')), RadioButtons(descrip…"
      ]
     },
     "metadata": {},
     "output_type": "display_data"
    },
    {
     "data": {
      "application/vnd.jupyter.widget-view+json": {
       "model_id": "de6ae14a1b0e4663acf9bcb54e9ba60f",
       "version_major": 2,
       "version_minor": 0
      },
      "text/plain": [
       "HBox(children=(HTML(value='ifu:032<br> id:10016'), Output(layout=Layout(border='light')), RadioButtons(descrip…"
      ]
     },
     "metadata": {},
     "output_type": "display_data"
    },
    {
     "data": {
      "application/vnd.jupyter.widget-view+json": {
       "model_id": "b66f43c08bd441738dbae0ad23c8d7d3",
       "version_major": 2,
       "version_minor": 0
      },
      "text/plain": [
       "HBox(children=(HTML(value='ifu:032<br> id:10023'), Output(layout=Layout(border='light')), RadioButtons(descrip…"
      ]
     },
     "metadata": {},
     "output_type": "display_data"
    },
    {
     "data": {
      "application/vnd.jupyter.widget-view+json": {
       "model_id": "5ca09128c9af4d2e840e09f4860b534f",
       "version_major": 2,
       "version_minor": 0
      },
      "text/plain": [
       "HBox(children=(HTML(value='ifu:032<br> id:5003'), Output(layout=Layout(border='light')), RadioButtons(descript…"
      ]
     },
     "metadata": {},
     "output_type": "display_data"
    },
    {
     "data": {
      "application/vnd.jupyter.widget-view+json": {
       "model_id": "cfcf96ff4e24444a9df2b9ce641d2b55",
       "version_major": 2,
       "version_minor": 0
      },
      "text/plain": [
       "HBox(children=(HTML(value='ifu:032<br> id:5004'), Output(layout=Layout(border='light')), RadioButtons(descript…"
      ]
     },
     "metadata": {},
     "output_type": "display_data"
    },
    {
     "data": {
      "application/vnd.jupyter.widget-view+json": {
       "model_id": "3634497175a6493daa6f8df6b827e1ae",
       "version_major": 2,
       "version_minor": 0
      },
      "text/plain": [
       "HBox(children=(HTML(value='ifu:032<br> id:5007'), Output(layout=Layout(border='light')), RadioButtons(descript…"
      ]
     },
     "metadata": {},
     "output_type": "display_data"
    },
    {
     "data": {
      "application/vnd.jupyter.widget-view+json": {
       "model_id": "5308506330ff4e39be52239aec0fc1c9",
       "version_major": 2,
       "version_minor": 0
      },
      "text/plain": [
       "HBox(children=(HTML(value='ifu:032<br> id:5013'), Output(layout=Layout(border='light')), RadioButtons(descript…"
      ]
     },
     "metadata": {},
     "output_type": "display_data"
    },
    {
     "data": {
      "application/vnd.jupyter.widget-view+json": {
       "model_id": "694a8c382d1b44459bd7488de13eac0c",
       "version_major": 2,
       "version_minor": 0
      },
      "text/plain": [
       "HBox(children=(HTML(value='ifu:032<br> id:5026'), Output(layout=Layout(border='light')), RadioButtons(descript…"
      ]
     },
     "metadata": {},
     "output_type": "display_data"
    },
    {
     "data": {
      "application/vnd.jupyter.widget-view+json": {
       "model_id": "39c529554561443987c465a246f284b2",
       "version_major": 2,
       "version_minor": 0
      },
      "text/plain": [
       "HBox(children=(HTML(value='ifu:032<br> id:5047'), Output(layout=Layout(border='light')), RadioButtons(descript…"
      ]
     },
     "metadata": {},
     "output_type": "display_data"
    },
    {
     "data": {
      "application/vnd.jupyter.widget-view+json": {
       "model_id": "8741c5a7554e4ef3be3d68a8a8a86645",
       "version_major": 2,
       "version_minor": 0
      },
      "text/plain": [
       "HBox(children=(HTML(value='ifu:032<br> id:5055'), Output(layout=Layout(border='light')), RadioButtons(descript…"
      ]
     },
     "metadata": {},
     "output_type": "display_data"
    },
    {
     "data": {
      "application/vnd.jupyter.widget-view+json": {
       "model_id": "c62035135cef4a89beaf850bf8e8dea4",
       "version_major": 2,
       "version_minor": 0
      },
      "text/plain": [
       "HBox(children=(HTML(value='ifu:032<br> id:5063'), Output(layout=Layout(border='light')), RadioButtons(descript…"
      ]
     },
     "metadata": {},
     "output_type": "display_data"
    },
    {
     "data": {
      "application/vnd.jupyter.widget-view+json": {
       "model_id": "b6743eff7b19405199f5291f1efaf8ec",
       "version_major": 2,
       "version_minor": 0
      },
      "text/plain": [
       "HBox(children=(HTML(value='ifu:032<br> id:5067'), Output(layout=Layout(border='light')), RadioButtons(descript…"
      ]
     },
     "metadata": {},
     "output_type": "display_data"
    },
    {
     "data": {
      "application/vnd.jupyter.widget-view+json": {
       "model_id": "1ee7019c4f2046278ffee22aba577ca6",
       "version_major": 2,
       "version_minor": 0
      },
      "text/plain": [
       "HBox(children=(HTML(value='ifu:032<br> id:5078'), Output(layout=Layout(border='light')), RadioButtons(descript…"
      ]
     },
     "metadata": {},
     "output_type": "display_data"
    },
    {
     "data": {
      "application/vnd.jupyter.widget-view+json": {
       "model_id": "1bec7769177d47459a8bc3f02278e802",
       "version_major": 2,
       "version_minor": 0
      },
      "text/plain": [
       "HBox(children=(HTML(value='ifu:033<br> id:10003'), Output(layout=Layout(border='light')), RadioButtons(descrip…"
      ]
     },
     "metadata": {},
     "output_type": "display_data"
    },
    {
     "data": {
      "application/vnd.jupyter.widget-view+json": {
       "model_id": "1e68f068b30746d788506845565920c0",
       "version_major": 2,
       "version_minor": 0
      },
      "text/plain": [
       "HBox(children=(HTML(value='ifu:033<br> id:10004'), Output(layout=Layout(border='light')), RadioButtons(descrip…"
      ]
     },
     "metadata": {},
     "output_type": "display_data"
    },
    {
     "data": {
      "application/vnd.jupyter.widget-view+json": {
       "model_id": "1fdf9b7eda074602b09f710bd2fb8b68",
       "version_major": 2,
       "version_minor": 0
      },
      "text/plain": [
       "HBox(children=(HTML(value='ifu:033<br> id:10006'), Output(layout=Layout(border='light')), RadioButtons(descrip…"
      ]
     },
     "metadata": {},
     "output_type": "display_data"
    },
    {
     "data": {
      "application/vnd.jupyter.widget-view+json": {
       "model_id": "18f4f066cc944d90900896b06d884aa9",
       "version_major": 2,
       "version_minor": 0
      },
      "text/plain": [
       "HBox(children=(HTML(value='ifu:033<br> id:10007'), Output(layout=Layout(border='light')), RadioButtons(descrip…"
      ]
     },
     "metadata": {},
     "output_type": "display_data"
    },
    {
     "data": {
      "application/vnd.jupyter.widget-view+json": {
       "model_id": "bb8605f7072a497a87a0657ace411c77",
       "version_major": 2,
       "version_minor": 0
      },
      "text/plain": [
       "HBox(children=(HTML(value='ifu:034<br> id:5005'), Output(layout=Layout(border='light')), RadioButtons(descript…"
      ]
     },
     "metadata": {},
     "output_type": "display_data"
    },
    {
     "data": {
      "application/vnd.jupyter.widget-view+json": {
       "model_id": "df5c4016077d4e5db947e173c3b74353",
       "version_major": 2,
       "version_minor": 0
      },
      "text/plain": [
       "HBox(children=(HTML(value='ifu:037<br> id:10023'), Output(layout=Layout(border='light')), RadioButtons(descrip…"
      ]
     },
     "metadata": {},
     "output_type": "display_data"
    },
    {
     "data": {
      "application/vnd.jupyter.widget-view+json": {
       "model_id": "424d0fdd83154d9fb342ec9dc8e7b815",
       "version_major": 2,
       "version_minor": 0
      },
      "text/plain": [
       "HBox(children=(HTML(value='ifu:037<br> id:5015'), Output(layout=Layout(border='light')), RadioButtons(descript…"
      ]
     },
     "metadata": {},
     "output_type": "display_data"
    },
    {
     "data": {
      "application/vnd.jupyter.widget-view+json": {
       "model_id": "f9a93a40559749bdbcd7d865bc6dbc7f",
       "version_major": 2,
       "version_minor": 0
      },
      "text/plain": [
       "HBox(children=(HTML(value='ifu:037<br> id:5049'), Output(layout=Layout(border='light')), RadioButtons(descript…"
      ]
     },
     "metadata": {},
     "output_type": "display_data"
    },
    {
     "data": {
      "application/vnd.jupyter.widget-view+json": {
       "model_id": "3e18fb4365af4fe7800a6a272f0389e0",
       "version_major": 2,
       "version_minor": 0
      },
      "text/plain": [
       "HBox(children=(HTML(value='ifu:042<br> id:5007'), Output(layout=Layout(border='light')), RadioButtons(descript…"
      ]
     },
     "metadata": {},
     "output_type": "display_data"
    },
    {
     "data": {
      "application/vnd.jupyter.widget-view+json": {
       "model_id": "c69616133ca34cfaaa59848ac5462305",
       "version_major": 2,
       "version_minor": 0
      },
      "text/plain": [
       "HBox(children=(HTML(value='ifu:042<br> id:5017'), Output(layout=Layout(border='light')), RadioButtons(descript…"
      ]
     },
     "metadata": {},
     "output_type": "display_data"
    },
    {
     "data": {
      "application/vnd.jupyter.widget-view+json": {
       "model_id": "25ed3556554c4726909bd13cd9705d96",
       "version_major": 2,
       "version_minor": 0
      },
      "text/plain": [
       "HBox(children=(HTML(value='ifu:042<br> id:5050'), Output(layout=Layout(border='light')), RadioButtons(descript…"
      ]
     },
     "metadata": {},
     "output_type": "display_data"
    },
    {
     "data": {
      "application/vnd.jupyter.widget-view+json": {
       "model_id": "6f50a036fad64a4db67425875fde7ba4",
       "version_major": 2,
       "version_minor": 0
      },
      "text/plain": [
       "HBox(children=(HTML(value='ifu:042<br> id:5058'), Output(layout=Layout(border='light')), RadioButtons(descript…"
      ]
     },
     "metadata": {},
     "output_type": "display_data"
    },
    {
     "data": {
      "application/vnd.jupyter.widget-view+json": {
       "model_id": "ea111053f917452d9646607d897dcaa1",
       "version_major": 2,
       "version_minor": 0
      },
      "text/plain": [
       "HBox(children=(HTML(value='ifu:047<br> id:10003'), Output(layout=Layout(border='light')), RadioButtons(descrip…"
      ]
     },
     "metadata": {},
     "output_type": "display_data"
    },
    {
     "data": {
      "application/vnd.jupyter.widget-view+json": {
       "model_id": "02205f3a1fe7468eafdc3008e67bab9d",
       "version_major": 2,
       "version_minor": 0
      },
      "text/plain": [
       "HBox(children=(HTML(value='ifu:047<br> id:5015'), Output(layout=Layout(border='light')), RadioButtons(descript…"
      ]
     },
     "metadata": {},
     "output_type": "display_data"
    },
    {
     "data": {
      "application/vnd.jupyter.widget-view+json": {
       "model_id": "92bf5cb8c0f84ec9980dc24a0ebcb34b",
       "version_major": 2,
       "version_minor": 0
      },
      "text/plain": [
       "HBox(children=(HTML(value='ifu:047<br> id:5018'), Output(layout=Layout(border='light')), RadioButtons(descript…"
      ]
     },
     "metadata": {},
     "output_type": "display_data"
    },
    {
     "data": {
      "application/vnd.jupyter.widget-view+json": {
       "model_id": "11f1c080ae854500846de2286a95b710",
       "version_major": 2,
       "version_minor": 0
      },
      "text/plain": [
       "HBox(children=(HTML(value='ifu:047<br> id:5019'), Output(layout=Layout(border='light')), RadioButtons(descript…"
      ]
     },
     "metadata": {},
     "output_type": "display_data"
    },
    {
     "data": {
      "application/vnd.jupyter.widget-view+json": {
       "model_id": "329f2908855247009cd71cf7dfb98e1a",
       "version_major": 2,
       "version_minor": 0
      },
      "text/plain": [
       "HBox(children=(HTML(value='ifu:047<br> id:5029'), Output(layout=Layout(border='light')), RadioButtons(descript…"
      ]
     },
     "metadata": {},
     "output_type": "display_data"
    },
    {
     "data": {
      "application/vnd.jupyter.widget-view+json": {
       "model_id": "0f6974b16729467ab607f4aa0b09e9e8",
       "version_major": 2,
       "version_minor": 0
      },
      "text/plain": [
       "HBox(children=(HTML(value='ifu:047<br> id:5063'), Output(layout=Layout(border='light')), RadioButtons(descript…"
      ]
     },
     "metadata": {},
     "output_type": "display_data"
    },
    {
     "data": {
      "application/vnd.jupyter.widget-view+json": {
       "model_id": "3c0da15cc08a48269885d2333857948a",
       "version_major": 2,
       "version_minor": 0
      },
      "text/plain": [
       "HBox(children=(HTML(value='ifu:052<br> id:5009'), Output(layout=Layout(border='light')), RadioButtons(descript…"
      ]
     },
     "metadata": {},
     "output_type": "display_data"
    },
    {
     "data": {
      "application/vnd.jupyter.widget-view+json": {
       "model_id": "7fa5e7a6aaea44349c083f46a39ac634",
       "version_major": 2,
       "version_minor": 0
      },
      "text/plain": [
       "HBox(children=(HTML(value='ifu:052<br> id:5020'), Output(layout=Layout(border='light')), RadioButtons(descript…"
      ]
     },
     "metadata": {},
     "output_type": "display_data"
    },
    {
     "data": {
      "application/vnd.jupyter.widget-view+json": {
       "model_id": "db46177d1bfc4fcca1ed1d67c8c0b767",
       "version_major": 2,
       "version_minor": 0
      },
      "text/plain": [
       "HBox(children=(HTML(value='ifu:052<br> id:5068'), Output(layout=Layout(border='light')), RadioButtons(descript…"
      ]
     },
     "metadata": {},
     "output_type": "display_data"
    },
    {
     "data": {
      "application/vnd.jupyter.widget-view+json": {
       "model_id": "2b0207f2901847108692e2b72b9783be",
       "version_major": 2,
       "version_minor": 0
      },
      "text/plain": [
       "HBox(children=(HTML(value='ifu:062<br> id:10009'), Output(layout=Layout(border='light')), RadioButtons(descrip…"
      ]
     },
     "metadata": {},
     "output_type": "display_data"
    },
    {
     "data": {
      "application/vnd.jupyter.widget-view+json": {
       "model_id": "c659b7efd3854ef195966bc82023c158",
       "version_major": 2,
       "version_minor": 0
      },
      "text/plain": [
       "HBox(children=(HTML(value='ifu:062<br> id:5003'), Output(layout=Layout(border='light')), RadioButtons(descript…"
      ]
     },
     "metadata": {},
     "output_type": "display_data"
    },
    {
     "data": {
      "application/vnd.jupyter.widget-view+json": {
       "model_id": "9d6b07e385344b1db81fc25578781127",
       "version_major": 2,
       "version_minor": 0
      },
      "text/plain": [
       "HBox(children=(HTML(value='ifu:063<br> id:10011'), Output(layout=Layout(border='light')), RadioButtons(descrip…"
      ]
     },
     "metadata": {},
     "output_type": "display_data"
    },
    {
     "data": {
      "application/vnd.jupyter.widget-view+json": {
       "model_id": "d2c028151a254abbb3712455bd5505f4",
       "version_major": 2,
       "version_minor": 0
      },
      "text/plain": [
       "HBox(children=(HTML(value='ifu:063<br> id:10015'), Output(layout=Layout(border='light')), RadioButtons(descrip…"
      ]
     },
     "metadata": {},
     "output_type": "display_data"
    },
    {
     "data": {
      "application/vnd.jupyter.widget-view+json": {
       "model_id": "94ad34773e0c483a8596fdac1ce81df9",
       "version_major": 2,
       "version_minor": 0
      },
      "text/plain": [
       "HBox(children=(HTML(value='ifu:063<br> id:5003'), Output(layout=Layout(border='light')), RadioButtons(descript…"
      ]
     },
     "metadata": {},
     "output_type": "display_data"
    },
    {
     "data": {
      "application/vnd.jupyter.widget-view+json": {
       "model_id": "e43cf7884b8b485d80f32e852e9142db",
       "version_major": 2,
       "version_minor": 0
      },
      "text/plain": [
       "HBox(children=(HTML(value='ifu:063<br> id:5006'), Output(layout=Layout(border='light')), RadioButtons(descript…"
      ]
     },
     "metadata": {},
     "output_type": "display_data"
    },
    {
     "data": {
      "application/vnd.jupyter.widget-view+json": {
       "model_id": "0f12ae1398cc4303932e0a41ee202fb0",
       "version_major": 2,
       "version_minor": 0
      },
      "text/plain": [
       "HBox(children=(HTML(value='ifu:072<br> id:10006'), Output(layout=Layout(border='light')), RadioButtons(descrip…"
      ]
     },
     "metadata": {},
     "output_type": "display_data"
    },
    {
     "data": {
      "application/vnd.jupyter.widget-view+json": {
       "model_id": "657e203a41fb404f87769a73d2506cd8",
       "version_major": 2,
       "version_minor": 0
      },
      "text/plain": [
       "HBox(children=(HTML(value='ifu:072<br> id:5001'), Output(layout=Layout(border='light')), RadioButtons(descript…"
      ]
     },
     "metadata": {},
     "output_type": "display_data"
    },
    {
     "data": {
      "application/vnd.jupyter.widget-view+json": {
       "model_id": "40ad2d274b24466fa5634a5bd66316ce",
       "version_major": 2,
       "version_minor": 0
      },
      "text/plain": [
       "HBox(children=(HTML(value='ifu:072<br> id:5002'), Output(layout=Layout(border='light')), RadioButtons(descript…"
      ]
     },
     "metadata": {},
     "output_type": "display_data"
    },
    {
     "data": {
      "application/vnd.jupyter.widget-view+json": {
       "model_id": "fdc1faf2ab1c426aaeaa9170d01dd0d2",
       "version_major": 2,
       "version_minor": 0
      },
      "text/plain": [
       "HBox(children=(HTML(value='ifu:073<br> id:10037'), Output(layout=Layout(border='light')), RadioButtons(descrip…"
      ]
     },
     "metadata": {},
     "output_type": "display_data"
    },
    {
     "data": {
      "application/vnd.jupyter.widget-view+json": {
       "model_id": "6c31458dcdb2445889f44b87f1b17bde",
       "version_major": 2,
       "version_minor": 0
      },
      "text/plain": [
       "HBox(children=(HTML(value='ifu:073<br> id:10042'), Output(layout=Layout(border='light')), RadioButtons(descrip…"
      ]
     },
     "metadata": {},
     "output_type": "display_data"
    },
    {
     "data": {
      "application/vnd.jupyter.widget-view+json": {
       "model_id": "204f1adcbb494fbf8a03dbc2f6b9e7ef",
       "version_major": 2,
       "version_minor": 0
      },
      "text/plain": [
       "HBox(children=(HTML(value='ifu:073<br> id:10044'), Output(layout=Layout(border='light')), RadioButtons(descrip…"
      ]
     },
     "metadata": {},
     "output_type": "display_data"
    },
    {
     "data": {
      "application/vnd.jupyter.widget-view+json": {
       "model_id": "15771d244e9f40f9b733a1c362b69279",
       "version_major": 2,
       "version_minor": 0
      },
      "text/plain": [
       "HBox(children=(HTML(value='ifu:077<br> id:10004'), Output(layout=Layout(border='light')), RadioButtons(descrip…"
      ]
     },
     "metadata": {},
     "output_type": "display_data"
    },
    {
     "data": {
      "application/vnd.jupyter.widget-view+json": {
       "model_id": "0d3d62e497f842118553fca468ec9c3d",
       "version_major": 2,
       "version_minor": 0
      },
      "text/plain": [
       "HBox(children=(HTML(value='ifu:082<br> id:10015'), Output(layout=Layout(border='light')), RadioButtons(descrip…"
      ]
     },
     "metadata": {},
     "output_type": "display_data"
    },
    {
     "data": {
      "application/vnd.jupyter.widget-view+json": {
       "model_id": "bd4acfbd65b4414daccf06250c22fed8",
       "version_major": 2,
       "version_minor": 0
      },
      "text/plain": [
       "HBox(children=(HTML(value='ifu:082<br> id:5027'), Output(layout=Layout(border='light')), RadioButtons(descript…"
      ]
     },
     "metadata": {},
     "output_type": "display_data"
    },
    {
     "data": {
      "application/vnd.jupyter.widget-view+json": {
       "model_id": "7b1bcfd7399541579a95599c646e005d",
       "version_major": 2,
       "version_minor": 0
      },
      "text/plain": [
       "HBox(children=(HTML(value='ifu:083<br> id:5001'), Output(layout=Layout(border='light')), RadioButtons(descript…"
      ]
     },
     "metadata": {},
     "output_type": "display_data"
    },
    {
     "data": {
      "application/vnd.jupyter.widget-view+json": {
       "model_id": "3f573938537f48169b709d6c8ba3fc34",
       "version_major": 2,
       "version_minor": 0
      },
      "text/plain": [
       "HBox(children=(HTML(value='ifu:084<br> id:10016'), Output(layout=Layout(border='light')), RadioButtons(descrip…"
      ]
     },
     "metadata": {},
     "output_type": "display_data"
    },
    {
     "data": {
      "application/vnd.jupyter.widget-view+json": {
       "model_id": "49af91b158c14c4f9e429f2d266691f2",
       "version_major": 2,
       "version_minor": 0
      },
      "text/plain": [
       "HBox(children=(HTML(value='ifu:085<br> id:5001'), Output(layout=Layout(border='light')), RadioButtons(descript…"
      ]
     },
     "metadata": {},
     "output_type": "display_data"
    },
    {
     "data": {
      "application/vnd.jupyter.widget-view+json": {
       "model_id": "28866244446640669bd001516a076197",
       "version_major": 2,
       "version_minor": 0
      },
      "text/plain": [
       "HBox(children=(HTML(value='ifu:085<br> id:5003'), Output(layout=Layout(border='light')), RadioButtons(descript…"
      ]
     },
     "metadata": {},
     "output_type": "display_data"
    },
    {
     "data": {
      "application/vnd.jupyter.widget-view+json": {
       "model_id": "61b26033b9b44798bdc25b1a350b3cb0",
       "version_major": 2,
       "version_minor": 0
      },
      "text/plain": [
       "HBox(children=(HTML(value='ifu:086<br> id:5010'), Output(layout=Layout(border='light')), RadioButtons(descript…"
      ]
     },
     "metadata": {},
     "output_type": "display_data"
    },
    {
     "data": {
      "application/vnd.jupyter.widget-view+json": {
       "model_id": "5400a6097e1a4fabbe678912a06ea974",
       "version_major": 2,
       "version_minor": 0
      },
      "text/plain": [
       "HBox(children=(HTML(value='ifu:095<br> id:10001'), Output(layout=Layout(border='light')), RadioButtons(descrip…"
      ]
     },
     "metadata": {},
     "output_type": "display_data"
    },
    {
     "data": {
      "application/vnd.jupyter.widget-view+json": {
       "model_id": "d7d525f2f5694b43b631a26367034395",
       "version_major": 2,
       "version_minor": 0
      },
      "text/plain": [
       "HBox(children=(HTML(value='ifu:095<br> id:10020'), Output(layout=Layout(border='light')), RadioButtons(descrip…"
      ]
     },
     "metadata": {},
     "output_type": "display_data"
    },
    {
     "data": {
      "application/vnd.jupyter.widget-view+json": {
       "model_id": "5d47df9dc16645739c9fb4ebea4e10e4",
       "version_major": 2,
       "version_minor": 0
      },
      "text/plain": [
       "HBox(children=(HTML(value='ifu:095<br> id:10027'), Output(layout=Layout(border='light')), RadioButtons(descrip…"
      ]
     },
     "metadata": {},
     "output_type": "display_data"
    },
    {
     "data": {
      "application/vnd.jupyter.widget-view+json": {
       "model_id": "d1ad86c0dcf940a7aaafb750b3a66b4e",
       "version_major": 2,
       "version_minor": 0
      },
      "text/plain": [
       "HBox(children=(HTML(value='ifu:095<br> id:10048'), Output(layout=Layout(border='light')), RadioButtons(descrip…"
      ]
     },
     "metadata": {},
     "output_type": "display_data"
    },
    {
     "data": {
      "application/vnd.jupyter.widget-view+json": {
       "model_id": "aa879aede2ce486883a840b03e9a18dc",
       "version_major": 2,
       "version_minor": 0
      },
      "text/plain": [
       "HBox(children=(HTML(value='ifu:095<br> id:10049'), Output(layout=Layout(border='light')), RadioButtons(descrip…"
      ]
     },
     "metadata": {},
     "output_type": "display_data"
    },
    {
     "data": {
      "application/vnd.jupyter.widget-view+json": {
       "model_id": "f8a2eddf159246d18ac522b0ff924fae",
       "version_major": 2,
       "version_minor": 0
      },
      "text/plain": [
       "HBox(children=(HTML(value='ifu:105<br> id:5066'), Output(layout=Layout(border='light')), RadioButtons(descript…"
      ]
     },
     "metadata": {},
     "output_type": "display_data"
    }
   ],
   "source": [
    "# Select prime example of filament for reference\n",
    "field = \"COSMOSC\"\n",
    "#jj  =  c[\"ifu\"] == '025' \n",
    "#jj *=  c[\"id\"] == 10018\n",
    "#r = c[jj][0]\n",
    "\n",
    "rbuttons = {}\n",
    "\n",
    "width = 5.\n",
    "\n",
    "for r in c[ii][:]:\n",
    "    try:\n",
    "        ifu =  r[\"ifu\"]\n",
    "        wlstart = r[\"wl_com\"] - width/2.\n",
    "        wlend = r[\"wl_com\"] + width/2.\n",
    "        ra,dec = r[\"ra_com\"], r[\"dec_com\"]\n",
    "        x,y = r[\"x_com\"], r[\"y_com\"]\n",
    "        vmin=0.\n",
    "        vmax=2.\n",
    "\n",
    "        fncube = \"../data/outcube_{}_{}.fits.gz\".format(field, ifu)\n",
    "        fncal = \"../specphot/mean_cal_{}.txt\".format(field)\n",
    "\n",
    "        f = plt.figure(figsize=[7,7])\n",
    "        ax = plt.subplot(111)\n",
    "        ticks = np.arange(vmin,vmax+.001,.5)\n",
    "        show_nb_image(fncube, fncal, wlstart, wlend, \\\n",
    "                      vmin = vmin, vmax = vmax, x = x, y = y, ticks=ticks, ax=ax,\\\n",
    "                     marker='+', markersize=50, alpha=.5)\n",
    "        plt.plot([1,2,3])\n",
    "        plt.xlabel(\"RA\")\n",
    "        plt.ylabel(\"Dec\")\n",
    "\n",
    "\n",
    "        canvas  = widgets.Output(layout=Layout(border='light'))\n",
    "\n",
    "        rbutton_good = widgets.RadioButtons(\n",
    "            options=['unclear', 'yes', 'no'],\n",
    "            description='Detected in split exposure:',\n",
    "            disabled=False\n",
    "        )\n",
    "\n",
    "        rbuttons[(r[\"ifu\"],r[\"id\"])] = rbutton_good\n",
    "\n",
    "        canvas  = widgets.Output(layout=Layout(border='light'))\n",
    "        info = widgets.HTML(\n",
    "            value=\"ifu:{}<br> id:{}\".format( r[\"ifu\"],r[\"id\"] )\n",
    "        )\n",
    "\n",
    "        if \"split_good\" in c.colnames:\n",
    "            if r[\"split_good\"] == \"True\":\n",
    "                rbutton_good.value = 'yes'\n",
    "            elif r[\"split_good\"] == \"False\":\n",
    "                rbutton_good.value = 'no'\n",
    "            else:\n",
    "                rbutton_good.value = 'unclear'\n",
    "\n",
    "\n",
    "        hb = widgets.HBox([info,canvas, rbutton_good], layout=Layout(width = '1500px', positioning=\"bottom\"))\n",
    "\n",
    "        with canvas:\n",
    "            clear_output(wait=True)\n",
    "            display(f) \n",
    "\n",
    "        display(hb)\n",
    "    except:\n",
    "        pass"
   ]
  },
  {
   "cell_type": "code",
   "execution_count": 18,
   "metadata": {},
   "outputs": [],
   "source": [
    "plt.plot?"
   ]
  },
  {
   "cell_type": "code",
   "execution_count": 30,
   "metadata": {},
   "outputs": [
    {
     "name": "stdout",
     "output_type": "stream",
     "text": [
      "Split detect\n",
      "021 10001 yes\n",
      "021 5006 yes\n",
      "021 5007 yes\n",
      "021 5008 yes\n",
      "021 5013 no\n",
      "022 10001 yes\n",
      "022 10002 yes\n",
      "022 10006 no\n",
      "023 5014 yes\n",
      "023 5028 yes\n",
      "023 5032 yes\n",
      "023 5038 yes\n",
      "023 5042 yes\n",
      "023 5046 yes\n",
      "023 5047 yes\n",
      "023 5059 yes\n",
      "023 5061 yes\n",
      "024 5006 yes\n",
      "025 10002 yes\n",
      "025 10026 no\n",
      "025 10039 yes\n",
      "025 5016 yes\n",
      "025 5018 yes\n",
      "025 5025 yes\n",
      "025 5074 yes\n",
      "025 5075 yes\n",
      "026 5010 yes\n",
      "026 5022 yes\n",
      "027 10002 yes\n",
      "027 10003 yes\n",
      "032 10001 no\n",
      "032 10002 yes\n",
      "032 10010 no\n",
      "032 10016 yes\n",
      "032 10023 yes\n",
      "032 5003 yes\n",
      "032 5004 yes\n",
      "032 5007 no\n",
      "032 5013 yes\n",
      "032 5026 yes\n",
      "032 5047 yes\n",
      "032 5055 no\n",
      "032 5063 yes\n",
      "032 5067 no\n",
      "032 5078 yes\n",
      "033 10003 yes\n",
      "033 10004 no\n",
      "033 10006 yes\n",
      "033 10007 yes\n",
      "034 5005 yes\n",
      "037 10023 yes\n",
      "037 5015 yes\n",
      "037 5049 yes\n",
      "042 5007 yes\n",
      "042 5017 no\n",
      "042 5050 yes\n",
      "042 5058 yes\n",
      "047 10003 no\n",
      "047 5015 yes\n",
      "047 5018 yes\n",
      "047 5019 yes\n",
      "047 5029 yes\n",
      "047 5063 yes\n",
      "052 5009 yes\n",
      "052 5020 no\n",
      "052 5068 yes\n",
      "062 10009 yes\n",
      "062 5003 yes\n",
      "063 10011 no\n",
      "063 10015 yes\n",
      "063 5003 yes\n",
      "063 5006 yes\n",
      "072 10006 no\n",
      "072 5001 yes\n",
      "072 5002 yes\n",
      "073 10037 yes\n",
      "073 10042 no\n",
      "073 10044 yes\n",
      "077 10004 yes\n",
      "082 10015 no\n",
      "082 5027 yes\n",
      "083 5001 yes\n",
      "084 10016 yes\n",
      "085 5001 yes\n",
      "085 5003 yes\n",
      "086 5010 yes\n",
      "095 10001 yes\n",
      "095 10020 yes\n",
      "095 10027 no\n",
      "095 10048 yes\n",
      "095 10049 yes\n",
      "105 5066 yes\n"
     ]
    }
   ],
   "source": [
    "from astropy.table import Column\n",
    "cat = ascii.read(\"../data/mmsf2outcube_COSMOSC_allifu.cat\")\n",
    "if not \"split_good\" in cat.colnames:\n",
    "    cat.add_column(Column([None]*len(cat), name=\"split_good\", description=\"Source still detected in split cubes.\", dtype=\"S4\"))\n",
    "\n",
    "\n",
    "print(\"Split detect\")\n",
    "for rb in rbuttons:\n",
    "    ifu, id = rb\n",
    "    print(\"{} {} {}\".format(ifu, id, rbuttons[rb].value))\n",
    "    jj = (cat[\"ifu\"] == ifu) * (cat[\"id\"] == id)     \n",
    "    if rbuttons[rb].value == \"yes\":\n",
    "        cat[\"split_good\"][jj] = True\n",
    "    if rbuttons[rb].value == \"no\":\n",
    "        cat[\"split_good\"][jj] = False\n",
    "    if rbuttons[rb].value == \"unclear\":\n",
    "        cat[\"split_good\"][jj] = None"
   ]
  },
  {
   "cell_type": "code",
   "execution_count": 31,
   "metadata": {},
   "outputs": [],
   "source": [
    "cat.write(\"../data/mmsf2outcube_COSMOSC_allifu.cat\", format=\"ascii.ecsv\", overwrite=True)"
   ]
  },
  {
   "cell_type": "code",
   "execution_count": null,
   "metadata": {},
   "outputs": [],
   "source": []
  }
 ],
 "metadata": {
  "kernelspec": {
   "display_name": "Python 3",
   "language": "python",
   "name": "python3"
  },
  "language_info": {
   "codemirror_mode": {
    "name": "ipython",
    "version": 3
   },
   "file_extension": ".py",
   "mimetype": "text/x-python",
   "name": "python",
   "nbconvert_exporter": "python",
   "pygments_lexer": "ipython3",
   "version": "3.6.8"
  }
 },
 "nbformat": 4,
 "nbformat_minor": 2
}
