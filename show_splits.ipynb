{
 "cells": [
  {
   "cell_type": "code",
   "execution_count": 27,
   "metadata": {},
   "outputs": [
    {
     "data": {
      "text/html": [
       "<style>.container { width:100% !important; }</style>"
      ],
      "text/plain": [
       "<IPython.core.display.HTML object>"
      ]
     },
     "metadata": {},
     "output_type": "display_data"
    }
   ],
   "source": [
    "# go wide screen\n",
    "from IPython.core.display import display, HTML\n",
    "display(HTML(\"<style>.container { width:100% !important; }</style>\"))"
   ]
  },
  {
   "cell_type": "code",
   "execution_count": 28,
   "metadata": {},
   "outputs": [],
   "source": [
    "from astropy.io import fits, ascii\n",
    "import spectrum\n",
    "\n",
    "#%matplotlib inline\n",
    "# To prevent automatic figure display when execution of the cell ends\n",
    "%config InlineBackend.close_figures=True \n",
    "\n",
    "import matplotlib.pyplot as plt\n",
    "import numpy as np\n",
    "\n",
    "from IPython.html import widgets\n",
    "from ipywidgets import Layout\n",
    "from IPython.display import display,clear_output\n",
    "\n",
    "from scipy.interpolate import interp1d\n",
    "\n",
    "from astropy.wcs import WCS\n",
    "\n",
    "from collections import OrderedDict\n"
   ]
  },
  {
   "cell_type": "code",
   "execution_count": 29,
   "metadata": {},
   "outputs": [],
   "source": [
    "def register_ds9staircase():\n",
    "    # register color map\n",
    "    from matplotlib.cm import register_cmap, cmap_d\n",
    "\n",
    "    colors = []\n",
    "    for ii in range(1,6):\n",
    "        kk = ii/5.\n",
    "        colors.append( (kk*.3,kk*.3,kk*1)  )\n",
    "\n",
    "    for ii in range(1,6):\n",
    "        kk = ii/5.\n",
    "        colors.append( (kk*.3,kk*1,kk*.3)  )\n",
    "    for ii in range(1,6):\n",
    "        kk = ii/5.\n",
    "        colors.append( (kk*1,kk*.3,kk*.3)  )\n",
    "    colors = np.array(colors)\n",
    "    xx = np.arange(len(colors), dtype=float)\n",
    "    xx = xx/xx.max()\n",
    "\n",
    "    ds9staircase = {'red': lambda v : np.interp(v, xx, colors[:,0]),\n",
    "               'green': lambda v : np.interp(v, xx, colors[:,1]),\n",
    "               'blue': lambda v : np.interp(v, xx, colors[:,2])}\n",
    "\n",
    "\n",
    "    # Register all other colormaps\n",
    "    register_cmap('ds9staircase', data=ds9staircase)\n",
    "\n",
    "register_ds9staircase()"
   ]
  },
  {
   "cell_type": "code",
   "execution_count": 30,
   "metadata": {},
   "outputs": [
    {
     "name": "stdout",
     "output_type": "stream",
     "text": [
      "95 sources.\n"
     ]
    }
   ],
   "source": [
    "cat = ascii.read(\"../data/mmsf2outcube_COSMOSC_allifu.cat\")\n",
    "#cat.sort((\"claifu\",\"id\"))\n",
    "\n",
    "#ii = (cat[\"class2\"] == \"halo\") +  (cat[\"class2\"] == \"filament\") + ((cat[\"class2\"] == \"pointsource\") * cat[\"use_stack\"] )\n",
    "#ii *= cat[\"good\"] # Good is too strong a selector, these were only the few posterbookexamples I selected in a non-systematic fashion\n",
    "ii = (cat[\"class2\"] == \"pointsource\")\n",
    "ii *= cat[\"split_good\"] == \"True\"\n",
    "#ii *= cat[\"use_stack\"]\n",
    "\n",
    "\n",
    "#ii = cat[\"class2\"] == \"agn\"\n",
    "cat = cat[ii]\n",
    "print(\"{} sources.\".format(sum(ii)))"
   ]
  },
  {
   "cell_type": "code",
   "execution_count": 31,
   "metadata": {},
   "outputs": [],
   "source": [
    "field = \"COSMOSC\"\n",
    "cache = OrderedDict()"
   ]
  },
  {
   "cell_type": "code",
   "execution_count": 32,
   "metadata": {},
   "outputs": [],
   "source": [
    "ftcal = \"../specphot/mean_cal_COSMOSC.txt\"\n",
    "tcal = ascii.read(ftcal, format=\"fixed_width\")\n",
    "cal_interp = interp1d(tcal[\"wl[A]\"], tcal[\"cal[erg/s/cm^2/A/cnt]\"], kind='cubic', bounds_error=False)"
   ]
  },
  {
   "cell_type": "code",
   "execution_count": 33,
   "metadata": {},
   "outputs": [
    {
     "name": "stderr",
     "output_type": "stream",
     "text": [
      "WARNING: W42: None:2:0: W42: No XML namespace specified [astropy.io.votable.tree]\n"
     ]
    }
   ],
   "source": [
    "# load rxay catalog\n",
    "from astropy.table import Table\n",
    "cls = Table.read(\"../civano+2016_cls.xml\")"
   ]
  },
  {
   "cell_type": "code",
   "execution_count": 34,
   "metadata": {},
   "outputs": [
    {
     "name": "stderr",
     "output_type": "stream",
     "text": [
      "WARNING: W42: None:2:0: W42: No XML namespace specified [astropy.io.votable.tree]\n"
     ]
    }
   ],
   "source": [
    "colormap = plt.get_cmap('ds9staircase')\n",
    "\n",
    "from astropy.table import Table\n",
    "cls = Table.read(\"../civano+2016_cls.xml\")\n",
    "\n",
    "\n",
    "def show_slice(ax, s, r, cal_interp, width = 50./3600., vmin=0., vmax=.5, cls=cls):\n",
    "    ra,dec = r[\"ra_com\"], r[\"dec_com\"]\n",
    "\n",
    "    hdu = s.hdu\n",
    "    w = WCS(hdu.header)\n",
    "    w = w.dropaxis(2)\n",
    "    colormap = plt.get_cmap('ds9staircase')\n",
    "    sl = hdu.data[int(np.round(r[\"z_com\"]))]\n",
    "    cos_term = np.cos(np.deg2rad(dec))\n",
    "\n",
    "    sl[sl == 0] = np.nan\n",
    "    colormap.set_bad(color='grey')\n",
    "\n",
    "    ax.imshow(sl, vmin=vmin, vmax=vmax, origin='lower', interpolation='nearest', cmap=colormap)\n",
    "    x0,y0 = w.wcs_world2pix(ra - width/2./cos_term ,dec-width/2.,0)\n",
    "    x1,y1 = w.wcs_world2pix(ra + width/2./cos_term, dec+width/2.,0)\n",
    "    x,y = w.wcs_world2pix(ra,dec,0)\n",
    "    ax.plot([x],[y],'x',c='white')\n",
    "    \n",
    "    \n",
    "    ax.set_xlim([x1,x0])\n",
    "    ax.set_ylim([y0,y1])\n",
    "    ax.set_xlabel(\"RA\")\n",
    "    ax.set_ylabel(\"Dec\")\n",
    "\n",
    "    if type(cls) != type(None):\n",
    "        cls_ra  = np.array( cls[\"RAJ2000\"], dtype=float) \n",
    "        cls_dec = np.array( cls[\"DEJ2000\"], dtype=float) \n",
    "        # plot xray detections\n",
    "        ii  = cls_ra  >= ra - width/2.\n",
    "        ii *= cls_ra  <= ra + width/2.\n",
    "        ii *= cls_dec >= dec - width/2.\n",
    "        ii *= cls_dec <= dec + width/2.\n",
    "        x,y = w.wcs_world2pix(cls_ra[ii],cls_dec[ii],0)\n",
    "        ax.plot(x,y,'D',c='green')\n",
    "\n",
    "    return sl"
   ]
  },
  {
   "cell_type": "code",
   "execution_count": 35,
   "metadata": {},
   "outputs": [
    {
     "data": {
      "text/html": [
       "&lt;Column name=&apos;class2&apos; dtype=&apos;str11&apos; length=1&gt;\n",
       "<table>\n",
       "<tr><td>pointsource</td></tr>\n",
       "</table>"
      ],
      "text/plain": [
       "<Column name='class2' dtype='str11' length=1>\n",
       "pointsource"
      ]
     },
     "execution_count": 35,
     "metadata": {},
     "output_type": "execute_result"
    }
   ],
   "source": [
    "np.unique( cat[\"class2\"] )"
   ]
  },
  {
   "cell_type": "code",
   "execution_count": 36,
   "metadata": {},
   "outputs": [
    {
     "data": {
      "text/plain": [
       "95"
      ]
     },
     "execution_count": 36,
     "metadata": {},
     "output_type": "execute_result"
    }
   ],
   "source": [
    "len(cat)"
   ]
  },
  {
   "cell_type": "code",
   "execution_count": 37,
   "metadata": {},
   "outputs": [
    {
     "data": {
      "text/html": [
       "<i>Table length=95</i>\n",
       "<table id=\"table4977538944\" class=\"table-striped table-bordered table-condensed\">\n",
       "<thead><tr><th>ifu</th><th>id</th><th>N</th><th>counts</th><th>flux</th><th>ra_com</th><th>dec_com</th><th>ddec</th><th>dra</th><th>x_com</th><th>y_com</th><th>z_com</th><th>dx</th><th>dy</th><th>dz</th><th>sqrt(ev1)</th><th>sqrt(ev2)</th><th>size2d</th><th>x_ext</th><th>y_ext</th><th>z_ext</th><th>wl_com</th><th>dwl</th><th>xmin</th><th>xmax</th><th>ymin</th><th>ymax</th><th>zmin</th><th>zmax</th><th>class</th><th>manualx</th><th>manualy</th><th>manualz</th><th>class2</th><th>comment2</th><th>use_stack</th><th>split_good</th><th>showcase</th><th>xray_counterpart</th></tr></thead>\n",
       "<thead><tr><th></th><th></th><th>px</th><th>counts</th><th>erg / (cm2 s)</th><th>RA[J2000]</th><th>Dec[J2000]</th><th>arcsec</th><th>arcsec</th><th>px</th><th>px</th><th>px</th><th>px</th><th>px</th><th>px</th><th>px</th><th>px</th><th>px</th><th>px</th><th>px</th><th>px</th><th>A</th><th>A</th><th>px</th><th>px</th><th>px</th><th>px</th><th>px</th><th>px</th><th></th><th></th><th></th><th></th><th></th><th></th><th></th><th></th><th></th><th></th></tr></thead>\n",
       "<thead><tr><th>str3</th><th>int64</th><th>int64</th><th>float64</th><th>float64</th><th>float64</th><th>float64</th><th>float64</th><th>float64</th><th>float64</th><th>float64</th><th>float64</th><th>float64</th><th>float64</th><th>float64</th><th>float64</th><th>float64</th><th>float64</th><th>int64</th><th>int64</th><th>int64</th><th>float64</th><th>float64</th><th>int64</th><th>int64</th><th>int64</th><th>int64</th><th>int64</th><th>int64</th><th>str14</th><th>float64</th><th>float64</th><th>float64</th><th>str11</th><th>str135</th><th>bool</th><th>object</th><th>bool</th><th>bool</th></tr></thead>\n",
       "<tr><td>021</td><td>10001</td><td>773</td><td>2.2536e+02</td><td>9.0865e-17</td><td>150.330209</td><td>2.259786</td><td>1.5</td><td>1.4</td><td>89.34</td><td>92.92</td><td>62.10</td><td>2.91</td><td>2.73</td><td>3.53</td><td>3.32</td><td>2.23</td><td>4.00</td><td>17</td><td>15</td><td>17</td><td>3616.08</td><td>33.76</td><td>81</td><td>98</td><td>86</td><td>101</td><td>52</td><td>69</td><td>N/A</td><td>91.0</td><td>94.0</td><td>62.0</td><td>pointsource</td><td>LAE</td><td>False</td><td>True</td><td>False</td><td>False</td></tr>\n",
       "<tr><td>021</td><td>5006</td><td>193</td><td>9.6403e+01</td><td>1.9428e-17</td><td>150.329382</td><td>2.251960</td><td>1.0</td><td>0.7</td><td>95.29</td><td>36.57</td><td>245.19</td><td>2.08</td><td>1.45</td><td>1.29</td><td>2.10</td><td>1.42</td><td>2.54</td><td>8</td><td>6</td><td>5</td><td>3979.66</td><td>9.93</td><td>91</td><td>99</td><td>34</td><td>40</td><td>243</td><td>248</td><td>N/A</td><td>96.0</td><td>36.0</td><td>244.0</td><td>pointsource</td><td>N/A</td><td>True</td><td>True</td><td>False</td><td>False</td></tr>\n",
       "<tr><td>021</td><td>5007</td><td>200</td><td>1.0009e+02</td><td>1.7523e-17</td><td>150.334247</td><td>2.254039</td><td>0.9</td><td>0.7</td><td>60.29</td><td>51.53</td><td>284.73</td><td>1.77</td><td>1.40</td><td>1.88</td><td>1.82</td><td>1.34</td><td>2.26</td><td>8</td><td>5</td><td>8</td><td>4058.19</td><td>15.89</td><td>56</td><td>64</td><td>49</td><td>54</td><td>281</td><td>289</td><td>N/A</td><td>60.0</td><td>51.0</td><td>284.0</td><td>pointsource</td><td>N/A</td><td>False</td><td>True</td><td>False</td><td>False</td></tr>\n",
       "<tr><td>021</td><td>5008</td><td>150</td><td>7.3210e+01</td><td>1.2414e-17</td><td>150.336250</td><td>2.261962</td><td>0.7</td><td>0.9</td><td>45.88</td><td>108.58</td><td>299.92</td><td>1.37</td><td>1.88</td><td>1.55</td><td>1.35</td><td>1.90</td><td>2.33</td><td>6</td><td>8</td><td>7</td><td>4088.34</td><td>13.90</td><td>43</td><td>49</td><td>105</td><td>113</td><td>295</td><td>302</td><td>N/A</td><td>46.0</td><td>108.0</td><td>300.0</td><td>pointsource</td><td>N/A</td><td>False</td><td>True</td><td>False</td><td>False</td></tr>\n",
       "<tr><td>021</td><td>5013</td><td>510</td><td>3.0163e+02</td><td>4.6466e-17</td><td>150.327640</td><td>2.254576</td><td>1.0</td><td>1.0</td><td>107.82</td><td>55.40</td><td>396.29</td><td>2.10</td><td>1.91</td><td>4.55</td><td>2.19</td><td>1.80</td><td>2.84</td><td>11</td><td>9</td><td>21</td><td>4279.73</td><td>41.70</td><td>103</td><td>114</td><td>51</td><td>60</td><td>386</td><td>407</td><td>N/A</td><td>107.0</td><td>56.0</td><td>398.0</td><td>pointsource</td><td>N/A</td><td>False</td><td>True</td><td>False</td><td>False</td></tr>\n",
       "<tr><td>022</td><td>10001</td><td>515</td><td>1.6196e+02</td><td>5.3227e-17</td><td>150.314579</td><td>2.278018</td><td>1.1</td><td>1.4</td><td>95.64</td><td>54.10</td><td>102.28</td><td>2.21</td><td>2.82</td><td>3.80</td><td>1.91</td><td>3.03</td><td>3.58</td><td>11</td><td>15</td><td>17</td><td>3695.87</td><td>33.76</td><td>90</td><td>101</td><td>44</td><td>59</td><td>96</td><td>113</td><td>N/A</td><td>95.0</td><td>55.0</td><td>101.0</td><td>pointsource</td><td>tadpole structure.</td><td>False</td><td>True</td><td>False</td><td>False</td></tr>\n",
       "<tr><td>022</td><td>10002</td><td>727</td><td>2.7101e+02</td><td>8.3691e-17</td><td>150.318529</td><td>2.277924</td><td>0.8</td><td>1.6</td><td>67.22</td><td>53.42</td><td>115.35</td><td>1.63</td><td>3.23</td><td>3.58</td><td>1.41</td><td>3.34</td><td>3.62</td><td>8</td><td>16</td><td>15</td><td>3721.82</td><td>29.79</td><td>63</td><td>71</td><td>44</td><td>60</td><td>107</td><td>122</td><td>N/A</td><td>68.0</td><td>54.0</td><td>118.0</td><td>pointsource</td><td>N/A</td><td>False</td><td>True</td><td>False</td><td>False</td></tr>\n",
       "<tr><td>022</td><td>10006</td><td>407</td><td>1.6791e+02</td><td>3.3398e-17</td><td>150.317517</td><td>2.276015</td><td>1.0</td><td>1.0</td><td>74.50</td><td>39.68</td><td>248.58</td><td>1.97</td><td>2.01</td><td>2.85</td><td>1.87</td><td>2.10</td><td>2.82</td><td>9</td><td>10</td><td>11</td><td>3986.39</td><td>21.84</td><td>70</td><td>79</td><td>34</td><td>44</td><td>242</td><td>253</td><td>N/A</td><td>74.0</td><td>39.0</td><td>250.0</td><td>pointsource</td><td>N/A</td><td>True</td><td>True</td><td>False</td><td>False</td></tr>\n",
       "<tr><td>023</td><td>5014</td><td>398</td><td>1.9475e+02</td><td>4.4472e-17</td><td>150.301162</td><td>2.297200</td><td>1.2</td><td>1.5</td><td>86.80</td><td>22.38</td><td>214.01</td><td>2.34</td><td>3.02</td><td>2.02</td><td>2.00</td><td>3.25</td><td>3.82</td><td>12</td><td>11</td><td>10</td><td>3917.74</td><td>19.86</td><td>79</td><td>91</td><td>16</td><td>27</td><td>209</td><td>219</td><td>N/A</td><td>86.0</td><td>19.0</td><td>214.0</td><td>pointsource</td><td>LyA</td><td>False</td><td>True</td><td>False</td><td>False</td></tr>\n",
       "<tr><td>...</td><td>...</td><td>...</td><td>...</td><td>...</td><td>...</td><td>...</td><td>...</td><td>...</td><td>...</td><td>...</td><td>...</td><td>...</td><td>...</td><td>...</td><td>...</td><td>...</td><td>...</td><td>...</td><td>...</td><td>...</td><td>...</td><td>...</td><td>...</td><td>...</td><td>...</td><td>...</td><td>...</td><td>...</td><td>...</td><td>...</td><td>...</td><td>...</td><td>...</td><td>...</td><td>...</td><td>...</td><td>...</td><td>...</td></tr>\n",
       "<tr><td>084</td><td>10016</td><td>333</td><td>1.4085e+02</td><td>2.1733e-17</td><td>150.145662</td><td>2.233571</td><td>1.2</td><td>0.9</td><td>81.05</td><td>30.13</td><td>366.84</td><td>2.31</td><td>1.76</td><td>2.51</td><td>2.47</td><td>1.53</td><td>2.90</td><td>10</td><td>7</td><td>10</td><td>4221.25</td><td>19.86</td><td>76</td><td>86</td><td>27</td><td>34</td><td>362</td><td>372</td><td>EL</td><td>80.0</td><td>31.0</td><td>366.0</td><td>pointsource</td><td>N/A</td><td>True</td><td>True</td><td>False</td><td>False</td></tr>\n",
       "<tr><td>085</td><td>5001</td><td>261</td><td>1.7059e+02</td><td>4.6108e-17</td><td>150.135935</td><td>2.260015</td><td>0.8</td><td>0.8</td><td>45.08</td><td>50.90</td><td>172.75</td><td>1.61</td><td>1.67</td><td>1.84</td><td>1.55</td><td>1.72</td><td>2.32</td><td>6</td><td>7</td><td>8</td><td>3835.81</td><td>15.89</td><td>42</td><td>48</td><td>47</td><td>54</td><td>169</td><td>177</td><td>EL</td><td>45.0</td><td>50.0</td><td>173.0</td><td>pointsource</td><td>N/A</td><td>True</td><td>True</td><td>False</td><td>False</td></tr>\n",
       "<tr><td>085</td><td>5003</td><td>297</td><td>2.6858e+02</td><td>4.2933e-17</td><td>150.127642</td><td>2.263545</td><td>0.9</td><td>0.9</td><td>104.74</td><td>76.32</td><td>329.42</td><td>1.83</td><td>1.73</td><td>1.72</td><td>1.86</td><td>1.71</td><td>2.52</td><td>8</td><td>7</td><td>8</td><td>4146.93</td><td>15.89</td><td>101</td><td>109</td><td>73</td><td>80</td><td>325</td><td>333</td><td>EL</td><td>105.0</td><td>76.0</td><td>329.0</td><td>pointsource</td><td>bright point source with surrounding structure</td><td>True</td><td>True</td><td>False</td><td>False</td></tr>\n",
       "<tr><td>086</td><td>5010</td><td>103</td><td>8.5371e+01</td><td>1.2234e-17</td><td>150.119999</td><td>2.281236</td><td>0.6</td><td>0.8</td><td>53.46</td><td>34.25</td><td>485.12</td><td>1.18</td><td>1.57</td><td>1.06</td><td>1.13</td><td>1.61</td><td>1.97</td><td>5</td><td>6</td><td>4</td><td>4456.12</td><td>7.94</td><td>51</td><td>56</td><td>31</td><td>37</td><td>483</td><td>487</td><td>EL</td><td>54.0</td><td>34.0</td><td>485.0</td><td>pointsource</td><td>N/A</td><td>True</td><td>True</td><td>False</td><td>False</td></tr>\n",
       "<tr><td>095</td><td>10001</td><td>348</td><td>1.7611e+02</td><td>6.0769e-17</td><td>150.109861</td><td>2.247185</td><td>1.0</td><td>1.2</td><td>63.56</td><td>66.08</td><td>91.47</td><td>2.10</td><td>2.32</td><td>2.34</td><td>1.85</td><td>2.53</td><td>3.13</td><td>9</td><td>12</td><td>13</td><td>3674.41</td><td>25.82</td><td>59</td><td>68</td><td>62</td><td>74</td><td>86</td><td>99</td><td>halo</td><td>63.0</td><td>65.0</td><td>91.0</td><td>pointsource</td><td>N/A</td><td>True</td><td>True</td><td>False</td><td>False</td></tr>\n",
       "<tr><td>095</td><td>10020</td><td>142</td><td>7.6633e+01</td><td>1.6096e-17</td><td>150.110464</td><td>2.247646</td><td>0.6</td><td>1.0</td><td>59.23</td><td>69.39</td><td>234.22</td><td>1.12</td><td>1.99</td><td>2.06</td><td>1.05</td><td>2.03</td><td>2.28</td><td>4</td><td>8</td><td>8</td><td>3957.88</td><td>15.89</td><td>57</td><td>61</td><td>66</td><td>74</td><td>231</td><td>239</td><td>EL</td><td>59.0</td><td>68.0</td><td>234.0</td><td>pointsource</td><td>N/A</td><td>True</td><td>True</td><td>False</td><td>False</td></tr>\n",
       "<tr><td>095</td><td>10027</td><td>112</td><td>6.5911e+01</td><td>1.1907e-17</td><td>150.108529</td><td>2.240788</td><td>0.7</td><td>0.7</td><td>73.15</td><td>20.02</td><td>272.12</td><td>1.36</td><td>1.45</td><td>1.39</td><td>1.21</td><td>1.58</td><td>1.99</td><td>5</td><td>6</td><td>6</td><td>4033.14</td><td>11.92</td><td>71</td><td>76</td><td>17</td><td>23</td><td>269</td><td>275</td><td>EL</td><td>73.0</td><td>21.0</td><td>272.0</td><td>pointsource</td><td>N/A</td><td>True</td><td>True</td><td>False</td><td>False</td></tr>\n",
       "<tr><td>095</td><td>10048</td><td>181</td><td>1.2359e+02</td><td>1.7617e-17</td><td>150.110543</td><td>2.243217</td><td>0.8</td><td>0.7</td><td>58.66</td><td>37.50</td><td>499.35</td><td>1.55</td><td>1.46</td><td>1.60</td><td>1.61</td><td>1.40</td><td>2.13</td><td>6</td><td>7</td><td>6</td><td>4484.39</td><td>11.92</td><td>56</td><td>62</td><td>34</td><td>41</td><td>496</td><td>502</td><td>EL</td><td>59.0</td><td>37.0</td><td>499.0</td><td>pointsource</td><td>N/A</td><td>True</td><td>True</td><td>False</td><td>False</td></tr>\n",
       "<tr><td>095</td><td>10049</td><td>87</td><td>5.5588e+01</td><td>7.7897e-18</td><td>150.109022</td><td>2.247753</td><td>0.5</td><td>0.6</td><td>69.60</td><td>70.17</td><td>533.82</td><td>1.00</td><td>1.17</td><td>1.58</td><td>0.98</td><td>1.19</td><td>1.54</td><td>3</td><td>4</td><td>7</td><td>4552.84</td><td>13.90</td><td>68</td><td>71</td><td>68</td><td>72</td><td>530</td><td>537</td><td>EL</td><td>70.0</td><td>70.0</td><td>534.0</td><td>pointsource</td><td>N/A</td><td>True</td><td>True</td><td>False</td><td>False</td></tr>\n",
       "<tr><td>105</td><td>5066</td><td>282</td><td>2.5055e+02</td><td>3.6313e-17</td><td>150.088289</td><td>2.234383</td><td>0.7</td><td>0.9</td><td>48.13</td><td>79.07</td><td>986.99</td><td>1.50</td><td>1.73</td><td>2.14</td><td>1.48</td><td>1.74</td><td>2.29</td><td>6</td><td>7</td><td>9</td><td>5452.75</td><td>17.87</td><td>45</td><td>51</td><td>76</td><td>83</td><td>982</td><td>991</td><td>EL</td><td>48.0</td><td>78.0</td><td>987.0</td><td>pointsource</td><td>N/A</td><td>True</td><td>True</td><td>False</td><td>False</td></tr>\n",
       "</table>"
      ],
      "text/plain": [
       "<Table length=95>\n",
       "ifu    id    N     counts   ... use_stack split_good showcase xray_counterpart\n",
       "             px    counts   ...                                               \n",
       "str3 int64 int64  float64   ...    bool     object     bool         bool      \n",
       "---- ----- ----- ---------- ... --------- ---------- -------- ----------------\n",
       " 021 10001   773 2.2536e+02 ...     False       True    False            False\n",
       " 021  5006   193 9.6403e+01 ...      True       True    False            False\n",
       " 021  5007   200 1.0009e+02 ...     False       True    False            False\n",
       " 021  5008   150 7.3210e+01 ...     False       True    False            False\n",
       " 021  5013   510 3.0163e+02 ...     False       True    False            False\n",
       " 022 10001   515 1.6196e+02 ...     False       True    False            False\n",
       " 022 10002   727 2.7101e+02 ...     False       True    False            False\n",
       " 022 10006   407 1.6791e+02 ...      True       True    False            False\n",
       " 023  5014   398 1.9475e+02 ...     False       True    False            False\n",
       " ...   ...   ...        ... ...       ...        ...      ...              ...\n",
       " 084 10016   333 1.4085e+02 ...      True       True    False            False\n",
       " 085  5001   261 1.7059e+02 ...      True       True    False            False\n",
       " 085  5003   297 2.6858e+02 ...      True       True    False            False\n",
       " 086  5010   103 8.5371e+01 ...      True       True    False            False\n",
       " 095 10001   348 1.7611e+02 ...      True       True    False            False\n",
       " 095 10020   142 7.6633e+01 ...      True       True    False            False\n",
       " 095 10027   112 6.5911e+01 ...      True       True    False            False\n",
       " 095 10048   181 1.2359e+02 ...      True       True    False            False\n",
       " 095 10049    87 5.5588e+01 ...      True       True    False            False\n",
       " 105  5066   282 2.5055e+02 ...      True       True    False            False"
      ]
     },
     "execution_count": 37,
     "metadata": {},
     "output_type": "execute_result"
    }
   ],
   "source": [
    "cat"
   ]
  },
  {
   "cell_type": "code",
   "execution_count": 38,
   "metadata": {
    "scrolled": false
   },
   "outputs": [
    {
     "name": "stderr",
     "output_type": "stream",
     "text": [
      "/Users/mxhf/.pyenv/versions/anaconda3-4.3.0/lib/python3.6/site-packages/ipykernel/__main__.py:23: RuntimeWarning: More than 20 figures have been opened. Figures created through the pyplot interface (`matplotlib.pyplot.figure`) are retained until explicitly closed and may consume too much memory. (To control this warning, see the rcParam `figure.max_open_warning`).\n"
     ]
    },
    {
     "data": {
      "application/vnd.jupyter.widget-view+json": {
       "model_id": "b57a2a96864e46228dfa3f8e99299e15",
       "version_major": 2,
       "version_minor": 0
      },
      "text/plain": [
       "HBox(children=(HTML(value='Hello <b>World</b>'), Output(layout=Layout(border='light')), RadioButtons(descripti…"
      ]
     },
     "metadata": {},
     "output_type": "display_data"
    },
    {
     "name": "stderr",
     "output_type": "stream",
     "text": [
      "/Users/mxhf/.pyenv/versions/anaconda3-4.3.0/lib/python3.6/site-packages/ipykernel/__main__.py:23: RuntimeWarning: More than 20 figures have been opened. Figures created through the pyplot interface (`matplotlib.pyplot.figure`) are retained until explicitly closed and may consume too much memory. (To control this warning, see the rcParam `figure.max_open_warning`).\n"
     ]
    },
    {
     "data": {
      "application/vnd.jupyter.widget-view+json": {
       "model_id": "b33f01e8c1ea48398f955f33c1f9caea",
       "version_major": 2,
       "version_minor": 0
      },
      "text/plain": [
       "HBox(children=(HTML(value='Hello <b>World</b>'), Output(layout=Layout(border='light')), RadioButtons(descripti…"
      ]
     },
     "metadata": {},
     "output_type": "display_data"
    },
    {
     "name": "stderr",
     "output_type": "stream",
     "text": [
      "/Users/mxhf/.pyenv/versions/anaconda3-4.3.0/lib/python3.6/site-packages/ipykernel/__main__.py:23: RuntimeWarning: More than 20 figures have been opened. Figures created through the pyplot interface (`matplotlib.pyplot.figure`) are retained until explicitly closed and may consume too much memory. (To control this warning, see the rcParam `figure.max_open_warning`).\n"
     ]
    },
    {
     "data": {
      "application/vnd.jupyter.widget-view+json": {
       "model_id": "93daddd93c29408fb3d500ea80b7e2e8",
       "version_major": 2,
       "version_minor": 0
      },
      "text/plain": [
       "HBox(children=(HTML(value='Hello <b>World</b>'), Output(layout=Layout(border='light')), RadioButtons(descripti…"
      ]
     },
     "metadata": {},
     "output_type": "display_data"
    },
    {
     "name": "stderr",
     "output_type": "stream",
     "text": [
      "/Users/mxhf/.pyenv/versions/anaconda3-4.3.0/lib/python3.6/site-packages/ipykernel/__main__.py:23: RuntimeWarning: More than 20 figures have been opened. Figures created through the pyplot interface (`matplotlib.pyplot.figure`) are retained until explicitly closed and may consume too much memory. (To control this warning, see the rcParam `figure.max_open_warning`).\n"
     ]
    },
    {
     "data": {
      "application/vnd.jupyter.widget-view+json": {
       "model_id": "cea3368cc8b741afacd8cb3cc79eb9e8",
       "version_major": 2,
       "version_minor": 0
      },
      "text/plain": [
       "HBox(children=(HTML(value='Hello <b>World</b>'), Output(layout=Layout(border='light')), RadioButtons(descripti…"
      ]
     },
     "metadata": {},
     "output_type": "display_data"
    },
    {
     "name": "stderr",
     "output_type": "stream",
     "text": [
      "/Users/mxhf/.pyenv/versions/anaconda3-4.3.0/lib/python3.6/site-packages/ipykernel/__main__.py:23: RuntimeWarning: More than 20 figures have been opened. Figures created through the pyplot interface (`matplotlib.pyplot.figure`) are retained until explicitly closed and may consume too much memory. (To control this warning, see the rcParam `figure.max_open_warning`).\n"
     ]
    },
    {
     "data": {
      "application/vnd.jupyter.widget-view+json": {
       "model_id": "66f22ae168314aa3bb7e90043951964b",
       "version_major": 2,
       "version_minor": 0
      },
      "text/plain": [
       "HBox(children=(HTML(value='Hello <b>World</b>'), Output(layout=Layout(border='light')), RadioButtons(descripti…"
      ]
     },
     "metadata": {},
     "output_type": "display_data"
    },
    {
     "name": "stderr",
     "output_type": "stream",
     "text": [
      "/Users/mxhf/.pyenv/versions/anaconda3-4.3.0/lib/python3.6/site-packages/ipykernel/__main__.py:23: RuntimeWarning: More than 20 figures have been opened. Figures created through the pyplot interface (`matplotlib.pyplot.figure`) are retained until explicitly closed and may consume too much memory. (To control this warning, see the rcParam `figure.max_open_warning`).\n"
     ]
    },
    {
     "data": {
      "application/vnd.jupyter.widget-view+json": {
       "model_id": "8cc8ea06627449df9c2240c53c6d3f78",
       "version_major": 2,
       "version_minor": 0
      },
      "text/plain": [
       "HBox(children=(HTML(value='Hello <b>World</b>'), Output(layout=Layout(border='light')), RadioButtons(descripti…"
      ]
     },
     "metadata": {},
     "output_type": "display_data"
    },
    {
     "name": "stderr",
     "output_type": "stream",
     "text": [
      "/Users/mxhf/.pyenv/versions/anaconda3-4.3.0/lib/python3.6/site-packages/ipykernel/__main__.py:23: RuntimeWarning: More than 20 figures have been opened. Figures created through the pyplot interface (`matplotlib.pyplot.figure`) are retained until explicitly closed and may consume too much memory. (To control this warning, see the rcParam `figure.max_open_warning`).\n"
     ]
    },
    {
     "data": {
      "application/vnd.jupyter.widget-view+json": {
       "model_id": "e5de0db76fda41bd9a250f5aac0b0254",
       "version_major": 2,
       "version_minor": 0
      },
      "text/plain": [
       "HBox(children=(HTML(value='Hello <b>World</b>'), Output(layout=Layout(border='light')), RadioButtons(descripti…"
      ]
     },
     "metadata": {},
     "output_type": "display_data"
    },
    {
     "name": "stderr",
     "output_type": "stream",
     "text": [
      "/Users/mxhf/.pyenv/versions/anaconda3-4.3.0/lib/python3.6/site-packages/ipykernel/__main__.py:23: RuntimeWarning: More than 20 figures have been opened. Figures created through the pyplot interface (`matplotlib.pyplot.figure`) are retained until explicitly closed and may consume too much memory. (To control this warning, see the rcParam `figure.max_open_warning`).\n"
     ]
    },
    {
     "data": {
      "application/vnd.jupyter.widget-view+json": {
       "model_id": "6e700b3f2482436cb6e2b49abebcf9ec",
       "version_major": 2,
       "version_minor": 0
      },
      "text/plain": [
       "HBox(children=(HTML(value='Hello <b>World</b>'), Output(layout=Layout(border='light')), RadioButtons(descripti…"
      ]
     },
     "metadata": {},
     "output_type": "display_data"
    },
    {
     "name": "stderr",
     "output_type": "stream",
     "text": [
      "/Users/mxhf/.pyenv/versions/anaconda3-4.3.0/lib/python3.6/site-packages/ipykernel/__main__.py:23: RuntimeWarning: More than 20 figures have been opened. Figures created through the pyplot interface (`matplotlib.pyplot.figure`) are retained until explicitly closed and may consume too much memory. (To control this warning, see the rcParam `figure.max_open_warning`).\n"
     ]
    },
    {
     "data": {
      "application/vnd.jupyter.widget-view+json": {
       "model_id": "d1e0e4004e3447a6be3ed0a26abfd280",
       "version_major": 2,
       "version_minor": 0
      },
      "text/plain": [
       "HBox(children=(HTML(value='Hello <b>World</b>'), Output(layout=Layout(border='light')), RadioButtons(descripti…"
      ]
     },
     "metadata": {},
     "output_type": "display_data"
    },
    {
     "name": "stderr",
     "output_type": "stream",
     "text": [
      "/Users/mxhf/.pyenv/versions/anaconda3-4.3.0/lib/python3.6/site-packages/ipykernel/__main__.py:23: RuntimeWarning: More than 20 figures have been opened. Figures created through the pyplot interface (`matplotlib.pyplot.figure`) are retained until explicitly closed and may consume too much memory. (To control this warning, see the rcParam `figure.max_open_warning`).\n"
     ]
    },
    {
     "data": {
      "application/vnd.jupyter.widget-view+json": {
       "model_id": "5852029e430349509313c664fe229cbe",
       "version_major": 2,
       "version_minor": 0
      },
      "text/plain": [
       "HBox(children=(HTML(value='Hello <b>World</b>'), Output(layout=Layout(border='light')), RadioButtons(descripti…"
      ]
     },
     "metadata": {},
     "output_type": "display_data"
    },
    {
     "name": "stderr",
     "output_type": "stream",
     "text": [
      "/Users/mxhf/.pyenv/versions/anaconda3-4.3.0/lib/python3.6/site-packages/ipykernel/__main__.py:23: RuntimeWarning: More than 20 figures have been opened. Figures created through the pyplot interface (`matplotlib.pyplot.figure`) are retained until explicitly closed and may consume too much memory. (To control this warning, see the rcParam `figure.max_open_warning`).\n"
     ]
    },
    {
     "data": {
      "application/vnd.jupyter.widget-view+json": {
       "model_id": "6aebeffe365740a69f2001cd4c04bf5f",
       "version_major": 2,
       "version_minor": 0
      },
      "text/plain": [
       "HBox(children=(HTML(value='Hello <b>World</b>'), Output(layout=Layout(border='light')), RadioButtons(descripti…"
      ]
     },
     "metadata": {},
     "output_type": "display_data"
    },
    {
     "name": "stderr",
     "output_type": "stream",
     "text": [
      "/Users/mxhf/.pyenv/versions/anaconda3-4.3.0/lib/python3.6/site-packages/ipykernel/__main__.py:23: RuntimeWarning: More than 20 figures have been opened. Figures created through the pyplot interface (`matplotlib.pyplot.figure`) are retained until explicitly closed and may consume too much memory. (To control this warning, see the rcParam `figure.max_open_warning`).\n"
     ]
    },
    {
     "data": {
      "application/vnd.jupyter.widget-view+json": {
       "model_id": "e8b3a313828b446a87315cff8557f94b",
       "version_major": 2,
       "version_minor": 0
      },
      "text/plain": [
       "HBox(children=(HTML(value='Hello <b>World</b>'), Output(layout=Layout(border='light')), RadioButtons(descripti…"
      ]
     },
     "metadata": {},
     "output_type": "display_data"
    },
    {
     "name": "stderr",
     "output_type": "stream",
     "text": [
      "/Users/mxhf/.pyenv/versions/anaconda3-4.3.0/lib/python3.6/site-packages/ipykernel/__main__.py:23: RuntimeWarning: More than 20 figures have been opened. Figures created through the pyplot interface (`matplotlib.pyplot.figure`) are retained until explicitly closed and may consume too much memory. (To control this warning, see the rcParam `figure.max_open_warning`).\n"
     ]
    },
    {
     "data": {
      "application/vnd.jupyter.widget-view+json": {
       "model_id": "dc9536678e1549a8b865ed30bf7de2a9",
       "version_major": 2,
       "version_minor": 0
      },
      "text/plain": [
       "HBox(children=(HTML(value='Hello <b>World</b>'), Output(layout=Layout(border='light')), RadioButtons(descripti…"
      ]
     },
     "metadata": {},
     "output_type": "display_data"
    },
    {
     "name": "stderr",
     "output_type": "stream",
     "text": [
      "/Users/mxhf/.pyenv/versions/anaconda3-4.3.0/lib/python3.6/site-packages/ipykernel/__main__.py:23: RuntimeWarning: More than 20 figures have been opened. Figures created through the pyplot interface (`matplotlib.pyplot.figure`) are retained until explicitly closed and may consume too much memory. (To control this warning, see the rcParam `figure.max_open_warning`).\n"
     ]
    },
    {
     "data": {
      "application/vnd.jupyter.widget-view+json": {
       "model_id": "8dd908e8c59b438cb6fc20a7ccee49d4",
       "version_major": 2,
       "version_minor": 0
      },
      "text/plain": [
       "HBox(children=(HTML(value='Hello <b>World</b>'), Output(layout=Layout(border='light')), RadioButtons(descripti…"
      ]
     },
     "metadata": {},
     "output_type": "display_data"
    },
    {
     "name": "stderr",
     "output_type": "stream",
     "text": [
      "/Users/mxhf/.pyenv/versions/anaconda3-4.3.0/lib/python3.6/site-packages/ipykernel/__main__.py:23: RuntimeWarning: More than 20 figures have been opened. Figures created through the pyplot interface (`matplotlib.pyplot.figure`) are retained until explicitly closed and may consume too much memory. (To control this warning, see the rcParam `figure.max_open_warning`).\n"
     ]
    },
    {
     "data": {
      "application/vnd.jupyter.widget-view+json": {
       "model_id": "b5f021e701fe48bcaf0910de6f1402c7",
       "version_major": 2,
       "version_minor": 0
      },
      "text/plain": [
       "HBox(children=(HTML(value='Hello <b>World</b>'), Output(layout=Layout(border='light')), RadioButtons(descripti…"
      ]
     },
     "metadata": {},
     "output_type": "display_data"
    },
    {
     "name": "stderr",
     "output_type": "stream",
     "text": [
      "/Users/mxhf/.pyenv/versions/anaconda3-4.3.0/lib/python3.6/site-packages/ipykernel/__main__.py:23: RuntimeWarning: More than 20 figures have been opened. Figures created through the pyplot interface (`matplotlib.pyplot.figure`) are retained until explicitly closed and may consume too much memory. (To control this warning, see the rcParam `figure.max_open_warning`).\n"
     ]
    },
    {
     "data": {
      "application/vnd.jupyter.widget-view+json": {
       "model_id": "5b8ae5109f094a638a16322c9db7fa60",
       "version_major": 2,
       "version_minor": 0
      },
      "text/plain": [
       "HBox(children=(HTML(value='Hello <b>World</b>'), Output(layout=Layout(border='light')), RadioButtons(descripti…"
      ]
     },
     "metadata": {},
     "output_type": "display_data"
    },
    {
     "name": "stderr",
     "output_type": "stream",
     "text": [
      "/Users/mxhf/.pyenv/versions/anaconda3-4.3.0/lib/python3.6/site-packages/ipykernel/__main__.py:23: RuntimeWarning: More than 20 figures have been opened. Figures created through the pyplot interface (`matplotlib.pyplot.figure`) are retained until explicitly closed and may consume too much memory. (To control this warning, see the rcParam `figure.max_open_warning`).\n"
     ]
    },
    {
     "data": {
      "application/vnd.jupyter.widget-view+json": {
       "model_id": "95c78ec0baf847d7a957db3f1a7fbf08",
       "version_major": 2,
       "version_minor": 0
      },
      "text/plain": [
       "HBox(children=(HTML(value='Hello <b>World</b>'), Output(layout=Layout(border='light')), RadioButtons(descripti…"
      ]
     },
     "metadata": {},
     "output_type": "display_data"
    },
    {
     "name": "stderr",
     "output_type": "stream",
     "text": [
      "/Users/mxhf/.pyenv/versions/anaconda3-4.3.0/lib/python3.6/site-packages/ipykernel/__main__.py:23: RuntimeWarning: More than 20 figures have been opened. Figures created through the pyplot interface (`matplotlib.pyplot.figure`) are retained until explicitly closed and may consume too much memory. (To control this warning, see the rcParam `figure.max_open_warning`).\n"
     ]
    },
    {
     "data": {
      "application/vnd.jupyter.widget-view+json": {
       "model_id": "96ea4dd0a517424ebd9c80aa2dd87da6",
       "version_major": 2,
       "version_minor": 0
      },
      "text/plain": [
       "HBox(children=(HTML(value='Hello <b>World</b>'), Output(layout=Layout(border='light')), RadioButtons(descripti…"
      ]
     },
     "metadata": {},
     "output_type": "display_data"
    },
    {
     "name": "stderr",
     "output_type": "stream",
     "text": [
      "/Users/mxhf/.pyenv/versions/anaconda3-4.3.0/lib/python3.6/site-packages/ipykernel/__main__.py:23: RuntimeWarning: More than 20 figures have been opened. Figures created through the pyplot interface (`matplotlib.pyplot.figure`) are retained until explicitly closed and may consume too much memory. (To control this warning, see the rcParam `figure.max_open_warning`).\n"
     ]
    },
    {
     "data": {
      "application/vnd.jupyter.widget-view+json": {
       "model_id": "ad7d2fdcdbf44626a92c4dd0ebcbe673",
       "version_major": 2,
       "version_minor": 0
      },
      "text/plain": [
       "HBox(children=(HTML(value='Hello <b>World</b>'), Output(layout=Layout(border='light')), RadioButtons(descripti…"
      ]
     },
     "metadata": {},
     "output_type": "display_data"
    },
    {
     "name": "stderr",
     "output_type": "stream",
     "text": [
      "/Users/mxhf/.pyenv/versions/anaconda3-4.3.0/lib/python3.6/site-packages/ipykernel/__main__.py:23: RuntimeWarning: More than 20 figures have been opened. Figures created through the pyplot interface (`matplotlib.pyplot.figure`) are retained until explicitly closed and may consume too much memory. (To control this warning, see the rcParam `figure.max_open_warning`).\n"
     ]
    },
    {
     "data": {
      "application/vnd.jupyter.widget-view+json": {
       "model_id": "f85e8124ed4445bd83aeb51fb1aa4076",
       "version_major": 2,
       "version_minor": 0
      },
      "text/plain": [
       "HBox(children=(HTML(value='Hello <b>World</b>'), Output(layout=Layout(border='light')), RadioButtons(descripti…"
      ]
     },
     "metadata": {},
     "output_type": "display_data"
    },
    {
     "name": "stderr",
     "output_type": "stream",
     "text": [
      "/Users/mxhf/.pyenv/versions/anaconda3-4.3.0/lib/python3.6/site-packages/ipykernel/__main__.py:23: RuntimeWarning: More than 20 figures have been opened. Figures created through the pyplot interface (`matplotlib.pyplot.figure`) are retained until explicitly closed and may consume too much memory. (To control this warning, see the rcParam `figure.max_open_warning`).\n"
     ]
    },
    {
     "data": {
      "application/vnd.jupyter.widget-view+json": {
       "model_id": "d1cfd1f9d4144a358796e60efe437a4a",
       "version_major": 2,
       "version_minor": 0
      },
      "text/plain": [
       "HBox(children=(HTML(value='Hello <b>World</b>'), Output(layout=Layout(border='light')), RadioButtons(descripti…"
      ]
     },
     "metadata": {},
     "output_type": "display_data"
    },
    {
     "name": "stderr",
     "output_type": "stream",
     "text": [
      "/Users/mxhf/.pyenv/versions/anaconda3-4.3.0/lib/python3.6/site-packages/ipykernel/__main__.py:23: RuntimeWarning: More than 20 figures have been opened. Figures created through the pyplot interface (`matplotlib.pyplot.figure`) are retained until explicitly closed and may consume too much memory. (To control this warning, see the rcParam `figure.max_open_warning`).\n"
     ]
    },
    {
     "data": {
      "application/vnd.jupyter.widget-view+json": {
       "model_id": "4e68c6c556b74210819a0922ed50c7ef",
       "version_major": 2,
       "version_minor": 0
      },
      "text/plain": [
       "HBox(children=(HTML(value='Hello <b>World</b>'), Output(layout=Layout(border='light')), RadioButtons(descripti…"
      ]
     },
     "metadata": {},
     "output_type": "display_data"
    },
    {
     "name": "stderr",
     "output_type": "stream",
     "text": [
      "/Users/mxhf/.pyenv/versions/anaconda3-4.3.0/lib/python3.6/site-packages/ipykernel/__main__.py:23: RuntimeWarning: More than 20 figures have been opened. Figures created through the pyplot interface (`matplotlib.pyplot.figure`) are retained until explicitly closed and may consume too much memory. (To control this warning, see the rcParam `figure.max_open_warning`).\n"
     ]
    },
    {
     "data": {
      "application/vnd.jupyter.widget-view+json": {
       "model_id": "e674c7ee5a5247a292855202c3f2f215",
       "version_major": 2,
       "version_minor": 0
      },
      "text/plain": [
       "HBox(children=(HTML(value='Hello <b>World</b>'), Output(layout=Layout(border='light')), RadioButtons(descripti…"
      ]
     },
     "metadata": {},
     "output_type": "display_data"
    },
    {
     "name": "stderr",
     "output_type": "stream",
     "text": [
      "/Users/mxhf/.pyenv/versions/anaconda3-4.3.0/lib/python3.6/site-packages/ipykernel/__main__.py:23: RuntimeWarning: More than 20 figures have been opened. Figures created through the pyplot interface (`matplotlib.pyplot.figure`) are retained until explicitly closed and may consume too much memory. (To control this warning, see the rcParam `figure.max_open_warning`).\n"
     ]
    },
    {
     "data": {
      "application/vnd.jupyter.widget-view+json": {
       "model_id": "6322785193bb4d5fb9c6267651b25b4b",
       "version_major": 2,
       "version_minor": 0
      },
      "text/plain": [
       "HBox(children=(HTML(value='Hello <b>World</b>'), Output(layout=Layout(border='light')), RadioButtons(descripti…"
      ]
     },
     "metadata": {},
     "output_type": "display_data"
    },
    {
     "name": "stderr",
     "output_type": "stream",
     "text": [
      "/Users/mxhf/.pyenv/versions/anaconda3-4.3.0/lib/python3.6/site-packages/ipykernel/__main__.py:23: RuntimeWarning: More than 20 figures have been opened. Figures created through the pyplot interface (`matplotlib.pyplot.figure`) are retained until explicitly closed and may consume too much memory. (To control this warning, see the rcParam `figure.max_open_warning`).\n"
     ]
    },
    {
     "data": {
      "application/vnd.jupyter.widget-view+json": {
       "model_id": "2af2a2d3d088402988ddd7242e3cc1bc",
       "version_major": 2,
       "version_minor": 0
      },
      "text/plain": [
       "HBox(children=(HTML(value='Hello <b>World</b>'), Output(layout=Layout(border='light')), RadioButtons(descripti…"
      ]
     },
     "metadata": {},
     "output_type": "display_data"
    },
    {
     "name": "stderr",
     "output_type": "stream",
     "text": [
      "/Users/mxhf/.pyenv/versions/anaconda3-4.3.0/lib/python3.6/site-packages/ipykernel/__main__.py:23: RuntimeWarning: More than 20 figures have been opened. Figures created through the pyplot interface (`matplotlib.pyplot.figure`) are retained until explicitly closed and may consume too much memory. (To control this warning, see the rcParam `figure.max_open_warning`).\n"
     ]
    },
    {
     "data": {
      "application/vnd.jupyter.widget-view+json": {
       "model_id": "f34afc49b7a445cbbea2f6167dbb7086",
       "version_major": 2,
       "version_minor": 0
      },
      "text/plain": [
       "HBox(children=(HTML(value='Hello <b>World</b>'), Output(layout=Layout(border='light')), RadioButtons(descripti…"
      ]
     },
     "metadata": {},
     "output_type": "display_data"
    },
    {
     "name": "stderr",
     "output_type": "stream",
     "text": [
      "/Users/mxhf/.pyenv/versions/anaconda3-4.3.0/lib/python3.6/site-packages/ipykernel/__main__.py:23: RuntimeWarning: More than 20 figures have been opened. Figures created through the pyplot interface (`matplotlib.pyplot.figure`) are retained until explicitly closed and may consume too much memory. (To control this warning, see the rcParam `figure.max_open_warning`).\n"
     ]
    },
    {
     "data": {
      "application/vnd.jupyter.widget-view+json": {
       "model_id": "ed6ad735337e44628366d5ae9beed0d6",
       "version_major": 2,
       "version_minor": 0
      },
      "text/plain": [
       "HBox(children=(HTML(value='Hello <b>World</b>'), Output(layout=Layout(border='light')), RadioButtons(descripti…"
      ]
     },
     "metadata": {},
     "output_type": "display_data"
    },
    {
     "name": "stderr",
     "output_type": "stream",
     "text": [
      "/Users/mxhf/.pyenv/versions/anaconda3-4.3.0/lib/python3.6/site-packages/ipykernel/__main__.py:23: RuntimeWarning: More than 20 figures have been opened. Figures created through the pyplot interface (`matplotlib.pyplot.figure`) are retained until explicitly closed and may consume too much memory. (To control this warning, see the rcParam `figure.max_open_warning`).\n"
     ]
    },
    {
     "data": {
      "application/vnd.jupyter.widget-view+json": {
       "model_id": "76825c59457840048e2036725523ad3e",
       "version_major": 2,
       "version_minor": 0
      },
      "text/plain": [
       "HBox(children=(HTML(value='Hello <b>World</b>'), Output(layout=Layout(border='light')), RadioButtons(descripti…"
      ]
     },
     "metadata": {},
     "output_type": "display_data"
    },
    {
     "name": "stderr",
     "output_type": "stream",
     "text": [
      "/Users/mxhf/.pyenv/versions/anaconda3-4.3.0/lib/python3.6/site-packages/ipykernel/__main__.py:23: RuntimeWarning: More than 20 figures have been opened. Figures created through the pyplot interface (`matplotlib.pyplot.figure`) are retained until explicitly closed and may consume too much memory. (To control this warning, see the rcParam `figure.max_open_warning`).\n"
     ]
    },
    {
     "data": {
      "application/vnd.jupyter.widget-view+json": {
       "model_id": "f3c5ee42902841ad97899d918ebb5bfc",
       "version_major": 2,
       "version_minor": 0
      },
      "text/plain": [
       "HBox(children=(HTML(value='Hello <b>World</b>'), Output(layout=Layout(border='light')), RadioButtons(descripti…"
      ]
     },
     "metadata": {},
     "output_type": "display_data"
    },
    {
     "name": "stderr",
     "output_type": "stream",
     "text": [
      "/Users/mxhf/.pyenv/versions/anaconda3-4.3.0/lib/python3.6/site-packages/ipykernel/__main__.py:23: RuntimeWarning: More than 20 figures have been opened. Figures created through the pyplot interface (`matplotlib.pyplot.figure`) are retained until explicitly closed and may consume too much memory. (To control this warning, see the rcParam `figure.max_open_warning`).\n"
     ]
    },
    {
     "data": {
      "application/vnd.jupyter.widget-view+json": {
       "model_id": "8eff710cbea24d43a806a7729b00c03a",
       "version_major": 2,
       "version_minor": 0
      },
      "text/plain": [
       "HBox(children=(HTML(value='Hello <b>World</b>'), Output(layout=Layout(border='light')), RadioButtons(descripti…"
      ]
     },
     "metadata": {},
     "output_type": "display_data"
    },
    {
     "name": "stderr",
     "output_type": "stream",
     "text": [
      "/Users/mxhf/.pyenv/versions/anaconda3-4.3.0/lib/python3.6/site-packages/ipykernel/__main__.py:23: RuntimeWarning: More than 20 figures have been opened. Figures created through the pyplot interface (`matplotlib.pyplot.figure`) are retained until explicitly closed and may consume too much memory. (To control this warning, see the rcParam `figure.max_open_warning`).\n"
     ]
    },
    {
     "data": {
      "application/vnd.jupyter.widget-view+json": {
       "model_id": "fc1da1640c6b45f6ba6d77da6bf30b27",
       "version_major": 2,
       "version_minor": 0
      },
      "text/plain": [
       "HBox(children=(HTML(value='Hello <b>World</b>'), Output(layout=Layout(border='light')), RadioButtons(descripti…"
      ]
     },
     "metadata": {},
     "output_type": "display_data"
    },
    {
     "name": "stderr",
     "output_type": "stream",
     "text": [
      "/Users/mxhf/.pyenv/versions/anaconda3-4.3.0/lib/python3.6/site-packages/ipykernel/__main__.py:23: RuntimeWarning: More than 20 figures have been opened. Figures created through the pyplot interface (`matplotlib.pyplot.figure`) are retained until explicitly closed and may consume too much memory. (To control this warning, see the rcParam `figure.max_open_warning`).\n"
     ]
    },
    {
     "data": {
      "application/vnd.jupyter.widget-view+json": {
       "model_id": "8f679bcf0c5247659e5b767fc3c0b0d0",
       "version_major": 2,
       "version_minor": 0
      },
      "text/plain": [
       "HBox(children=(HTML(value='Hello <b>World</b>'), Output(layout=Layout(border='light')), RadioButtons(descripti…"
      ]
     },
     "metadata": {},
     "output_type": "display_data"
    },
    {
     "name": "stderr",
     "output_type": "stream",
     "text": [
      "/Users/mxhf/.pyenv/versions/anaconda3-4.3.0/lib/python3.6/site-packages/ipykernel/__main__.py:23: RuntimeWarning: More than 20 figures have been opened. Figures created through the pyplot interface (`matplotlib.pyplot.figure`) are retained until explicitly closed and may consume too much memory. (To control this warning, see the rcParam `figure.max_open_warning`).\n"
     ]
    },
    {
     "data": {
      "application/vnd.jupyter.widget-view+json": {
       "model_id": "a784b279883d43ebb3c93b5dc2f8f122",
       "version_major": 2,
       "version_minor": 0
      },
      "text/plain": [
       "HBox(children=(HTML(value='Hello <b>World</b>'), Output(layout=Layout(border='light')), RadioButtons(descripti…"
      ]
     },
     "metadata": {},
     "output_type": "display_data"
    },
    {
     "name": "stderr",
     "output_type": "stream",
     "text": [
      "/Users/mxhf/.pyenv/versions/anaconda3-4.3.0/lib/python3.6/site-packages/ipykernel/__main__.py:23: RuntimeWarning: More than 20 figures have been opened. Figures created through the pyplot interface (`matplotlib.pyplot.figure`) are retained until explicitly closed and may consume too much memory. (To control this warning, see the rcParam `figure.max_open_warning`).\n"
     ]
    },
    {
     "data": {
      "application/vnd.jupyter.widget-view+json": {
       "model_id": "784d0920fa4d44a5adca2f400a988a34",
       "version_major": 2,
       "version_minor": 0
      },
      "text/plain": [
       "HBox(children=(HTML(value='Hello <b>World</b>'), Output(layout=Layout(border='light')), RadioButtons(descripti…"
      ]
     },
     "metadata": {},
     "output_type": "display_data"
    },
    {
     "name": "stderr",
     "output_type": "stream",
     "text": [
      "/Users/mxhf/.pyenv/versions/anaconda3-4.3.0/lib/python3.6/site-packages/ipykernel/__main__.py:23: RuntimeWarning: More than 20 figures have been opened. Figures created through the pyplot interface (`matplotlib.pyplot.figure`) are retained until explicitly closed and may consume too much memory. (To control this warning, see the rcParam `figure.max_open_warning`).\n"
     ]
    },
    {
     "data": {
      "application/vnd.jupyter.widget-view+json": {
       "model_id": "f5d1d89eb83f43da882650a838b275de",
       "version_major": 2,
       "version_minor": 0
      },
      "text/plain": [
       "HBox(children=(HTML(value='Hello <b>World</b>'), Output(layout=Layout(border='light')), RadioButtons(descripti…"
      ]
     },
     "metadata": {},
     "output_type": "display_data"
    },
    {
     "name": "stderr",
     "output_type": "stream",
     "text": [
      "/Users/mxhf/.pyenv/versions/anaconda3-4.3.0/lib/python3.6/site-packages/ipykernel/__main__.py:23: RuntimeWarning: More than 20 figures have been opened. Figures created through the pyplot interface (`matplotlib.pyplot.figure`) are retained until explicitly closed and may consume too much memory. (To control this warning, see the rcParam `figure.max_open_warning`).\n"
     ]
    },
    {
     "data": {
      "application/vnd.jupyter.widget-view+json": {
       "model_id": "2eac9dded8ef4a76898fde835e3d5366",
       "version_major": 2,
       "version_minor": 0
      },
      "text/plain": [
       "HBox(children=(HTML(value='Hello <b>World</b>'), Output(layout=Layout(border='light')), RadioButtons(descripti…"
      ]
     },
     "metadata": {},
     "output_type": "display_data"
    },
    {
     "name": "stderr",
     "output_type": "stream",
     "text": [
      "/Users/mxhf/.pyenv/versions/anaconda3-4.3.0/lib/python3.6/site-packages/ipykernel/__main__.py:23: RuntimeWarning: More than 20 figures have been opened. Figures created through the pyplot interface (`matplotlib.pyplot.figure`) are retained until explicitly closed and may consume too much memory. (To control this warning, see the rcParam `figure.max_open_warning`).\n"
     ]
    },
    {
     "data": {
      "application/vnd.jupyter.widget-view+json": {
       "model_id": "fc6ddc92e5b843f7a23b235bd558acfe",
       "version_major": 2,
       "version_minor": 0
      },
      "text/plain": [
       "HBox(children=(HTML(value='Hello <b>World</b>'), Output(layout=Layout(border='light')), RadioButtons(descripti…"
      ]
     },
     "metadata": {},
     "output_type": "display_data"
    },
    {
     "name": "stderr",
     "output_type": "stream",
     "text": [
      "/Users/mxhf/.pyenv/versions/anaconda3-4.3.0/lib/python3.6/site-packages/ipykernel/__main__.py:23: RuntimeWarning: More than 20 figures have been opened. Figures created through the pyplot interface (`matplotlib.pyplot.figure`) are retained until explicitly closed and may consume too much memory. (To control this warning, see the rcParam `figure.max_open_warning`).\n"
     ]
    },
    {
     "data": {
      "application/vnd.jupyter.widget-view+json": {
       "model_id": "ee2dca6fc62f45928c5f19fbb6339d4b",
       "version_major": 2,
       "version_minor": 0
      },
      "text/plain": [
       "HBox(children=(HTML(value='Hello <b>World</b>'), Output(layout=Layout(border='light')), RadioButtons(descripti…"
      ]
     },
     "metadata": {},
     "output_type": "display_data"
    },
    {
     "name": "stderr",
     "output_type": "stream",
     "text": [
      "/Users/mxhf/.pyenv/versions/anaconda3-4.3.0/lib/python3.6/site-packages/ipykernel/__main__.py:23: RuntimeWarning: More than 20 figures have been opened. Figures created through the pyplot interface (`matplotlib.pyplot.figure`) are retained until explicitly closed and may consume too much memory. (To control this warning, see the rcParam `figure.max_open_warning`).\n"
     ]
    },
    {
     "data": {
      "application/vnd.jupyter.widget-view+json": {
       "model_id": "6b00970463f64052a9acfd75d3489134",
       "version_major": 2,
       "version_minor": 0
      },
      "text/plain": [
       "HBox(children=(HTML(value='Hello <b>World</b>'), Output(layout=Layout(border='light')), RadioButtons(descripti…"
      ]
     },
     "metadata": {},
     "output_type": "display_data"
    },
    {
     "name": "stderr",
     "output_type": "stream",
     "text": [
      "/Users/mxhf/.pyenv/versions/anaconda3-4.3.0/lib/python3.6/site-packages/ipykernel/__main__.py:23: RuntimeWarning: More than 20 figures have been opened. Figures created through the pyplot interface (`matplotlib.pyplot.figure`) are retained until explicitly closed and may consume too much memory. (To control this warning, see the rcParam `figure.max_open_warning`).\n"
     ]
    },
    {
     "data": {
      "application/vnd.jupyter.widget-view+json": {
       "model_id": "52ba65a2f0ff4b67b48f20622fda5b16",
       "version_major": 2,
       "version_minor": 0
      },
      "text/plain": [
       "HBox(children=(HTML(value='Hello <b>World</b>'), Output(layout=Layout(border='light')), RadioButtons(descripti…"
      ]
     },
     "metadata": {},
     "output_type": "display_data"
    },
    {
     "name": "stderr",
     "output_type": "stream",
     "text": [
      "/Users/mxhf/.pyenv/versions/anaconda3-4.3.0/lib/python3.6/site-packages/ipykernel/__main__.py:23: RuntimeWarning: More than 20 figures have been opened. Figures created through the pyplot interface (`matplotlib.pyplot.figure`) are retained until explicitly closed and may consume too much memory. (To control this warning, see the rcParam `figure.max_open_warning`).\n"
     ]
    },
    {
     "data": {
      "application/vnd.jupyter.widget-view+json": {
       "model_id": "b9fb831b653e4cf2867d1d05beb37623",
       "version_major": 2,
       "version_minor": 0
      },
      "text/plain": [
       "HBox(children=(HTML(value='Hello <b>World</b>'), Output(layout=Layout(border='light')), RadioButtons(descripti…"
      ]
     },
     "metadata": {},
     "output_type": "display_data"
    },
    {
     "name": "stderr",
     "output_type": "stream",
     "text": [
      "/Users/mxhf/.pyenv/versions/anaconda3-4.3.0/lib/python3.6/site-packages/ipykernel/__main__.py:23: RuntimeWarning: More than 20 figures have been opened. Figures created through the pyplot interface (`matplotlib.pyplot.figure`) are retained until explicitly closed and may consume too much memory. (To control this warning, see the rcParam `figure.max_open_warning`).\n"
     ]
    },
    {
     "data": {
      "application/vnd.jupyter.widget-view+json": {
       "model_id": "98502edc709e42b5ba86f8188c998ff8",
       "version_major": 2,
       "version_minor": 0
      },
      "text/plain": [
       "HBox(children=(HTML(value='Hello <b>World</b>'), Output(layout=Layout(border='light')), RadioButtons(descripti…"
      ]
     },
     "metadata": {},
     "output_type": "display_data"
    },
    {
     "name": "stderr",
     "output_type": "stream",
     "text": [
      "/Users/mxhf/.pyenv/versions/anaconda3-4.3.0/lib/python3.6/site-packages/ipykernel/__main__.py:23: RuntimeWarning: More than 20 figures have been opened. Figures created through the pyplot interface (`matplotlib.pyplot.figure`) are retained until explicitly closed and may consume too much memory. (To control this warning, see the rcParam `figure.max_open_warning`).\n"
     ]
    },
    {
     "data": {
      "application/vnd.jupyter.widget-view+json": {
       "model_id": "be1ba2afe91d4b89ac8a0b8c9981007d",
       "version_major": 2,
       "version_minor": 0
      },
      "text/plain": [
       "HBox(children=(HTML(value='Hello <b>World</b>'), Output(layout=Layout(border='light')), RadioButtons(descripti…"
      ]
     },
     "metadata": {},
     "output_type": "display_data"
    },
    {
     "name": "stderr",
     "output_type": "stream",
     "text": [
      "/Users/mxhf/.pyenv/versions/anaconda3-4.3.0/lib/python3.6/site-packages/ipykernel/__main__.py:23: RuntimeWarning: More than 20 figures have been opened. Figures created through the pyplot interface (`matplotlib.pyplot.figure`) are retained until explicitly closed and may consume too much memory. (To control this warning, see the rcParam `figure.max_open_warning`).\n"
     ]
    },
    {
     "data": {
      "application/vnd.jupyter.widget-view+json": {
       "model_id": "02362f2d982f4dd1b43dc70c2e97fba2",
       "version_major": 2,
       "version_minor": 0
      },
      "text/plain": [
       "HBox(children=(HTML(value='Hello <b>World</b>'), Output(layout=Layout(border='light')), RadioButtons(descripti…"
      ]
     },
     "metadata": {},
     "output_type": "display_data"
    },
    {
     "name": "stderr",
     "output_type": "stream",
     "text": [
      "/Users/mxhf/.pyenv/versions/anaconda3-4.3.0/lib/python3.6/site-packages/ipykernel/__main__.py:23: RuntimeWarning: More than 20 figures have been opened. Figures created through the pyplot interface (`matplotlib.pyplot.figure`) are retained until explicitly closed and may consume too much memory. (To control this warning, see the rcParam `figure.max_open_warning`).\n"
     ]
    },
    {
     "data": {
      "application/vnd.jupyter.widget-view+json": {
       "model_id": "f7828b125e894ab794f3afffa4677fc2",
       "version_major": 2,
       "version_minor": 0
      },
      "text/plain": [
       "HBox(children=(HTML(value='Hello <b>World</b>'), Output(layout=Layout(border='light')), RadioButtons(descripti…"
      ]
     },
     "metadata": {},
     "output_type": "display_data"
    },
    {
     "name": "stderr",
     "output_type": "stream",
     "text": [
      "/Users/mxhf/.pyenv/versions/anaconda3-4.3.0/lib/python3.6/site-packages/ipykernel/__main__.py:23: RuntimeWarning: More than 20 figures have been opened. Figures created through the pyplot interface (`matplotlib.pyplot.figure`) are retained until explicitly closed and may consume too much memory. (To control this warning, see the rcParam `figure.max_open_warning`).\n"
     ]
    },
    {
     "data": {
      "application/vnd.jupyter.widget-view+json": {
       "model_id": "fa67e36cb5b84f7a94fc7a545bcbcfad",
       "version_major": 2,
       "version_minor": 0
      },
      "text/plain": [
       "HBox(children=(HTML(value='Hello <b>World</b>'), Output(layout=Layout(border='light')), RadioButtons(descripti…"
      ]
     },
     "metadata": {},
     "output_type": "display_data"
    },
    {
     "name": "stderr",
     "output_type": "stream",
     "text": [
      "/Users/mxhf/.pyenv/versions/anaconda3-4.3.0/lib/python3.6/site-packages/ipykernel/__main__.py:23: RuntimeWarning: More than 20 figures have been opened. Figures created through the pyplot interface (`matplotlib.pyplot.figure`) are retained until explicitly closed and may consume too much memory. (To control this warning, see the rcParam `figure.max_open_warning`).\n"
     ]
    },
    {
     "data": {
      "application/vnd.jupyter.widget-view+json": {
       "model_id": "020a6d7caa454b55b6d795a261c35ccc",
       "version_major": 2,
       "version_minor": 0
      },
      "text/plain": [
       "HBox(children=(HTML(value='Hello <b>World</b>'), Output(layout=Layout(border='light')), RadioButtons(descripti…"
      ]
     },
     "metadata": {},
     "output_type": "display_data"
    },
    {
     "name": "stderr",
     "output_type": "stream",
     "text": [
      "/Users/mxhf/.pyenv/versions/anaconda3-4.3.0/lib/python3.6/site-packages/ipykernel/__main__.py:23: RuntimeWarning: More than 20 figures have been opened. Figures created through the pyplot interface (`matplotlib.pyplot.figure`) are retained until explicitly closed and may consume too much memory. (To control this warning, see the rcParam `figure.max_open_warning`).\n"
     ]
    },
    {
     "data": {
      "application/vnd.jupyter.widget-view+json": {
       "model_id": "8974e7d5182148e1bee82eb7e86ab81d",
       "version_major": 2,
       "version_minor": 0
      },
      "text/plain": [
       "HBox(children=(HTML(value='Hello <b>World</b>'), Output(layout=Layout(border='light')), RadioButtons(descripti…"
      ]
     },
     "metadata": {},
     "output_type": "display_data"
    },
    {
     "name": "stderr",
     "output_type": "stream",
     "text": [
      "/Users/mxhf/.pyenv/versions/anaconda3-4.3.0/lib/python3.6/site-packages/ipykernel/__main__.py:23: RuntimeWarning: More than 20 figures have been opened. Figures created through the pyplot interface (`matplotlib.pyplot.figure`) are retained until explicitly closed and may consume too much memory. (To control this warning, see the rcParam `figure.max_open_warning`).\n"
     ]
    },
    {
     "data": {
      "application/vnd.jupyter.widget-view+json": {
       "model_id": "476d6a351afb4f8da28d87fa78923d2b",
       "version_major": 2,
       "version_minor": 0
      },
      "text/plain": [
       "HBox(children=(HTML(value='Hello <b>World</b>'), Output(layout=Layout(border='light')), RadioButtons(descripti…"
      ]
     },
     "metadata": {},
     "output_type": "display_data"
    },
    {
     "name": "stderr",
     "output_type": "stream",
     "text": [
      "/Users/mxhf/.pyenv/versions/anaconda3-4.3.0/lib/python3.6/site-packages/ipykernel/__main__.py:23: RuntimeWarning: More than 20 figures have been opened. Figures created through the pyplot interface (`matplotlib.pyplot.figure`) are retained until explicitly closed and may consume too much memory. (To control this warning, see the rcParam `figure.max_open_warning`).\n"
     ]
    },
    {
     "data": {
      "application/vnd.jupyter.widget-view+json": {
       "model_id": "d617659c48114f59a3e88bf00a7e7a5f",
       "version_major": 2,
       "version_minor": 0
      },
      "text/plain": [
       "HBox(children=(HTML(value='Hello <b>World</b>'), Output(layout=Layout(border='light')), RadioButtons(descripti…"
      ]
     },
     "metadata": {},
     "output_type": "display_data"
    },
    {
     "name": "stderr",
     "output_type": "stream",
     "text": [
      "/Users/mxhf/.pyenv/versions/anaconda3-4.3.0/lib/python3.6/site-packages/ipykernel/__main__.py:23: RuntimeWarning: More than 20 figures have been opened. Figures created through the pyplot interface (`matplotlib.pyplot.figure`) are retained until explicitly closed and may consume too much memory. (To control this warning, see the rcParam `figure.max_open_warning`).\n"
     ]
    },
    {
     "data": {
      "application/vnd.jupyter.widget-view+json": {
       "model_id": "2feb8e218a8e4abfb9ff7596c5cce7d9",
       "version_major": 2,
       "version_minor": 0
      },
      "text/plain": [
       "HBox(children=(HTML(value='Hello <b>World</b>'), Output(layout=Layout(border='light')), RadioButtons(descripti…"
      ]
     },
     "metadata": {},
     "output_type": "display_data"
    },
    {
     "name": "stderr",
     "output_type": "stream",
     "text": [
      "/Users/mxhf/.pyenv/versions/anaconda3-4.3.0/lib/python3.6/site-packages/ipykernel/__main__.py:23: RuntimeWarning: More than 20 figures have been opened. Figures created through the pyplot interface (`matplotlib.pyplot.figure`) are retained until explicitly closed and may consume too much memory. (To control this warning, see the rcParam `figure.max_open_warning`).\n"
     ]
    },
    {
     "data": {
      "application/vnd.jupyter.widget-view+json": {
       "model_id": "f1cdd7666c3d484d819f6b0b7780cb15",
       "version_major": 2,
       "version_minor": 0
      },
      "text/plain": [
       "HBox(children=(HTML(value='Hello <b>World</b>'), Output(layout=Layout(border='light')), RadioButtons(descripti…"
      ]
     },
     "metadata": {},
     "output_type": "display_data"
    },
    {
     "name": "stderr",
     "output_type": "stream",
     "text": [
      "/Users/mxhf/.pyenv/versions/anaconda3-4.3.0/lib/python3.6/site-packages/ipykernel/__main__.py:23: RuntimeWarning: More than 20 figures have been opened. Figures created through the pyplot interface (`matplotlib.pyplot.figure`) are retained until explicitly closed and may consume too much memory. (To control this warning, see the rcParam `figure.max_open_warning`).\n"
     ]
    },
    {
     "data": {
      "application/vnd.jupyter.widget-view+json": {
       "model_id": "16096dabe0b54025989cee70ffaf8e1e",
       "version_major": 2,
       "version_minor": 0
      },
      "text/plain": [
       "HBox(children=(HTML(value='Hello <b>World</b>'), Output(layout=Layout(border='light')), RadioButtons(descripti…"
      ]
     },
     "metadata": {},
     "output_type": "display_data"
    },
    {
     "name": "stderr",
     "output_type": "stream",
     "text": [
      "/Users/mxhf/.pyenv/versions/anaconda3-4.3.0/lib/python3.6/site-packages/ipykernel/__main__.py:23: RuntimeWarning: More than 20 figures have been opened. Figures created through the pyplot interface (`matplotlib.pyplot.figure`) are retained until explicitly closed and may consume too much memory. (To control this warning, see the rcParam `figure.max_open_warning`).\n"
     ]
    },
    {
     "data": {
      "application/vnd.jupyter.widget-view+json": {
       "model_id": "32274f64426f44ae9900dce7e0530102",
       "version_major": 2,
       "version_minor": 0
      },
      "text/plain": [
       "HBox(children=(HTML(value='Hello <b>World</b>'), Output(layout=Layout(border='light')), RadioButtons(descripti…"
      ]
     },
     "metadata": {},
     "output_type": "display_data"
    },
    {
     "name": "stderr",
     "output_type": "stream",
     "text": [
      "/Users/mxhf/.pyenv/versions/anaconda3-4.3.0/lib/python3.6/site-packages/ipykernel/__main__.py:23: RuntimeWarning: More than 20 figures have been opened. Figures created through the pyplot interface (`matplotlib.pyplot.figure`) are retained until explicitly closed and may consume too much memory. (To control this warning, see the rcParam `figure.max_open_warning`).\n"
     ]
    },
    {
     "data": {
      "application/vnd.jupyter.widget-view+json": {
       "model_id": "bd32861c71a0443aa59298071b63a239",
       "version_major": 2,
       "version_minor": 0
      },
      "text/plain": [
       "HBox(children=(HTML(value='Hello <b>World</b>'), Output(layout=Layout(border='light')), RadioButtons(descripti…"
      ]
     },
     "metadata": {},
     "output_type": "display_data"
    },
    {
     "name": "stderr",
     "output_type": "stream",
     "text": [
      "/Users/mxhf/.pyenv/versions/anaconda3-4.3.0/lib/python3.6/site-packages/ipykernel/__main__.py:23: RuntimeWarning: More than 20 figures have been opened. Figures created through the pyplot interface (`matplotlib.pyplot.figure`) are retained until explicitly closed and may consume too much memory. (To control this warning, see the rcParam `figure.max_open_warning`).\n"
     ]
    },
    {
     "data": {
      "application/vnd.jupyter.widget-view+json": {
       "model_id": "7ec46dc015974b1ea0fe26a0aae29081",
       "version_major": 2,
       "version_minor": 0
      },
      "text/plain": [
       "HBox(children=(HTML(value='Hello <b>World</b>'), Output(layout=Layout(border='light')), RadioButtons(descripti…"
      ]
     },
     "metadata": {},
     "output_type": "display_data"
    },
    {
     "name": "stderr",
     "output_type": "stream",
     "text": [
      "/Users/mxhf/.pyenv/versions/anaconda3-4.3.0/lib/python3.6/site-packages/ipykernel/__main__.py:23: RuntimeWarning: More than 20 figures have been opened. Figures created through the pyplot interface (`matplotlib.pyplot.figure`) are retained until explicitly closed and may consume too much memory. (To control this warning, see the rcParam `figure.max_open_warning`).\n"
     ]
    },
    {
     "data": {
      "application/vnd.jupyter.widget-view+json": {
       "model_id": "f86d3dcb770342c7b72127e2c3b0d5f0",
       "version_major": 2,
       "version_minor": 0
      },
      "text/plain": [
       "HBox(children=(HTML(value='Hello <b>World</b>'), Output(layout=Layout(border='light')), RadioButtons(descripti…"
      ]
     },
     "metadata": {},
     "output_type": "display_data"
    },
    {
     "name": "stderr",
     "output_type": "stream",
     "text": [
      "/Users/mxhf/.pyenv/versions/anaconda3-4.3.0/lib/python3.6/site-packages/ipykernel/__main__.py:23: RuntimeWarning: More than 20 figures have been opened. Figures created through the pyplot interface (`matplotlib.pyplot.figure`) are retained until explicitly closed and may consume too much memory. (To control this warning, see the rcParam `figure.max_open_warning`).\n"
     ]
    },
    {
     "data": {
      "application/vnd.jupyter.widget-view+json": {
       "model_id": "7206ab6ca708439591a1ccdc6992d312",
       "version_major": 2,
       "version_minor": 0
      },
      "text/plain": [
       "HBox(children=(HTML(value='Hello <b>World</b>'), Output(layout=Layout(border='light')), RadioButtons(descripti…"
      ]
     },
     "metadata": {},
     "output_type": "display_data"
    },
    {
     "name": "stderr",
     "output_type": "stream",
     "text": [
      "/Users/mxhf/.pyenv/versions/anaconda3-4.3.0/lib/python3.6/site-packages/ipykernel/__main__.py:23: RuntimeWarning: More than 20 figures have been opened. Figures created through the pyplot interface (`matplotlib.pyplot.figure`) are retained until explicitly closed and may consume too much memory. (To control this warning, see the rcParam `figure.max_open_warning`).\n"
     ]
    },
    {
     "data": {
      "application/vnd.jupyter.widget-view+json": {
       "model_id": "02f556ed07d842f995913334acc40a83",
       "version_major": 2,
       "version_minor": 0
      },
      "text/plain": [
       "HBox(children=(HTML(value='Hello <b>World</b>'), Output(layout=Layout(border='light')), RadioButtons(descripti…"
      ]
     },
     "metadata": {},
     "output_type": "display_data"
    },
    {
     "name": "stderr",
     "output_type": "stream",
     "text": [
      "/Users/mxhf/.pyenv/versions/anaconda3-4.3.0/lib/python3.6/site-packages/ipykernel/__main__.py:23: RuntimeWarning: More than 20 figures have been opened. Figures created through the pyplot interface (`matplotlib.pyplot.figure`) are retained until explicitly closed and may consume too much memory. (To control this warning, see the rcParam `figure.max_open_warning`).\n"
     ]
    },
    {
     "data": {
      "application/vnd.jupyter.widget-view+json": {
       "model_id": "d7ca5f2edc934c0284aeae599fd61ee5",
       "version_major": 2,
       "version_minor": 0
      },
      "text/plain": [
       "HBox(children=(HTML(value='Hello <b>World</b>'), Output(layout=Layout(border='light')), RadioButtons(descripti…"
      ]
     },
     "metadata": {},
     "output_type": "display_data"
    },
    {
     "name": "stderr",
     "output_type": "stream",
     "text": [
      "/Users/mxhf/.pyenv/versions/anaconda3-4.3.0/lib/python3.6/site-packages/ipykernel/__main__.py:23: RuntimeWarning: More than 20 figures have been opened. Figures created through the pyplot interface (`matplotlib.pyplot.figure`) are retained until explicitly closed and may consume too much memory. (To control this warning, see the rcParam `figure.max_open_warning`).\n"
     ]
    },
    {
     "data": {
      "application/vnd.jupyter.widget-view+json": {
       "model_id": "c341cc48a07540fcb89119014a8303ae",
       "version_major": 2,
       "version_minor": 0
      },
      "text/plain": [
       "HBox(children=(HTML(value='Hello <b>World</b>'), Output(layout=Layout(border='light')), RadioButtons(descripti…"
      ]
     },
     "metadata": {},
     "output_type": "display_data"
    },
    {
     "name": "stderr",
     "output_type": "stream",
     "text": [
      "/Users/mxhf/.pyenv/versions/anaconda3-4.3.0/lib/python3.6/site-packages/ipykernel/__main__.py:23: RuntimeWarning: More than 20 figures have been opened. Figures created through the pyplot interface (`matplotlib.pyplot.figure`) are retained until explicitly closed and may consume too much memory. (To control this warning, see the rcParam `figure.max_open_warning`).\n"
     ]
    },
    {
     "data": {
      "application/vnd.jupyter.widget-view+json": {
       "model_id": "9b9e385893ee4ae0a0c602bed7752b5b",
       "version_major": 2,
       "version_minor": 0
      },
      "text/plain": [
       "HBox(children=(HTML(value='Hello <b>World</b>'), Output(layout=Layout(border='light')), RadioButtons(descripti…"
      ]
     },
     "metadata": {},
     "output_type": "display_data"
    },
    {
     "name": "stderr",
     "output_type": "stream",
     "text": [
      "/Users/mxhf/.pyenv/versions/anaconda3-4.3.0/lib/python3.6/site-packages/ipykernel/__main__.py:23: RuntimeWarning: More than 20 figures have been opened. Figures created through the pyplot interface (`matplotlib.pyplot.figure`) are retained until explicitly closed and may consume too much memory. (To control this warning, see the rcParam `figure.max_open_warning`).\n"
     ]
    },
    {
     "data": {
      "application/vnd.jupyter.widget-view+json": {
       "model_id": "d9359cc6104641c4ba18cdb459814987",
       "version_major": 2,
       "version_minor": 0
      },
      "text/plain": [
       "HBox(children=(HTML(value='Hello <b>World</b>'), Output(layout=Layout(border='light')), RadioButtons(descripti…"
      ]
     },
     "metadata": {},
     "output_type": "display_data"
    },
    {
     "name": "stderr",
     "output_type": "stream",
     "text": [
      "/Users/mxhf/.pyenv/versions/anaconda3-4.3.0/lib/python3.6/site-packages/ipykernel/__main__.py:23: RuntimeWarning: More than 20 figures have been opened. Figures created through the pyplot interface (`matplotlib.pyplot.figure`) are retained until explicitly closed and may consume too much memory. (To control this warning, see the rcParam `figure.max_open_warning`).\n"
     ]
    },
    {
     "data": {
      "application/vnd.jupyter.widget-view+json": {
       "model_id": "70412e16119a4af5adfd2244a65bcbb8",
       "version_major": 2,
       "version_minor": 0
      },
      "text/plain": [
       "HBox(children=(HTML(value='Hello <b>World</b>'), Output(layout=Layout(border='light')), RadioButtons(descripti…"
      ]
     },
     "metadata": {},
     "output_type": "display_data"
    },
    {
     "name": "stderr",
     "output_type": "stream",
     "text": [
      "/Users/mxhf/.pyenv/versions/anaconda3-4.3.0/lib/python3.6/site-packages/ipykernel/__main__.py:23: RuntimeWarning: More than 20 figures have been opened. Figures created through the pyplot interface (`matplotlib.pyplot.figure`) are retained until explicitly closed and may consume too much memory. (To control this warning, see the rcParam `figure.max_open_warning`).\n"
     ]
    },
    {
     "data": {
      "application/vnd.jupyter.widget-view+json": {
       "model_id": "a20aaf6ed856403dadc12fc53b50ecc4",
       "version_major": 2,
       "version_minor": 0
      },
      "text/plain": [
       "HBox(children=(HTML(value='Hello <b>World</b>'), Output(layout=Layout(border='light')), RadioButtons(descripti…"
      ]
     },
     "metadata": {},
     "output_type": "display_data"
    },
    {
     "name": "stderr",
     "output_type": "stream",
     "text": [
      "/Users/mxhf/.pyenv/versions/anaconda3-4.3.0/lib/python3.6/site-packages/ipykernel/__main__.py:23: RuntimeWarning: More than 20 figures have been opened. Figures created through the pyplot interface (`matplotlib.pyplot.figure`) are retained until explicitly closed and may consume too much memory. (To control this warning, see the rcParam `figure.max_open_warning`).\n"
     ]
    },
    {
     "data": {
      "application/vnd.jupyter.widget-view+json": {
       "model_id": "8b9cfa8a9fc94dacb3e983099e5b539d",
       "version_major": 2,
       "version_minor": 0
      },
      "text/plain": [
       "HBox(children=(HTML(value='Hello <b>World</b>'), Output(layout=Layout(border='light')), RadioButtons(descripti…"
      ]
     },
     "metadata": {},
     "output_type": "display_data"
    },
    {
     "name": "stderr",
     "output_type": "stream",
     "text": [
      "/Users/mxhf/.pyenv/versions/anaconda3-4.3.0/lib/python3.6/site-packages/ipykernel/__main__.py:23: RuntimeWarning: More than 20 figures have been opened. Figures created through the pyplot interface (`matplotlib.pyplot.figure`) are retained until explicitly closed and may consume too much memory. (To control this warning, see the rcParam `figure.max_open_warning`).\n"
     ]
    },
    {
     "data": {
      "application/vnd.jupyter.widget-view+json": {
       "model_id": "41c13c02e56b4981a2ddc7b326234e4d",
       "version_major": 2,
       "version_minor": 0
      },
      "text/plain": [
       "HBox(children=(HTML(value='Hello <b>World</b>'), Output(layout=Layout(border='light')), RadioButtons(descripti…"
      ]
     },
     "metadata": {},
     "output_type": "display_data"
    },
    {
     "name": "stderr",
     "output_type": "stream",
     "text": [
      "/Users/mxhf/.pyenv/versions/anaconda3-4.3.0/lib/python3.6/site-packages/ipykernel/__main__.py:23: RuntimeWarning: More than 20 figures have been opened. Figures created through the pyplot interface (`matplotlib.pyplot.figure`) are retained until explicitly closed and may consume too much memory. (To control this warning, see the rcParam `figure.max_open_warning`).\n"
     ]
    },
    {
     "data": {
      "application/vnd.jupyter.widget-view+json": {
       "model_id": "519bd6127a22400d90b18523e6fe40a6",
       "version_major": 2,
       "version_minor": 0
      },
      "text/plain": [
       "HBox(children=(HTML(value='Hello <b>World</b>'), Output(layout=Layout(border='light')), RadioButtons(descripti…"
      ]
     },
     "metadata": {},
     "output_type": "display_data"
    },
    {
     "name": "stderr",
     "output_type": "stream",
     "text": [
      "/Users/mxhf/.pyenv/versions/anaconda3-4.3.0/lib/python3.6/site-packages/ipykernel/__main__.py:23: RuntimeWarning: More than 20 figures have been opened. Figures created through the pyplot interface (`matplotlib.pyplot.figure`) are retained until explicitly closed and may consume too much memory. (To control this warning, see the rcParam `figure.max_open_warning`).\n"
     ]
    },
    {
     "data": {
      "application/vnd.jupyter.widget-view+json": {
       "model_id": "dd66e5b5f5d6469b9d58f8062b5160aa",
       "version_major": 2,
       "version_minor": 0
      },
      "text/plain": [
       "HBox(children=(HTML(value='Hello <b>World</b>'), Output(layout=Layout(border='light')), RadioButtons(descripti…"
      ]
     },
     "metadata": {},
     "output_type": "display_data"
    },
    {
     "name": "stderr",
     "output_type": "stream",
     "text": [
      "/Users/mxhf/.pyenv/versions/anaconda3-4.3.0/lib/python3.6/site-packages/ipykernel/__main__.py:23: RuntimeWarning: More than 20 figures have been opened. Figures created through the pyplot interface (`matplotlib.pyplot.figure`) are retained until explicitly closed and may consume too much memory. (To control this warning, see the rcParam `figure.max_open_warning`).\n"
     ]
    },
    {
     "data": {
      "application/vnd.jupyter.widget-view+json": {
       "model_id": "c474be80488743938eff64435801f098",
       "version_major": 2,
       "version_minor": 0
      },
      "text/plain": [
       "HBox(children=(HTML(value='Hello <b>World</b>'), Output(layout=Layout(border='light')), RadioButtons(descripti…"
      ]
     },
     "metadata": {},
     "output_type": "display_data"
    },
    {
     "name": "stderr",
     "output_type": "stream",
     "text": [
      "/Users/mxhf/.pyenv/versions/anaconda3-4.3.0/lib/python3.6/site-packages/ipykernel/__main__.py:23: RuntimeWarning: More than 20 figures have been opened. Figures created through the pyplot interface (`matplotlib.pyplot.figure`) are retained until explicitly closed and may consume too much memory. (To control this warning, see the rcParam `figure.max_open_warning`).\n"
     ]
    },
    {
     "data": {
      "application/vnd.jupyter.widget-view+json": {
       "model_id": "445fc36f5401445483e3509d0dcc8be0",
       "version_major": 2,
       "version_minor": 0
      },
      "text/plain": [
       "HBox(children=(HTML(value='Hello <b>World</b>'), Output(layout=Layout(border='light')), RadioButtons(descripti…"
      ]
     },
     "metadata": {},
     "output_type": "display_data"
    },
    {
     "name": "stderr",
     "output_type": "stream",
     "text": [
      "/Users/mxhf/.pyenv/versions/anaconda3-4.3.0/lib/python3.6/site-packages/ipykernel/__main__.py:23: RuntimeWarning: More than 20 figures have been opened. Figures created through the pyplot interface (`matplotlib.pyplot.figure`) are retained until explicitly closed and may consume too much memory. (To control this warning, see the rcParam `figure.max_open_warning`).\n"
     ]
    },
    {
     "data": {
      "application/vnd.jupyter.widget-view+json": {
       "model_id": "319f429d5cc44636821f23acabbac364",
       "version_major": 2,
       "version_minor": 0
      },
      "text/plain": [
       "HBox(children=(HTML(value='Hello <b>World</b>'), Output(layout=Layout(border='light')), RadioButtons(descripti…"
      ]
     },
     "metadata": {},
     "output_type": "display_data"
    },
    {
     "name": "stderr",
     "output_type": "stream",
     "text": [
      "/Users/mxhf/.pyenv/versions/anaconda3-4.3.0/lib/python3.6/site-packages/ipykernel/__main__.py:23: RuntimeWarning: More than 20 figures have been opened. Figures created through the pyplot interface (`matplotlib.pyplot.figure`) are retained until explicitly closed and may consume too much memory. (To control this warning, see the rcParam `figure.max_open_warning`).\n"
     ]
    },
    {
     "data": {
      "application/vnd.jupyter.widget-view+json": {
       "model_id": "c248ec5f79b64be1af96402e73b31a03",
       "version_major": 2,
       "version_minor": 0
      },
      "text/plain": [
       "HBox(children=(HTML(value='Hello <b>World</b>'), Output(layout=Layout(border='light')), RadioButtons(descripti…"
      ]
     },
     "metadata": {},
     "output_type": "display_data"
    },
    {
     "name": "stderr",
     "output_type": "stream",
     "text": [
      "/Users/mxhf/.pyenv/versions/anaconda3-4.3.0/lib/python3.6/site-packages/ipykernel/__main__.py:23: RuntimeWarning: More than 20 figures have been opened. Figures created through the pyplot interface (`matplotlib.pyplot.figure`) are retained until explicitly closed and may consume too much memory. (To control this warning, see the rcParam `figure.max_open_warning`).\n"
     ]
    },
    {
     "data": {
      "application/vnd.jupyter.widget-view+json": {
       "model_id": "de16363018d44361b42e31153e785b78",
       "version_major": 2,
       "version_minor": 0
      },
      "text/plain": [
       "HBox(children=(HTML(value='Hello <b>World</b>'), Output(layout=Layout(border='light')), RadioButtons(descripti…"
      ]
     },
     "metadata": {},
     "output_type": "display_data"
    },
    {
     "name": "stderr",
     "output_type": "stream",
     "text": [
      "/Users/mxhf/.pyenv/versions/anaconda3-4.3.0/lib/python3.6/site-packages/ipykernel/__main__.py:23: RuntimeWarning: More than 20 figures have been opened. Figures created through the pyplot interface (`matplotlib.pyplot.figure`) are retained until explicitly closed and may consume too much memory. (To control this warning, see the rcParam `figure.max_open_warning`).\n"
     ]
    },
    {
     "data": {
      "application/vnd.jupyter.widget-view+json": {
       "model_id": "d8860f8ca34641f29a3c91ed75d127b9",
       "version_major": 2,
       "version_minor": 0
      },
      "text/plain": [
       "HBox(children=(HTML(value='Hello <b>World</b>'), Output(layout=Layout(border='light')), RadioButtons(descripti…"
      ]
     },
     "metadata": {},
     "output_type": "display_data"
    },
    {
     "name": "stderr",
     "output_type": "stream",
     "text": [
      "/Users/mxhf/.pyenv/versions/anaconda3-4.3.0/lib/python3.6/site-packages/ipykernel/__main__.py:23: RuntimeWarning: More than 20 figures have been opened. Figures created through the pyplot interface (`matplotlib.pyplot.figure`) are retained until explicitly closed and may consume too much memory. (To control this warning, see the rcParam `figure.max_open_warning`).\n"
     ]
    },
    {
     "data": {
      "application/vnd.jupyter.widget-view+json": {
       "model_id": "16d328866f9f4f569c23fd6c2ea2e697",
       "version_major": 2,
       "version_minor": 0
      },
      "text/plain": [
       "HBox(children=(HTML(value='Hello <b>World</b>'), Output(layout=Layout(border='light')), RadioButtons(descripti…"
      ]
     },
     "metadata": {},
     "output_type": "display_data"
    },
    {
     "name": "stderr",
     "output_type": "stream",
     "text": [
      "/Users/mxhf/.pyenv/versions/anaconda3-4.3.0/lib/python3.6/site-packages/ipykernel/__main__.py:23: RuntimeWarning: More than 20 figures have been opened. Figures created through the pyplot interface (`matplotlib.pyplot.figure`) are retained until explicitly closed and may consume too much memory. (To control this warning, see the rcParam `figure.max_open_warning`).\n"
     ]
    },
    {
     "data": {
      "application/vnd.jupyter.widget-view+json": {
       "model_id": "fbac53defb0a44f1abcabbad354d876f",
       "version_major": 2,
       "version_minor": 0
      },
      "text/plain": [
       "HBox(children=(HTML(value='Hello <b>World</b>'), Output(layout=Layout(border='light')), RadioButtons(descripti…"
      ]
     },
     "metadata": {},
     "output_type": "display_data"
    },
    {
     "name": "stderr",
     "output_type": "stream",
     "text": [
      "/Users/mxhf/.pyenv/versions/anaconda3-4.3.0/lib/python3.6/site-packages/ipykernel/__main__.py:23: RuntimeWarning: More than 20 figures have been opened. Figures created through the pyplot interface (`matplotlib.pyplot.figure`) are retained until explicitly closed and may consume too much memory. (To control this warning, see the rcParam `figure.max_open_warning`).\n"
     ]
    },
    {
     "data": {
      "application/vnd.jupyter.widget-view+json": {
       "model_id": "4770abbd1e924ea4b16b78a50aabf51c",
       "version_major": 2,
       "version_minor": 0
      },
      "text/plain": [
       "HBox(children=(HTML(value='Hello <b>World</b>'), Output(layout=Layout(border='light')), RadioButtons(descripti…"
      ]
     },
     "metadata": {},
     "output_type": "display_data"
    },
    {
     "name": "stderr",
     "output_type": "stream",
     "text": [
      "/Users/mxhf/.pyenv/versions/anaconda3-4.3.0/lib/python3.6/site-packages/ipykernel/__main__.py:23: RuntimeWarning: More than 20 figures have been opened. Figures created through the pyplot interface (`matplotlib.pyplot.figure`) are retained until explicitly closed and may consume too much memory. (To control this warning, see the rcParam `figure.max_open_warning`).\n"
     ]
    },
    {
     "data": {
      "application/vnd.jupyter.widget-view+json": {
       "model_id": "b62b1eaa7bc74a8baf7a4cee81b818e5",
       "version_major": 2,
       "version_minor": 0
      },
      "text/plain": [
       "HBox(children=(HTML(value='Hello <b>World</b>'), Output(layout=Layout(border='light')), RadioButtons(descripti…"
      ]
     },
     "metadata": {},
     "output_type": "display_data"
    },
    {
     "name": "stderr",
     "output_type": "stream",
     "text": [
      "/Users/mxhf/.pyenv/versions/anaconda3-4.3.0/lib/python3.6/site-packages/ipykernel/__main__.py:23: RuntimeWarning: More than 20 figures have been opened. Figures created through the pyplot interface (`matplotlib.pyplot.figure`) are retained until explicitly closed and may consume too much memory. (To control this warning, see the rcParam `figure.max_open_warning`).\n"
     ]
    },
    {
     "data": {
      "application/vnd.jupyter.widget-view+json": {
       "model_id": "4ba10557bf044a10aeb007cf202b10a0",
       "version_major": 2,
       "version_minor": 0
      },
      "text/plain": [
       "HBox(children=(HTML(value='Hello <b>World</b>'), Output(layout=Layout(border='light')), RadioButtons(descripti…"
      ]
     },
     "metadata": {},
     "output_type": "display_data"
    },
    {
     "name": "stderr",
     "output_type": "stream",
     "text": [
      "/Users/mxhf/.pyenv/versions/anaconda3-4.3.0/lib/python3.6/site-packages/ipykernel/__main__.py:23: RuntimeWarning: More than 20 figures have been opened. Figures created through the pyplot interface (`matplotlib.pyplot.figure`) are retained until explicitly closed and may consume too much memory. (To control this warning, see the rcParam `figure.max_open_warning`).\n"
     ]
    },
    {
     "data": {
      "application/vnd.jupyter.widget-view+json": {
       "model_id": "5bde79b00fd34c5399730e761df1cac3",
       "version_major": 2,
       "version_minor": 0
      },
      "text/plain": [
       "HBox(children=(HTML(value='Hello <b>World</b>'), Output(layout=Layout(border='light')), RadioButtons(descripti…"
      ]
     },
     "metadata": {},
     "output_type": "display_data"
    },
    {
     "name": "stderr",
     "output_type": "stream",
     "text": [
      "/Users/mxhf/.pyenv/versions/anaconda3-4.3.0/lib/python3.6/site-packages/ipykernel/__main__.py:23: RuntimeWarning: More than 20 figures have been opened. Figures created through the pyplot interface (`matplotlib.pyplot.figure`) are retained until explicitly closed and may consume too much memory. (To control this warning, see the rcParam `figure.max_open_warning`).\n"
     ]
    },
    {
     "data": {
      "application/vnd.jupyter.widget-view+json": {
       "model_id": "17becd1fd4e64dd7a05562fe1825ce9a",
       "version_major": 2,
       "version_minor": 0
      },
      "text/plain": [
       "HBox(children=(HTML(value='Hello <b>World</b>'), Output(layout=Layout(border='light')), RadioButtons(descripti…"
      ]
     },
     "metadata": {},
     "output_type": "display_data"
    },
    {
     "name": "stderr",
     "output_type": "stream",
     "text": [
      "/Users/mxhf/.pyenv/versions/anaconda3-4.3.0/lib/python3.6/site-packages/ipykernel/__main__.py:23: RuntimeWarning: More than 20 figures have been opened. Figures created through the pyplot interface (`matplotlib.pyplot.figure`) are retained until explicitly closed and may consume too much memory. (To control this warning, see the rcParam `figure.max_open_warning`).\n"
     ]
    },
    {
     "data": {
      "application/vnd.jupyter.widget-view+json": {
       "model_id": "78d78a335d634863839ce4729d87b9da",
       "version_major": 2,
       "version_minor": 0
      },
      "text/plain": [
       "HBox(children=(HTML(value='Hello <b>World</b>'), Output(layout=Layout(border='light')), RadioButtons(descripti…"
      ]
     },
     "metadata": {},
     "output_type": "display_data"
    },
    {
     "name": "stderr",
     "output_type": "stream",
     "text": [
      "/Users/mxhf/.pyenv/versions/anaconda3-4.3.0/lib/python3.6/site-packages/ipykernel/__main__.py:23: RuntimeWarning: More than 20 figures have been opened. Figures created through the pyplot interface (`matplotlib.pyplot.figure`) are retained until explicitly closed and may consume too much memory. (To control this warning, see the rcParam `figure.max_open_warning`).\n"
     ]
    },
    {
     "data": {
      "application/vnd.jupyter.widget-view+json": {
       "model_id": "f0bff5dc61b94042a41ca9ff5f4ddf8e",
       "version_major": 2,
       "version_minor": 0
      },
      "text/plain": [
       "HBox(children=(HTML(value='Hello <b>World</b>'), Output(layout=Layout(border='light')), RadioButtons(descripti…"
      ]
     },
     "metadata": {},
     "output_type": "display_data"
    },
    {
     "name": "stderr",
     "output_type": "stream",
     "text": [
      "/Users/mxhf/.pyenv/versions/anaconda3-4.3.0/lib/python3.6/site-packages/ipykernel/__main__.py:23: RuntimeWarning: More than 20 figures have been opened. Figures created through the pyplot interface (`matplotlib.pyplot.figure`) are retained until explicitly closed and may consume too much memory. (To control this warning, see the rcParam `figure.max_open_warning`).\n"
     ]
    },
    {
     "data": {
      "application/vnd.jupyter.widget-view+json": {
       "model_id": "bf0e008394484df085d487f2e2e79ffc",
       "version_major": 2,
       "version_minor": 0
      },
      "text/plain": [
       "HBox(children=(HTML(value='Hello <b>World</b>'), Output(layout=Layout(border='light')), RadioButtons(descripti…"
      ]
     },
     "metadata": {},
     "output_type": "display_data"
    },
    {
     "name": "stderr",
     "output_type": "stream",
     "text": [
      "/Users/mxhf/.pyenv/versions/anaconda3-4.3.0/lib/python3.6/site-packages/ipykernel/__main__.py:23: RuntimeWarning: More than 20 figures have been opened. Figures created through the pyplot interface (`matplotlib.pyplot.figure`) are retained until explicitly closed and may consume too much memory. (To control this warning, see the rcParam `figure.max_open_warning`).\n"
     ]
    },
    {
     "data": {
      "application/vnd.jupyter.widget-view+json": {
       "model_id": "626bcf2b69ec4d11a69fa7c2f48a65dc",
       "version_major": 2,
       "version_minor": 0
      },
      "text/plain": [
       "HBox(children=(HTML(value='Hello <b>World</b>'), Output(layout=Layout(border='light')), RadioButtons(descripti…"
      ]
     },
     "metadata": {},
     "output_type": "display_data"
    },
    {
     "name": "stderr",
     "output_type": "stream",
     "text": [
      "/Users/mxhf/.pyenv/versions/anaconda3-4.3.0/lib/python3.6/site-packages/ipykernel/__main__.py:23: RuntimeWarning: More than 20 figures have been opened. Figures created through the pyplot interface (`matplotlib.pyplot.figure`) are retained until explicitly closed and may consume too much memory. (To control this warning, see the rcParam `figure.max_open_warning`).\n"
     ]
    },
    {
     "data": {
      "application/vnd.jupyter.widget-view+json": {
       "model_id": "43c800ad086e4b14a8eb267c04dba575",
       "version_major": 2,
       "version_minor": 0
      },
      "text/plain": [
       "HBox(children=(HTML(value='Hello <b>World</b>'), Output(layout=Layout(border='light')), RadioButtons(descripti…"
      ]
     },
     "metadata": {},
     "output_type": "display_data"
    },
    {
     "name": "stderr",
     "output_type": "stream",
     "text": [
      "/Users/mxhf/.pyenv/versions/anaconda3-4.3.0/lib/python3.6/site-packages/ipykernel/__main__.py:23: RuntimeWarning: More than 20 figures have been opened. Figures created through the pyplot interface (`matplotlib.pyplot.figure`) are retained until explicitly closed and may consume too much memory. (To control this warning, see the rcParam `figure.max_open_warning`).\n"
     ]
    },
    {
     "data": {
      "application/vnd.jupyter.widget-view+json": {
       "model_id": "ba4bd59562404a43bbac160956a651e9",
       "version_major": 2,
       "version_minor": 0
      },
      "text/plain": [
       "HBox(children=(HTML(value='Hello <b>World</b>'), Output(layout=Layout(border='light')), RadioButtons(descripti…"
      ]
     },
     "metadata": {},
     "output_type": "display_data"
    },
    {
     "name": "stderr",
     "output_type": "stream",
     "text": [
      "/Users/mxhf/.pyenv/versions/anaconda3-4.3.0/lib/python3.6/site-packages/ipykernel/__main__.py:23: RuntimeWarning: More than 20 figures have been opened. Figures created through the pyplot interface (`matplotlib.pyplot.figure`) are retained until explicitly closed and may consume too much memory. (To control this warning, see the rcParam `figure.max_open_warning`).\n"
     ]
    },
    {
     "data": {
      "application/vnd.jupyter.widget-view+json": {
       "model_id": "4aeb80627b1a4662b3aa878dd7b4c802",
       "version_major": 2,
       "version_minor": 0
      },
      "text/plain": [
       "HBox(children=(HTML(value='Hello <b>World</b>'), Output(layout=Layout(border='light')), RadioButtons(descripti…"
      ]
     },
     "metadata": {},
     "output_type": "display_data"
    },
    {
     "name": "stderr",
     "output_type": "stream",
     "text": [
      "/Users/mxhf/.pyenv/versions/anaconda3-4.3.0/lib/python3.6/site-packages/ipykernel/__main__.py:23: RuntimeWarning: More than 20 figures have been opened. Figures created through the pyplot interface (`matplotlib.pyplot.figure`) are retained until explicitly closed and may consume too much memory. (To control this warning, see the rcParam `figure.max_open_warning`).\n"
     ]
    },
    {
     "data": {
      "application/vnd.jupyter.widget-view+json": {
       "model_id": "d070015e719e409b91293a5d94c61673",
       "version_major": 2,
       "version_minor": 0
      },
      "text/plain": [
       "HBox(children=(HTML(value='Hello <b>World</b>'), Output(layout=Layout(border='light')), RadioButtons(descripti…"
      ]
     },
     "metadata": {},
     "output_type": "display_data"
    },
    {
     "name": "stderr",
     "output_type": "stream",
     "text": [
      "/Users/mxhf/.pyenv/versions/anaconda3-4.3.0/lib/python3.6/site-packages/ipykernel/__main__.py:23: RuntimeWarning: More than 20 figures have been opened. Figures created through the pyplot interface (`matplotlib.pyplot.figure`) are retained until explicitly closed and may consume too much memory. (To control this warning, see the rcParam `figure.max_open_warning`).\n"
     ]
    },
    {
     "data": {
      "application/vnd.jupyter.widget-view+json": {
       "model_id": "984640eb095643cbb0dc61f49bca2516",
       "version_major": 2,
       "version_minor": 0
      },
      "text/plain": [
       "HBox(children=(HTML(value='Hello <b>World</b>'), Output(layout=Layout(border='light')), RadioButtons(descripti…"
      ]
     },
     "metadata": {},
     "output_type": "display_data"
    },
    {
     "name": "stderr",
     "output_type": "stream",
     "text": [
      "/Users/mxhf/.pyenv/versions/anaconda3-4.3.0/lib/python3.6/site-packages/ipykernel/__main__.py:23: RuntimeWarning: More than 20 figures have been opened. Figures created through the pyplot interface (`matplotlib.pyplot.figure`) are retained until explicitly closed and may consume too much memory. (To control this warning, see the rcParam `figure.max_open_warning`).\n"
     ]
    },
    {
     "data": {
      "application/vnd.jupyter.widget-view+json": {
       "model_id": "b243e417249342f8884a16f2fadce6bc",
       "version_major": 2,
       "version_minor": 0
      },
      "text/plain": [
       "HBox(children=(HTML(value='Hello <b>World</b>'), Output(layout=Layout(border='light')), RadioButtons(descripti…"
      ]
     },
     "metadata": {},
     "output_type": "display_data"
    },
    {
     "name": "stderr",
     "output_type": "stream",
     "text": [
      "/Users/mxhf/.pyenv/versions/anaconda3-4.3.0/lib/python3.6/site-packages/ipykernel/__main__.py:23: RuntimeWarning: More than 20 figures have been opened. Figures created through the pyplot interface (`matplotlib.pyplot.figure`) are retained until explicitly closed and may consume too much memory. (To control this warning, see the rcParam `figure.max_open_warning`).\n"
     ]
    },
    {
     "data": {
      "application/vnd.jupyter.widget-view+json": {
       "model_id": "7df5bce7d8fc4a24931a9bdefd5521c2",
       "version_major": 2,
       "version_minor": 0
      },
      "text/plain": [
       "HBox(children=(HTML(value='Hello <b>World</b>'), Output(layout=Layout(border='light')), RadioButtons(descripti…"
      ]
     },
     "metadata": {},
     "output_type": "display_data"
    },
    {
     "name": "stderr",
     "output_type": "stream",
     "text": [
      "/Users/mxhf/.pyenv/versions/anaconda3-4.3.0/lib/python3.6/site-packages/ipykernel/__main__.py:23: RuntimeWarning: More than 20 figures have been opened. Figures created through the pyplot interface (`matplotlib.pyplot.figure`) are retained until explicitly closed and may consume too much memory. (To control this warning, see the rcParam `figure.max_open_warning`).\n"
     ]
    },
    {
     "data": {
      "application/vnd.jupyter.widget-view+json": {
       "model_id": "127b884b4d4a4d91b3b34c2f05cb6044",
       "version_major": 2,
       "version_minor": 0
      },
      "text/plain": [
       "HBox(children=(HTML(value='Hello <b>World</b>'), Output(layout=Layout(border='light')), RadioButtons(descripti…"
      ]
     },
     "metadata": {},
     "output_type": "display_data"
    },
    {
     "name": "stderr",
     "output_type": "stream",
     "text": [
      "/Users/mxhf/.pyenv/versions/anaconda3-4.3.0/lib/python3.6/site-packages/ipykernel/__main__.py:23: RuntimeWarning: More than 20 figures have been opened. Figures created through the pyplot interface (`matplotlib.pyplot.figure`) are retained until explicitly closed and may consume too much memory. (To control this warning, see the rcParam `figure.max_open_warning`).\n"
     ]
    },
    {
     "data": {
      "application/vnd.jupyter.widget-view+json": {
       "model_id": "4618ab7cd09e48309977cbe563adfdd8",
       "version_major": 2,
       "version_minor": 0
      },
      "text/plain": [
       "HBox(children=(HTML(value='Hello <b>World</b>'), Output(layout=Layout(border='light')), RadioButtons(descripti…"
      ]
     },
     "metadata": {},
     "output_type": "display_data"
    }
   ],
   "source": [
    "rbuttons = {}\n",
    "cboxes_xray = {}\n",
    "\n",
    "for i, record in enumerate( cat[:][:100] ):\n",
    "    try:\n",
    "        ifu = record[\"ifu\"]\n",
    "\n",
    "        fo = \"../data/sf2outcube_{}_{}.fits.gz\".format(field, ifu)\n",
    "        fA = \"../data/splits/splitA/sf2outcube_{}_{}.fits.gz\".format(field, ifu)\n",
    "        fB = \"../data/splits/splitB/sf2outcube_{}_{}.fits.gz\".format(field, ifu)\n",
    "\n",
    "        if not fo in cache:\n",
    "            cache[fo] = spectrum.readSpectrum(fo)\n",
    "        if not fA in cache:\n",
    "            cache[fA] = spectrum.readSpectrum(fA)\n",
    "        if not fB in cache:\n",
    "            cache[fB] = spectrum.readSpectrum(fB)\n",
    "\n",
    "        so = cache[fo]\n",
    "        sA = cache[fA]\n",
    "        sB = cache[fB]\n",
    "\n",
    "        f = plt.figure(figsize = [17,5])\n",
    "        hdu = so.hdu\n",
    "        w = WCS(hdu.header)\n",
    "        w = w.dropaxis(2)\n",
    "\n",
    "        ax1 = plt.subplot(131, projection=w)\n",
    "        sl = show_slice(ax1, so, record, cal_interp, vmin=0., vmax=.5)\n",
    "\n",
    "        ax2 = plt.subplot(132, projection=w)\n",
    "        sl = show_slice(ax2, sA, record, cal_interp, vmin=0., vmax=.79, cls=None)\n",
    "\n",
    "        ax3 = plt.subplot(133, projection=w)\n",
    "        s3 = show_slice(ax3, sB, record, cal_interp, vmin=0., vmax=.79, cls=None)\n",
    "\n",
    "\n",
    "        cbox_xray = widgets.Checkbox(\n",
    "            description='xray counterpart',\n",
    "            disabled=False,\n",
    "            button_style='success', # 'success', 'info', 'warning', 'danger' or ''\n",
    "            tooltip='Click me',\n",
    "            icon='arrow'\n",
    "        )\n",
    "        \n",
    "        cboxes_xray[(record[\"ifu\"],record[\"id\"])] = cbox_xray\n",
    "\n",
    "\n",
    "        rbutton_good = widgets.RadioButtons(\n",
    "            options=['unclear', 'yes', 'no'],\n",
    "            description='Detected in split exposure:',\n",
    "            disabled=False\n",
    "        )\n",
    "\n",
    "        rbuttons[(record[\"ifu\"],record[\"id\"])] = rbutton_good\n",
    "\n",
    "        canvas  = widgets.Output(layout=Layout(border='light'))\n",
    "        info = widgets.HTML(\n",
    "            value=\"Hello <b>World</b>\"\n",
    "        )\n",
    "\n",
    "\n",
    "        hb = widgets.HBox([info,canvas, rbutton_good, cbox_xray], layout=Layout(width = '1500px', positioning=\"bottom\"))\n",
    "\n",
    "        display(hb)\n",
    "\n",
    "        with canvas:\n",
    "            clear_output(wait=True)\n",
    "            display(f)\n",
    "\n",
    "        cbox_xray.value = bool( record[\"xray_counterpart\"] )\n",
    "        \n",
    "        if \"split_good\" in cat.colnames:\n",
    "            if record[\"split_good\"] == \"True\":\n",
    "                rbutton_good.value = 'yes'\n",
    "            elif record[\"split_good\"] == \"False\":\n",
    "                rbutton_good.value = 'no'\n",
    "            else:\n",
    "                rbutton_good.value = 'unclear'\n",
    "\n",
    "\n",
    "\n",
    "        ncols = 5\n",
    "        s = \"\"\n",
    "        s = \"<style>\"\n",
    "        s = \"table, th, td {\"\n",
    "        s = \"  border: 1px solid black;\"\n",
    "        s = \"  border-collapse: collapse;\"\n",
    "        s = \"}\"\n",
    "        s = \"th, td {\"\n",
    "        s = \"  padding: 10px;\"\n",
    "        s = \"}\"\n",
    "        s = \"</style>\"\n",
    "        tablerows = []\n",
    "        sr = \"\"\n",
    "        z_lya = record[\"wl_com\"] /1216. - 1.\n",
    "        z_oii = record[\"wl_com\"] /3727. - 1.\n",
    "\n",
    "        s += \"<b>{} ifu = {}, id = {}</b><br>\\n\".format(i, record[\"ifu\"], record[\"id\"] )\n",
    "        s += \"<b>class2 = {} </b><br>\\n\".format( record[\"class2\"]  )\n",
    "        s += \"<b>z_LyA = {:.2f}</b><br>\\n\".format(z_lya)\n",
    "        s += \"<b>z_OII = {:.2f}</b><br>\\n\".format(z_oii)\n",
    "\n",
    "        s += \"<table style='width:100%'>\\n\"\n",
    "\n",
    "        for i,n in enumerate(record.colnames[2:]):\n",
    "            sr += \"<td><b>{:10s}:</b> \".format(n)\n",
    "            sr += str(record[n]) + \" \"\n",
    "            if record.columns[n].unit != \"\":\n",
    "                sr += str(record.columns[n].unit) + \"&nbsp;&nbsp;&nbsp;</td>\\n\"\n",
    "            else:\n",
    "                sr += \"</td> \\n\"\n",
    "            if i % ncols == 0.:\n",
    "                tablerows.append(sr)\n",
    "                sr = \"\"\n",
    "        s += \"</tr>\\n\"\n",
    "        s += \"</tr>\\n<tr>\".join(tablerows)       \n",
    "        s += \"</tr>\\n\"\n",
    "        s += \"</table>\\n\"\n",
    "\n",
    "\n",
    "        #info.value = s\n",
    "        info.value = \"{}<br>{}<br>{}<br>{}\".format(record[\"ifu\"], record[\"id\"], record[\"wl_com\"], record[\"class2\"])\n",
    "        \n",
    "    except:\n",
    "        print(\"Error in ifu {} ,id {}\".format(record[\"ifu\"], record[\"id\"]))\n",
    "    "
   ]
  },
  {
   "cell_type": "code",
   "execution_count": null,
   "metadata": {},
   "outputs": [],
   "source": [
    "from astropy.table import Column\n",
    "cat = ascii.read(\"../data/mmsf2outcube_COSMOSC_allifu.cat\")\n",
    "if not \"split_good\" in cat.colnames:\n",
    "    cat.add_column(Column([None]*len(cat), name=\"split_good\", description=\"Source still detected in split cubes.\", dtype=\"S4\"))\n",
    "\n",
    "\n",
    "print(\"Split detect\")\n",
    "for rb in rbuttons:\n",
    "    ifu, id = rb\n",
    "    print(\"{} {} {}\".format(ifu, id, rbuttons[rb].value))\n",
    "    jj = (cat[\"ifu\"] == ifu) * (cat[\"id\"] == id)     \n",
    "    if rbuttons[rb].value == \"yes\":\n",
    "        cat[\"split_good\"][jj] = True\n",
    "    if rbuttons[rb].value == \"no\":\n",
    "        cat[\"split_good\"][jj] = False\n",
    "    if rbuttons[rb].value == \"unclear\":\n",
    "        cat[\"split_good\"][jj] = None"
   ]
  },
  {
   "cell_type": "code",
   "execution_count": null,
   "metadata": {},
   "outputs": [],
   "source": [
    "cat[ (cat[\"ifu\"] == \"023\") * (cat[\"id\"] == 5059) ][\"split_good\"]"
   ]
  },
  {
   "cell_type": "code",
   "execution_count": null,
   "metadata": {
    "scrolled": false
   },
   "outputs": [],
   "source": [
    "  \n",
    "if not \"xray_counterpart\" in cat.colnames:\n",
    "    cat.add_column(Column([None]*len(cat), name=\"xray_counterpart\", description=\"XRay counterpart in civano+2016.\", dtype=\"bool\"))\n",
    "\n",
    "print(\"XRay detect\")  \n",
    "for cbx in cboxes_xray:\n",
    "    ifu, id = cbx\n",
    "    print(\"{} {} {}\".format(ifu, id, cboxes_xray[cbx].value))\n",
    "    jj = (cat[\"ifu\"] == ifu) * (cat[\"id\"] == id)    \n",
    "    cat[\"xray_counterpart\"][jj] = cboxes_xray[cbx].value"
   ]
  },
  {
   "cell_type": "code",
   "execution_count": null,
   "metadata": {},
   "outputs": [],
   "source": [
    "cat.write(\"../data/mmsf2outcube_COSMOSC_allifu.cat\", format=\"ascii.ecsv\")"
   ]
  },
  {
   "cell_type": "code",
   "execution_count": null,
   "metadata": {},
   "outputs": [],
   "source": [
    "sum( cat[\"split_good\"] == \"True\" )"
   ]
  },
  {
   "cell_type": "code",
   "execution_count": null,
   "metadata": {},
   "outputs": [],
   "source": []
  }
 ],
 "metadata": {
  "kernelspec": {
   "display_name": "Python 3",
   "language": "python",
   "name": "python3"
  },
  "language_info": {
   "codemirror_mode": {
    "name": "ipython",
    "version": 3
   },
   "file_extension": ".py",
   "mimetype": "text/x-python",
   "name": "python",
   "nbconvert_exporter": "python",
   "pygments_lexer": "ipython3",
   "version": "3.6.8"
  }
 },
 "nbformat": 4,
 "nbformat_minor": 2
}
